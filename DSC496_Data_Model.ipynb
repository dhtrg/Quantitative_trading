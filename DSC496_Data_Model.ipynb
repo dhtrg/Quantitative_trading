{
 "cells": [
  {
   "cell_type": "markdown",
   "metadata": {
    "id": "WcW54JtqVEfQ"
   },
   "source": [
    "# Data Analysis"
   ]
  },
  {
   "cell_type": "markdown",
   "metadata": {
    "id": "gWorOwNHVEfS"
   },
   "source": [
    "#### Since my data do not contain null values and categorical variables, I will perform feature engineering and find correlations between the features\n"
   ]
  },
  {
   "cell_type": "markdown",
   "metadata": {
    "id": "rgWTdcROVEfT"
   },
   "source": [
    "### Questions"
   ]
  },
  {
   "cell_type": "markdown",
   "metadata": {
    "id": "hrfnOqbaVEfT"
   },
   "source": [
    "In this analysis, I want to find the most helpful independent variables for predicting stocks prices (Open, Close, High, Low) along with the daily returns and the shifted returns by n day (for example I will buy a stock today and sell it at close in n days). In other words, I want to find features with highest correlation in order to predict stocks prices and returns, and determine a good timing to buy and sell stocks"
   ]
  },
  {
   "cell_type": "markdown",
   "metadata": {
    "id": "9aj23T6kVEfU"
   },
   "source": [
    "### Feature Engineering"
   ]
  },
  {
   "cell_type": "markdown",
   "metadata": {
    "id": "k-IUU6USVEfU"
   },
   "source": [
    "Please scroll down to Data Engineering section to see the code for feature engineering"
   ]
  },
  {
   "cell_type": "markdown",
   "metadata": {
    "id": "vN9wjVZWVEfU"
   },
   "source": [
    "I created a new variable called \"daily_return\", which calculates the percentage change in 2 successive closing price, assuming that I buy stocks and sell it the next day at closing.\n"
   ]
  },
  {
   "cell_type": "markdown",
   "metadata": {
    "id": "RfV6GpYlVEfU"
   },
   "source": [
    "I use Max Absolute Scaling for the dataset as financial data are sparse. I stored the scaled data into \"scaled_df\" dataframe"
   ]
  },
  {
   "cell_type": "markdown",
   "metadata": {
    "id": "WyHNMtajVEfV"
   },
   "source": [
    "I also created an aggregated data framegrouped by ticker called \"volatility\" including 'ticker', 'daily_volatility', 'monthly_volatility', 'annual_volatility','returns', 'sharpe' which are popular indicator for stock prices. Please scroll down to the \"Volatility dataframe\" section to see how each variable is created. I plan to use this dataframe later for clustering the stocks"
   ]
  },
  {
   "cell_type": "markdown",
   "metadata": {
    "id": "nVs-YLjqVEfV"
   },
   "source": [
    "### Serial Correlation"
   ]
  },
  {
   "cell_type": "markdown",
   "metadata": {
    "id": "WIC1MqndVEfV"
   },
   "source": [
    "I created a correlation matrix for all variables in the \"scaled_df\" dataframe except for 'daily_returns' in order to see the cross relation among variables and autocorrelation, which is demonstrated in the heatmap."
   ]
  },
  {
   "cell_type": "markdown",
   "metadata": {
    "id": "9JtXjCydVEfW"
   },
   "source": [
    "(I attached an image of the heatmap in the submission so that you can view it more clearly)"
   ]
  },
  {
   "cell_type": "markdown",
   "metadata": {
    "id": "eFPBzJIiVEfW"
   },
   "source": [
    "### Analysis\n"
   ]
  },
  {
   "cell_type": "markdown",
   "metadata": {
    "id": "QEfKz1HtVEfW"
   },
   "source": [
    "Based on the heatmap, all prices and shifted prices seem to positively correlated (including Open, Close, High, Low and their shifted variables). However, daily_returns and shifted_return variables do not have strong relation with other variables, meaning it would be difficult to predict the returns based on stocks prices and volumes."
   ]
  },
  {
   "cell_type": "markdown",
   "metadata": {
    "id": "wd5P-_yPVEfW"
   },
   "source": [
    "Therefore, I think a good strategy would be diversifying one's portfolio with the assumption that a diversified portfolio would help us mitigate the risks. I plan to create a diversified portfolio by clustering the stocks based on the \"volatility\" dataframe created "
   ]
  },
  {
   "cell_type": "markdown",
   "metadata": {
    "id": "13L-juxsVEfX"
   },
   "source": [
    "_______________________________________________________________________________________________________________________________"
   ]
  },
  {
   "cell_type": "markdown",
   "metadata": {
    "id": "crW4zyKZVEfX"
   },
   "source": [
    "## Collect and preprocess data"
   ]
  },
  {
   "cell_type": "code",
   "execution_count": null,
   "metadata": {
    "id": "VL-JdWi0VEfX"
   },
   "outputs": [],
   "source": [
    "import warnings\n",
    "warnings.filterwarnings('ignore')"
   ]
  },
  {
   "cell_type": "code",
   "execution_count": null,
   "metadata": {
    "colab": {
     "base_uri": "https://localhost:8080/"
    },
    "id": "j-cZjzEMVM6s",
    "outputId": "0d9e4a4f-3c15-4ec6-adcb-a4520e686dc3"
   },
   "outputs": [
    {
     "name": "stdout",
     "output_type": "stream",
     "text": [
      "Looking in indexes: https://pypi.org/simple, https://us-python.pkg.dev/colab-wheels/public/simple/\n",
      "Collecting yahooquery\n",
      "  Downloading yahooquery-2.3.1-py2.py3-none-any.whl (49 kB)\n",
      "\u001b[2K     \u001b[90m━━━━━━━━━━━━━━━━━━━━━━━━━━━━━━━━━━━━━━━━\u001b[0m \u001b[32m49.8/49.8 KB\u001b[0m \u001b[31m1.8 MB/s\u001b[0m eta \u001b[36m0:00:00\u001b[0m\n",
      "\u001b[?25hRequirement already satisfied: lxml>=4.9.1 in /usr/local/lib/python3.9/dist-packages (from yahooquery) (4.9.2)\n",
      "Requirement already satisfied: pandas>=0.24.0 in /usr/local/lib/python3.9/dist-packages (from yahooquery) (1.4.4)\n",
      "Requirement already satisfied: tqdm>=4.54.1 in /usr/local/lib/python3.9/dist-packages (from yahooquery) (4.65.0)\n",
      "Collecting requests-futures>=1.0.0\n",
      "  Downloading requests_futures-1.0.0-py2.py3-none-any.whl (7.4 kB)\n",
      "Requirement already satisfied: numpy>=1.18.5 in /usr/local/lib/python3.9/dist-packages (from pandas>=0.24.0->yahooquery) (1.22.4)\n",
      "Requirement already satisfied: python-dateutil>=2.8.1 in /usr/local/lib/python3.9/dist-packages (from pandas>=0.24.0->yahooquery) (2.8.2)\n",
      "Requirement already satisfied: pytz>=2020.1 in /usr/local/lib/python3.9/dist-packages (from pandas>=0.24.0->yahooquery) (2022.7.1)\n",
      "Requirement already satisfied: requests>=1.2.0 in /usr/local/lib/python3.9/dist-packages (from requests-futures>=1.0.0->yahooquery) (2.27.1)\n",
      "Requirement already satisfied: six>=1.5 in /usr/local/lib/python3.9/dist-packages (from python-dateutil>=2.8.1->pandas>=0.24.0->yahooquery) (1.16.0)\n",
      "Requirement already satisfied: urllib3<1.27,>=1.21.1 in /usr/local/lib/python3.9/dist-packages (from requests>=1.2.0->requests-futures>=1.0.0->yahooquery) (1.26.15)\n",
      "Requirement already satisfied: certifi>=2017.4.17 in /usr/local/lib/python3.9/dist-packages (from requests>=1.2.0->requests-futures>=1.0.0->yahooquery) (2022.12.7)\n",
      "Requirement already satisfied: charset-normalizer~=2.0.0 in /usr/local/lib/python3.9/dist-packages (from requests>=1.2.0->requests-futures>=1.0.0->yahooquery) (2.0.12)\n",
      "Requirement already satisfied: idna<4,>=2.5 in /usr/local/lib/python3.9/dist-packages (from requests>=1.2.0->requests-futures>=1.0.0->yahooquery) (3.4)\n",
      "Installing collected packages: requests-futures, yahooquery\n",
      "Successfully installed requests-futures-1.0.0 yahooquery-2.3.1\n"
     ]
    }
   ],
   "source": [
    "pip install yahooquery"
   ]
  },
  {
   "cell_type": "code",
   "execution_count": null,
   "metadata": {
    "colab": {
     "base_uri": "https://localhost:8080/"
    },
    "id": "3DB5n6bJVXcI",
    "outputId": "2991d766-5018-4fe3-d409-6f77866dc886"
   },
   "outputs": [
    {
     "name": "stdout",
     "output_type": "stream",
     "text": [
      "Looking in indexes: https://pypi.org/simple, https://us-python.pkg.dev/colab-wheels/public/simple/\n",
      "Collecting yfinance\n",
      "  Downloading yfinance-0.2.13-py2.py3-none-any.whl (59 kB)\n",
      "\u001b[2K     \u001b[90m━━━━━━━━━━━━━━━━━━━━━━━━━━━━━━━━━━━━━━━━\u001b[0m \u001b[32m59.3/59.3 KB\u001b[0m \u001b[31m2.3 MB/s\u001b[0m eta \u001b[36m0:00:00\u001b[0m\n",
      "\u001b[?25hRequirement already satisfied: multitasking>=0.0.7 in /usr/local/lib/python3.9/dist-packages (from yfinance) (0.0.11)\n",
      "Requirement already satisfied: requests>=2.26 in /usr/local/lib/python3.9/dist-packages (from yfinance) (2.27.1)\n",
      "Collecting cryptography>=3.3.2\n",
      "  Downloading cryptography-39.0.2-cp36-abi3-manylinux_2_28_x86_64.whl (4.2 MB)\n",
      "\u001b[2K     \u001b[90m━━━━━━━━━━━━━━━━━━━━━━━━━━━━━━━━━━━━━━━━\u001b[0m \u001b[32m4.2/4.2 MB\u001b[0m \u001b[31m41.9 MB/s\u001b[0m eta \u001b[36m0:00:00\u001b[0m\n",
      "\u001b[?25hCollecting appdirs>=1.4.4\n",
      "  Downloading appdirs-1.4.4-py2.py3-none-any.whl (9.6 kB)\n",
      "Collecting frozendict>=2.3.4\n",
      "  Downloading frozendict-2.3.6-cp39-cp39-manylinux_2_17_x86_64.manylinux2014_x86_64.whl (114 kB)\n",
      "\u001b[2K     \u001b[90m━━━━━━━━━━━━━━━━━━━━━━━━━━━━━━━━━━━━━━━\u001b[0m \u001b[32m114.3/114.3 KB\u001b[0m \u001b[31m1.8 MB/s\u001b[0m eta \u001b[36m0:00:00\u001b[0m\n",
      "\u001b[?25hRequirement already satisfied: pytz>=2022.5 in /usr/local/lib/python3.9/dist-packages (from yfinance) (2022.7.1)\n",
      "Requirement already satisfied: beautifulsoup4>=4.11.1 in /usr/local/lib/python3.9/dist-packages (from yfinance) (4.11.2)\n",
      "Requirement already satisfied: html5lib>=1.1 in /usr/local/lib/python3.9/dist-packages (from yfinance) (1.1)\n",
      "Requirement already satisfied: numpy>=1.16.5 in /usr/local/lib/python3.9/dist-packages (from yfinance) (1.22.4)\n",
      "Requirement already satisfied: pandas>=1.3.0 in /usr/local/lib/python3.9/dist-packages (from yfinance) (1.4.4)\n",
      "Requirement already satisfied: lxml>=4.9.1 in /usr/local/lib/python3.9/dist-packages (from yfinance) (4.9.2)\n",
      "Requirement already satisfied: soupsieve>1.2 in /usr/local/lib/python3.9/dist-packages (from beautifulsoup4>=4.11.1->yfinance) (2.4)\n",
      "Requirement already satisfied: cffi>=1.12 in /usr/local/lib/python3.9/dist-packages (from cryptography>=3.3.2->yfinance) (1.15.1)\n",
      "Requirement already satisfied: six>=1.9 in /usr/local/lib/python3.9/dist-packages (from html5lib>=1.1->yfinance) (1.16.0)\n",
      "Requirement already satisfied: webencodings in /usr/local/lib/python3.9/dist-packages (from html5lib>=1.1->yfinance) (0.5.1)\n",
      "Requirement already satisfied: python-dateutil>=2.8.1 in /usr/local/lib/python3.9/dist-packages (from pandas>=1.3.0->yfinance) (2.8.2)\n",
      "Requirement already satisfied: idna<4,>=2.5 in /usr/local/lib/python3.9/dist-packages (from requests>=2.26->yfinance) (3.4)\n",
      "Requirement already satisfied: charset-normalizer~=2.0.0 in /usr/local/lib/python3.9/dist-packages (from requests>=2.26->yfinance) (2.0.12)\n",
      "Requirement already satisfied: certifi>=2017.4.17 in /usr/local/lib/python3.9/dist-packages (from requests>=2.26->yfinance) (2022.12.7)\n",
      "Requirement already satisfied: urllib3<1.27,>=1.21.1 in /usr/local/lib/python3.9/dist-packages (from requests>=2.26->yfinance) (1.26.15)\n",
      "Requirement already satisfied: pycparser in /usr/local/lib/python3.9/dist-packages (from cffi>=1.12->cryptography>=3.3.2->yfinance) (2.21)\n",
      "Installing collected packages: appdirs, frozendict, cryptography, yfinance\n",
      "Successfully installed appdirs-1.4.4 cryptography-39.0.2 frozendict-2.3.6 yfinance-0.2.13\n"
     ]
    }
   ],
   "source": [
    "pip install yfinance"
   ]
  },
  {
   "cell_type": "code",
   "execution_count": null,
   "metadata": {
    "colab": {
     "base_uri": "https://localhost:8080/"
    },
    "id": "_FF8TfPjVdvD",
    "outputId": "dc7d3d25-17b7-4c7d-f4a7-6b05d62e2fc3"
   },
   "outputs": [
    {
     "name": "stdout",
     "output_type": "stream",
     "text": [
      "Looking in indexes: https://pypi.org/simple, https://us-python.pkg.dev/colab-wheels/public/simple/\n",
      "\u001b[31mERROR: Could not find a version that satisfies the requirement talib (from versions: none)\u001b[0m\u001b[31m\n",
      "\u001b[0m\u001b[31mERROR: No matching distribution found for talib\u001b[0m\u001b[31m\n",
      "\u001b[0m"
     ]
    }
   ],
   "source": [
    "pip install talib"
   ]
  },
  {
   "cell_type": "code",
   "execution_count": null,
   "metadata": {
    "ExecuteTime": {
     "end_time": "2020-05-17T15:38:50.445202Z",
     "start_time": "2020-05-17T15:38:49.641452Z"
    },
    "id": "4F9LWwtDVEfY"
   },
   "outputs": [],
   "source": [
    "import os\n",
    "import seaborn as sns\n",
    "import pandas as pd\n",
    "from IPython.core.interactiveshell import InteractiveShell\n",
    "import numpy as np\n",
    "from yahooquery import Ticker\n",
    "import yfinance as yf\n",
    "#from talib import RSI, BBANDS, MACD, NATR, ATR\n",
    "from sklearn.feature_selection import mutual_info_classif, mutual_info_regression\n",
    "from statsmodels.regression.rolling import RollingOLS\n",
    "import statsmodels.api as sm\n",
    "import matplotlib.pyplot as plt\n",
    "import math\n",
    "\n",
    "InteractiveShell.ast_node_interactivity = \"all\"\n",
    "pd.options.display.float_format = '{:,}'.format\n",
    "pd.options.display.max_columns = None\n",
    "pd.set_option('display.max_rows', 100)"
   ]
  },
  {
   "cell_type": "markdown",
   "metadata": {
    "ExecuteTime": {
     "end_time": "2020-05-17T03:36:33.023043Z",
     "start_time": "2020-05-17T03:36:33.019029Z"
    },
    "id": "mCuiyCv9VEfY"
   },
   "source": [
    "### Historical Pricing"
   ]
  },
  {
   "cell_type": "markdown",
   "metadata": {
    "id": "Y4k5xs1NVEfY"
   },
   "source": [
    "#### Data from Wikipedia consists of constituents of S&P 500 "
   ]
  },
  {
   "cell_type": "code",
   "execution_count": null,
   "metadata": {
    "ExecuteTime": {
     "end_time": "2020-05-17T15:38:55.911685Z",
     "start_time": "2020-05-17T15:38:55.167152Z"
    },
    "colab": {
     "base_uri": "https://localhost:8080/",
     "height": 206
    },
    "id": "Irj5wqsRVEfZ",
    "outputId": "e8c93ca5-6821-40c1-ac90-e8d8a8e929d0"
   },
   "outputs": [
    {
     "data": {
      "text/html": [
       "\n",
       "  <div id=\"df-c37b201a-f028-4bf2-bad6-161f486e34e8\">\n",
       "    <div class=\"colab-df-container\">\n",
       "      <div>\n",
       "<style scoped>\n",
       "    .dataframe tbody tr th:only-of-type {\n",
       "        vertical-align: middle;\n",
       "    }\n",
       "\n",
       "    .dataframe tbody tr th {\n",
       "        vertical-align: top;\n",
       "    }\n",
       "\n",
       "    .dataframe thead th {\n",
       "        text-align: right;\n",
       "    }\n",
       "</style>\n",
       "<table border=\"1\" class=\"dataframe\">\n",
       "  <thead>\n",
       "    <tr style=\"text-align: right;\">\n",
       "      <th></th>\n",
       "      <th>Symbol</th>\n",
       "      <th>Security</th>\n",
       "      <th>GICS Sector</th>\n",
       "      <th>GICS Sub-Industry</th>\n",
       "      <th>Headquarters Location</th>\n",
       "      <th>Date added</th>\n",
       "      <th>CIK</th>\n",
       "      <th>Founded</th>\n",
       "    </tr>\n",
       "  </thead>\n",
       "  <tbody>\n",
       "    <tr>\n",
       "      <th>0</th>\n",
       "      <td>MMM</td>\n",
       "      <td>3M</td>\n",
       "      <td>Industrials</td>\n",
       "      <td>Industrial Conglomerates</td>\n",
       "      <td>Saint Paul, Minnesota</td>\n",
       "      <td>1957-03-04</td>\n",
       "      <td>66740</td>\n",
       "      <td>1902</td>\n",
       "    </tr>\n",
       "    <tr>\n",
       "      <th>1</th>\n",
       "      <td>AOS</td>\n",
       "      <td>A. O. Smith</td>\n",
       "      <td>Industrials</td>\n",
       "      <td>Building Products</td>\n",
       "      <td>Milwaukee, Wisconsin</td>\n",
       "      <td>2017-07-26</td>\n",
       "      <td>91142</td>\n",
       "      <td>1916</td>\n",
       "    </tr>\n",
       "    <tr>\n",
       "      <th>2</th>\n",
       "      <td>ABT</td>\n",
       "      <td>Abbott</td>\n",
       "      <td>Health Care</td>\n",
       "      <td>Health Care Equipment</td>\n",
       "      <td>North Chicago, Illinois</td>\n",
       "      <td>1957-03-04</td>\n",
       "      <td>1800</td>\n",
       "      <td>1888</td>\n",
       "    </tr>\n",
       "    <tr>\n",
       "      <th>3</th>\n",
       "      <td>ABBV</td>\n",
       "      <td>AbbVie</td>\n",
       "      <td>Health Care</td>\n",
       "      <td>Pharmaceuticals</td>\n",
       "      <td>North Chicago, Illinois</td>\n",
       "      <td>2012-12-31</td>\n",
       "      <td>1551152</td>\n",
       "      <td>2013 (1888)</td>\n",
       "    </tr>\n",
       "    <tr>\n",
       "      <th>4</th>\n",
       "      <td>ACN</td>\n",
       "      <td>Accenture</td>\n",
       "      <td>Information Technology</td>\n",
       "      <td>IT Consulting &amp; Other Services</td>\n",
       "      <td>Dublin, Ireland</td>\n",
       "      <td>2011-07-06</td>\n",
       "      <td>1467373</td>\n",
       "      <td>1989</td>\n",
       "    </tr>\n",
       "  </tbody>\n",
       "</table>\n",
       "</div>\n",
       "      <button class=\"colab-df-convert\" onclick=\"convertToInteractive('df-c37b201a-f028-4bf2-bad6-161f486e34e8')\"\n",
       "              title=\"Convert this dataframe to an interactive table.\"\n",
       "              style=\"display:none;\">\n",
       "        \n",
       "  <svg xmlns=\"http://www.w3.org/2000/svg\" height=\"24px\"viewBox=\"0 0 24 24\"\n",
       "       width=\"24px\">\n",
       "    <path d=\"M0 0h24v24H0V0z\" fill=\"none\"/>\n",
       "    <path d=\"M18.56 5.44l.94 2.06.94-2.06 2.06-.94-2.06-.94-.94-2.06-.94 2.06-2.06.94zm-11 1L8.5 8.5l.94-2.06 2.06-.94-2.06-.94L8.5 2.5l-.94 2.06-2.06.94zm10 10l.94 2.06.94-2.06 2.06-.94-2.06-.94-.94-2.06-.94 2.06-2.06.94z\"/><path d=\"M17.41 7.96l-1.37-1.37c-.4-.4-.92-.59-1.43-.59-.52 0-1.04.2-1.43.59L10.3 9.45l-7.72 7.72c-.78.78-.78 2.05 0 2.83L4 21.41c.39.39.9.59 1.41.59.51 0 1.02-.2 1.41-.59l7.78-7.78 2.81-2.81c.8-.78.8-2.07 0-2.86zM5.41 20L4 18.59l7.72-7.72 1.47 1.35L5.41 20z\"/>\n",
       "  </svg>\n",
       "      </button>\n",
       "      \n",
       "  <style>\n",
       "    .colab-df-container {\n",
       "      display:flex;\n",
       "      flex-wrap:wrap;\n",
       "      gap: 12px;\n",
       "    }\n",
       "\n",
       "    .colab-df-convert {\n",
       "      background-color: #E8F0FE;\n",
       "      border: none;\n",
       "      border-radius: 50%;\n",
       "      cursor: pointer;\n",
       "      display: none;\n",
       "      fill: #1967D2;\n",
       "      height: 32px;\n",
       "      padding: 0 0 0 0;\n",
       "      width: 32px;\n",
       "    }\n",
       "\n",
       "    .colab-df-convert:hover {\n",
       "      background-color: #E2EBFA;\n",
       "      box-shadow: 0px 1px 2px rgba(60, 64, 67, 0.3), 0px 1px 3px 1px rgba(60, 64, 67, 0.15);\n",
       "      fill: #174EA6;\n",
       "    }\n",
       "\n",
       "    [theme=dark] .colab-df-convert {\n",
       "      background-color: #3B4455;\n",
       "      fill: #D2E3FC;\n",
       "    }\n",
       "\n",
       "    [theme=dark] .colab-df-convert:hover {\n",
       "      background-color: #434B5C;\n",
       "      box-shadow: 0px 1px 3px 1px rgba(0, 0, 0, 0.15);\n",
       "      filter: drop-shadow(0px 1px 2px rgba(0, 0, 0, 0.3));\n",
       "      fill: #FFFFFF;\n",
       "    }\n",
       "  </style>\n",
       "\n",
       "      <script>\n",
       "        const buttonEl =\n",
       "          document.querySelector('#df-c37b201a-f028-4bf2-bad6-161f486e34e8 button.colab-df-convert');\n",
       "        buttonEl.style.display =\n",
       "          google.colab.kernel.accessAllowed ? 'block' : 'none';\n",
       "\n",
       "        async function convertToInteractive(key) {\n",
       "          const element = document.querySelector('#df-c37b201a-f028-4bf2-bad6-161f486e34e8');\n",
       "          const dataTable =\n",
       "            await google.colab.kernel.invokeFunction('convertToInteractive',\n",
       "                                                     [key], {});\n",
       "          if (!dataTable) return;\n",
       "\n",
       "          const docLinkHtml = 'Like what you see? Visit the ' +\n",
       "            '<a target=\"_blank\" href=https://colab.research.google.com/notebooks/data_table.ipynb>data table notebook</a>'\n",
       "            + ' to learn more about interactive tables.';\n",
       "          element.innerHTML = '';\n",
       "          dataTable['output_type'] = 'display_data';\n",
       "          await google.colab.output.renderOutput(dataTable, element);\n",
       "          const docLink = document.createElement('div');\n",
       "          docLink.innerHTML = docLinkHtml;\n",
       "          element.appendChild(docLink);\n",
       "        }\n",
       "      </script>\n",
       "    </div>\n",
       "  </div>\n",
       "  "
      ],
      "text/plain": [
       "  Symbol     Security             GICS Sector               GICS Sub-Industry  \\\n",
       "0    MMM           3M             Industrials        Industrial Conglomerates   \n",
       "1    AOS  A. O. Smith             Industrials               Building Products   \n",
       "2    ABT       Abbott             Health Care           Health Care Equipment   \n",
       "3   ABBV       AbbVie             Health Care                 Pharmaceuticals   \n",
       "4    ACN    Accenture  Information Technology  IT Consulting & Other Services   \n",
       "\n",
       "     Headquarters Location  Date added      CIK      Founded  \n",
       "0    Saint Paul, Minnesota  1957-03-04    66740         1902  \n",
       "1     Milwaukee, Wisconsin  2017-07-26    91142         1916  \n",
       "2  North Chicago, Illinois  1957-03-04     1800         1888  \n",
       "3  North Chicago, Illinois  2012-12-31  1551152  2013 (1888)  \n",
       "4          Dublin, Ireland  2011-07-06  1467373         1989  "
      ]
     },
     "execution_count": 6,
     "metadata": {},
     "output_type": "execute_result"
    }
   ],
   "source": [
    "# Compare downloads for all companies within the S&P500\n",
    "tables = pd.read_html(\"https://en.wikipedia.org/wiki/List_of_S%26P_500_companies\")[0]\n",
    "tables.head()"
   ]
  },
  {
   "cell_type": "code",
   "execution_count": null,
   "metadata": {
    "id": "L6oJIYRKVEfa"
   },
   "outputs": [],
   "source": [
    "sp500 = tables['Symbol'].tolist()\n",
    "sp500 = [symbol.replace(\".\", \"-\") for symbol in sp500]\n"
   ]
  },
  {
   "cell_type": "markdown",
   "metadata": {
    "ExecuteTime": {
     "end_time": "2020-05-17T04:12:35.276638Z",
     "start_time": "2020-05-17T04:12:35.271644Z"
    },
    "id": "EkphZRTcVEfa"
   },
   "source": [
    "#### Collect 2-year of historical data from yfinance"
   ]
  },
  {
   "cell_type": "code",
   "execution_count": null,
   "metadata": {
    "id": "AIltdnjXVEfa"
   },
   "outputs": [],
   "source": []
  },
  {
   "cell_type": "code",
   "execution_count": null,
   "metadata": {
    "ExecuteTime": {
     "end_time": "2020-05-17T15:39:38.438741Z",
     "start_time": "2020-05-17T15:38:55.913597Z"
    },
    "colab": {
     "base_uri": "https://localhost:8080/"
    },
    "id": "heiTe5VwVEfa",
    "outputId": "b6617056-130e-43f4-98be-9f5d9134ff0f"
   },
   "outputs": [
    {
     "name": "stdout",
     "output_type": "stream",
     "text": [
      "[*********************100%***********************]  503 of 503 completed\n",
      "CPU times: user 18.3 s, sys: 1.2 s, total: 19.5 s\n",
      "Wall time: 1min\n"
     ]
    }
   ],
   "source": [
    "%%time\n",
    "yf_data = yf.download(sp500, period='4y', interval='1d', group_by='ticker')"
   ]
  },
  {
   "cell_type": "markdown",
   "metadata": {
    "id": "3YSNJy4JVEfb"
   },
   "source": [
    "#### Market Capitalization data from yfinance"
   ]
  },
  {
   "cell_type": "code",
   "execution_count": null,
   "metadata": {
    "id": "zSN2R7keVEfb"
   },
   "outputs": [],
   "source": [
    "from pandas_datareader import data\n",
    "market_cap ={}\n",
    "for str in sp500:\n",
    "    ticker = str\n",
    "    market_cap[ticker]=int(data.get_quote_yahoo(str)['marketCap'])\n"
   ]
  },
  {
   "cell_type": "code",
   "execution_count": null,
   "metadata": {
    "colab": {
     "base_uri": "https://localhost:8080/",
     "height": 424
    },
    "id": "yj0lJN3LVEfb",
    "outputId": "1fc63f20-55be-42dc-b2ad-da380e7cb1a0"
   },
   "outputs": [
    {
     "data": {
      "text/html": [
       "\n",
       "  <div id=\"df-50beb70b-641a-41ca-9068-c9b4dfc0e5ff\">\n",
       "    <div class=\"colab-df-container\">\n",
       "      <div>\n",
       "<style scoped>\n",
       "    .dataframe tbody tr th:only-of-type {\n",
       "        vertical-align: middle;\n",
       "    }\n",
       "\n",
       "    .dataframe tbody tr th {\n",
       "        vertical-align: top;\n",
       "    }\n",
       "\n",
       "    .dataframe thead th {\n",
       "        text-align: right;\n",
       "    }\n",
       "</style>\n",
       "<table border=\"1\" class=\"dataframe\">\n",
       "  <thead>\n",
       "    <tr style=\"text-align: right;\">\n",
       "      <th></th>\n",
       "      <th>ticker</th>\n",
       "      <th>market_cap</th>\n",
       "    </tr>\n",
       "  </thead>\n",
       "  <tbody>\n",
       "    <tr>\n",
       "      <th>0</th>\n",
       "      <td>MMM</td>\n",
       "      <td>57411641344</td>\n",
       "    </tr>\n",
       "    <tr>\n",
       "      <th>1</th>\n",
       "      <td>AOS</td>\n",
       "      <td>10162616320</td>\n",
       "    </tr>\n",
       "    <tr>\n",
       "      <th>2</th>\n",
       "      <td>ABT</td>\n",
       "      <td>171553030144</td>\n",
       "    </tr>\n",
       "    <tr>\n",
       "      <th>3</th>\n",
       "      <td>ABBV</td>\n",
       "      <td>276822622208</td>\n",
       "    </tr>\n",
       "    <tr>\n",
       "      <th>4</th>\n",
       "      <td>ACN</td>\n",
       "      <td>162572484608</td>\n",
       "    </tr>\n",
       "    <tr>\n",
       "      <th>...</th>\n",
       "      <td>...</td>\n",
       "      <td>...</td>\n",
       "    </tr>\n",
       "    <tr>\n",
       "      <th>498</th>\n",
       "      <td>YUM</td>\n",
       "      <td>35993878528</td>\n",
       "    </tr>\n",
       "    <tr>\n",
       "      <th>499</th>\n",
       "      <td>ZBRA</td>\n",
       "      <td>14942832640</td>\n",
       "    </tr>\n",
       "    <tr>\n",
       "      <th>500</th>\n",
       "      <td>ZBH</td>\n",
       "      <td>26826223616</td>\n",
       "    </tr>\n",
       "    <tr>\n",
       "      <th>501</th>\n",
       "      <td>ZION</td>\n",
       "      <td>4759740928</td>\n",
       "    </tr>\n",
       "    <tr>\n",
       "      <th>502</th>\n",
       "      <td>ZTS</td>\n",
       "      <td>76632629248</td>\n",
       "    </tr>\n",
       "  </tbody>\n",
       "</table>\n",
       "<p>503 rows × 2 columns</p>\n",
       "</div>\n",
       "      <button class=\"colab-df-convert\" onclick=\"convertToInteractive('df-50beb70b-641a-41ca-9068-c9b4dfc0e5ff')\"\n",
       "              title=\"Convert this dataframe to an interactive table.\"\n",
       "              style=\"display:none;\">\n",
       "        \n",
       "  <svg xmlns=\"http://www.w3.org/2000/svg\" height=\"24px\"viewBox=\"0 0 24 24\"\n",
       "       width=\"24px\">\n",
       "    <path d=\"M0 0h24v24H0V0z\" fill=\"none\"/>\n",
       "    <path d=\"M18.56 5.44l.94 2.06.94-2.06 2.06-.94-2.06-.94-.94-2.06-.94 2.06-2.06.94zm-11 1L8.5 8.5l.94-2.06 2.06-.94-2.06-.94L8.5 2.5l-.94 2.06-2.06.94zm10 10l.94 2.06.94-2.06 2.06-.94-2.06-.94-.94-2.06-.94 2.06-2.06.94z\"/><path d=\"M17.41 7.96l-1.37-1.37c-.4-.4-.92-.59-1.43-.59-.52 0-1.04.2-1.43.59L10.3 9.45l-7.72 7.72c-.78.78-.78 2.05 0 2.83L4 21.41c.39.39.9.59 1.41.59.51 0 1.02-.2 1.41-.59l7.78-7.78 2.81-2.81c.8-.78.8-2.07 0-2.86zM5.41 20L4 18.59l7.72-7.72 1.47 1.35L5.41 20z\"/>\n",
       "  </svg>\n",
       "      </button>\n",
       "      \n",
       "  <style>\n",
       "    .colab-df-container {\n",
       "      display:flex;\n",
       "      flex-wrap:wrap;\n",
       "      gap: 12px;\n",
       "    }\n",
       "\n",
       "    .colab-df-convert {\n",
       "      background-color: #E8F0FE;\n",
       "      border: none;\n",
       "      border-radius: 50%;\n",
       "      cursor: pointer;\n",
       "      display: none;\n",
       "      fill: #1967D2;\n",
       "      height: 32px;\n",
       "      padding: 0 0 0 0;\n",
       "      width: 32px;\n",
       "    }\n",
       "\n",
       "    .colab-df-convert:hover {\n",
       "      background-color: #E2EBFA;\n",
       "      box-shadow: 0px 1px 2px rgba(60, 64, 67, 0.3), 0px 1px 3px 1px rgba(60, 64, 67, 0.15);\n",
       "      fill: #174EA6;\n",
       "    }\n",
       "\n",
       "    [theme=dark] .colab-df-convert {\n",
       "      background-color: #3B4455;\n",
       "      fill: #D2E3FC;\n",
       "    }\n",
       "\n",
       "    [theme=dark] .colab-df-convert:hover {\n",
       "      background-color: #434B5C;\n",
       "      box-shadow: 0px 1px 3px 1px rgba(0, 0, 0, 0.15);\n",
       "      filter: drop-shadow(0px 1px 2px rgba(0, 0, 0, 0.3));\n",
       "      fill: #FFFFFF;\n",
       "    }\n",
       "  </style>\n",
       "\n",
       "      <script>\n",
       "        const buttonEl =\n",
       "          document.querySelector('#df-50beb70b-641a-41ca-9068-c9b4dfc0e5ff button.colab-df-convert');\n",
       "        buttonEl.style.display =\n",
       "          google.colab.kernel.accessAllowed ? 'block' : 'none';\n",
       "\n",
       "        async function convertToInteractive(key) {\n",
       "          const element = document.querySelector('#df-50beb70b-641a-41ca-9068-c9b4dfc0e5ff');\n",
       "          const dataTable =\n",
       "            await google.colab.kernel.invokeFunction('convertToInteractive',\n",
       "                                                     [key], {});\n",
       "          if (!dataTable) return;\n",
       "\n",
       "          const docLinkHtml = 'Like what you see? Visit the ' +\n",
       "            '<a target=\"_blank\" href=https://colab.research.google.com/notebooks/data_table.ipynb>data table notebook</a>'\n",
       "            + ' to learn more about interactive tables.';\n",
       "          element.innerHTML = '';\n",
       "          dataTable['output_type'] = 'display_data';\n",
       "          await google.colab.output.renderOutput(dataTable, element);\n",
       "          const docLink = document.createElement('div');\n",
       "          docLink.innerHTML = docLinkHtml;\n",
       "          element.appendChild(docLink);\n",
       "        }\n",
       "      </script>\n",
       "    </div>\n",
       "  </div>\n",
       "  "
      ],
      "text/plain": [
       "    ticker    market_cap\n",
       "0      MMM   57411641344\n",
       "1      AOS   10162616320\n",
       "2      ABT  171553030144\n",
       "3     ABBV  276822622208\n",
       "4      ACN  162572484608\n",
       "..     ...           ...\n",
       "498    YUM   35993878528\n",
       "499   ZBRA   14942832640\n",
       "500    ZBH   26826223616\n",
       "501   ZION    4759740928\n",
       "502    ZTS   76632629248\n",
       "\n",
       "[503 rows x 2 columns]"
      ]
     },
     "execution_count": 10,
     "metadata": {},
     "output_type": "execute_result"
    }
   ],
   "source": [
    "market_cap = pd.DataFrame(market_cap.items())\n",
    "some_dict={0:\"ticker\",1:\"market_cap\"}\n",
    "market_cap.rename(columns=some_dict, inplace=True)\n",
    "market_cap"
   ]
  },
  {
   "cell_type": "code",
   "execution_count": null,
   "metadata": {
    "id": "EX6M-hZ4VEfb"
   },
   "outputs": [],
   "source": [
    "yf_data.columns.set_names([\"ticker\",\"Stats\"],inplace=True)\n"
   ]
  },
  {
   "cell_type": "code",
   "execution_count": null,
   "metadata": {
    "id": "Z4CfUcjsVEfb"
   },
   "outputs": [],
   "source": [
    "df = yf_data.stack(level=0)\n"
   ]
  },
  {
   "cell_type": "code",
   "execution_count": null,
   "metadata": {
    "id": "qPw4FsYYVEfc"
   },
   "outputs": [],
   "source": [
    "df_2019 = df[df.reset_index(level=1).index < '2020-01-01']\n",
    "df_2020 = df[df.reset_index(level=1).index < '2021-01-01']\n",
    "df_2021 = df[df.reset_index(level=1).index < '2022-01-01']\n",
    "df_2022 = df[df.reset_index(level=1).index < '2023-01-01']\n",
    "df_2023 = df[df.reset_index(level=1).index >= '2023-01-01']"
   ]
  },
  {
   "cell_type": "code",
   "execution_count": null,
   "metadata": {
    "id": "uTaCiKHMVEfc"
   },
   "outputs": [],
   "source": [
    "s_2019 = df_2019.groupby('ticker').count()['Close'].reset_index().rename(columns = {\"Close\":\"days\"}).ticker.values\n",
    "s_2020 = df_2020.groupby('ticker').count()['Close'].reset_index().rename(columns = {\"Close\":\"days\"}).ticker.values\n",
    "s_2021 = df_2021.groupby('ticker').count()['Close'].reset_index().rename(columns = {\"Close\":\"days\"}).ticker.values\n",
    "s_2022 = df_2022.groupby('ticker').count()['Close'].reset_index().rename(columns = {\"Close\":\"days\"}).ticker.values\n",
    "s_2023 = df_2023.groupby('ticker').count()['Close'].reset_index().rename(columns = {\"Close\":\"days\"}).ticker.values"
   ]
  },
  {
   "cell_type": "code",
   "execution_count": null,
   "metadata": {
    "colab": {
     "base_uri": "https://localhost:8080/"
    },
    "id": "mrSGnVprVEfc",
    "outputId": "752b581f-81ee-4954-8587-c4f2a63844ee"
   },
   "outputs": [
    {
     "name": "stdout",
     "output_type": "stream",
     "text": [
      "Stocks tickers in SP500 index that were not public:\n",
      "2019: ['OGN', 'OTIS', 'CEG', 'GEHC', 'CARR']\n",
      "2020: ['OGN', 'CEG', 'GEHC']\n",
      "2021: ['CEG', 'GEHC']\n",
      "2022: []\n",
      "2023: []\n"
     ]
    }
   ],
   "source": [
    "print(\"Stocks tickers in SP500 index that were not public:\")\n",
    "print(\"2019:\",list(set(sp500).symmetric_difference(set(s_2019))))\n",
    "print(\"2020:\",list(set(sp500).symmetric_difference(set(s_2020))))\n",
    "print(\"2021:\",list(set(sp500).symmetric_difference(set(s_2021))))\n",
    "print(\"2022:\",list(set(sp500).symmetric_difference(set(s_2022))))\n",
    "print(\"2023:\",list(set(sp500).symmetric_difference(set(s_2022))))\n",
    "\n",
    "exclude = list(set(sp500).symmetric_difference(set(s_2019)))"
   ]
  },
  {
   "cell_type": "code",
   "execution_count": null,
   "metadata": {
    "id": "4XyzRUvoVEfd"
   },
   "outputs": [],
   "source": [
    "merged_df = df.merge(market_cap,on=\"ticker\")\n",
    "#merged_df = merged_df[~merged_df.ticker.isin(exclude)]\n",
    "df_2019 = df_2019.merge(market_cap,on=\"ticker\")\n",
    "df_2020 = df_2020.merge(market_cap,on=\"ticker\")\n",
    "df_2021 = df_2021.merge(market_cap,on=\"ticker\")\n",
    "df_2022 = df_2022.merge(market_cap,on=\"ticker\")\n",
    "df_2023 = df_2023.merge(market_cap,on=\"ticker\")\n",
    "\n"
   ]
  },
  {
   "cell_type": "markdown",
   "metadata": {
    "id": "fcnd8YoWVEfd"
   },
   "source": [
    "## Data Engineering"
   ]
  },
  {
   "cell_type": "code",
   "execution_count": null,
   "metadata": {
    "id": "bE1fCBYtVEfd"
   },
   "outputs": [],
   "source": [
    "merged_df['daily_returns_overall']=(merged_df.groupby('ticker').Close.pct_change())*100\n",
    "def condition(x):\n",
    "    if x>0:\n",
    "        return \"increase\"\n",
    "    elif x==0:\n",
    "        return \"unchanged\"\n",
    "    else:\n",
    "        return 'decrease'\n",
    "merged_df['trend'] = merged_df['daily_returns_overall'].shift(-1).apply(condition)\n"
   ]
  },
  {
   "cell_type": "code",
   "execution_count": null,
   "metadata": {
    "id": "hQhxfg22VEfe"
   },
   "outputs": [],
   "source": [
    "\n",
    "\n",
    "df_2019['daily_returns_2019']=(df_2019.groupby('ticker').Close.pct_change())*100\n",
    "df_2020['daily_returns_2020']=(df_2020.groupby('ticker').Close.pct_change())*100\n",
    "df_2021['daily_returns_2021']=(df_2021.groupby('ticker').Close.pct_change())*100\n",
    "df_2022['daily_returns_2022']=(df_2022.groupby('ticker').Close.pct_change())*100\n",
    "df_2023['daily_returns_2023']=(df_2023.groupby('ticker').Close.pct_change())*100\n"
   ]
  },
  {
   "cell_type": "code",
   "execution_count": null,
   "metadata": {
    "colab": {
     "base_uri": "https://localhost:8080/",
     "height": 488
    },
    "id": "_zYdaSy6VEfe",
    "outputId": "847e0640-0f5c-49f2-af74-8633dc8b1934"
   },
   "outputs": [
    {
     "data": {
      "text/html": [
       "\n",
       "  <div id=\"df-4d1e8e63-ee0b-44e0-a7f4-9d0023fd5b80\">\n",
       "    <div class=\"colab-df-container\">\n",
       "      <div>\n",
       "<style scoped>\n",
       "    .dataframe tbody tr th:only-of-type {\n",
       "        vertical-align: middle;\n",
       "    }\n",
       "\n",
       "    .dataframe tbody tr th {\n",
       "        vertical-align: top;\n",
       "    }\n",
       "\n",
       "    .dataframe thead th {\n",
       "        text-align: right;\n",
       "    }\n",
       "</style>\n",
       "<table border=\"1\" class=\"dataframe\">\n",
       "  <thead>\n",
       "    <tr style=\"text-align: right;\">\n",
       "      <th></th>\n",
       "      <th>ticker</th>\n",
       "      <th>Close</th>\n",
       "      <th>High</th>\n",
       "      <th>Low</th>\n",
       "      <th>Open</th>\n",
       "      <th>Volume</th>\n",
       "      <th>market_cap</th>\n",
       "      <th>daily_returns_overall</th>\n",
       "      <th>daily_returns_overall</th>\n",
       "    </tr>\n",
       "  </thead>\n",
       "  <tbody>\n",
       "    <tr>\n",
       "      <th>0</th>\n",
       "      <td>A</td>\n",
       "      <td>0.013254845230627393</td>\n",
       "      <td>0.013653268750849858</td>\n",
       "      <td>0.013421005298096228</td>\n",
       "      <td>0.013640903769314936</td>\n",
       "      <td>0.0015707562341234157</td>\n",
       "      <td>0.015991523783555908</td>\n",
       "      <td>NaN</td>\n",
       "      <td>NaN</td>\n",
       "    </tr>\n",
       "    <tr>\n",
       "      <th>1</th>\n",
       "      <td>A</td>\n",
       "      <td>0.013343781196977428</td>\n",
       "      <td>0.013349045625641015</td>\n",
       "      <td>0.013368321002642616</td>\n",
       "      <td>0.013231040189443925</td>\n",
       "      <td>0.001009756236311403</td>\n",
       "      <td>0.015991523783555908</td>\n",
       "      <td>0.010852317101671146</td>\n",
       "      <td>0.670969481744943</td>\n",
       "    </tr>\n",
       "    <tr>\n",
       "      <th>2</th>\n",
       "      <td>A</td>\n",
       "      <td>0.013533400645472224</td>\n",
       "      <td>0.013546289274422306</td>\n",
       "      <td>0.013618147411052852</td>\n",
       "      <td>0.013448518927851287</td>\n",
       "      <td>0.00156244188158174</td>\n",
       "      <td>0.015991523783555908</td>\n",
       "      <td>0.022983897438854883</td>\n",
       "      <td>1.4210323572882544</td>\n",
       "    </tr>\n",
       "    <tr>\n",
       "      <th>3</th>\n",
       "      <td>A</td>\n",
       "      <td>0.013256523630061448</td>\n",
       "      <td>0.013501156550597459</td>\n",
       "      <td>0.013407408932617626</td>\n",
       "      <td>0.01346692103385477</td>\n",
       "      <td>0.0015820243698048972</td>\n",
       "      <td>0.015991523783555908</td>\n",
       "      <td>-0.03309022147180338</td>\n",
       "      <td>-2.0458791006339405</td>\n",
       "    </tr>\n",
       "    <tr>\n",
       "      <th>4</th>\n",
       "      <td>A</td>\n",
       "      <td>0.013373985985572125</td>\n",
       "      <td>0.01333734478525975</td>\n",
       "      <td>0.01337681775860116</td>\n",
       "      <td>0.013281227983331352</td>\n",
       "      <td>0.0017674563113593748</td>\n",
       "      <td>0.015991523783555908</td>\n",
       "      <td>0.014331404807495765</td>\n",
       "      <td>0.8860720863825167</td>\n",
       "    </tr>\n",
       "    <tr>\n",
       "      <th>...</th>\n",
       "      <td>...</td>\n",
       "      <td>...</td>\n",
       "      <td>...</td>\n",
       "      <td>...</td>\n",
       "      <td>...</td>\n",
       "      <td>...</td>\n",
       "      <td>...</td>\n",
       "      <td>...</td>\n",
       "      <td>...</td>\n",
       "    </tr>\n",
       "    <tr>\n",
       "      <th>250</th>\n",
       "      <td>A</td>\n",
       "      <td>0.011034797749770007</td>\n",
       "      <td>0.011465201397185681</td>\n",
       "      <td>0.010905734735869012</td>\n",
       "      <td>0.011466121490555781</td>\n",
       "      <td>0.0037531643769377365</td>\n",
       "      <td>0.015991523783555908</td>\n",
       "      <td>-0.0730382034170214</td>\n",
       "      <td>-4.515755025878676</td>\n",
       "    </tr>\n",
       "    <tr>\n",
       "      <th>251</th>\n",
       "      <td>A</td>\n",
       "      <td>0.011152260105280684</td>\n",
       "      <td>0.011868046984433146</td>\n",
       "      <td>0.011039995927573461</td>\n",
       "      <td>0.0110395290714985</td>\n",
       "      <td>0.0035646692528679045</td>\n",
       "      <td>0.015991523783555908</td>\n",
       "      <td>0.01721686348864011</td>\n",
       "      <td>1.0644722103141824</td>\n",
       "    </tr>\n",
       "    <tr>\n",
       "      <th>252</th>\n",
       "      <td>A</td>\n",
       "      <td>0.010633745421234166</td>\n",
       "      <td>0.011293031342163088</td>\n",
       "      <td>0.010552237661460406</td>\n",
       "      <td>0.011175035604463106</td>\n",
       "      <td>0.003270603731393901</td>\n",
       "      <td>0.015991523783555908</td>\n",
       "      <td>-0.0752000064606023</td>\n",
       "      <td>-4.649413474502772</td>\n",
       "    </tr>\n",
       "    <tr>\n",
       "      <th>253</th>\n",
       "      <td>A</td>\n",
       "      <td>0.011242874471064772</td>\n",
       "      <td>0.01139666826789426</td>\n",
       "      <td>0.010978813579540527</td>\n",
       "      <td>0.010962575390178763</td>\n",
       "      <td>0.0031385586851070254</td>\n",
       "      <td>0.015991523783555908</td>\n",
       "      <td>0.0926494319682791</td>\n",
       "      <td>5.728264366892377</td>\n",
       "    </tr>\n",
       "    <tr>\n",
       "      <th>254</th>\n",
       "      <td>A</td>\n",
       "      <td>0.011578482664230885</td>\n",
       "      <td>0.012000100054619395</td>\n",
       "      <td>0.011065488788690646</td>\n",
       "      <td>0.011228568655656341</td>\n",
       "      <td>0.002875124988786564</td>\n",
       "      <td>0.015991523783555908</td>\n",
       "      <td>0.04828084928490593</td>\n",
       "      <td>2.9850746268656803</td>\n",
       "    </tr>\n",
       "  </tbody>\n",
       "</table>\n",
       "<p>255 rows × 9 columns</p>\n",
       "</div>\n",
       "      <button class=\"colab-df-convert\" onclick=\"convertToInteractive('df-4d1e8e63-ee0b-44e0-a7f4-9d0023fd5b80')\"\n",
       "              title=\"Convert this dataframe to an interactive table.\"\n",
       "              style=\"display:none;\">\n",
       "        \n",
       "  <svg xmlns=\"http://www.w3.org/2000/svg\" height=\"24px\"viewBox=\"0 0 24 24\"\n",
       "       width=\"24px\">\n",
       "    <path d=\"M0 0h24v24H0V0z\" fill=\"none\"/>\n",
       "    <path d=\"M18.56 5.44l.94 2.06.94-2.06 2.06-.94-2.06-.94-.94-2.06-.94 2.06-2.06.94zm-11 1L8.5 8.5l.94-2.06 2.06-.94-2.06-.94L8.5 2.5l-.94 2.06-2.06.94zm10 10l.94 2.06.94-2.06 2.06-.94-2.06-.94-.94-2.06-.94 2.06-2.06.94z\"/><path d=\"M17.41 7.96l-1.37-1.37c-.4-.4-.92-.59-1.43-.59-.52 0-1.04.2-1.43.59L10.3 9.45l-7.72 7.72c-.78.78-.78 2.05 0 2.83L4 21.41c.39.39.9.59 1.41.59.51 0 1.02-.2 1.41-.59l7.78-7.78 2.81-2.81c.8-.78.8-2.07 0-2.86zM5.41 20L4 18.59l7.72-7.72 1.47 1.35L5.41 20z\"/>\n",
       "  </svg>\n",
       "      </button>\n",
       "      \n",
       "  <style>\n",
       "    .colab-df-container {\n",
       "      display:flex;\n",
       "      flex-wrap:wrap;\n",
       "      gap: 12px;\n",
       "    }\n",
       "\n",
       "    .colab-df-convert {\n",
       "      background-color: #E8F0FE;\n",
       "      border: none;\n",
       "      border-radius: 50%;\n",
       "      cursor: pointer;\n",
       "      display: none;\n",
       "      fill: #1967D2;\n",
       "      height: 32px;\n",
       "      padding: 0 0 0 0;\n",
       "      width: 32px;\n",
       "    }\n",
       "\n",
       "    .colab-df-convert:hover {\n",
       "      background-color: #E2EBFA;\n",
       "      box-shadow: 0px 1px 2px rgba(60, 64, 67, 0.3), 0px 1px 3px 1px rgba(60, 64, 67, 0.15);\n",
       "      fill: #174EA6;\n",
       "    }\n",
       "\n",
       "    [theme=dark] .colab-df-convert {\n",
       "      background-color: #3B4455;\n",
       "      fill: #D2E3FC;\n",
       "    }\n",
       "\n",
       "    [theme=dark] .colab-df-convert:hover {\n",
       "      background-color: #434B5C;\n",
       "      box-shadow: 0px 1px 3px 1px rgba(0, 0, 0, 0.15);\n",
       "      filter: drop-shadow(0px 1px 2px rgba(0, 0, 0, 0.3));\n",
       "      fill: #FFFFFF;\n",
       "    }\n",
       "  </style>\n",
       "\n",
       "      <script>\n",
       "        const buttonEl =\n",
       "          document.querySelector('#df-4d1e8e63-ee0b-44e0-a7f4-9d0023fd5b80 button.colab-df-convert');\n",
       "        buttonEl.style.display =\n",
       "          google.colab.kernel.accessAllowed ? 'block' : 'none';\n",
       "\n",
       "        async function convertToInteractive(key) {\n",
       "          const element = document.querySelector('#df-4d1e8e63-ee0b-44e0-a7f4-9d0023fd5b80');\n",
       "          const dataTable =\n",
       "            await google.colab.kernel.invokeFunction('convertToInteractive',\n",
       "                                                     [key], {});\n",
       "          if (!dataTable) return;\n",
       "\n",
       "          const docLinkHtml = 'Like what you see? Visit the ' +\n",
       "            '<a target=\"_blank\" href=https://colab.research.google.com/notebooks/data_table.ipynb>data table notebook</a>'\n",
       "            + ' to learn more about interactive tables.';\n",
       "          element.innerHTML = '';\n",
       "          dataTable['output_type'] = 'display_data';\n",
       "          await google.colab.output.renderOutput(dataTable, element);\n",
       "          const docLink = document.createElement('div');\n",
       "          docLink.innerHTML = docLinkHtml;\n",
       "          element.appendChild(docLink);\n",
       "        }\n",
       "      </script>\n",
       "    </div>\n",
       "  </div>\n",
       "  "
      ],
      "text/plain": [
       "    ticker                Close                 High                  Low  \\\n",
       "0        A 0.013254845230627393 0.013653268750849858 0.013421005298096228   \n",
       "1        A 0.013343781196977428 0.013349045625641015 0.013368321002642616   \n",
       "2        A 0.013533400645472224 0.013546289274422306 0.013618147411052852   \n",
       "3        A 0.013256523630061448 0.013501156550597459 0.013407408932617626   \n",
       "4        A 0.013373985985572125  0.01333734478525975  0.01337681775860116   \n",
       "..     ...                  ...                  ...                  ...   \n",
       "250      A 0.011034797749770007 0.011465201397185681 0.010905734735869012   \n",
       "251      A 0.011152260105280684 0.011868046984433146 0.011039995927573461   \n",
       "252      A 0.010633745421234166 0.011293031342163088 0.010552237661460406   \n",
       "253      A 0.011242874471064772  0.01139666826789426 0.010978813579540527   \n",
       "254      A 0.011578482664230885 0.012000100054619395 0.011065488788690646   \n",
       "\n",
       "                    Open                Volume           market_cap  \\\n",
       "0   0.013640903769314936 0.0015707562341234157 0.015991523783555908   \n",
       "1   0.013231040189443925  0.001009756236311403 0.015991523783555908   \n",
       "2   0.013448518927851287   0.00156244188158174 0.015991523783555908   \n",
       "3    0.01346692103385477 0.0015820243698048972 0.015991523783555908   \n",
       "4   0.013281227983331352 0.0017674563113593748 0.015991523783555908   \n",
       "..                   ...                   ...                  ...   \n",
       "250 0.011466121490555781 0.0037531643769377365 0.015991523783555908   \n",
       "251   0.0110395290714985 0.0035646692528679045 0.015991523783555908   \n",
       "252 0.011175035604463106  0.003270603731393901 0.015991523783555908   \n",
       "253 0.010962575390178763 0.0031385586851070254 0.015991523783555908   \n",
       "254 0.011228568655656341  0.002875124988786564 0.015991523783555908   \n",
       "\n",
       "     daily_returns_overall  daily_returns_overall  \n",
       "0                      NaN                    NaN  \n",
       "1     0.010852317101671146      0.670969481744943  \n",
       "2     0.022983897438854883     1.4210323572882544  \n",
       "3     -0.03309022147180338    -2.0458791006339405  \n",
       "4     0.014331404807495765     0.8860720863825167  \n",
       "..                     ...                    ...  \n",
       "250    -0.0730382034170214     -4.515755025878676  \n",
       "251    0.01721686348864011     1.0644722103141824  \n",
       "252    -0.0752000064606023     -4.649413474502772  \n",
       "253     0.0926494319682791      5.728264366892377  \n",
       "254    0.04828084928490593     2.9850746268656803  \n",
       "\n",
       "[255 rows x 9 columns]"
      ]
     },
     "execution_count": 19,
     "metadata": {},
     "output_type": "execute_result"
    }
   ],
   "source": [
    "from sklearn.preprocessing import StandardScaler,MaxAbsScaler\n",
    "scaler = MaxAbsScaler()#StandardScaler()\n",
    "scaled_df = pd.concat([merged_df.ticker,pd.DataFrame(scaler.fit_transform(merged_df.iloc[:,2:-1]),columns=merged_df.columns[2:-1]),merged_df['daily_returns_overall']],axis=1)\n",
    "scaled_df.head(255)"
   ]
  },
  {
   "cell_type": "markdown",
   "metadata": {
    "id": "VNh5bBf3VEfg"
   },
   "source": [
    "### Volatility datafame"
   ]
  },
  {
   "cell_type": "markdown",
   "metadata": {
    "id": "xdmxkCMNVEfg"
   },
   "source": [
    "Daily volatility: to get it, we calculate the standard deviation of the daily returns. The standard deviation helps us to see how much the data is spread around the mean or average.\n",
    "\n",
    "Monthly volatility: we make the assumption that there are 21 trading days in the month so we multiply the daily volatility by the square root of 21.\n",
    "\n",
    "Annual volatility: we assume there are 252 trading days in a calendar year and we multiply the daily volatility by the square root of 252."
   ]
  },
  {
   "cell_type": "code",
   "execution_count": null,
   "metadata": {
    "id": "B5_3niERVEfg"
   },
   "outputs": [],
   "source": [
    "#volatility=(scaled_df.groupby('ticker')['daily_returns_overall'].std())\n",
    "scaler = MaxAbsScaler()\n"
   ]
  },
  {
   "cell_type": "code",
   "execution_count": null,
   "metadata": {
    "id": "dO4KRwJXVEfg"
   },
   "outputs": [],
   "source": [
    "\n",
    "def get_volatility(df,time,is_merged_df=False):\n",
    "    #print(df)\n",
    "    #n_days = df.groupby('ticker').count()['Close'].reset_index().rename(columns = {\"Close\":\"days\"})\n",
    "    if is_merged_df:\n",
    "        scaled_df = pd.concat([df.ticker,pd.DataFrame(scaler.fit_transform(df.iloc[:,1:-2]),columns=df.columns[1:-2]),df[f'daily_returns_{time}'],df['trend']],axis=1)\n",
    "\n",
    "    if not (is_merged_df):\n",
    "        scaled_df = pd.concat([df.ticker,pd.DataFrame(scaler.fit_transform(df.iloc[:,1:-1]),columns=df.columns[1:-1]),df[f'daily_returns_{time}']],axis=1)\n",
    "    \n",
    "    volatility=(scaled_df.groupby('ticker')[f'daily_returns_{time}'].std())\n",
    "\n",
    "    volatility = volatility.reset_index().rename(columns={f'daily_returns_{time}': f'daily_volatility_{time}'})\n",
    "    \n",
    "    volatility[f'annual_volatility_{time}']= math.sqrt(252) * volatility[f'daily_volatility_{time}']\n",
    "    #volatility[f'n_days_{time}']= n_days.days\n",
    "    #print(volatility)\n",
    "    ret_df= pd.DataFrame(columns=['ticker',f'returns_{time}',f'market_{time}'])\n",
    "    ret = {}\n",
    "    #print(len(volatility['ticker']))\n",
    "    df_list = [v for k, v in df.groupby('ticker')]\n",
    "    for v in df_list:\n",
    "        #print(v)\n",
    "        v[f'returns_{time}'] = v.Close.pct_change(len(v)-1)\n",
    "        v[f'market_{time}'] = v.market_cap\n",
    "        v.dropna(inplace=True)\n",
    "        v = v[['ticker',f'returns_{time}',f'market_{time}']]\n",
    "        ret_df = ret_df.append(v.iloc[0,:], ignore_index = True)\n",
    "        \n",
    "    #df_list\n",
    "    \n",
    "    \n",
    "    volatility = volatility.merge(ret_df,on='ticker')\n",
    "    \n",
    "    \n",
    "    return scaled_df,volatility\n",
    "\n",
    "    #ret.append(merged_df.groupby('ticker').Close.pct_change(days).dropna())"
   ]
  },
  {
   "cell_type": "code",
   "execution_count": null,
   "metadata": {
    "colab": {
     "base_uri": "https://localhost:8080/",
     "height": 488
    },
    "id": "GKIdZNprVEfg",
    "outputId": "a1e62809-5a7b-43be-d1b7-c079f7737cf4",
    "scrolled": true
   },
   "outputs": [
    {
     "data": {
      "text/html": [
       "\n",
       "  <div id=\"df-85542612-afeb-4816-b196-345c6ce6ef1c\">\n",
       "    <div class=\"colab-df-container\">\n",
       "      <div>\n",
       "<style scoped>\n",
       "    .dataframe tbody tr th:only-of-type {\n",
       "        vertical-align: middle;\n",
       "    }\n",
       "\n",
       "    .dataframe tbody tr th {\n",
       "        vertical-align: top;\n",
       "    }\n",
       "\n",
       "    .dataframe thead th {\n",
       "        text-align: right;\n",
       "    }\n",
       "</style>\n",
       "<table border=\"1\" class=\"dataframe\">\n",
       "  <thead>\n",
       "    <tr style=\"text-align: right;\">\n",
       "      <th></th>\n",
       "      <th>ticker</th>\n",
       "      <th>Adj Close</th>\n",
       "      <th>Close</th>\n",
       "      <th>High</th>\n",
       "      <th>Low</th>\n",
       "      <th>Open</th>\n",
       "      <th>Volume</th>\n",
       "      <th>market_cap</th>\n",
       "      <th>daily_returns_overall</th>\n",
       "      <th>trend</th>\n",
       "    </tr>\n",
       "  </thead>\n",
       "  <tbody>\n",
       "    <tr>\n",
       "      <th>0</th>\n",
       "      <td>A</td>\n",
       "      <td>0.012882004991434453</td>\n",
       "      <td>0.013254845230627393</td>\n",
       "      <td>0.013653268750849858</td>\n",
       "      <td>0.013421005298096228</td>\n",
       "      <td>0.013640903769314936</td>\n",
       "      <td>0.0015707562341234157</td>\n",
       "      <td>0.015991523783555908</td>\n",
       "      <td>NaN</td>\n",
       "      <td>increase</td>\n",
       "    </tr>\n",
       "    <tr>\n",
       "      <th>1</th>\n",
       "      <td>A</td>\n",
       "      <td>0.01296843808143546</td>\n",
       "      <td>0.013343781196977428</td>\n",
       "      <td>0.013349045625641015</td>\n",
       "      <td>0.013368321002642616</td>\n",
       "      <td>0.013231040189443925</td>\n",
       "      <td>0.001009756236311403</td>\n",
       "      <td>0.015991523783555908</td>\n",
       "      <td>0.670969481744943</td>\n",
       "      <td>increase</td>\n",
       "    </tr>\n",
       "    <tr>\n",
       "      <th>2</th>\n",
       "      <td>A</td>\n",
       "      <td>0.013152725315099714</td>\n",
       "      <td>0.013533400645472224</td>\n",
       "      <td>0.013546289274422306</td>\n",
       "      <td>0.013618147411052852</td>\n",
       "      <td>0.013448518927851287</td>\n",
       "      <td>0.00156244188158174</td>\n",
       "      <td>0.015991523783555908</td>\n",
       "      <td>1.4210323572882544</td>\n",
       "      <td>decrease</td>\n",
       "    </tr>\n",
       "    <tr>\n",
       "      <th>3</th>\n",
       "      <td>A</td>\n",
       "      <td>0.012883636021853205</td>\n",
       "      <td>0.013256523630061448</td>\n",
       "      <td>0.013501156550597459</td>\n",
       "      <td>0.013407408932617626</td>\n",
       "      <td>0.01346692103385477</td>\n",
       "      <td>0.0015820243698048972</td>\n",
       "      <td>0.015991523783555908</td>\n",
       "      <td>-2.0458791006339405</td>\n",
       "      <td>increase</td>\n",
       "    </tr>\n",
       "    <tr>\n",
       "      <th>4</th>\n",
       "      <td>A</td>\n",
       "      <td>0.012997795348729359</td>\n",
       "      <td>0.013373985985572125</td>\n",
       "      <td>0.01333734478525975</td>\n",
       "      <td>0.01337681775860116</td>\n",
       "      <td>0.013281227983331352</td>\n",
       "      <td>0.0017674563113593748</td>\n",
       "      <td>0.015991523783555908</td>\n",
       "      <td>0.8860720863825167</td>\n",
       "      <td>increase</td>\n",
       "    </tr>\n",
       "    <tr>\n",
       "      <th>...</th>\n",
       "      <td>...</td>\n",
       "      <td>...</td>\n",
       "      <td>...</td>\n",
       "      <td>...</td>\n",
       "      <td>...</td>\n",
       "      <td>...</td>\n",
       "      <td>...</td>\n",
       "      <td>...</td>\n",
       "      <td>...</td>\n",
       "      <td>...</td>\n",
       "    </tr>\n",
       "    <tr>\n",
       "      <th>504278</th>\n",
       "      <td>GEHC</td>\n",
       "      <td>0.01285715034108149</td>\n",
       "      <td>0.01285715034108149</td>\n",
       "      <td>0.01294620003839355</td>\n",
       "      <td>0.012873763905479872</td>\n",
       "      <td>0.01270741999257483</td>\n",
       "      <td>0.0017773022551587276</td>\n",
       "      <td>0.013759165355650653</td>\n",
       "      <td>-0.18238585950006714</td>\n",
       "      <td>decrease</td>\n",
       "    </tr>\n",
       "    <tr>\n",
       "      <th>504279</th>\n",
       "      <td>GEHC</td>\n",
       "      <td>0.012726262070342035</td>\n",
       "      <td>0.012726262070342035</td>\n",
       "      <td>0.01296124470476715</td>\n",
       "      <td>0.012819379740186241</td>\n",
       "      <td>0.012857982097908496</td>\n",
       "      <td>0.006346804772438359</td>\n",
       "      <td>0.013759165355650653</td>\n",
       "      <td>-1.0180192909562402</td>\n",
       "      <td>decrease</td>\n",
       "    </tr>\n",
       "    <tr>\n",
       "      <th>504280</th>\n",
       "      <td>GEHC</td>\n",
       "      <td>0.012618867550948371</td>\n",
       "      <td>0.012618867550948371</td>\n",
       "      <td>0.012672064970635954</td>\n",
       "      <td>0.012663025427044646</td>\n",
       "      <td>0.012628793044437883</td>\n",
       "      <td>0.0018752146962745136</td>\n",
       "      <td>0.013759165355650653</td>\n",
       "      <td>-0.8438810925003759</td>\n",
       "      <td>increase</td>\n",
       "    </tr>\n",
       "    <tr>\n",
       "      <th>504281</th>\n",
       "      <td>GEHC</td>\n",
       "      <td>0.012840368907228259</td>\n",
       "      <td>0.012840368907228259</td>\n",
       "      <td>0.012817490794199636</td>\n",
       "      <td>0.012831276235824822</td>\n",
       "      <td>0.012655560208198809</td>\n",
       "      <td>0.0015329040501836815</td>\n",
       "      <td>0.013759165355650653</td>\n",
       "      <td>1.7553188143514697</td>\n",
       "      <td>increase</td>\n",
       "    </tr>\n",
       "    <tr>\n",
       "      <th>504282</th>\n",
       "      <td>GEHC</td>\n",
       "      <td>0.012862184259139998</td>\n",
       "      <td>0.012862184259139998</td>\n",
       "      <td>0.012850921402347263</td>\n",
       "      <td>0.012979133793007873</td>\n",
       "      <td>0.012655560208198809</td>\n",
       "      <td>4.504300489452806e-05</td>\n",
       "      <td>0.013759165355650653</td>\n",
       "      <td>0.16989661332438288</td>\n",
       "      <td>decrease</td>\n",
       "    </tr>\n",
       "  </tbody>\n",
       "</table>\n",
       "<p>504283 rows × 10 columns</p>\n",
       "</div>\n",
       "      <button class=\"colab-df-convert\" onclick=\"convertToInteractive('df-85542612-afeb-4816-b196-345c6ce6ef1c')\"\n",
       "              title=\"Convert this dataframe to an interactive table.\"\n",
       "              style=\"display:none;\">\n",
       "        \n",
       "  <svg xmlns=\"http://www.w3.org/2000/svg\" height=\"24px\"viewBox=\"0 0 24 24\"\n",
       "       width=\"24px\">\n",
       "    <path d=\"M0 0h24v24H0V0z\" fill=\"none\"/>\n",
       "    <path d=\"M18.56 5.44l.94 2.06.94-2.06 2.06-.94-2.06-.94-.94-2.06-.94 2.06-2.06.94zm-11 1L8.5 8.5l.94-2.06 2.06-.94-2.06-.94L8.5 2.5l-.94 2.06-2.06.94zm10 10l.94 2.06.94-2.06 2.06-.94-2.06-.94-.94-2.06-.94 2.06-2.06.94z\"/><path d=\"M17.41 7.96l-1.37-1.37c-.4-.4-.92-.59-1.43-.59-.52 0-1.04.2-1.43.59L10.3 9.45l-7.72 7.72c-.78.78-.78 2.05 0 2.83L4 21.41c.39.39.9.59 1.41.59.51 0 1.02-.2 1.41-.59l7.78-7.78 2.81-2.81c.8-.78.8-2.07 0-2.86zM5.41 20L4 18.59l7.72-7.72 1.47 1.35L5.41 20z\"/>\n",
       "  </svg>\n",
       "      </button>\n",
       "      \n",
       "  <style>\n",
       "    .colab-df-container {\n",
       "      display:flex;\n",
       "      flex-wrap:wrap;\n",
       "      gap: 12px;\n",
       "    }\n",
       "\n",
       "    .colab-df-convert {\n",
       "      background-color: #E8F0FE;\n",
       "      border: none;\n",
       "      border-radius: 50%;\n",
       "      cursor: pointer;\n",
       "      display: none;\n",
       "      fill: #1967D2;\n",
       "      height: 32px;\n",
       "      padding: 0 0 0 0;\n",
       "      width: 32px;\n",
       "    }\n",
       "\n",
       "    .colab-df-convert:hover {\n",
       "      background-color: #E2EBFA;\n",
       "      box-shadow: 0px 1px 2px rgba(60, 64, 67, 0.3), 0px 1px 3px 1px rgba(60, 64, 67, 0.15);\n",
       "      fill: #174EA6;\n",
       "    }\n",
       "\n",
       "    [theme=dark] .colab-df-convert {\n",
       "      background-color: #3B4455;\n",
       "      fill: #D2E3FC;\n",
       "    }\n",
       "\n",
       "    [theme=dark] .colab-df-convert:hover {\n",
       "      background-color: #434B5C;\n",
       "      box-shadow: 0px 1px 3px 1px rgba(0, 0, 0, 0.15);\n",
       "      filter: drop-shadow(0px 1px 2px rgba(0, 0, 0, 0.3));\n",
       "      fill: #FFFFFF;\n",
       "    }\n",
       "  </style>\n",
       "\n",
       "      <script>\n",
       "        const buttonEl =\n",
       "          document.querySelector('#df-85542612-afeb-4816-b196-345c6ce6ef1c button.colab-df-convert');\n",
       "        buttonEl.style.display =\n",
       "          google.colab.kernel.accessAllowed ? 'block' : 'none';\n",
       "\n",
       "        async function convertToInteractive(key) {\n",
       "          const element = document.querySelector('#df-85542612-afeb-4816-b196-345c6ce6ef1c');\n",
       "          const dataTable =\n",
       "            await google.colab.kernel.invokeFunction('convertToInteractive',\n",
       "                                                     [key], {});\n",
       "          if (!dataTable) return;\n",
       "\n",
       "          const docLinkHtml = 'Like what you see? Visit the ' +\n",
       "            '<a target=\"_blank\" href=https://colab.research.google.com/notebooks/data_table.ipynb>data table notebook</a>'\n",
       "            + ' to learn more about interactive tables.';\n",
       "          element.innerHTML = '';\n",
       "          dataTable['output_type'] = 'display_data';\n",
       "          await google.colab.output.renderOutput(dataTable, element);\n",
       "          const docLink = document.createElement('div');\n",
       "          docLink.innerHTML = docLinkHtml;\n",
       "          element.appendChild(docLink);\n",
       "        }\n",
       "      </script>\n",
       "    </div>\n",
       "  </div>\n",
       "  "
      ],
      "text/plain": [
       "       ticker            Adj Close                Close                 High  \\\n",
       "0           A 0.012882004991434453 0.013254845230627393 0.013653268750849858   \n",
       "1           A  0.01296843808143546 0.013343781196977428 0.013349045625641015   \n",
       "2           A 0.013152725315099714 0.013533400645472224 0.013546289274422306   \n",
       "3           A 0.012883636021853205 0.013256523630061448 0.013501156550597459   \n",
       "4           A 0.012997795348729359 0.013373985985572125  0.01333734478525975   \n",
       "...       ...                  ...                  ...                  ...   \n",
       "504278   GEHC  0.01285715034108149  0.01285715034108149  0.01294620003839355   \n",
       "504279   GEHC 0.012726262070342035 0.012726262070342035  0.01296124470476715   \n",
       "504280   GEHC 0.012618867550948371 0.012618867550948371 0.012672064970635954   \n",
       "504281   GEHC 0.012840368907228259 0.012840368907228259 0.012817490794199636   \n",
       "504282   GEHC 0.012862184259139998 0.012862184259139998 0.012850921402347263   \n",
       "\n",
       "                        Low                 Open                Volume  \\\n",
       "0      0.013421005298096228 0.013640903769314936 0.0015707562341234157   \n",
       "1      0.013368321002642616 0.013231040189443925  0.001009756236311403   \n",
       "2      0.013618147411052852 0.013448518927851287   0.00156244188158174   \n",
       "3      0.013407408932617626  0.01346692103385477 0.0015820243698048972   \n",
       "4       0.01337681775860116 0.013281227983331352 0.0017674563113593748   \n",
       "...                     ...                  ...                   ...   \n",
       "504278 0.012873763905479872  0.01270741999257483 0.0017773022551587276   \n",
       "504279 0.012819379740186241 0.012857982097908496  0.006346804772438359   \n",
       "504280 0.012663025427044646 0.012628793044437883 0.0018752146962745136   \n",
       "504281 0.012831276235824822 0.012655560208198809 0.0015329040501836815   \n",
       "504282 0.012979133793007873 0.012655560208198809 4.504300489452806e-05   \n",
       "\n",
       "                 market_cap  daily_returns_overall     trend  \n",
       "0      0.015991523783555908                    NaN  increase  \n",
       "1      0.015991523783555908      0.670969481744943  increase  \n",
       "2      0.015991523783555908     1.4210323572882544  decrease  \n",
       "3      0.015991523783555908    -2.0458791006339405  increase  \n",
       "4      0.015991523783555908     0.8860720863825167  increase  \n",
       "...                     ...                    ...       ...  \n",
       "504278 0.013759165355650653   -0.18238585950006714  decrease  \n",
       "504279 0.013759165355650653    -1.0180192909562402  decrease  \n",
       "504280 0.013759165355650653    -0.8438810925003759  increase  \n",
       "504281 0.013759165355650653     1.7553188143514697  increase  \n",
       "504282 0.013759165355650653    0.16989661332438288  decrease  \n",
       "\n",
       "[504283 rows x 10 columns]"
      ]
     },
     "execution_count": 22,
     "metadata": {},
     "output_type": "execute_result"
    }
   ],
   "source": [
    "scaled_df,overall_vol = get_volatility(merged_df.reset_index().iloc[:,1:],'overall',True)\n",
    "scaled_df"
   ]
  },
  {
   "cell_type": "code",
   "execution_count": null,
   "metadata": {
    "id": "sEOrk0w2VEfh"
   },
   "outputs": [],
   "source": [
    "scaled_2019,vol_2019 = get_volatility(df_2019.reset_index().iloc[:,1:],'2019')"
   ]
  },
  {
   "cell_type": "code",
   "execution_count": null,
   "metadata": {
    "id": "zFjWXZbQVEfh"
   },
   "outputs": [],
   "source": [
    "scaled_2020, vol_2020 = get_volatility(df_2020.reset_index().iloc[:,1:],'2020')"
   ]
  },
  {
   "cell_type": "code",
   "execution_count": null,
   "metadata": {
    "id": "fSBxzb72VEfh"
   },
   "outputs": [],
   "source": [
    "scaled_2021, vol_2021 = get_volatility(df_2021.reset_index().iloc[:,1:],'2021')"
   ]
  },
  {
   "cell_type": "code",
   "execution_count": null,
   "metadata": {
    "id": "nMqhLq6UVEfh"
   },
   "outputs": [],
   "source": [
    "scaled_2022,vol_2022 = get_volatility(df_2022.reset_index().iloc[:,1:],'2022')"
   ]
  },
  {
   "cell_type": "code",
   "execution_count": null,
   "metadata": {
    "id": "pONReZbPVEfh"
   },
   "outputs": [],
   "source": [
    "scaled_2023,vol_2023 = get_volatility(df_2023.reset_index().iloc[:,1:],'2023')"
   ]
  },
  {
   "cell_type": "markdown",
   "metadata": {
    "id": "h8rR6ZT1VEfh"
   },
   "source": [
    "## Correlation"
   ]
  },
  {
   "cell_type": "markdown",
   "metadata": {
    "id": "C3H-yeUVVEfj"
   },
   "source": [
    "### Clustering"
   ]
  },
  {
   "cell_type": "code",
   "execution_count": null,
   "metadata": {
    "colab": {
     "base_uri": "https://localhost:8080/"
    },
    "id": "r8LiPSTOWaRT",
    "outputId": "bebb5a00-aa68-428b-96ec-22ae9d9de8db"
   },
   "outputs": [
    {
     "name": "stdout",
     "output_type": "stream",
     "text": [
      "Looking in indexes: https://pypi.org/simple, https://us-python.pkg.dev/colab-wheels/public/simple/\n",
      "Collecting kneed\n",
      "  Downloading kneed-0.8.2-py3-none-any.whl (10 kB)\n",
      "Requirement already satisfied: scipy>=1.0.0 in /usr/local/lib/python3.9/dist-packages (from kneed) (1.10.1)\n",
      "Requirement already satisfied: numpy>=1.14.2 in /usr/local/lib/python3.9/dist-packages (from kneed) (1.22.4)\n",
      "Installing collected packages: kneed\n",
      "Successfully installed kneed-0.8.2\n"
     ]
    }
   ],
   "source": [
    "pip install kneed"
   ]
  },
  {
   "cell_type": "code",
   "execution_count": null,
   "metadata": {
    "id": "EJK3NWPrVEfj"
   },
   "outputs": [],
   "source": [
    "from sklearn.cluster import KMeans\n",
    "from kneed import DataGenerator, KneeLocator\n",
    "\n",
    "def find_k_means(X,time,n_cluster = 20):\n",
    "    Sum_of_squared_distances = []\n",
    "    K = range(1,50)\n",
    "    for k in K:\n",
    "        km = KMeans(n_clusters=k)\n",
    "        km = km.fit(X.iloc[:,1:])\n",
    "        Sum_of_squared_distances.append(km.inertia_)\n",
    "\n",
    "    kneedle = KneeLocator(K,Sum_of_squared_distances , curve=\"convex\", direction=\"decreasing\")\n",
    "    kneedle.plot_knee()\n",
    "\n",
    "    plt.plot(K, Sum_of_squared_distances, 'bx-')\n",
    "    plt.xlabel('k')\n",
    "    plt.ylabel('Sum_of_squared_distances')\n",
    "    plt.title('Elbow Method For Optimal k')\n",
    "    #kneedle.plot_knee_normalized()\n",
    "    #plt.vlines(kneedle.knee, plt.ylim()[0], plt.ylim()[1], linestyles='dashed')\n",
    "\n",
    "\n",
    "    plt.show()\n",
    "    k_best = kneedle.knee\n",
    "\n",
    "\n",
    "    print(\"Optimum Number of Clusters:\", k_best)\n",
    "    \n",
    "    kmeans = KMeans(n_clusters = k_best).fit(X.iloc[:,1:])\n",
    "    lbl = kmeans.labels_\n",
    "    X= pd.concat([X,pd.DataFrame({f'labels_{time}':lbl})],axis=1)\n",
    "    \n",
    "    print(X[f'labels_{time}'].value_counts())\n",
    "\n",
    "    return k_best,X\n"
   ]
  },
  {
   "cell_type": "code",
   "execution_count": null,
   "metadata": {
    "colab": {
     "base_uri": "https://localhost:8080/",
     "height": 526
    },
    "id": "ngtOq4e3VEfk",
    "outputId": "69f9e1a0-ff40-4e85-a6fa-970f2838591e"
   },
   "outputs": [
    {
     "data": {
      "image/png": "[encoded data removed]",
      "text/plain": [
       "<Figure size 432x432 with 1 Axes>"
      ]
     },
     "metadata": {
      "needs_background": "light"
     },
     "output_type": "display_data"
    },
    {
     "name": "stdout",
     "output_type": "stream",
     "text": [
      "Optimum Number of Clusters: 5\n",
      "0    420\n",
      "4     65\n",
      "3     13\n",
      "2      3\n",
      "1      2\n",
      "Name: labels_overall, dtype: int64\n"
     ]
    }
   ],
   "source": [
    "overall_vol_X = ['ticker','annual_volatility_overall','returns_overall','market_overall']\n",
    "k_all,overall_vol_lbl = find_k_means(overall_vol[overall_vol_X],'overall')\n"
   ]
  },
  {
   "cell_type": "code",
   "execution_count": null,
   "metadata": {
    "colab": {
     "base_uri": "https://localhost:8080/",
     "height": 526
    },
    "id": "cOw13clvVEfk",
    "outputId": "2331a658-6d1b-4a17-b72a-33b97af8c81a"
   },
   "outputs": [
    {
     "data": {
      "image/png": "[encoded data removed]",
      "text/plain": [
       "<Figure size 432x432 with 1 Axes>"
      ]
     },
     "metadata": {
      "needs_background": "light"
     },
     "output_type": "display_data"
    },
    {
     "name": "stdout",
     "output_type": "stream",
     "text": [
      "Optimum Number of Clusters: 5\n",
      "0    415\n",
      "4     65\n",
      "3     13\n",
      "2      3\n",
      "1      2\n",
      "Name: labels_2019, dtype: int64\n"
     ]
    }
   ],
   "source": [
    "X_vol_2019 = ['ticker','annual_volatility_2019','returns_2019','market_2019']\n",
    "k_19,vol_lbl_19 = find_k_means(vol_2019[X_vol_2019],'2019')\n"
   ]
  },
  {
   "cell_type": "code",
   "execution_count": null,
   "metadata": {
    "colab": {
     "base_uri": "https://localhost:8080/",
     "height": 424
    },
    "id": "vn3t7mQeVEfk",
    "outputId": "3c18c046-b397-4b86-d6e6-5cdac04678b8"
   },
   "outputs": [
    {
     "data": {
      "text/html": [
       "\n",
       "  <div id=\"df-8f722df2-12e9-4036-bb8b-3ae27327eb6d\">\n",
       "    <div class=\"colab-df-container\">\n",
       "      <div>\n",
       "<style scoped>\n",
       "    .dataframe tbody tr th:only-of-type {\n",
       "        vertical-align: middle;\n",
       "    }\n",
       "\n",
       "    .dataframe tbody tr th {\n",
       "        vertical-align: top;\n",
       "    }\n",
       "\n",
       "    .dataframe thead th {\n",
       "        text-align: right;\n",
       "    }\n",
       "</style>\n",
       "<table border=\"1\" class=\"dataframe\">\n",
       "  <thead>\n",
       "    <tr style=\"text-align: right;\">\n",
       "      <th></th>\n",
       "      <th>ticker</th>\n",
       "      <th>daily_volatility_2019</th>\n",
       "      <th>annual_volatility_2019</th>\n",
       "      <th>returns_2019</th>\n",
       "      <th>market_2019</th>\n",
       "    </tr>\n",
       "  </thead>\n",
       "  <tbody>\n",
       "    <tr>\n",
       "      <th>0</th>\n",
       "      <td>A</td>\n",
       "      <td>1.583202488064052</td>\n",
       "      <td>25.132560350857126</td>\n",
       "      <td>0.08001012616463199</td>\n",
       "      <td>40412114944</td>\n",
       "    </tr>\n",
       "    <tr>\n",
       "      <th>1</th>\n",
       "      <td>AAL</td>\n",
       "      <td>2.152568120345618</td>\n",
       "      <td>34.17095955936156</td>\n",
       "      <td>-0.061825299591626526</td>\n",
       "      <td>9364320256</td>\n",
       "    </tr>\n",
       "    <tr>\n",
       "      <th>2</th>\n",
       "      <td>AAP</td>\n",
       "      <td>1.5817941341158481</td>\n",
       "      <td>25.110203425027706</td>\n",
       "      <td>-0.028391123390879902</td>\n",
       "      <td>7032243712</td>\n",
       "    </tr>\n",
       "    <tr>\n",
       "      <th>3</th>\n",
       "      <td>AAPL</td>\n",
       "      <td>1.4851675794997432</td>\n",
       "      <td>23.576304423672422</td>\n",
       "      <td>0.5370321340268753</td>\n",
       "      <td>2527095947264</td>\n",
       "    </tr>\n",
       "    <tr>\n",
       "      <th>4</th>\n",
       "      <td>ABBV</td>\n",
       "      <td>1.7103415846802654</td>\n",
       "      <td>27.15083094021661</td>\n",
       "      <td>0.11008022246915927</td>\n",
       "      <td>276822622208</td>\n",
       "    </tr>\n",
       "    <tr>\n",
       "      <th>...</th>\n",
       "      <td>...</td>\n",
       "      <td>...</td>\n",
       "      <td>...</td>\n",
       "      <td>...</td>\n",
       "      <td>...</td>\n",
       "    </tr>\n",
       "    <tr>\n",
       "      <th>493</th>\n",
       "      <td>YUM</td>\n",
       "      <td>1.0077671698175459</td>\n",
       "      <td>15.997807864755744</td>\n",
       "      <td>0.017783187981433413</td>\n",
       "      <td>35993878528</td>\n",
       "    </tr>\n",
       "    <tr>\n",
       "      <th>494</th>\n",
       "      <td>ZBH</td>\n",
       "      <td>1.3523843971566396</td>\n",
       "      <td>21.46843675104285</td>\n",
       "      <td>0.18155987286564024</td>\n",
       "      <td>26826223616</td>\n",
       "    </tr>\n",
       "    <tr>\n",
       "      <th>495</th>\n",
       "      <td>ZBRA</td>\n",
       "      <td>2.4993429300514243</td>\n",
       "      <td>39.67583900390143</td>\n",
       "      <td>0.23258056200848776</td>\n",
       "      <td>14942832640</td>\n",
       "    </tr>\n",
       "    <tr>\n",
       "      <th>496</th>\n",
       "      <td>ZION</td>\n",
       "      <td>1.6247714384326566</td>\n",
       "      <td>25.792446980481014</td>\n",
       "      <td>0.18973416349911587</td>\n",
       "      <td>4759740928</td>\n",
       "    </tr>\n",
       "    <tr>\n",
       "      <th>497</th>\n",
       "      <td>ZTS</td>\n",
       "      <td>1.2623444850027432</td>\n",
       "      <td>20.03909745726698</td>\n",
       "      <td>0.35147560186947824</td>\n",
       "      <td>76632629248</td>\n",
       "    </tr>\n",
       "  </tbody>\n",
       "</table>\n",
       "<p>498 rows × 5 columns</p>\n",
       "</div>\n",
       "      <button class=\"colab-df-convert\" onclick=\"convertToInteractive('df-8f722df2-12e9-4036-bb8b-3ae27327eb6d')\"\n",
       "              title=\"Convert this dataframe to an interactive table.\"\n",
       "              style=\"display:none;\">\n",
       "        \n",
       "  <svg xmlns=\"http://www.w3.org/2000/svg\" height=\"24px\"viewBox=\"0 0 24 24\"\n",
       "       width=\"24px\">\n",
       "    <path d=\"M0 0h24v24H0V0z\" fill=\"none\"/>\n",
       "    <path d=\"M18.56 5.44l.94 2.06.94-2.06 2.06-.94-2.06-.94-.94-2.06-.94 2.06-2.06.94zm-11 1L8.5 8.5l.94-2.06 2.06-.94-2.06-.94L8.5 2.5l-.94 2.06-2.06.94zm10 10l.94 2.06.94-2.06 2.06-.94-2.06-.94-.94-2.06-.94 2.06-2.06.94z\"/><path d=\"M17.41 7.96l-1.37-1.37c-.4-.4-.92-.59-1.43-.59-.52 0-1.04.2-1.43.59L10.3 9.45l-7.72 7.72c-.78.78-.78 2.05 0 2.83L4 21.41c.39.39.9.59 1.41.59.51 0 1.02-.2 1.41-.59l7.78-7.78 2.81-2.81c.8-.78.8-2.07 0-2.86zM5.41 20L4 18.59l7.72-7.72 1.47 1.35L5.41 20z\"/>\n",
       "  </svg>\n",
       "      </button>\n",
       "      \n",
       "  <style>\n",
       "    .colab-df-container {\n",
       "      display:flex;\n",
       "      flex-wrap:wrap;\n",
       "      gap: 12px;\n",
       "    }\n",
       "\n",
       "    .colab-df-convert {\n",
       "      background-color: #E8F0FE;\n",
       "      border: none;\n",
       "      border-radius: 50%;\n",
       "      cursor: pointer;\n",
       "      display: none;\n",
       "      fill: #1967D2;\n",
       "      height: 32px;\n",
       "      padding: 0 0 0 0;\n",
       "      width: 32px;\n",
       "    }\n",
       "\n",
       "    .colab-df-convert:hover {\n",
       "      background-color: #E2EBFA;\n",
       "      box-shadow: 0px 1px 2px rgba(60, 64, 67, 0.3), 0px 1px 3px 1px rgba(60, 64, 67, 0.15);\n",
       "      fill: #174EA6;\n",
       "    }\n",
       "\n",
       "    [theme=dark] .colab-df-convert {\n",
       "      background-color: #3B4455;\n",
       "      fill: #D2E3FC;\n",
       "    }\n",
       "\n",
       "    [theme=dark] .colab-df-convert:hover {\n",
       "      background-color: #434B5C;\n",
       "      box-shadow: 0px 1px 3px 1px rgba(0, 0, 0, 0.15);\n",
       "      filter: drop-shadow(0px 1px 2px rgba(0, 0, 0, 0.3));\n",
       "      fill: #FFFFFF;\n",
       "    }\n",
       "  </style>\n",
       "\n",
       "      <script>\n",
       "        const buttonEl =\n",
       "          document.querySelector('#df-8f722df2-12e9-4036-bb8b-3ae27327eb6d button.colab-df-convert');\n",
       "        buttonEl.style.display =\n",
       "          google.colab.kernel.accessAllowed ? 'block' : 'none';\n",
       "\n",
       "        async function convertToInteractive(key) {\n",
       "          const element = document.querySelector('#df-8f722df2-12e9-4036-bb8b-3ae27327eb6d');\n",
       "          const dataTable =\n",
       "            await google.colab.kernel.invokeFunction('convertToInteractive',\n",
       "                                                     [key], {});\n",
       "          if (!dataTable) return;\n",
       "\n",
       "          const docLinkHtml = 'Like what you see? Visit the ' +\n",
       "            '<a target=\"_blank\" href=https://colab.research.google.com/notebooks/data_table.ipynb>data table notebook</a>'\n",
       "            + ' to learn more about interactive tables.';\n",
       "          element.innerHTML = '';\n",
       "          dataTable['output_type'] = 'display_data';\n",
       "          await google.colab.output.renderOutput(dataTable, element);\n",
       "          const docLink = document.createElement('div');\n",
       "          docLink.innerHTML = docLinkHtml;\n",
       "          element.appendChild(docLink);\n",
       "        }\n",
       "      </script>\n",
       "    </div>\n",
       "  </div>\n",
       "  "
      ],
      "text/plain": [
       "    ticker  daily_volatility_2019  annual_volatility_2019  \\\n",
       "0        A      1.583202488064052      25.132560350857126   \n",
       "1      AAL      2.152568120345618       34.17095955936156   \n",
       "2      AAP     1.5817941341158481      25.110203425027706   \n",
       "3     AAPL     1.4851675794997432      23.576304423672422   \n",
       "4     ABBV     1.7103415846802654       27.15083094021661   \n",
       "..     ...                    ...                     ...   \n",
       "493    YUM     1.0077671698175459      15.997807864755744   \n",
       "494    ZBH     1.3523843971566396       21.46843675104285   \n",
       "495   ZBRA     2.4993429300514243       39.67583900390143   \n",
       "496   ZION     1.6247714384326566      25.792446980481014   \n",
       "497    ZTS     1.2623444850027432       20.03909745726698   \n",
       "\n",
       "             returns_2019    market_2019  \n",
       "0     0.08001012616463199    40412114944  \n",
       "1   -0.061825299591626526     9364320256  \n",
       "2   -0.028391123390879902     7032243712  \n",
       "3      0.5370321340268753  2527095947264  \n",
       "4     0.11008022246915927   276822622208  \n",
       "..                    ...            ...  \n",
       "493  0.017783187981433413    35993878528  \n",
       "494   0.18155987286564024    26826223616  \n",
       "495   0.23258056200848776    14942832640  \n",
       "496   0.18973416349911587     4759740928  \n",
       "497   0.35147560186947824    76632629248  \n",
       "\n",
       "[498 rows x 5 columns]"
      ]
     },
     "execution_count": 32,
     "metadata": {},
     "output_type": "execute_result"
    }
   ],
   "source": [
    "vol_2019"
   ]
  },
  {
   "cell_type": "code",
   "execution_count": null,
   "metadata": {
    "colab": {
     "base_uri": "https://localhost:8080/",
     "height": 526
    },
    "id": "wOm-B9qSVEfk",
    "outputId": "4c2ec0c4-058d-4013-8f6b-e2c6078b2ef7"
   },
   "outputs": [
    {
     "data": {
      "image/png": "[encoded data removed]",
      "text/plain": [
       "<Figure size 432x432 with 1 Axes>"
      ]
     },
     "metadata": {
      "needs_background": "light"
     },
     "output_type": "display_data"
    },
    {
     "name": "stdout",
     "output_type": "stream",
     "text": [
      "Optimum Number of Clusters: 5\n",
      "2    417\n",
      "0     65\n",
      "4     13\n",
      "3      3\n",
      "1      2\n",
      "Name: labels_2020, dtype: int64\n"
     ]
    }
   ],
   "source": [
    "X_vol_2020 = ['ticker','annual_volatility_2020','returns_2020','market_2020']\n",
    "k_20,vol_lbl_20 = find_k_means(vol_2020[X_vol_2020],'2020')\n"
   ]
  },
  {
   "cell_type": "code",
   "execution_count": null,
   "metadata": {
    "colab": {
     "base_uri": "https://localhost:8080/",
     "height": 526
    },
    "id": "dXPnHOCaVEfl",
    "outputId": "a953ab01-198b-4673-9ce8-5328e65f8e99"
   },
   "outputs": [
    {
     "data": {
      "image/png": "[encoded data removed]",
      "text/plain": [
       "<Figure size 432x432 with 1 Axes>"
      ]
     },
     "metadata": {
      "needs_background": "light"
     },
     "output_type": "display_data"
    },
    {
     "name": "stdout",
     "output_type": "stream",
     "text": [
      "Optimum Number of Clusters: 5\n",
      "0    418\n",
      "4     65\n",
      "2     13\n",
      "3      3\n",
      "1      2\n",
      "Name: labels_2021, dtype: int64\n"
     ]
    }
   ],
   "source": [
    "X_vol_2021 = ['ticker','annual_volatility_2021','returns_2021','market_2021']\n",
    "k_21,vol_lbl_21 = find_k_means(vol_2021[X_vol_2021],'2021')\n"
   ]
  },
  {
   "cell_type": "code",
   "execution_count": null,
   "metadata": {
    "colab": {
     "base_uri": "https://localhost:8080/",
     "height": 526
    },
    "id": "pChYA2MFVEfl",
    "outputId": "12fe5975-0371-4544-c1ad-9bbf69f5608b"
   },
   "outputs": [
    {
     "data": {
      "image/png": "[encoded data removed]",
      "text/plain": [
       "<Figure size 432x432 with 1 Axes>"
      ]
     },
     "metadata": {
      "needs_background": "light"
     },
     "output_type": "display_data"
    },
    {
     "name": "stdout",
     "output_type": "stream",
     "text": [
      "Optimum Number of Clusters: 5\n",
      "0    420\n",
      "3     65\n",
      "2     13\n",
      "1      3\n",
      "4      2\n",
      "Name: labels_2022, dtype: int64\n"
     ]
    }
   ],
   "source": [
    "X_vol_2022 = ['ticker','annual_volatility_2022','returns_2022','market_2022']\n",
    "k_22,vol_lbl_22 = find_k_means(vol_2022[X_vol_2022],'2022')\n"
   ]
  },
  {
   "cell_type": "code",
   "execution_count": null,
   "metadata": {
    "colab": {
     "base_uri": "https://localhost:8080/",
     "height": 526
    },
    "id": "xOZuWDB_VEfl",
    "outputId": "3effcfdc-0601-452c-dc5e-c6af81f2c0b7"
   },
   "outputs": [
    {
     "data": {
      "image/png": "[encoded data removed]",
      "text/plain": [
       "<Figure size 432x432 with 1 Axes>"
      ]
     },
     "metadata": {
      "needs_background": "light"
     },
     "output_type": "display_data"
    },
    {
     "name": "stdout",
     "output_type": "stream",
     "text": [
      "Optimum Number of Clusters: 5\n",
      "0    420\n",
      "4     65\n",
      "2     13\n",
      "3      3\n",
      "1      2\n",
      "Name: labels_2023, dtype: int64\n"
     ]
    }
   ],
   "source": [
    "X_vol_2023 = ['ticker','annual_volatility_2023','returns_2023','market_2023']\n",
    "k_23,vol_lbl_23 = find_k_means(vol_2023[X_vol_2023],'2023')\n"
   ]
  },
  {
   "cell_type": "code",
   "execution_count": null,
   "metadata": {
    "id": "tRYx4SnxVEfl"
   },
   "outputs": [],
   "source": [
    "lbl_19 = vol_lbl_19['labels_2019']\n",
    "lbl_20 = vol_lbl_20['labels_2020']\n",
    "lbl_21 = vol_lbl_21['labels_2021']\n",
    "lbl_22 = vol_lbl_22['labels_2022'] \n",
    "lbl_23 = vol_lbl_23['labels_2023']\n",
    "\n",
    "label_df = pd.concat([vol_2023.ticker, lbl_19, lbl_20, lbl_21, lbl_22, lbl_23 ],axis = 1)\n",
    "label_df2 = label_df.dropna()\n"
   ]
  },
  {
   "cell_type": "code",
   "execution_count": null,
   "metadata": {
    "id": "WUxrWnRJVEfl"
   },
   "outputs": [],
   "source": [
    "#label_df.dropna()"
   ]
  },
  {
   "cell_type": "code",
   "execution_count": null,
   "metadata": {
    "colab": {
     "base_uri": "https://localhost:8080/",
     "height": 560
    },
    "id": "tBwwaXQKVEfm",
    "outputId": "f52c9b27-0d00-4521-bfba-0030934ed102"
   },
   "outputs": [
    {
     "data": {
      "image/png": "[encoded data removed]",
      "text/plain": [
       "<Figure size 432x432 with 1 Axes>"
      ]
     },
     "metadata": {
      "needs_background": "light"
     },
     "output_type": "display_data"
    },
    {
     "name": "stdout",
     "output_type": "stream",
     "text": [
      "Optimum Number of Clusters: 7\n",
      "1    321\n",
      "2     56\n",
      "0     52\n",
      "5     36\n",
      "4     17\n",
      "3      9\n",
      "6      7\n",
      "Name: labels_all, dtype: int64\n"
     ]
    }
   ],
   "source": [
    "k_all,lbl_all = find_k_means(label_df2,'all',70)\n"
   ]
  },
  {
   "cell_type": "code",
   "execution_count": null,
   "metadata": {
    "colab": {
     "base_uri": "https://localhost:8080/",
     "height": 424
    },
    "id": "r44y_Qe2VEfm",
    "outputId": "def7a595-9915-4a61-ef58-bf4357734a7a"
   },
   "outputs": [
    {
     "data": {
      "text/html": [
       "\n",
       "  <div id=\"df-b91addf0-15b4-4717-b37f-d95ef4b972d8\">\n",
       "    <div class=\"colab-df-container\">\n",
       "      <div>\n",
       "<style scoped>\n",
       "    .dataframe tbody tr th:only-of-type {\n",
       "        vertical-align: middle;\n",
       "    }\n",
       "\n",
       "    .dataframe tbody tr th {\n",
       "        vertical-align: top;\n",
       "    }\n",
       "\n",
       "    .dataframe thead th {\n",
       "        text-align: right;\n",
       "    }\n",
       "</style>\n",
       "<table border=\"1\" class=\"dataframe\">\n",
       "  <thead>\n",
       "    <tr style=\"text-align: right;\">\n",
       "      <th></th>\n",
       "      <th>ticker</th>\n",
       "      <th>labels_2019</th>\n",
       "      <th>labels_2020</th>\n",
       "      <th>labels_2021</th>\n",
       "      <th>labels_2022</th>\n",
       "      <th>labels_2023</th>\n",
       "      <th>labels_all</th>\n",
       "    </tr>\n",
       "  </thead>\n",
       "  <tbody>\n",
       "    <tr>\n",
       "      <th>0</th>\n",
       "      <td>A</td>\n",
       "      <td>0.0</td>\n",
       "      <td>2.0</td>\n",
       "      <td>0.0</td>\n",
       "      <td>0</td>\n",
       "      <td>0</td>\n",
       "      <td>1</td>\n",
       "    </tr>\n",
       "    <tr>\n",
       "      <th>1</th>\n",
       "      <td>AAL</td>\n",
       "      <td>0.0</td>\n",
       "      <td>2.0</td>\n",
       "      <td>0.0</td>\n",
       "      <td>0</td>\n",
       "      <td>0</td>\n",
       "      <td>1</td>\n",
       "    </tr>\n",
       "    <tr>\n",
       "      <th>2</th>\n",
       "      <td>AAP</td>\n",
       "      <td>0.0</td>\n",
       "      <td>2.0</td>\n",
       "      <td>0.0</td>\n",
       "      <td>0</td>\n",
       "      <td>0</td>\n",
       "      <td>1</td>\n",
       "    </tr>\n",
       "    <tr>\n",
       "      <th>3</th>\n",
       "      <td>AAPL</td>\n",
       "      <td>1.0</td>\n",
       "      <td>1.0</td>\n",
       "      <td>1.0</td>\n",
       "      <td>4</td>\n",
       "      <td>1</td>\n",
       "      <td>2</td>\n",
       "    </tr>\n",
       "    <tr>\n",
       "      <th>4</th>\n",
       "      <td>ABBV</td>\n",
       "      <td>4.0</td>\n",
       "      <td>0.0</td>\n",
       "      <td>4.0</td>\n",
       "      <td>3</td>\n",
       "      <td>4</td>\n",
       "      <td>4</td>\n",
       "    </tr>\n",
       "    <tr>\n",
       "      <th>...</th>\n",
       "      <td>...</td>\n",
       "      <td>...</td>\n",
       "      <td>...</td>\n",
       "      <td>...</td>\n",
       "      <td>...</td>\n",
       "      <td>...</td>\n",
       "      <td>...</td>\n",
       "    </tr>\n",
       "    <tr>\n",
       "      <th>493</th>\n",
       "      <td>WYNN</td>\n",
       "      <td>0.0</td>\n",
       "      <td>2.0</td>\n",
       "      <td>2.0</td>\n",
       "      <td>0</td>\n",
       "      <td>0</td>\n",
       "      <td>1</td>\n",
       "    </tr>\n",
       "    <tr>\n",
       "      <th>494</th>\n",
       "      <td>XEL</td>\n",
       "      <td>0.0</td>\n",
       "      <td>2.0</td>\n",
       "      <td>0.0</td>\n",
       "      <td>0</td>\n",
       "      <td>0</td>\n",
       "      <td>1</td>\n",
       "    </tr>\n",
       "    <tr>\n",
       "      <th>495</th>\n",
       "      <td>XOM</td>\n",
       "      <td>0.0</td>\n",
       "      <td>2.0</td>\n",
       "      <td>0.0</td>\n",
       "      <td>2</td>\n",
       "      <td>2</td>\n",
       "      <td>2</td>\n",
       "    </tr>\n",
       "    <tr>\n",
       "      <th>496</th>\n",
       "      <td>XRAY</td>\n",
       "      <td>0.0</td>\n",
       "      <td>2.0</td>\n",
       "      <td>0.0</td>\n",
       "      <td>0</td>\n",
       "      <td>0</td>\n",
       "      <td>1</td>\n",
       "    </tr>\n",
       "    <tr>\n",
       "      <th>497</th>\n",
       "      <td>XYL</td>\n",
       "      <td>0.0</td>\n",
       "      <td>2.0</td>\n",
       "      <td>0.0</td>\n",
       "      <td>0</td>\n",
       "      <td>0</td>\n",
       "      <td>1</td>\n",
       "    </tr>\n",
       "  </tbody>\n",
       "</table>\n",
       "<p>498 rows × 7 columns</p>\n",
       "</div>\n",
       "      <button class=\"colab-df-convert\" onclick=\"convertToInteractive('df-b91addf0-15b4-4717-b37f-d95ef4b972d8')\"\n",
       "              title=\"Convert this dataframe to an interactive table.\"\n",
       "              style=\"display:none;\">\n",
       "        \n",
       "  <svg xmlns=\"http://www.w3.org/2000/svg\" height=\"24px\"viewBox=\"0 0 24 24\"\n",
       "       width=\"24px\">\n",
       "    <path d=\"M0 0h24v24H0V0z\" fill=\"none\"/>\n",
       "    <path d=\"M18.56 5.44l.94 2.06.94-2.06 2.06-.94-2.06-.94-.94-2.06-.94 2.06-2.06.94zm-11 1L8.5 8.5l.94-2.06 2.06-.94-2.06-.94L8.5 2.5l-.94 2.06-2.06.94zm10 10l.94 2.06.94-2.06 2.06-.94-2.06-.94-.94-2.06-.94 2.06-2.06.94z\"/><path d=\"M17.41 7.96l-1.37-1.37c-.4-.4-.92-.59-1.43-.59-.52 0-1.04.2-1.43.59L10.3 9.45l-7.72 7.72c-.78.78-.78 2.05 0 2.83L4 21.41c.39.39.9.59 1.41.59.51 0 1.02-.2 1.41-.59l7.78-7.78 2.81-2.81c.8-.78.8-2.07 0-2.86zM5.41 20L4 18.59l7.72-7.72 1.47 1.35L5.41 20z\"/>\n",
       "  </svg>\n",
       "      </button>\n",
       "      \n",
       "  <style>\n",
       "    .colab-df-container {\n",
       "      display:flex;\n",
       "      flex-wrap:wrap;\n",
       "      gap: 12px;\n",
       "    }\n",
       "\n",
       "    .colab-df-convert {\n",
       "      background-color: #E8F0FE;\n",
       "      border: none;\n",
       "      border-radius: 50%;\n",
       "      cursor: pointer;\n",
       "      display: none;\n",
       "      fill: #1967D2;\n",
       "      height: 32px;\n",
       "      padding: 0 0 0 0;\n",
       "      width: 32px;\n",
       "    }\n",
       "\n",
       "    .colab-df-convert:hover {\n",
       "      background-color: #E2EBFA;\n",
       "      box-shadow: 0px 1px 2px rgba(60, 64, 67, 0.3), 0px 1px 3px 1px rgba(60, 64, 67, 0.15);\n",
       "      fill: #174EA6;\n",
       "    }\n",
       "\n",
       "    [theme=dark] .colab-df-convert {\n",
       "      background-color: #3B4455;\n",
       "      fill: #D2E3FC;\n",
       "    }\n",
       "\n",
       "    [theme=dark] .colab-df-convert:hover {\n",
       "      background-color: #434B5C;\n",
       "      box-shadow: 0px 1px 3px 1px rgba(0, 0, 0, 0.15);\n",
       "      filter: drop-shadow(0px 1px 2px rgba(0, 0, 0, 0.3));\n",
       "      fill: #FFFFFF;\n",
       "    }\n",
       "  </style>\n",
       "\n",
       "      <script>\n",
       "        const buttonEl =\n",
       "          document.querySelector('#df-b91addf0-15b4-4717-b37f-d95ef4b972d8 button.colab-df-convert');\n",
       "        buttonEl.style.display =\n",
       "          google.colab.kernel.accessAllowed ? 'block' : 'none';\n",
       "\n",
       "        async function convertToInteractive(key) {\n",
       "          const element = document.querySelector('#df-b91addf0-15b4-4717-b37f-d95ef4b972d8');\n",
       "          const dataTable =\n",
       "            await google.colab.kernel.invokeFunction('convertToInteractive',\n",
       "                                                     [key], {});\n",
       "          if (!dataTable) return;\n",
       "\n",
       "          const docLinkHtml = 'Like what you see? Visit the ' +\n",
       "            '<a target=\"_blank\" href=https://colab.research.google.com/notebooks/data_table.ipynb>data table notebook</a>'\n",
       "            + ' to learn more about interactive tables.';\n",
       "          element.innerHTML = '';\n",
       "          dataTable['output_type'] = 'display_data';\n",
       "          await google.colab.output.renderOutput(dataTable, element);\n",
       "          const docLink = document.createElement('div');\n",
       "          docLink.innerHTML = docLinkHtml;\n",
       "          element.appendChild(docLink);\n",
       "        }\n",
       "      </script>\n",
       "    </div>\n",
       "  </div>\n",
       "  "
      ],
      "text/plain": [
       "    ticker  labels_2019  labels_2020  labels_2021  labels_2022  labels_2023  \\\n",
       "0        A          0.0          2.0          0.0            0            0   \n",
       "1      AAL          0.0          2.0          0.0            0            0   \n",
       "2      AAP          0.0          2.0          0.0            0            0   \n",
       "3     AAPL          1.0          1.0          1.0            4            1   \n",
       "4     ABBV          4.0          0.0          4.0            3            4   \n",
       "..     ...          ...          ...          ...          ...          ...   \n",
       "493   WYNN          0.0          2.0          2.0            0            0   \n",
       "494    XEL          0.0          2.0          0.0            0            0   \n",
       "495    XOM          0.0          2.0          0.0            2            2   \n",
       "496   XRAY          0.0          2.0          0.0            0            0   \n",
       "497    XYL          0.0          2.0          0.0            0            0   \n",
       "\n",
       "     labels_all  \n",
       "0             1  \n",
       "1             1  \n",
       "2             1  \n",
       "3             2  \n",
       "4             4  \n",
       "..          ...  \n",
       "493           1  \n",
       "494           1  \n",
       "495           2  \n",
       "496           1  \n",
       "497           1  \n",
       "\n",
       "[498 rows x 7 columns]"
      ]
     },
     "execution_count": 40,
     "metadata": {},
     "output_type": "execute_result"
    }
   ],
   "source": [
    "lbl_all"
   ]
  },
  {
   "cell_type": "code",
   "execution_count": null,
   "metadata": {
    "colab": {
     "base_uri": "https://localhost:8080/"
    },
    "id": "SH9OVOmLVEfm",
    "outputId": "dda296f3-a14d-44e1-87ec-4f3719120167"
   },
   "outputs": [
    {
     "data": {
      "text/plain": [
       "[    ticker  labels_2019  labels_2020  labels_2021  labels_2022  labels_2023  \\\n",
       " 70   BRK-B          3.0          4.0          2.0            2            2   \n",
       " 78    CARR          4.0          2.0          0.0            0            0   \n",
       " 98     CLX          4.0          2.0          0.0            0            0   \n",
       " 107    COF          4.0          2.0          0.0            0            0   \n",
       " 113    CPT          4.0          2.0          0.0            0            0   \n",
       " 122   CTSH          4.0          2.0          0.0            0            0   \n",
       " 128    DAL          4.0          2.0          0.0            0            0   \n",
       " 133    DGX          4.0          2.0          0.0            0            0   \n",
       " 155    EIX          4.0          2.0          0.0            0            0   \n",
       " 197    FTV          4.0          2.0          0.0            0            0   \n",
       " 205    GLW          2.0          2.0          0.0            0            0   \n",
       " 210    GPC          4.0          2.0          0.0            0            0   \n",
       " 216    HAS          4.0          2.0          0.0            0            0   \n",
       " 222    HII          4.0          2.0          0.0            0            0   \n",
       " 231    HSY          4.0          2.0          0.0            0            0   \n",
       " 238    IFF          4.0          2.0          0.0            0            0   \n",
       " 254   JBHT          3.0          2.0          0.0            0            0   \n",
       " 256   JKHY          3.0          2.0          0.0            0            0   \n",
       " 267    KMB          4.0          2.0          0.0            0            0   \n",
       " 274    LEN          4.0          2.0          0.0            0            0   \n",
       " 276    LHX          3.0          2.0          0.0            0            0   \n",
       " 287     LW          3.0          2.0          0.0            0            0   \n",
       " 291    MAA          4.0          2.0          0.0            0            0   \n",
       " 296    MCK          4.0          2.0          0.0            0            0   \n",
       " 298   MDLZ          3.0          2.0          0.0            0            0   \n",
       " 312    MOS          4.0          2.0          0.0            0            0   \n",
       " 326   NCLH          4.0          2.0          0.0            0            0   \n",
       " 328   NDSN          4.0          2.0          0.0            0            0   \n",
       " 330    NEM          4.0          2.0          0.0            0            0   \n",
       " 338   NTAP          3.0          2.0          0.0            0            0   \n",
       " 349    OGN          4.0          2.0          0.0            0            0   \n",
       " 359   PAYX          4.0          2.0          0.0            0            0   \n",
       " 360   PCAR          4.0          2.0          0.0            0            0   \n",
       " 368    PGR          4.0          2.0          0.0            0            0   \n",
       " 369     PH          4.0          2.0          0.0            0            0   \n",
       " 384    PSX          4.0          2.0          0.0            0            0   \n",
       " 400    ROK          4.0          2.0          0.0            0            0   \n",
       " 402    ROP          4.0          0.0          0.0            0            0   \n",
       " 413    SLB          4.0          2.0          0.0            0            0   \n",
       " 423    STX          4.0          2.0          0.0            0            0   \n",
       " 425    SWK          4.0          0.0          0.0            0            0   \n",
       " 436    TER          4.0          2.0          0.0            0            0   \n",
       " 437    TFC          4.0          2.0          0.0            0            0   \n",
       " 444   TRGP          3.0          2.0          0.0            0            0   \n",
       " 448   TSCO          4.0          2.0          0.0            0            0   \n",
       " 455    TYL          3.0          2.0          0.0            0            0   \n",
       " 456    UAL          4.0          2.0          0.0            0            0   \n",
       " 457    UDR          4.0          4.0          0.0            0            0   \n",
       " 470   VRSK          4.0          2.0          0.0            0            0   \n",
       " 478    WBA          4.0          2.0          0.0            0            0   \n",
       " 482   WELL          3.0          2.0          0.0            0            0   \n",
       " 490    WST          3.0          2.0          0.0            0            0   \n",
       " \n",
       "      labels_all  \n",
       " 70            0  \n",
       " 78            0  \n",
       " 98            0  \n",
       " 107           0  \n",
       " 113           0  \n",
       " 122           0  \n",
       " 128           0  \n",
       " 133           0  \n",
       " 155           0  \n",
       " 197           0  \n",
       " 205           0  \n",
       " 210           0  \n",
       " 216           0  \n",
       " 222           0  \n",
       " 231           0  \n",
       " 238           0  \n",
       " 254           0  \n",
       " 256           0  \n",
       " 267           0  \n",
       " 274           0  \n",
       " 276           0  \n",
       " 287           0  \n",
       " 291           0  \n",
       " 296           0  \n",
       " 298           0  \n",
       " 312           0  \n",
       " 326           0  \n",
       " 328           0  \n",
       " 330           0  \n",
       " 338           0  \n",
       " 349           0  \n",
       " 359           0  \n",
       " 360           0  \n",
       " 368           0  \n",
       " 369           0  \n",
       " 384           0  \n",
       " 400           0  \n",
       " 402           0  \n",
       " 413           0  \n",
       " 423           0  \n",
       " 425           0  \n",
       " 436           0  \n",
       " 437           0  \n",
       " 444           0  \n",
       " 448           0  \n",
       " 455           0  \n",
       " 456           0  \n",
       " 457           0  \n",
       " 470           0  \n",
       " 478           0  \n",
       " 482           0  \n",
       " 490           0  ,\n",
       "     ticker  labels_2019  labels_2020  labels_2021  labels_2022  labels_2023  \\\n",
       " 0        A          0.0          2.0          0.0            0            0   \n",
       " 1      AAL          0.0          2.0          0.0            0            0   \n",
       " 2      AAP          0.0          2.0          0.0            0            0   \n",
       " 5      ABC          0.0          2.0          0.0            0            0   \n",
       " 7     ACGL          0.0          2.0          0.0            0            0   \n",
       " ..     ...          ...          ...          ...          ...          ...   \n",
       " 492     WY          0.0          4.0          0.0            0            0   \n",
       " 493   WYNN          0.0          2.0          2.0            0            0   \n",
       " 494    XEL          0.0          2.0          0.0            0            0   \n",
       " 496   XRAY          0.0          2.0          0.0            0            0   \n",
       " 497    XYL          0.0          2.0          0.0            0            0   \n",
       " \n",
       "      labels_all  \n",
       " 0             1  \n",
       " 1             1  \n",
       " 2             1  \n",
       " 5             1  \n",
       " 7             1  \n",
       " ..          ...  \n",
       " 492           1  \n",
       " 493           1  \n",
       " 494           1  \n",
       " 496           1  \n",
       " 497           1  \n",
       " \n",
       " [321 rows x 7 columns],\n",
       "     ticker  labels_2019  labels_2020  labels_2021  labels_2022  labels_2023  \\\n",
       " 3     AAPL          1.0          1.0          1.0            4            1   \n",
       " 34    AMZN          2.0          3.0          3.0            1            3   \n",
       " 100  CMCSA          0.0          2.0          0.0            3            4   \n",
       " 110   COST          0.0          2.0          0.0            3            4   \n",
       " 116   CSCO          0.0          2.0          0.0            3            4   \n",
       " 125    CVX          0.0          2.0          0.0            3            4   \n",
       " 130     DE          0.0          2.0          0.0            3            4   \n",
       " 136    DIS          0.0          2.0          0.0            3            4   \n",
       " 157    ELV          0.0          2.0          0.0            3            4   \n",
       " 199     GE          4.0          2.0          0.0            3            4   \n",
       " 202   GILD          0.0          2.0          0.0            3            4   \n",
       " 208   GOOG          0.0          2.0          0.0            1            3   \n",
       " 209  GOOGL          0.0          2.0          0.0            1            3   \n",
       " 213     GS          0.0          2.0          0.0            3            4   \n",
       " 219     HD          0.0          2.0          0.0            3            4   \n",
       " 225    HON          0.0          2.0          0.0            3            4   \n",
       " 234    IBM          0.0          2.0          0.0            3            4   \n",
       " 241   INTC          0.0          2.0          0.0            3            4   \n",
       " 242   INTU          0.0          2.0          0.0            3            4   \n",
       " 257    JNJ          0.0          4.0          2.0            2            2   \n",
       " 259    JPM          0.0          2.0          0.0            2            2   \n",
       " 270     KO          0.0          2.0          0.0            3            4   \n",
       " 279    LLY          0.0          2.0          0.0            2            2   \n",
       " 280    LMT          4.0          2.0          0.0            3            4   \n",
       " 283    LOW          0.0          2.0          0.0            3            4   \n",
       " 290     MA          0.0          2.0          0.0            2            2   \n",
       " 294    MCD          0.0          2.0          0.0            3            4   \n",
       " 299    MDT          0.0          4.0          2.0            3            4   \n",
       " 301   META          0.0          2.0          0.0            2            2   \n",
       " 315    MRK          4.0          2.0          0.0            3            4   \n",
       " 318     MS          0.0          1.0          1.0            3            4   \n",
       " 320   MSFT          0.0          2.0          0.0            4            1   \n",
       " 333    NKE          0.0          2.0          0.0            3            4   \n",
       " 341   NVDA          0.0          2.0          0.0            2            2   \n",
       " 353   ORCL          0.0          2.0          0.0            3            4   \n",
       " 364    PEP          0.0          4.0          0.0            3            4   \n",
       " 365    PFE          0.0          2.0          2.0            3            4   \n",
       " 367     PG          0.0          2.0          0.0            2            2   \n",
       " 373    PLD          0.0          2.0          0.0            3            4   \n",
       " 374     PM          0.0          2.0          0.0            3            4   \n",
       " 389   QCOM          0.0          2.0          0.0            3            4   \n",
       " 407   SBUX          0.0          2.0          0.0            3            4   \n",
       " 408   SCHW          0.0          2.0          0.0            3            4   \n",
       " 418   SPGI          0.0          2.0          0.0            3            4   \n",
       " 430      T          0.0          2.0          0.0            3            4   \n",
       " 441    TMO          0.0          2.0          0.0            3            4   \n",
       " 442   TMUS          0.0          2.0          0.0            3            4   \n",
       " 449   TSLA          0.0          2.0          0.0            2            2   \n",
       " 453    TXN          0.0          2.0          0.0            3            4   \n",
       " 461    UNP          0.0          2.0          0.0            3            4   \n",
       " 462    UPS          0.0          4.0          0.0            3            4   \n",
       " 465      V          0.0          2.0          0.0            2            2   \n",
       " 475     VZ          0.0          2.0          0.0            3            4   \n",
       " 483    WFC          0.0          2.0          0.0            3            4   \n",
       " 487    WMT          0.0          2.0          0.0            2            2   \n",
       " 495    XOM          0.0          2.0          0.0            2            2   \n",
       " \n",
       "      labels_all  \n",
       " 3             2  \n",
       " 34            2  \n",
       " 100           2  \n",
       " 110           2  \n",
       " 116           2  \n",
       " 125           2  \n",
       " 130           2  \n",
       " 136           2  \n",
       " 157           2  \n",
       " 199           2  \n",
       " 202           2  \n",
       " 208           2  \n",
       " 209           2  \n",
       " 213           2  \n",
       " 219           2  \n",
       " 225           2  \n",
       " 234           2  \n",
       " 241           2  \n",
       " 242           2  \n",
       " 257           2  \n",
       " 259           2  \n",
       " 270           2  \n",
       " 279           2  \n",
       " 280           2  \n",
       " 283           2  \n",
       " 290           2  \n",
       " 294           2  \n",
       " 299           2  \n",
       " 301           2  \n",
       " 315           2  \n",
       " 318           2  \n",
       " 320           2  \n",
       " 333           2  \n",
       " 341           2  \n",
       " 353           2  \n",
       " 364           2  \n",
       " 365           2  \n",
       " 367           2  \n",
       " 373           2  \n",
       " 374           2  \n",
       " 389           2  \n",
       " 407           2  \n",
       " 408           2  \n",
       " 418           2  \n",
       " 430           2  \n",
       " 441           2  \n",
       " 442           2  \n",
       " 449           2  \n",
       " 453           2  \n",
       " 461           2  \n",
       " 462           2  \n",
       " 465           2  \n",
       " 475           2  \n",
       " 483           2  \n",
       " 487           2  \n",
       " 495           2  ,\n",
       "     ticker  labels_2019  labels_2020  labels_2021  labels_2022  labels_2023  \\\n",
       " 79     CAT          0.0          0.0          4.0            3            4   \n",
       " 109    COP          0.0          0.0          4.0            3            4   \n",
       " 115    CRM          0.0          0.0          4.0            3            4   \n",
       " 124    CVS          0.0          0.0          4.0            3            4   \n",
       " 135    DHR          0.0          0.0          4.0            3            4   \n",
       " 329    NEE          0.0          0.0          4.0            3            4   \n",
       " 331   NFLX          0.0          0.0          4.0            3            4   \n",
       " 405    RTX          0.0          0.0          4.0            3            4   \n",
       " 428    SYK          0.0          2.0          4.0            3            4   \n",
       " \n",
       "      labels_all  \n",
       " 79            3  \n",
       " 109           3  \n",
       " 115           3  \n",
       " 124           3  \n",
       " 135           3  \n",
       " 329           3  \n",
       " 331           3  \n",
       " 405           3  \n",
       " 428           3  ,\n",
       "     ticker  labels_2019  labels_2020  labels_2021  labels_2022  labels_2023  \\\n",
       " 4     ABBV          4.0          0.0          4.0            3            4   \n",
       " 6      ABT          4.0          0.0          4.0            3            4   \n",
       " 8      ACN          4.0          0.0          4.0            3            4   \n",
       " 9     ADBE          4.0          0.0          4.0            3            4   \n",
       " 10     ADI          4.0          0.0          4.0            3            4   \n",
       " 27    AMAT          4.0          0.0          4.0            3            4   \n",
       " 29     AMD          4.0          0.0          4.0            3            4   \n",
       " 31    AMGN          4.0          0.0          4.0            3            4   \n",
       " 47    AVGO          4.0          0.0          4.0            3            4   \n",
       " 50     AXP          4.0          0.0          4.0            3            4   \n",
       " 52      BA          4.0          0.0          4.0            3            4   \n",
       " 53     BAC          4.0          0.0          4.0            3            4   \n",
       " 65    BKNG          4.0          0.0          4.0            3            4   \n",
       " 67     BLK          4.0          0.0          4.0            3            4   \n",
       " 68     BMY          4.0          0.0          4.0            3            4   \n",
       " 277    LIN          4.0          4.0          2.0            3            4   \n",
       " 460    UNH          3.0          2.0          4.0            2            2   \n",
       " \n",
       "      labels_all  \n",
       " 4             4  \n",
       " 6             4  \n",
       " 8             4  \n",
       " 9             4  \n",
       " 10            4  \n",
       " 27            4  \n",
       " 29            4  \n",
       " 31            4  \n",
       " 47            4  \n",
       " 50            4  \n",
       " 52            4  \n",
       " 53            4  \n",
       " 65            4  \n",
       " 67            4  \n",
       " 68            4  \n",
       " 277           4  \n",
       " 460           4  ,\n",
       "     ticker  labels_2019  labels_2020  labels_2021  labels_2022  labels_2023  \\\n",
       " 99     CMA          0.0          0.0          4.0            0            0   \n",
       " 129     DD          0.0          0.0          4.0            0            0   \n",
       " 156     EL          0.0          0.0          4.0            0            0   \n",
       " 198     GD          0.0          0.0          4.0            0            0   \n",
       " 200   GEHC          0.0          0.0          4.0            0            0   \n",
       " 206     GM          2.0          3.0          3.0            0            0   \n",
       " 207   GNRC          0.0          3.0          3.0            0            0   \n",
       " 211    GPN          0.0          0.0          4.0            0            0   \n",
       " 217   HBAN          0.0          0.0          4.0            0            0   \n",
       " 223    HLT          0.0          0.0          4.0            0            0   \n",
       " 232    HUM          0.0          0.0          4.0            0            0   \n",
       " 240   INCY          0.0          0.0          4.0            0            0   \n",
       " 268    KMI          0.0          0.0          4.0            0            0   \n",
       " 275     LH          0.0          0.0          4.0            0            0   \n",
       " 278    LKQ          0.0          0.0          4.0            0            0   \n",
       " 281    LNC          0.0          0.0          4.0            0            0   \n",
       " 292    MAR          0.0          0.0          4.0            0            0   \n",
       " 297    MCO          0.0          0.0          4.0            0            0   \n",
       " 313    MPC          0.0          0.0          4.0            0            0   \n",
       " 316   MRNA          0.0          0.0          4.0            0            0   \n",
       " 327   NDAQ          0.0          0.0          4.0            0            0   \n",
       " 351    OMC          0.0          2.0          4.0            0            0   \n",
       " 363    PEG          0.0          2.0          4.0            0            0   \n",
       " 371    PKG          0.0          0.0          4.0            0            0   \n",
       " 372    PKI          0.0          2.0          4.0            0            0   \n",
       " 387    PXD          0.0          2.0          4.0            0            0   \n",
       " 406   SBAC          0.0          2.0          4.0            0            0   \n",
       " 416     SO          0.0          2.0          4.0            0            0   \n",
       " 426   SWKS          0.0          2.0          4.0            0            0   \n",
       " 439    TGT          0.0          0.0          4.0            0            0   \n",
       " 440    TJX          0.0          2.0          4.0            0            0   \n",
       " 451     TT          0.0          2.0          4.0            0            0   \n",
       " 458    UHS          0.0          0.0          2.0            0            0   \n",
       " 459   ULTA          0.0          0.0          4.0            0            0   \n",
       " 473    VTR          0.0          2.0          4.0            0            0   \n",
       " 481    WEC          0.0          2.0          4.0            0            0   \n",
       " \n",
       "      labels_all  \n",
       " 99            5  \n",
       " 129           5  \n",
       " 156           5  \n",
       " 198           5  \n",
       " 200           5  \n",
       " 206           5  \n",
       " 207           5  \n",
       " 211           5  \n",
       " 217           5  \n",
       " 223           5  \n",
       " 232           5  \n",
       " 240           5  \n",
       " 268           5  \n",
       " 275           5  \n",
       " 278           5  \n",
       " 281           5  \n",
       " 292           5  \n",
       " 297           5  \n",
       " 313           5  \n",
       " 316           5  \n",
       " 327           5  \n",
       " 351           5  \n",
       " 363           5  \n",
       " 371           5  \n",
       " 372           5  \n",
       " 387           5  \n",
       " 406           5  \n",
       " 416           5  \n",
       " 426           5  \n",
       " 439           5  \n",
       " 440           5  \n",
       " 451           5  \n",
       " 458           5  \n",
       " 459           5  \n",
       " 473           5  \n",
       " 481           5  ,\n",
       "     ticker  labels_2019  labels_2020  labels_2021  labels_2022  labels_2023  \\\n",
       " 108    COO          4.0          0.0          4.0            0            0   \n",
       " 114    CRL          4.0          0.0          4.0            0            0   \n",
       " 123   CTVA          4.0          0.0          4.0            0            0   \n",
       " 134    DHI          4.0          0.0          4.0            0            0   \n",
       " 239   ILMN          4.0          0.0          4.0            0            0   \n",
       " 362   PEAK          3.0          0.0          4.0            0            0   \n",
       " 403   ROST          4.0          2.0          4.0            0            0   \n",
       " \n",
       "      labels_all  \n",
       " 108           6  \n",
       " 114           6  \n",
       " 123           6  \n",
       " 134           6  \n",
       " 239           6  \n",
       " 362           6  \n",
       " 403           6  ]"
      ]
     },
     "execution_count": 41,
     "metadata": {},
     "output_type": "execute_result"
    }
   ],
   "source": [
    "bucket = [v for k, v in lbl_all.groupby('labels_all')]\n",
    "bucket"
   ]
  },
  {
   "cell_type": "code",
   "execution_count": null,
   "metadata": {
    "id": "psr9mGyXVEfm"
   },
   "outputs": [],
   "source": []
  },
  {
   "cell_type": "markdown",
   "metadata": {
    "id": "Nu535AavVEfm"
   },
   "source": [
    "### Select stocks from each bucket"
   ]
  },
  {
   "cell_type": "code",
   "execution_count": null,
   "metadata": {
    "id": "lvPA9JUSVEfm"
   },
   "outputs": [],
   "source": [
    "selected = []\n",
    "for b in bucket:\n",
    "    b_df = overall_vol.merge(b,on='ticker')\n",
    "    s = b_df.sort_values(by=[\"returns_overall\",\"market_overall\"],ascending=False).iloc[0,0]\n",
    "    selected.append(s)\n",
    "    "
   ]
  },
  {
   "cell_type": "code",
   "execution_count": null,
   "metadata": {
    "id": "WMN15Z7CVEfn"
   },
   "outputs": [],
   "source": []
  },
  {
   "cell_type": "code",
   "execution_count": null,
   "metadata": {
    "id": "wATyuUbjVEfn"
   },
   "outputs": [],
   "source": []
  },
  {
   "cell_type": "code",
   "execution_count": null,
   "metadata": {
    "id": "lGAoaFUUVEfn"
   },
   "outputs": [],
   "source": []
  },
  {
   "cell_type": "code",
   "execution_count": null,
   "metadata": {
    "colab": {
     "base_uri": "https://localhost:8080/",
     "height": 894
    },
    "id": "eL9vWU_rVEfn",
    "outputId": "a612a0bf-52eb-48a9-9a83-b24a7c24ce1a",
    "scrolled": true
   },
   "outputs": [
    {
     "data": {
      "text/html": [
       "\n",
       "  <div id=\"df-3cd610d6-7d39-413f-b5af-72abd839ee22\">\n",
       "    <div class=\"colab-df-container\">\n",
       "      <div>\n",
       "<style scoped>\n",
       "    .dataframe tbody tr th:only-of-type {\n",
       "        vertical-align: middle;\n",
       "    }\n",
       "\n",
       "    .dataframe tbody tr th {\n",
       "        vertical-align: top;\n",
       "    }\n",
       "\n",
       "    .dataframe thead th {\n",
       "        text-align: right;\n",
       "    }\n",
       "</style>\n",
       "<table border=\"1\" class=\"dataframe\">\n",
       "  <thead>\n",
       "    <tr style=\"text-align: right;\">\n",
       "      <th></th>\n",
       "      <th>ticker</th>\n",
       "      <th>Adj Close</th>\n",
       "      <th>Close</th>\n",
       "      <th>High</th>\n",
       "      <th>Low</th>\n",
       "      <th>Open</th>\n",
       "      <th>Volume</th>\n",
       "      <th>market_cap</th>\n",
       "      <th>daily_returns_overall</th>\n",
       "      <th>trend</th>\n",
       "      <th>pred_price</th>\n",
       "    </tr>\n",
       "  </thead>\n",
       "  <tbody>\n",
       "    <tr>\n",
       "      <th>0</th>\n",
       "      <td>A</td>\n",
       "      <td>76.76811981201172</td>\n",
       "      <td>78.98999786376953</td>\n",
       "      <td>81.68000030517578</td>\n",
       "      <td>78.97000122070312</td>\n",
       "      <td>81.54000091552734</td>\n",
       "      <td>1,435,800.0</td>\n",
       "      <td>40412114944</td>\n",
       "      <td>NaN</td>\n",
       "      <td>increase</td>\n",
       "      <td>79.5199966430664</td>\n",
       "    </tr>\n",
       "    <tr>\n",
       "      <th>1</th>\n",
       "      <td>A</td>\n",
       "      <td>77.283203125</td>\n",
       "      <td>79.5199966430664</td>\n",
       "      <td>79.86000061035156</td>\n",
       "      <td>78.66000366210938</td>\n",
       "      <td>79.08999633789062</td>\n",
       "      <td>923,000.0</td>\n",
       "      <td>40412114944</td>\n",
       "      <td>0.670969481744943</td>\n",
       "      <td>increase</td>\n",
       "      <td>80.6500015258789</td>\n",
       "    </tr>\n",
       "    <tr>\n",
       "      <th>2</th>\n",
       "      <td>A</td>\n",
       "      <td>78.38143157958984</td>\n",
       "      <td>80.6500015258789</td>\n",
       "      <td>81.04000091552734</td>\n",
       "      <td>80.12999725341797</td>\n",
       "      <td>80.38999938964844</td>\n",
       "      <td>1,428,200.0</td>\n",
       "      <td>40412114944</td>\n",
       "      <td>1.4210323572882544</td>\n",
       "      <td>decrease</td>\n",
       "      <td>79.0</td>\n",
       "    </tr>\n",
       "    <tr>\n",
       "      <th>3</th>\n",
       "      <td>A</td>\n",
       "      <td>76.77783966064453</td>\n",
       "      <td>79.0</td>\n",
       "      <td>80.7699966430664</td>\n",
       "      <td>78.88999938964844</td>\n",
       "      <td>80.5</td>\n",
       "      <td>1,446,100.0</td>\n",
       "      <td>40412114944</td>\n",
       "      <td>-2.0458791006339405</td>\n",
       "      <td>increase</td>\n",
       "      <td>79.69999694824219</td>\n",
       "    </tr>\n",
       "    <tr>\n",
       "      <th>4</th>\n",
       "      <td>A</td>\n",
       "      <td>77.4581527709961</td>\n",
       "      <td>79.69999694824219</td>\n",
       "      <td>79.79000091552734</td>\n",
       "      <td>78.70999908447266</td>\n",
       "      <td>79.38999938964844</td>\n",
       "      <td>1,615,600.0</td>\n",
       "      <td>40412114944</td>\n",
       "      <td>0.8860720863825167</td>\n",
       "      <td>increase</td>\n",
       "      <td>80.37999725341797</td>\n",
       "    </tr>\n",
       "    <tr>\n",
       "      <th>...</th>\n",
       "      <td>...</td>\n",
       "      <td>...</td>\n",
       "      <td>...</td>\n",
       "      <td>...</td>\n",
       "      <td>...</td>\n",
       "      <td>...</td>\n",
       "      <td>...</td>\n",
       "      <td>...</td>\n",
       "      <td>...</td>\n",
       "      <td>...</td>\n",
       "      <td>...</td>\n",
       "    </tr>\n",
       "    <tr>\n",
       "      <th>504278</th>\n",
       "      <td>GEHC</td>\n",
       "      <td>76.62000274658203</td>\n",
       "      <td>76.62000274658203</td>\n",
       "      <td>77.44999694824219</td>\n",
       "      <td>75.75</td>\n",
       "      <td>75.95999908447266</td>\n",
       "      <td>1,624,600.0</td>\n",
       "      <td>34770731008</td>\n",
       "      <td>-0.18238585950006714</td>\n",
       "      <td>decrease</td>\n",
       "      <td>75.83999633789062</td>\n",
       "    </tr>\n",
       "    <tr>\n",
       "      <th>504279</th>\n",
       "      <td>GEHC</td>\n",
       "      <td>75.83999633789062</td>\n",
       "      <td>75.83999633789062</td>\n",
       "      <td>77.54000091552734</td>\n",
       "      <td>75.43000030517578</td>\n",
       "      <td>76.86000061035156</td>\n",
       "      <td>5,801,500.0</td>\n",
       "      <td>34770731008</td>\n",
       "      <td>-1.0180192909562402</td>\n",
       "      <td>decrease</td>\n",
       "      <td>75.19999694824219</td>\n",
       "    </tr>\n",
       "    <tr>\n",
       "      <th>504280</th>\n",
       "      <td>GEHC</td>\n",
       "      <td>75.19999694824219</td>\n",
       "      <td>75.19999694824219</td>\n",
       "      <td>75.80999755859375</td>\n",
       "      <td>74.51000213623047</td>\n",
       "      <td>75.48999786376953</td>\n",
       "      <td>1,714,100.0</td>\n",
       "      <td>34770731008</td>\n",
       "      <td>-0.8438810925003759</td>\n",
       "      <td>increase</td>\n",
       "      <td>76.5199966430664</td>\n",
       "    </tr>\n",
       "    <tr>\n",
       "      <th>504281</th>\n",
       "      <td>GEHC</td>\n",
       "      <td>76.5199966430664</td>\n",
       "      <td>76.5199966430664</td>\n",
       "      <td>76.68000030517578</td>\n",
       "      <td>75.5</td>\n",
       "      <td>75.6500015258789</td>\n",
       "      <td>1,401,200.0</td>\n",
       "      <td>34770731008</td>\n",
       "      <td>1.7553188143514697</td>\n",
       "      <td>increase</td>\n",
       "      <td>76.6500015258789</td>\n",
       "    </tr>\n",
       "    <tr>\n",
       "      <th>504282</th>\n",
       "      <td>GEHC</td>\n",
       "      <td>76.6500015258789</td>\n",
       "      <td>76.6500015258789</td>\n",
       "      <td>76.87999725341797</td>\n",
       "      <td>76.37000274658203</td>\n",
       "      <td>75.6500015258789</td>\n",
       "      <td>41,173.0</td>\n",
       "      <td>34770731008</td>\n",
       "      <td>0.16989661332438288</td>\n",
       "      <td>decrease</td>\n",
       "      <td>NaN</td>\n",
       "    </tr>\n",
       "  </tbody>\n",
       "</table>\n",
       "<p>504283 rows × 11 columns</p>\n",
       "</div>\n",
       "      <button class=\"colab-df-convert\" onclick=\"convertToInteractive('df-3cd610d6-7d39-413f-b5af-72abd839ee22')\"\n",
       "              title=\"Convert this dataframe to an interactive table.\"\n",
       "              style=\"display:none;\">\n",
       "        \n",
       "  <svg xmlns=\"http://www.w3.org/2000/svg\" height=\"24px\"viewBox=\"0 0 24 24\"\n",
       "       width=\"24px\">\n",
       "    <path d=\"M0 0h24v24H0V0z\" fill=\"none\"/>\n",
       "    <path d=\"M18.56 5.44l.94 2.06.94-2.06 2.06-.94-2.06-.94-.94-2.06-.94 2.06-2.06.94zm-11 1L8.5 8.5l.94-2.06 2.06-.94-2.06-.94L8.5 2.5l-.94 2.06-2.06.94zm10 10l.94 2.06.94-2.06 2.06-.94-2.06-.94-.94-2.06-.94 2.06-2.06.94z\"/><path d=\"M17.41 7.96l-1.37-1.37c-.4-.4-.92-.59-1.43-.59-.52 0-1.04.2-1.43.59L10.3 9.45l-7.72 7.72c-.78.78-.78 2.05 0 2.83L4 21.41c.39.39.9.59 1.41.59.51 0 1.02-.2 1.41-.59l7.78-7.78 2.81-2.81c.8-.78.8-2.07 0-2.86zM5.41 20L4 18.59l7.72-7.72 1.47 1.35L5.41 20z\"/>\n",
       "  </svg>\n",
       "      </button>\n",
       "      \n",
       "  <style>\n",
       "    .colab-df-container {\n",
       "      display:flex;\n",
       "      flex-wrap:wrap;\n",
       "      gap: 12px;\n",
       "    }\n",
       "\n",
       "    .colab-df-convert {\n",
       "      background-color: #E8F0FE;\n",
       "      border: none;\n",
       "      border-radius: 50%;\n",
       "      cursor: pointer;\n",
       "      display: none;\n",
       "      fill: #1967D2;\n",
       "      height: 32px;\n",
       "      padding: 0 0 0 0;\n",
       "      width: 32px;\n",
       "    }\n",
       "\n",
       "    .colab-df-convert:hover {\n",
       "      background-color: #E2EBFA;\n",
       "      box-shadow: 0px 1px 2px rgba(60, 64, 67, 0.3), 0px 1px 3px 1px rgba(60, 64, 67, 0.15);\n",
       "      fill: #174EA6;\n",
       "    }\n",
       "\n",
       "    [theme=dark] .colab-df-convert {\n",
       "      background-color: #3B4455;\n",
       "      fill: #D2E3FC;\n",
       "    }\n",
       "\n",
       "    [theme=dark] .colab-df-convert:hover {\n",
       "      background-color: #434B5C;\n",
       "      box-shadow: 0px 1px 3px 1px rgba(0, 0, 0, 0.15);\n",
       "      filter: drop-shadow(0px 1px 2px rgba(0, 0, 0, 0.3));\n",
       "      fill: #FFFFFF;\n",
       "    }\n",
       "  </style>\n",
       "\n",
       "      <script>\n",
       "        const buttonEl =\n",
       "          document.querySelector('#df-3cd610d6-7d39-413f-b5af-72abd839ee22 button.colab-df-convert');\n",
       "        buttonEl.style.display =\n",
       "          google.colab.kernel.accessAllowed ? 'block' : 'none';\n",
       "\n",
       "        async function convertToInteractive(key) {\n",
       "          const element = document.querySelector('#df-3cd610d6-7d39-413f-b5af-72abd839ee22');\n",
       "          const dataTable =\n",
       "            await google.colab.kernel.invokeFunction('convertToInteractive',\n",
       "                                                     [key], {});\n",
       "          if (!dataTable) return;\n",
       "\n",
       "          const docLinkHtml = 'Like what you see? Visit the ' +\n",
       "            '<a target=\"_blank\" href=https://colab.research.google.com/notebooks/data_table.ipynb>data table notebook</a>'\n",
       "            + ' to learn more about interactive tables.';\n",
       "          element.innerHTML = '';\n",
       "          dataTable['output_type'] = 'display_data';\n",
       "          await google.colab.output.renderOutput(dataTable, element);\n",
       "          const docLink = document.createElement('div');\n",
       "          docLink.innerHTML = docLinkHtml;\n",
       "          element.appendChild(docLink);\n",
       "        }\n",
       "      </script>\n",
       "    </div>\n",
       "  </div>\n",
       "  "
      ],
      "text/plain": [
       "       ticker         Adj Close             Close              High  \\\n",
       "0           A 76.76811981201172 78.98999786376953 81.68000030517578   \n",
       "1           A      77.283203125  79.5199966430664 79.86000061035156   \n",
       "2           A 78.38143157958984  80.6500015258789 81.04000091552734   \n",
       "3           A 76.77783966064453              79.0  80.7699966430664   \n",
       "4           A  77.4581527709961 79.69999694824219 79.79000091552734   \n",
       "...       ...               ...               ...               ...   \n",
       "504278   GEHC 76.62000274658203 76.62000274658203 77.44999694824219   \n",
       "504279   GEHC 75.83999633789062 75.83999633789062 77.54000091552734   \n",
       "504280   GEHC 75.19999694824219 75.19999694824219 75.80999755859375   \n",
       "504281   GEHC  76.5199966430664  76.5199966430664 76.68000030517578   \n",
       "504282   GEHC  76.6500015258789  76.6500015258789 76.87999725341797   \n",
       "\n",
       "                     Low              Open      Volume   market_cap  \\\n",
       "0      78.97000122070312 81.54000091552734 1,435,800.0  40412114944   \n",
       "1      78.66000366210938 79.08999633789062   923,000.0  40412114944   \n",
       "2      80.12999725341797 80.38999938964844 1,428,200.0  40412114944   \n",
       "3      78.88999938964844              80.5 1,446,100.0  40412114944   \n",
       "4      78.70999908447266 79.38999938964844 1,615,600.0  40412114944   \n",
       "...                  ...               ...         ...          ...   \n",
       "504278             75.75 75.95999908447266 1,624,600.0  34770731008   \n",
       "504279 75.43000030517578 76.86000061035156 5,801,500.0  34770731008   \n",
       "504280 74.51000213623047 75.48999786376953 1,714,100.0  34770731008   \n",
       "504281              75.5  75.6500015258789 1,401,200.0  34770731008   \n",
       "504282 76.37000274658203  75.6500015258789    41,173.0  34770731008   \n",
       "\n",
       "        daily_returns_overall     trend        pred_price  \n",
       "0                         NaN  increase  79.5199966430664  \n",
       "1           0.670969481744943  increase  80.6500015258789  \n",
       "2          1.4210323572882544  decrease              79.0  \n",
       "3         -2.0458791006339405  increase 79.69999694824219  \n",
       "4          0.8860720863825167  increase 80.37999725341797  \n",
       "...                       ...       ...               ...  \n",
       "504278   -0.18238585950006714  decrease 75.83999633789062  \n",
       "504279    -1.0180192909562402  decrease 75.19999694824219  \n",
       "504280    -0.8438810925003759  increase  76.5199966430664  \n",
       "504281     1.7553188143514697  increase  76.6500015258789  \n",
       "504282    0.16989661332438288  decrease               NaN  \n",
       "\n",
       "[504283 rows x 11 columns]"
      ]
     },
     "execution_count": 43,
     "metadata": {},
     "output_type": "execute_result"
    },
    {
     "data": {
      "text/html": [
       "\n",
       "  <div id=\"df-110784d7-b079-47b6-aa3a-c7e94e547216\">\n",
       "    <div class=\"colab-df-container\">\n",
       "      <div>\n",
       "<style scoped>\n",
       "    .dataframe tbody tr th:only-of-type {\n",
       "        vertical-align: middle;\n",
       "    }\n",
       "\n",
       "    .dataframe tbody tr th {\n",
       "        vertical-align: top;\n",
       "    }\n",
       "\n",
       "    .dataframe thead th {\n",
       "        text-align: right;\n",
       "    }\n",
       "</style>\n",
       "<table border=\"1\" class=\"dataframe\">\n",
       "  <thead>\n",
       "    <tr style=\"text-align: right;\">\n",
       "      <th></th>\n",
       "      <th>ticker</th>\n",
       "      <th>Adj Close</th>\n",
       "      <th>Close</th>\n",
       "      <th>High</th>\n",
       "      <th>Low</th>\n",
       "      <th>Open</th>\n",
       "      <th>Volume</th>\n",
       "      <th>market_cap</th>\n",
       "      <th>daily_returns_overall</th>\n",
       "      <th>trend</th>\n",
       "      <th>pred_price</th>\n",
       "    </tr>\n",
       "  </thead>\n",
       "  <tbody>\n",
       "    <tr>\n",
       "      <th>0</th>\n",
       "      <td>A</td>\n",
       "      <td>0.012882004991434453</td>\n",
       "      <td>0.013254845230627393</td>\n",
       "      <td>0.013653268750849858</td>\n",
       "      <td>0.013421005298096228</td>\n",
       "      <td>0.013640903769314936</td>\n",
       "      <td>0.0015707562341234157</td>\n",
       "      <td>0.015991523783555908</td>\n",
       "      <td>NaN</td>\n",
       "      <td>increase</td>\n",
       "      <td>0.013343781196977428</td>\n",
       "    </tr>\n",
       "    <tr>\n",
       "      <th>1</th>\n",
       "      <td>A</td>\n",
       "      <td>0.01296843808143546</td>\n",
       "      <td>0.013343781196977428</td>\n",
       "      <td>0.013349045625641015</td>\n",
       "      <td>0.013368321002642616</td>\n",
       "      <td>0.013231040189443925</td>\n",
       "      <td>0.001009756236311403</td>\n",
       "      <td>0.015991523783555908</td>\n",
       "      <td>0.670969481744943</td>\n",
       "      <td>increase</td>\n",
       "      <td>0.013533400645472224</td>\n",
       "    </tr>\n",
       "    <tr>\n",
       "      <th>2</th>\n",
       "      <td>A</td>\n",
       "      <td>0.013152725315099714</td>\n",
       "      <td>0.013533400645472224</td>\n",
       "      <td>0.013546289274422306</td>\n",
       "      <td>0.013618147411052852</td>\n",
       "      <td>0.013448518927851287</td>\n",
       "      <td>0.00156244188158174</td>\n",
       "      <td>0.015991523783555908</td>\n",
       "      <td>1.4210323572882544</td>\n",
       "      <td>decrease</td>\n",
       "      <td>0.013256523630061448</td>\n",
       "    </tr>\n",
       "    <tr>\n",
       "      <th>3</th>\n",
       "      <td>A</td>\n",
       "      <td>0.012883636021853205</td>\n",
       "      <td>0.013256523630061448</td>\n",
       "      <td>0.013501156550597459</td>\n",
       "      <td>0.013407408932617626</td>\n",
       "      <td>0.01346692103385477</td>\n",
       "      <td>0.0015820243698048972</td>\n",
       "      <td>0.015991523783555908</td>\n",
       "      <td>-2.0458791006339405</td>\n",
       "      <td>increase</td>\n",
       "      <td>0.013373985985572125</td>\n",
       "    </tr>\n",
       "    <tr>\n",
       "      <th>4</th>\n",
       "      <td>A</td>\n",
       "      <td>0.012997795348729359</td>\n",
       "      <td>0.013373985985572125</td>\n",
       "      <td>0.01333734478525975</td>\n",
       "      <td>0.01337681775860116</td>\n",
       "      <td>0.013281227983331352</td>\n",
       "      <td>0.0017674563113593748</td>\n",
       "      <td>0.015991523783555908</td>\n",
       "      <td>0.8860720863825167</td>\n",
       "      <td>increase</td>\n",
       "      <td>0.01348809282245835</td>\n",
       "    </tr>\n",
       "    <tr>\n",
       "      <th>...</th>\n",
       "      <td>...</td>\n",
       "      <td>...</td>\n",
       "      <td>...</td>\n",
       "      <td>...</td>\n",
       "      <td>...</td>\n",
       "      <td>...</td>\n",
       "      <td>...</td>\n",
       "      <td>...</td>\n",
       "      <td>...</td>\n",
       "      <td>...</td>\n",
       "      <td>...</td>\n",
       "    </tr>\n",
       "    <tr>\n",
       "      <th>504278</th>\n",
       "      <td>GEHC</td>\n",
       "      <td>0.01285715034108149</td>\n",
       "      <td>0.01285715034108149</td>\n",
       "      <td>0.01294620003839355</td>\n",
       "      <td>0.012873763905479872</td>\n",
       "      <td>0.01270741999257483</td>\n",
       "      <td>0.0017773022551587276</td>\n",
       "      <td>0.013759165355650653</td>\n",
       "      <td>-0.18238585950006714</td>\n",
       "      <td>decrease</td>\n",
       "      <td>0.012726262070342035</td>\n",
       "    </tr>\n",
       "    <tr>\n",
       "      <th>504279</th>\n",
       "      <td>GEHC</td>\n",
       "      <td>0.012726262070342035</td>\n",
       "      <td>0.012726262070342035</td>\n",
       "      <td>0.01296124470476715</td>\n",
       "      <td>0.012819379740186241</td>\n",
       "      <td>0.012857982097908496</td>\n",
       "      <td>0.006346804772438359</td>\n",
       "      <td>0.013759165355650653</td>\n",
       "      <td>-1.0180192909562402</td>\n",
       "      <td>decrease</td>\n",
       "      <td>0.012618867550948371</td>\n",
       "    </tr>\n",
       "    <tr>\n",
       "      <th>504280</th>\n",
       "      <td>GEHC</td>\n",
       "      <td>0.012618867550948371</td>\n",
       "      <td>0.012618867550948371</td>\n",
       "      <td>0.012672064970635954</td>\n",
       "      <td>0.012663025427044646</td>\n",
       "      <td>0.012628793044437883</td>\n",
       "      <td>0.0018752146962745136</td>\n",
       "      <td>0.013759165355650653</td>\n",
       "      <td>-0.8438810925003759</td>\n",
       "      <td>increase</td>\n",
       "      <td>0.012840368907228259</td>\n",
       "    </tr>\n",
       "    <tr>\n",
       "      <th>504281</th>\n",
       "      <td>GEHC</td>\n",
       "      <td>0.012840368907228259</td>\n",
       "      <td>0.012840368907228259</td>\n",
       "      <td>0.012817490794199636</td>\n",
       "      <td>0.012831276235824822</td>\n",
       "      <td>0.012655560208198809</td>\n",
       "      <td>0.0015329040501836815</td>\n",
       "      <td>0.013759165355650653</td>\n",
       "      <td>1.7553188143514697</td>\n",
       "      <td>increase</td>\n",
       "      <td>0.012862184259139998</td>\n",
       "    </tr>\n",
       "    <tr>\n",
       "      <th>504282</th>\n",
       "      <td>GEHC</td>\n",
       "      <td>0.012862184259139998</td>\n",
       "      <td>0.012862184259139998</td>\n",
       "      <td>0.012850921402347263</td>\n",
       "      <td>0.012979133793007873</td>\n",
       "      <td>0.012655560208198809</td>\n",
       "      <td>4.504300489452806e-05</td>\n",
       "      <td>0.013759165355650653</td>\n",
       "      <td>0.16989661332438288</td>\n",
       "      <td>decrease</td>\n",
       "      <td>NaN</td>\n",
       "    </tr>\n",
       "  </tbody>\n",
       "</table>\n",
       "<p>504283 rows × 11 columns</p>\n",
       "</div>\n",
       "      <button class=\"colab-df-convert\" onclick=\"convertToInteractive('df-110784d7-b079-47b6-aa3a-c7e94e547216')\"\n",
       "              title=\"Convert this dataframe to an interactive table.\"\n",
       "              style=\"display:none;\">\n",
       "        \n",
       "  <svg xmlns=\"http://www.w3.org/2000/svg\" height=\"24px\"viewBox=\"0 0 24 24\"\n",
       "       width=\"24px\">\n",
       "    <path d=\"M0 0h24v24H0V0z\" fill=\"none\"/>\n",
       "    <path d=\"M18.56 5.44l.94 2.06.94-2.06 2.06-.94-2.06-.94-.94-2.06-.94 2.06-2.06.94zm-11 1L8.5 8.5l.94-2.06 2.06-.94-2.06-.94L8.5 2.5l-.94 2.06-2.06.94zm10 10l.94 2.06.94-2.06 2.06-.94-2.06-.94-.94-2.06-.94 2.06-2.06.94z\"/><path d=\"M17.41 7.96l-1.37-1.37c-.4-.4-.92-.59-1.43-.59-.52 0-1.04.2-1.43.59L10.3 9.45l-7.72 7.72c-.78.78-.78 2.05 0 2.83L4 21.41c.39.39.9.59 1.41.59.51 0 1.02-.2 1.41-.59l7.78-7.78 2.81-2.81c.8-.78.8-2.07 0-2.86zM5.41 20L4 18.59l7.72-7.72 1.47 1.35L5.41 20z\"/>\n",
       "  </svg>\n",
       "      </button>\n",
       "      \n",
       "  <style>\n",
       "    .colab-df-container {\n",
       "      display:flex;\n",
       "      flex-wrap:wrap;\n",
       "      gap: 12px;\n",
       "    }\n",
       "\n",
       "    .colab-df-convert {\n",
       "      background-color: #E8F0FE;\n",
       "      border: none;\n",
       "      border-radius: 50%;\n",
       "      cursor: pointer;\n",
       "      display: none;\n",
       "      fill: #1967D2;\n",
       "      height: 32px;\n",
       "      padding: 0 0 0 0;\n",
       "      width: 32px;\n",
       "    }\n",
       "\n",
       "    .colab-df-convert:hover {\n",
       "      background-color: #E2EBFA;\n",
       "      box-shadow: 0px 1px 2px rgba(60, 64, 67, 0.3), 0px 1px 3px 1px rgba(60, 64, 67, 0.15);\n",
       "      fill: #174EA6;\n",
       "    }\n",
       "\n",
       "    [theme=dark] .colab-df-convert {\n",
       "      background-color: #3B4455;\n",
       "      fill: #D2E3FC;\n",
       "    }\n",
       "\n",
       "    [theme=dark] .colab-df-convert:hover {\n",
       "      background-color: #434B5C;\n",
       "      box-shadow: 0px 1px 3px 1px rgba(0, 0, 0, 0.15);\n",
       "      filter: drop-shadow(0px 1px 2px rgba(0, 0, 0, 0.3));\n",
       "      fill: #FFFFFF;\n",
       "    }\n",
       "  </style>\n",
       "\n",
       "      <script>\n",
       "        const buttonEl =\n",
       "          document.querySelector('#df-110784d7-b079-47b6-aa3a-c7e94e547216 button.colab-df-convert');\n",
       "        buttonEl.style.display =\n",
       "          google.colab.kernel.accessAllowed ? 'block' : 'none';\n",
       "\n",
       "        async function convertToInteractive(key) {\n",
       "          const element = document.querySelector('#df-110784d7-b079-47b6-aa3a-c7e94e547216');\n",
       "          const dataTable =\n",
       "            await google.colab.kernel.invokeFunction('convertToInteractive',\n",
       "                                                     [key], {});\n",
       "          if (!dataTable) return;\n",
       "\n",
       "          const docLinkHtml = 'Like what you see? Visit the ' +\n",
       "            '<a target=\"_blank\" href=https://colab.research.google.com/notebooks/data_table.ipynb>data table notebook</a>'\n",
       "            + ' to learn more about interactive tables.';\n",
       "          element.innerHTML = '';\n",
       "          dataTable['output_type'] = 'display_data';\n",
       "          await google.colab.output.renderOutput(dataTable, element);\n",
       "          const docLink = document.createElement('div');\n",
       "          docLink.innerHTML = docLinkHtml;\n",
       "          element.appendChild(docLink);\n",
       "        }\n",
       "      </script>\n",
       "    </div>\n",
       "  </div>\n",
       "  "
      ],
      "text/plain": [
       "       ticker            Adj Close                Close                 High  \\\n",
       "0           A 0.012882004991434453 0.013254845230627393 0.013653268750849858   \n",
       "1           A  0.01296843808143546 0.013343781196977428 0.013349045625641015   \n",
       "2           A 0.013152725315099714 0.013533400645472224 0.013546289274422306   \n",
       "3           A 0.012883636021853205 0.013256523630061448 0.013501156550597459   \n",
       "4           A 0.012997795348729359 0.013373985985572125  0.01333734478525975   \n",
       "...       ...                  ...                  ...                  ...   \n",
       "504278   GEHC  0.01285715034108149  0.01285715034108149  0.01294620003839355   \n",
       "504279   GEHC 0.012726262070342035 0.012726262070342035  0.01296124470476715   \n",
       "504280   GEHC 0.012618867550948371 0.012618867550948371 0.012672064970635954   \n",
       "504281   GEHC 0.012840368907228259 0.012840368907228259 0.012817490794199636   \n",
       "504282   GEHC 0.012862184259139998 0.012862184259139998 0.012850921402347263   \n",
       "\n",
       "                        Low                 Open                Volume  \\\n",
       "0      0.013421005298096228 0.013640903769314936 0.0015707562341234157   \n",
       "1      0.013368321002642616 0.013231040189443925  0.001009756236311403   \n",
       "2      0.013618147411052852 0.013448518927851287   0.00156244188158174   \n",
       "3      0.013407408932617626  0.01346692103385477 0.0015820243698048972   \n",
       "4       0.01337681775860116 0.013281227983331352 0.0017674563113593748   \n",
       "...                     ...                  ...                   ...   \n",
       "504278 0.012873763905479872  0.01270741999257483 0.0017773022551587276   \n",
       "504279 0.012819379740186241 0.012857982097908496  0.006346804772438359   \n",
       "504280 0.012663025427044646 0.012628793044437883 0.0018752146962745136   \n",
       "504281 0.012831276235824822 0.012655560208198809 0.0015329040501836815   \n",
       "504282 0.012979133793007873 0.012655560208198809 4.504300489452806e-05   \n",
       "\n",
       "                 market_cap  daily_returns_overall     trend  \\\n",
       "0      0.015991523783555908                    NaN  increase   \n",
       "1      0.015991523783555908      0.670969481744943  increase   \n",
       "2      0.015991523783555908     1.4210323572882544  decrease   \n",
       "3      0.015991523783555908    -2.0458791006339405  increase   \n",
       "4      0.015991523783555908     0.8860720863825167  increase   \n",
       "...                     ...                    ...       ...   \n",
       "504278 0.013759165355650653   -0.18238585950006714  decrease   \n",
       "504279 0.013759165355650653    -1.0180192909562402  decrease   \n",
       "504280 0.013759165355650653    -0.8438810925003759  increase   \n",
       "504281 0.013759165355650653     1.7553188143514697  increase   \n",
       "504282 0.013759165355650653    0.16989661332438288  decrease   \n",
       "\n",
       "                 pred_price  \n",
       "0      0.013343781196977428  \n",
       "1      0.013533400645472224  \n",
       "2      0.013256523630061448  \n",
       "3      0.013373985985572125  \n",
       "4       0.01348809282245835  \n",
       "...                     ...  \n",
       "504278 0.012726262070342035  \n",
       "504279 0.012618867550948371  \n",
       "504280 0.012840368907228259  \n",
       "504281 0.012862184259139998  \n",
       "504282                  NaN  \n",
       "\n",
       "[504283 rows x 11 columns]"
      ]
     },
     "execution_count": 43,
     "metadata": {},
     "output_type": "execute_result"
    }
   ],
   "source": [
    "#Create dependent column\n",
    "merged_df['pred_price'] = merged_df.groupby('ticker').Close.shift(-1)\n",
    "scaled_df['pred_price'] = scaled_df.groupby('ticker').Close.shift(-1)\n",
    "merged_df\n",
    "scaled_df"
   ]
  },
  {
   "cell_type": "code",
   "execution_count": null,
   "metadata": {
    "colab": {
     "base_uri": "https://localhost:8080/",
     "height": 488
    },
    "id": "osBnkfecVEfn",
    "outputId": "38028cdb-f5ab-4967-c0c2-e61ad4abde33"
   },
   "outputs": [
    {
     "data": {
      "text/html": [
       "\n",
       "  <div id=\"df-160aeefd-037a-430c-a54d-9979e2a9d944\">\n",
       "    <div class=\"colab-df-container\">\n",
       "      <div>\n",
       "<style scoped>\n",
       "    .dataframe tbody tr th:only-of-type {\n",
       "        vertical-align: middle;\n",
       "    }\n",
       "\n",
       "    .dataframe tbody tr th {\n",
       "        vertical-align: top;\n",
       "    }\n",
       "\n",
       "    .dataframe thead th {\n",
       "        text-align: right;\n",
       "    }\n",
       "</style>\n",
       "<table border=\"1\" class=\"dataframe\">\n",
       "  <thead>\n",
       "    <tr style=\"text-align: right;\">\n",
       "      <th></th>\n",
       "      <th>ticker</th>\n",
       "      <th>Adj Close</th>\n",
       "      <th>Close</th>\n",
       "      <th>High</th>\n",
       "      <th>Low</th>\n",
       "      <th>Open</th>\n",
       "      <th>Volume</th>\n",
       "      <th>market_cap</th>\n",
       "      <th>daily_returns_overall</th>\n",
       "      <th>trend</th>\n",
       "      <th>pred_price</th>\n",
       "    </tr>\n",
       "  </thead>\n",
       "  <tbody>\n",
       "    <tr>\n",
       "      <th>0</th>\n",
       "      <td>A</td>\n",
       "      <td>76.76811981201172</td>\n",
       "      <td>78.98999786376953</td>\n",
       "      <td>81.68000030517578</td>\n",
       "      <td>78.97000122070312</td>\n",
       "      <td>81.54000091552734</td>\n",
       "      <td>1,435,800.0</td>\n",
       "      <td>40412114944</td>\n",
       "      <td>NaN</td>\n",
       "      <td>increase</td>\n",
       "      <td>79.5199966430664</td>\n",
       "    </tr>\n",
       "    <tr>\n",
       "      <th>1</th>\n",
       "      <td>A</td>\n",
       "      <td>77.283203125</td>\n",
       "      <td>79.5199966430664</td>\n",
       "      <td>79.86000061035156</td>\n",
       "      <td>78.66000366210938</td>\n",
       "      <td>79.08999633789062</td>\n",
       "      <td>923,000.0</td>\n",
       "      <td>40412114944</td>\n",
       "      <td>0.670969481744943</td>\n",
       "      <td>increase</td>\n",
       "      <td>80.6500015258789</td>\n",
       "    </tr>\n",
       "    <tr>\n",
       "      <th>2</th>\n",
       "      <td>A</td>\n",
       "      <td>78.38143157958984</td>\n",
       "      <td>80.6500015258789</td>\n",
       "      <td>81.04000091552734</td>\n",
       "      <td>80.12999725341797</td>\n",
       "      <td>80.38999938964844</td>\n",
       "      <td>1,428,200.0</td>\n",
       "      <td>40412114944</td>\n",
       "      <td>1.4210323572882544</td>\n",
       "      <td>decrease</td>\n",
       "      <td>79.0</td>\n",
       "    </tr>\n",
       "    <tr>\n",
       "      <th>3</th>\n",
       "      <td>A</td>\n",
       "      <td>76.77783966064453</td>\n",
       "      <td>79.0</td>\n",
       "      <td>80.7699966430664</td>\n",
       "      <td>78.88999938964844</td>\n",
       "      <td>80.5</td>\n",
       "      <td>1,446,100.0</td>\n",
       "      <td>40412114944</td>\n",
       "      <td>-2.0458791006339405</td>\n",
       "      <td>increase</td>\n",
       "      <td>79.69999694824219</td>\n",
       "    </tr>\n",
       "    <tr>\n",
       "      <th>4</th>\n",
       "      <td>A</td>\n",
       "      <td>77.4581527709961</td>\n",
       "      <td>79.69999694824219</td>\n",
       "      <td>79.79000091552734</td>\n",
       "      <td>78.70999908447266</td>\n",
       "      <td>79.38999938964844</td>\n",
       "      <td>1,615,600.0</td>\n",
       "      <td>40412114944</td>\n",
       "      <td>0.8860720863825167</td>\n",
       "      <td>increase</td>\n",
       "      <td>80.37999725341797</td>\n",
       "    </tr>\n",
       "    <tr>\n",
       "      <th>...</th>\n",
       "      <td>...</td>\n",
       "      <td>...</td>\n",
       "      <td>...</td>\n",
       "      <td>...</td>\n",
       "      <td>...</td>\n",
       "      <td>...</td>\n",
       "      <td>...</td>\n",
       "      <td>...</td>\n",
       "      <td>...</td>\n",
       "      <td>...</td>\n",
       "      <td>...</td>\n",
       "    </tr>\n",
       "    <tr>\n",
       "      <th>504278</th>\n",
       "      <td>GEHC</td>\n",
       "      <td>76.62000274658203</td>\n",
       "      <td>76.62000274658203</td>\n",
       "      <td>77.44999694824219</td>\n",
       "      <td>75.75</td>\n",
       "      <td>75.95999908447266</td>\n",
       "      <td>1,624,600.0</td>\n",
       "      <td>34770731008</td>\n",
       "      <td>-0.18238585950006714</td>\n",
       "      <td>decrease</td>\n",
       "      <td>75.83999633789062</td>\n",
       "    </tr>\n",
       "    <tr>\n",
       "      <th>504279</th>\n",
       "      <td>GEHC</td>\n",
       "      <td>75.83999633789062</td>\n",
       "      <td>75.83999633789062</td>\n",
       "      <td>77.54000091552734</td>\n",
       "      <td>75.43000030517578</td>\n",
       "      <td>76.86000061035156</td>\n",
       "      <td>5,801,500.0</td>\n",
       "      <td>34770731008</td>\n",
       "      <td>-1.0180192909562402</td>\n",
       "      <td>decrease</td>\n",
       "      <td>75.19999694824219</td>\n",
       "    </tr>\n",
       "    <tr>\n",
       "      <th>504280</th>\n",
       "      <td>GEHC</td>\n",
       "      <td>75.19999694824219</td>\n",
       "      <td>75.19999694824219</td>\n",
       "      <td>75.80999755859375</td>\n",
       "      <td>74.51000213623047</td>\n",
       "      <td>75.48999786376953</td>\n",
       "      <td>1,714,100.0</td>\n",
       "      <td>34770731008</td>\n",
       "      <td>-0.8438810925003759</td>\n",
       "      <td>increase</td>\n",
       "      <td>76.5199966430664</td>\n",
       "    </tr>\n",
       "    <tr>\n",
       "      <th>504281</th>\n",
       "      <td>GEHC</td>\n",
       "      <td>76.5199966430664</td>\n",
       "      <td>76.5199966430664</td>\n",
       "      <td>76.68000030517578</td>\n",
       "      <td>75.5</td>\n",
       "      <td>75.6500015258789</td>\n",
       "      <td>1,401,200.0</td>\n",
       "      <td>34770731008</td>\n",
       "      <td>1.7553188143514697</td>\n",
       "      <td>increase</td>\n",
       "      <td>76.6500015258789</td>\n",
       "    </tr>\n",
       "    <tr>\n",
       "      <th>504282</th>\n",
       "      <td>GEHC</td>\n",
       "      <td>76.6500015258789</td>\n",
       "      <td>76.6500015258789</td>\n",
       "      <td>76.87999725341797</td>\n",
       "      <td>76.37000274658203</td>\n",
       "      <td>75.6500015258789</td>\n",
       "      <td>41,173.0</td>\n",
       "      <td>34770731008</td>\n",
       "      <td>0.16989661332438288</td>\n",
       "      <td>decrease</td>\n",
       "      <td>NaN</td>\n",
       "    </tr>\n",
       "  </tbody>\n",
       "</table>\n",
       "<p>504283 rows × 11 columns</p>\n",
       "</div>\n",
       "      <button class=\"colab-df-convert\" onclick=\"convertToInteractive('df-160aeefd-037a-430c-a54d-9979e2a9d944')\"\n",
       "              title=\"Convert this dataframe to an interactive table.\"\n",
       "              style=\"display:none;\">\n",
       "        \n",
       "  <svg xmlns=\"http://www.w3.org/2000/svg\" height=\"24px\"viewBox=\"0 0 24 24\"\n",
       "       width=\"24px\">\n",
       "    <path d=\"M0 0h24v24H0V0z\" fill=\"none\"/>\n",
       "    <path d=\"M18.56 5.44l.94 2.06.94-2.06 2.06-.94-2.06-.94-.94-2.06-.94 2.06-2.06.94zm-11 1L8.5 8.5l.94-2.06 2.06-.94-2.06-.94L8.5 2.5l-.94 2.06-2.06.94zm10 10l.94 2.06.94-2.06 2.06-.94-2.06-.94-.94-2.06-.94 2.06-2.06.94z\"/><path d=\"M17.41 7.96l-1.37-1.37c-.4-.4-.92-.59-1.43-.59-.52 0-1.04.2-1.43.59L10.3 9.45l-7.72 7.72c-.78.78-.78 2.05 0 2.83L4 21.41c.39.39.9.59 1.41.59.51 0 1.02-.2 1.41-.59l7.78-7.78 2.81-2.81c.8-.78.8-2.07 0-2.86zM5.41 20L4 18.59l7.72-7.72 1.47 1.35L5.41 20z\"/>\n",
       "  </svg>\n",
       "      </button>\n",
       "      \n",
       "  <style>\n",
       "    .colab-df-container {\n",
       "      display:flex;\n",
       "      flex-wrap:wrap;\n",
       "      gap: 12px;\n",
       "    }\n",
       "\n",
       "    .colab-df-convert {\n",
       "      background-color: #E8F0FE;\n",
       "      border: none;\n",
       "      border-radius: 50%;\n",
       "      cursor: pointer;\n",
       "      display: none;\n",
       "      fill: #1967D2;\n",
       "      height: 32px;\n",
       "      padding: 0 0 0 0;\n",
       "      width: 32px;\n",
       "    }\n",
       "\n",
       "    .colab-df-convert:hover {\n",
       "      background-color: #E2EBFA;\n",
       "      box-shadow: 0px 1px 2px rgba(60, 64, 67, 0.3), 0px 1px 3px 1px rgba(60, 64, 67, 0.15);\n",
       "      fill: #174EA6;\n",
       "    }\n",
       "\n",
       "    [theme=dark] .colab-df-convert {\n",
       "      background-color: #3B4455;\n",
       "      fill: #D2E3FC;\n",
       "    }\n",
       "\n",
       "    [theme=dark] .colab-df-convert:hover {\n",
       "      background-color: #434B5C;\n",
       "      box-shadow: 0px 1px 3px 1px rgba(0, 0, 0, 0.15);\n",
       "      filter: drop-shadow(0px 1px 2px rgba(0, 0, 0, 0.3));\n",
       "      fill: #FFFFFF;\n",
       "    }\n",
       "  </style>\n",
       "\n",
       "      <script>\n",
       "        const buttonEl =\n",
       "          document.querySelector('#df-160aeefd-037a-430c-a54d-9979e2a9d944 button.colab-df-convert');\n",
       "        buttonEl.style.display =\n",
       "          google.colab.kernel.accessAllowed ? 'block' : 'none';\n",
       "\n",
       "        async function convertToInteractive(key) {\n",
       "          const element = document.querySelector('#df-160aeefd-037a-430c-a54d-9979e2a9d944');\n",
       "          const dataTable =\n",
       "            await google.colab.kernel.invokeFunction('convertToInteractive',\n",
       "                                                     [key], {});\n",
       "          if (!dataTable) return;\n",
       "\n",
       "          const docLinkHtml = 'Like what you see? Visit the ' +\n",
       "            '<a target=\"_blank\" href=https://colab.research.google.com/notebooks/data_table.ipynb>data table notebook</a>'\n",
       "            + ' to learn more about interactive tables.';\n",
       "          element.innerHTML = '';\n",
       "          dataTable['output_type'] = 'display_data';\n",
       "          await google.colab.output.renderOutput(dataTable, element);\n",
       "          const docLink = document.createElement('div');\n",
       "          docLink.innerHTML = docLinkHtml;\n",
       "          element.appendChild(docLink);\n",
       "        }\n",
       "      </script>\n",
       "    </div>\n",
       "  </div>\n",
       "  "
      ],
      "text/plain": [
       "       ticker         Adj Close             Close              High  \\\n",
       "0           A 76.76811981201172 78.98999786376953 81.68000030517578   \n",
       "1           A      77.283203125  79.5199966430664 79.86000061035156   \n",
       "2           A 78.38143157958984  80.6500015258789 81.04000091552734   \n",
       "3           A 76.77783966064453              79.0  80.7699966430664   \n",
       "4           A  77.4581527709961 79.69999694824219 79.79000091552734   \n",
       "...       ...               ...               ...               ...   \n",
       "504278   GEHC 76.62000274658203 76.62000274658203 77.44999694824219   \n",
       "504279   GEHC 75.83999633789062 75.83999633789062 77.54000091552734   \n",
       "504280   GEHC 75.19999694824219 75.19999694824219 75.80999755859375   \n",
       "504281   GEHC  76.5199966430664  76.5199966430664 76.68000030517578   \n",
       "504282   GEHC  76.6500015258789  76.6500015258789 76.87999725341797   \n",
       "\n",
       "                     Low              Open      Volume   market_cap  \\\n",
       "0      78.97000122070312 81.54000091552734 1,435,800.0  40412114944   \n",
       "1      78.66000366210938 79.08999633789062   923,000.0  40412114944   \n",
       "2      80.12999725341797 80.38999938964844 1,428,200.0  40412114944   \n",
       "3      78.88999938964844              80.5 1,446,100.0  40412114944   \n",
       "4      78.70999908447266 79.38999938964844 1,615,600.0  40412114944   \n",
       "...                  ...               ...         ...          ...   \n",
       "504278             75.75 75.95999908447266 1,624,600.0  34770731008   \n",
       "504279 75.43000030517578 76.86000061035156 5,801,500.0  34770731008   \n",
       "504280 74.51000213623047 75.48999786376953 1,714,100.0  34770731008   \n",
       "504281              75.5  75.6500015258789 1,401,200.0  34770731008   \n",
       "504282 76.37000274658203  75.6500015258789    41,173.0  34770731008   \n",
       "\n",
       "        daily_returns_overall     trend        pred_price  \n",
       "0                         NaN  increase  79.5199966430664  \n",
       "1           0.670969481744943  increase  80.6500015258789  \n",
       "2          1.4210323572882544  decrease              79.0  \n",
       "3         -2.0458791006339405  increase 79.69999694824219  \n",
       "4          0.8860720863825167  increase 80.37999725341797  \n",
       "...                       ...       ...               ...  \n",
       "504278   -0.18238585950006714  decrease 75.83999633789062  \n",
       "504279    -1.0180192909562402  decrease 75.19999694824219  \n",
       "504280    -0.8438810925003759  increase  76.5199966430664  \n",
       "504281     1.7553188143514697  increase  76.6500015258789  \n",
       "504282    0.16989661332438288  decrease               NaN  \n",
       "\n",
       "[504283 rows x 11 columns]"
      ]
     },
     "execution_count": 44,
     "metadata": {},
     "output_type": "execute_result"
    }
   ],
   "source": [
    "merged_df"
   ]
  },
  {
   "cell_type": "code",
   "execution_count": null,
   "metadata": {
    "id": "3f7pgw7HVEfn"
   },
   "outputs": [],
   "source": [
    "df_list = [v for k, v in merged_df.groupby('ticker')]\n"
   ]
  },
  {
   "cell_type": "code",
   "execution_count": null,
   "metadata": {
    "id": "GSxlhEJ4VEfn"
   },
   "outputs": [],
   "source": [
    "from tensorflow.keras.models import Sequential\n",
    "from tensorflow.keras.layers import *\n",
    "from tensorflow.keras.callbacks import ModelCheckpoint\n",
    "from tensorflow.keras.losses import MeanSquaredError\n",
    "from tensorflow.keras.metrics import RootMeanSquaredError\n",
    "from tensorflow.keras.optimizers import Adam\n",
    "import tensorflow as tf\n",
    "\n"
   ]
  },
  {
   "cell_type": "code",
   "execution_count": null,
   "metadata": {
    "id": "Y77eH38eVEfo"
   },
   "outputs": [],
   "source": [
    "df_list2 = [v for k, v in scaled_df.groupby('ticker')]\n"
   ]
  },
  {
   "cell_type": "code",
   "execution_count": null,
   "metadata": {
    "colab": {
     "base_uri": "https://localhost:8080/"
    },
    "id": "Kz9sMc9gVEfo",
    "outputId": "b3a9139f-9763-4d34-ff17-878395758c4e"
   },
   "outputs": [
    {
     "name": "stdout",
     "output_type": "stream",
     "text": [
      "Model: \"sequential\"\n",
      "_________________________________________________________________\n",
      " Layer (type)                Output Shape              Param #   \n",
      "=================================================================\n",
      " lstm (LSTM)                 (None, 128)               66560     \n",
      "                                                                 \n",
      " dense (Dense)               (None, 8)                 1032      \n",
      "                                                                 \n",
      " dense_1 (Dense)             (None, 1)                 9         \n",
      "                                                                 \n",
      "=================================================================\n",
      "Total params: 67,601\n",
      "Trainable params: 67,601\n",
      "Non-trainable params: 0\n",
      "_________________________________________________________________\n"
     ]
    }
   ],
   "source": [
    "\n",
    "#input_shape = X1_train.shape\n",
    "batch_size=128\n",
    "\n",
    "lstm_model = Sequential()\n",
    "lstm_model.add(LSTM(128, input_shape=( 7,1)))\n",
    "lstm_model.add(Dense(8, 'relu'))\n",
    "lstm_model.add(Dense(1, 'linear'))\n",
    "#lstm_model.add(Dense(1, activation='linear'))\n",
    "\n",
    "lstm_model.summary()\n",
    "cp1 = ModelCheckpoint('model/', save_best_only=True)\n",
    "lstm_model.compile(loss=MeanSquaredError(), optimizer=Adam(learning_rate=0.01), metrics=[RootMeanSquaredError()])"
   ]
  },
  {
   "cell_type": "code",
   "execution_count": null,
   "metadata": {
    "colab": {
     "base_uri": "https://localhost:8080/"
    },
    "id": "CsnVF61cVEfo",
    "outputId": "122aaeac-c351-434c-c6eb-46a5bcd015e9"
   },
   "outputs": [
    {
     "name": "stdout",
     "output_type": "stream",
     "text": [
      "Model: \"sequential_1\"\n",
      "_________________________________________________________________\n",
      " Layer (type)                Output Shape              Param #   \n",
      "=================================================================\n",
      " lstm_1 (LSTM)               (None, 7, 16)             1152      \n",
      "                                                                 \n",
      " lstm_2 (LSTM)               (None, 4)                 336       \n",
      "                                                                 \n",
      " dense_2 (Dense)             (None, 1)                 5         \n",
      "                                                                 \n",
      "=================================================================\n",
      "Total params: 1,493\n",
      "Trainable params: 1,493\n",
      "Non-trainable params: 0\n",
      "_________________________________________________________________\n"
     ]
    }
   ],
   "source": [
    "\n",
    "from tensorflow.keras import initializers\n",
    "\n",
    "\n",
    "lstm_model2 = Sequential()\n",
    "lstm_model2.add(LSTM(4 * 4, return_sequences=True,input_shape=( 7,1), activation='tanh',\n",
    "                   recurrent_activation='hard_sigmoid', kernel_initializer='glorot_uniform',\n",
    "                   recurrent_initializer='orthogonal', bias_initializer='zeros',\n",
    "                   ))\n",
    "\n",
    "lstm_model2.add(LSTM(4, return_sequences=False, activation='tanh',\n",
    "                            recurrent_activation='hard_sigmoid', kernel_initializer='glorot_uniform',\n",
    "                            recurrent_initializer='orthogonal', bias_initializer='zeros',\n",
    "                            ))\n",
    "lstm_model2.add(Dense(1, kernel_initializer=initializers.glorot_uniform()))\n",
    "lstm_model2.compile(loss=MeanSquaredError(), optimizer=Adam(learning_rate=0.0001), metrics=[RootMeanSquaredError()])\n",
    "\n",
    "lstm_model2.summary()\n",
    "cp2 = ModelCheckpoint('model/', save_best_only=True)\n",
    "lstm_model2.compile(loss=MeanSquaredError(), optimizer=Adam(learning_rate=0.01), metrics=[RootMeanSquaredError()])"
   ]
  },
  {
   "cell_type": "code",
   "execution_count": null,
   "metadata": {
    "id": "l3DLJbyyVEfo"
   },
   "outputs": [],
   "source": [
    "scaled_df2 = merged_df\n",
    "scaled_df2['next_day_return']= scaled_df2.daily_returns_overall.shift(-1)\n",
    "df_list3 = [v for k, v in scaled_df2.groupby('ticker')]\n"
   ]
  },
  {
   "cell_type": "code",
   "execution_count": null,
   "metadata": {
    "id": "KEsmX7uFSBPH"
   },
   "outputs": [],
   "source": [
    "scaled_df3 = scaled_df\n",
    "\n",
    "scaled_df3['next_day_return']= scaled_df3.daily_returns_overall.shift(-1)\n",
    "df_list4 = [v for k, v in scaled_df2.groupby('ticker')]"
   ]
  },
  {
   "cell_type": "code",
   "execution_count": null,
   "metadata": {
    "colab": {
     "base_uri": "https://localhost:8080/",
     "height": 1000
    },
    "id": "GOif2MvXVEfo",
    "outputId": "1d2a52b0-5981-43ef-f1fe-11d6ca211d98"
   },
   "outputs": [
    {
     "data": {
      "application/vnd.google.colaboratory.intrinsic+json": {
       "type": "string"
      },
      "text/plain": [
       "'\\n    train_size = math.ceil(len(X)*0.8)\\n    X_train_orig, X_test_orig= X[:train_size],X[train_size:]\\n    y_train, y_test= y[:train_size],y[train_size:]'"
      ]
     },
     "execution_count": 52,
     "metadata": {},
     "output_type": "execute_result"
    },
    {
     "data": {
      "application/vnd.google.colaboratory.intrinsic+json": {
       "type": "string"
      },
      "text/plain": [
       "\"\\n    svr_rbf = SVR(kernel='rbf',C=1e3,gamma=0.1)\\n    svr_rbf.fit(X_train,y_train)\\n    svm_scores = svr_rbf.score(X_test,y_test)\\n    svm_scores\\n    \""
      ]
     },
     "execution_count": 52,
     "metadata": {},
     "output_type": "execute_result"
    },
    {
     "data": {
      "text/plain": [
       "<keras.callbacks.History at 0x7f4820f4f6d0>"
      ]
     },
     "execution_count": 52,
     "metadata": {},
     "output_type": "execute_result"
    },
    {
     "name": "stdout",
     "output_type": "stream",
     "text": [
      "7/7 [==============================] - 0s 2ms/step\n"
     ]
    },
    {
     "data": {
      "text/plain": [
       "90516    -0.7360763549804688\n",
       "90517    0.28437042236328125\n",
       "90518   -0.16233444213867188\n",
       "90519   -0.10193252563476562\n",
       "90520     0.5206832885742188\n",
       "                ...         \n",
       "90713     1.2576541900634766\n",
       "90714     1.3707733154296875\n",
       "90715     0.4202117919921875\n",
       "90716    0.01905059814453125\n",
       "90717    0.22197723388671875\n",
       "Name: Close, Length: 202, dtype: float64"
      ]
     },
     "execution_count": 52,
     "metadata": {},
     "output_type": "execute_result"
    },
    {
     "data": {
      "text/plain": [
       "array([[58, 51,  0],\n",
       "       [45, 47,  0],\n",
       "       [ 1,  0,  0]])"
      ]
     },
     "execution_count": 52,
     "metadata": {},
     "output_type": "execute_result"
    },
    {
     "data": {
      "application/vnd.google.colaboratory.intrinsic+json": {
       "type": "string"
      },
      "text/plain": [
       "'\\n    train_size = math.ceil(len(X)*0.8)\\n    X_train_orig, X_test_orig= X[:train_size],X[train_size:]\\n    y_train, y_test= y[:train_size],y[train_size:]'"
      ]
     },
     "execution_count": 52,
     "metadata": {},
     "output_type": "execute_result"
    },
    {
     "data": {
      "application/vnd.google.colaboratory.intrinsic+json": {
       "type": "string"
      },
      "text/plain": [
       "\"\\n    svr_rbf = SVR(kernel='rbf',C=1e3,gamma=0.1)\\n    svr_rbf.fit(X_train,y_train)\\n    svm_scores = svr_rbf.score(X_test,y_test)\\n    svm_scores\\n    \""
      ]
     },
     "execution_count": 52,
     "metadata": {},
     "output_type": "execute_result"
    },
    {
     "data": {
      "text/plain": [
       "<keras.callbacks.History at 0x7f4828384160>"
      ]
     },
     "execution_count": 52,
     "metadata": {},
     "output_type": "execute_result"
    },
    {
     "name": "stdout",
     "output_type": "stream",
     "text": [
      "7/7 [==============================] - 0s 2ms/step\n"
     ]
    },
    {
     "data": {
      "text/plain": [
       "172164      -0.20294189453125\n",
       "172165   -0.23419570922851562\n",
       "172166    -0.4781532287597656\n",
       "172167    -0.6788063049316406\n",
       "172168    -0.8237648010253906\n",
       "                 ...         \n",
       "172361    -0.5314445495605469\n",
       "172362    -0.4091453552246094\n",
       "172363   -0.44820404052734375\n",
       "172364    -0.9162979125976562\n",
       "172365    -1.1309585571289062\n",
       "Name: Close, Length: 202, dtype: float64"
      ]
     },
     "execution_count": 52,
     "metadata": {},
     "output_type": "execute_result"
    },
    {
     "data": {
      "text/plain": [
       "array([[  0, 102,   0],\n",
       "       [  2,  96,   0],\n",
       "       [  0,   2,   0]])"
      ]
     },
     "execution_count": 52,
     "metadata": {},
     "output_type": "execute_result"
    },
    {
     "data": {
      "application/vnd.google.colaboratory.intrinsic+json": {
       "type": "string"
      },
      "text/plain": [
       "'\\n    train_size = math.ceil(len(X)*0.8)\\n    X_train_orig, X_test_orig= X[:train_size],X[train_size:]\\n    y_train, y_test= y[:train_size],y[train_size:]'"
      ]
     },
     "execution_count": 52,
     "metadata": {},
     "output_type": "execute_result"
    },
    {
     "data": {
      "application/vnd.google.colaboratory.intrinsic+json": {
       "type": "string"
      },
      "text/plain": [
       "\"\\n    svr_rbf = SVR(kernel='rbf',C=1e3,gamma=0.1)\\n    svr_rbf.fit(X_train,y_train)\\n    svm_scores = svr_rbf.score(X_test,y_test)\\n    svm_scores\\n    \""
      ]
     },
     "execution_count": 52,
     "metadata": {},
     "output_type": "execute_result"
    },
    {
     "data": {
      "text/plain": [
       "<keras.callbacks.History at 0x7f4828337700>"
      ]
     },
     "execution_count": 52,
     "metadata": {},
     "output_type": "execute_result"
    },
    {
     "name": "stdout",
     "output_type": "stream",
     "text": [
      "7/7 [==============================] - 0s 3ms/step\n"
     ]
    },
    {
     "data": {
      "text/plain": [
       "443316    -0.5754623413085938\n",
       "443317     0.7224044799804688\n",
       "443318     1.0198898315429688\n",
       "443319    -0.7814788818359375\n",
       "443320    0.35752105712890625\n",
       "                 ...         \n",
       "443513   -0.07663345336914062\n",
       "443514    -0.5759544372558594\n",
       "443515      -0.53521728515625\n",
       "443516    -0.7045631408691406\n",
       "443517    -0.8257217407226562\n",
       "Name: Close, Length: 202, dtype: float64"
      ]
     },
     "execution_count": 52,
     "metadata": {},
     "output_type": "execute_result"
    },
    {
     "data": {
      "text/plain": [
       "array([[  9, 101],\n",
       "       [  6,  86]])"
      ]
     },
     "execution_count": 52,
     "metadata": {},
     "output_type": "execute_result"
    },
    {
     "data": {
      "application/vnd.google.colaboratory.intrinsic+json": {
       "type": "string"
      },
      "text/plain": [
       "'\\n    train_size = math.ceil(len(X)*0.8)\\n    X_train_orig, X_test_orig= X[:train_size],X[train_size:]\\n    y_train, y_test= y[:train_size],y[train_size:]'"
      ]
     },
     "execution_count": 52,
     "metadata": {},
     "output_type": "execute_result"
    },
    {
     "data": {
      "application/vnd.google.colaboratory.intrinsic+json": {
       "type": "string"
      },
      "text/plain": [
       "\"\\n    svr_rbf = SVR(kernel='rbf',C=1e3,gamma=0.1)\\n    svr_rbf.fit(X_train,y_train)\\n    svm_scores = svr_rbf.score(X_test,y_test)\\n    svm_scores\\n    \""
      ]
     },
     "execution_count": 52,
     "metadata": {},
     "output_type": "execute_result"
    },
    {
     "data": {
      "text/plain": [
       "<keras.callbacks.History at 0x7f4828337a00>"
      ]
     },
     "execution_count": 52,
     "metadata": {},
     "output_type": "execute_result"
    },
    {
     "name": "stdout",
     "output_type": "stream",
     "text": [
      "7/7 [==============================] - 0s 2ms/step\n"
     ]
    },
    {
     "data": {
      "text/plain": [
       "138900   2.4014434814453125\n",
       "138901     4.05059814453125\n",
       "138902     2.96258544921875\n",
       "138903    2.225189208984375\n",
       "138904   5.1128997802734375\n",
       "                ...        \n",
       "139097   7.0682525634765625\n",
       "139098   5.4015045166015625\n",
       "139099   4.8128509521484375\n",
       "139100     4.72943115234375\n",
       "139101   3.7218170166015625\n",
       "Name: Close, Length: 202, dtype: float64"
      ]
     },
     "execution_count": 52,
     "metadata": {},
     "output_type": "execute_result"
    },
    {
     "data": {
      "text/plain": [
       "array([[ 97,   1,   0],\n",
       "       [103,   0,   0],\n",
       "       [  1,   0,   0]])"
      ]
     },
     "execution_count": 52,
     "metadata": {},
     "output_type": "execute_result"
    },
    {
     "data": {
      "application/vnd.google.colaboratory.intrinsic+json": {
       "type": "string"
      },
      "text/plain": [
       "'\\n    train_size = math.ceil(len(X)*0.8)\\n    X_train_orig, X_test_orig= X[:train_size],X[train_size:]\\n    y_train, y_test= y[:train_size],y[train_size:]'"
      ]
     },
     "execution_count": 52,
     "metadata": {},
     "output_type": "execute_result"
    },
    {
     "data": {
      "application/vnd.google.colaboratory.intrinsic+json": {
       "type": "string"
      },
      "text/plain": [
       "\"\\n    svr_rbf = SVR(kernel='rbf',C=1e3,gamma=0.1)\\n    svr_rbf.fit(X_train,y_train)\\n    svm_scores = svr_rbf.score(X_test,y_test)\\n    svm_scores\\n    \""
      ]
     },
     "execution_count": 52,
     "metadata": {},
     "output_type": "execute_result"
    },
    {
     "data": {
      "text/plain": [
       "<keras.callbacks.History at 0x7f4828356520>"
      ]
     },
     "execution_count": 52,
     "metadata": {},
     "output_type": "execute_result"
    },
    {
     "name": "stdout",
     "output_type": "stream",
     "text": [
      "7/7 [==============================] - 0s 3ms/step\n"
     ]
    },
    {
     "data": {
      "text/plain": [
       "28021    -2.1784133911132812\n",
       "28022     -0.715301513671875\n",
       "28023    -0.7591323852539062\n",
       "28024     -3.675384521484375\n",
       "28025     -0.636199951171875\n",
       "                ...         \n",
       "28218   -0.22841644287109375\n",
       "28219       -0.0775146484375\n",
       "28220     -4.513481140136719\n",
       "28221    -3.5108871459960938\n",
       "28222    -2.8615188598632812\n",
       "Name: Close, Length: 202, dtype: float64"
      ]
     },
     "execution_count": 52,
     "metadata": {},
     "output_type": "execute_result"
    },
    {
     "data": {
      "text/plain": [
       "array([[18, 82],\n",
       "       [18, 84]])"
      ]
     },
     "execution_count": 52,
     "metadata": {},
     "output_type": "execute_result"
    },
    {
     "data": {
      "application/vnd.google.colaboratory.intrinsic+json": {
       "type": "string"
      },
      "text/plain": [
       "'\\n    train_size = math.ceil(len(X)*0.8)\\n    X_train_orig, X_test_orig= X[:train_size],X[train_size:]\\n    y_train, y_test= y[:train_size],y[train_size:]'"
      ]
     },
     "execution_count": 52,
     "metadata": {},
     "output_type": "execute_result"
    },
    {
     "data": {
      "application/vnd.google.colaboratory.intrinsic+json": {
       "type": "string"
      },
      "text/plain": [
       "\"\\n    svr_rbf = SVR(kernel='rbf',C=1e3,gamma=0.1)\\n    svr_rbf.fit(X_train,y_train)\\n    svm_scores = svr_rbf.score(X_test,y_test)\\n    svm_scores\\n    \""
      ]
     },
     "execution_count": 52,
     "metadata": {},
     "output_type": "execute_result"
    },
    {
     "data": {
      "text/plain": [
       "<keras.callbacks.History at 0x7f4828312820>"
      ]
     },
     "execution_count": 52,
     "metadata": {},
     "output_type": "execute_result"
    },
    {
     "name": "stdout",
     "output_type": "stream",
     "text": [
      "7/7 [==============================] - 0s 2ms/step\n"
     ]
    },
    {
     "data": {
      "text/plain": [
       "320340   -7.6226959228515625\n",
       "320341    -5.036651611328125\n",
       "320342     -7.23565673828125\n",
       "320343    -8.738357543945312\n",
       "320344        -4.83349609375\n",
       "                 ...        \n",
       "320537     1.592132568359375\n",
       "320538    11.472381591796875\n",
       "320539       7.1119384765625\n",
       "320540    10.983062744140625\n",
       "320541    14.532989501953125\n",
       "Name: Close, Length: 202, dtype: float64"
      ]
     },
     "execution_count": 52,
     "metadata": {},
     "output_type": "execute_result"
    },
    {
     "data": {
      "text/plain": [
       "array([[37, 63,  0],\n",
       "       [29, 72,  0],\n",
       "       [ 0,  1,  0]])"
      ]
     },
     "execution_count": 52,
     "metadata": {},
     "output_type": "execute_result"
    },
    {
     "data": {
      "application/vnd.google.colaboratory.intrinsic+json": {
       "type": "string"
      },
      "text/plain": [
       "'\\n    train_size = math.ceil(len(X)*0.8)\\n    X_train_orig, X_test_orig= X[:train_size],X[train_size:]\\n    y_train, y_test= y[:train_size],y[train_size:]'"
      ]
     },
     "execution_count": 52,
     "metadata": {},
     "output_type": "execute_result"
    },
    {
     "data": {
      "application/vnd.google.colaboratory.intrinsic+json": {
       "type": "string"
      },
      "text/plain": [
       "\"\\n    svr_rbf = SVR(kernel='rbf',C=1e3,gamma=0.1)\\n    svr_rbf.fit(X_train,y_train)\\n    svm_scores = svr_rbf.score(X_test,y_test)\\n    svm_scores\\n    \""
      ]
     },
     "execution_count": 52,
     "metadata": {},
     "output_type": "execute_result"
    },
    {
     "data": {
      "text/plain": [
       "<keras.callbacks.History at 0x7f4828384ca0>"
      ]
     },
     "execution_count": 52,
     "metadata": {},
     "output_type": "execute_result"
    },
    {
     "name": "stdout",
     "output_type": "stream",
     "text": [
      "7/7 [==============================] - 0s 2ms/step\n"
     ]
    },
    {
     "data": {
      "text/plain": [
       "137892    10.285003662109375\n",
       "137893     8.970413208007812\n",
       "137894     9.314559936523438\n",
       "137895    10.556488037109375\n",
       "137896    11.530181884765625\n",
       "                 ...        \n",
       "138089      1.21270751953125\n",
       "138090    0.9153900146484375\n",
       "138091     1.015655517578125\n",
       "138092    2.8632965087890625\n",
       "138093   -1.5074310302734375\n",
       "Name: Close, Length: 202, dtype: float64"
      ]
     },
     "execution_count": 52,
     "metadata": {},
     "output_type": "execute_result"
    },
    {
     "data": {
      "text/plain": [
       "array([[78, 29],\n",
       "       [67, 28]])"
      ]
     },
     "execution_count": 52,
     "metadata": {},
     "output_type": "execute_result"
    }
   ],
   "source": [
    "from sklearn.svm import SVR\n",
    "from sklearn.linear_model import LinearRegression\n",
    "from sklearn.model_selection import train_test_split\n",
    "from sklearn.metrics import confusion_matrix, classification_report\n",
    "from sklearn.metrics import confusion_matrix, classification_report\n",
    "\n",
    "output_list1 =[]\n",
    "acc1 = {}\n",
    "profit1={}\n",
    "ratio = 0.8\n",
    "#Tesla\n",
    "for s in selected:\n",
    "    idx = sp500.index(s)\n",
    "    stock = df_list3[idx].dropna()\n",
    "    X = stock\n",
    "    y = stock['pred_price']\n",
    "    \"\"\"\n",
    "    train_size = math.ceil(len(X)*0.8)\n",
    "    X_train_orig, X_test_orig= X[:train_size],X[train_size:]\n",
    "    y_train, y_test= y[:train_size],y[train_size:]\"\"\"\n",
    "    X_train_orig, X_test_orig, y_train, y_test = train_test_split(X,y,test_size=0.2,shuffle=False)\n",
    "    X_train = X_train_orig.iloc[:,2:-3]\n",
    "    X_test = X_test_orig.iloc[:,2:-3]    \n",
    "\n",
    "\n",
    "    \"\"\"\n",
    "    svr_rbf = SVR(kernel='rbf',C=1e3,gamma=0.1)\n",
    "    svr_rbf.fit(X_train,y_train)\n",
    "    svm_scores = svr_rbf.score(X_test,y_test)\n",
    "    svm_scores\n",
    "    \"\"\"\n",
    "    X1_train = np.reshape(X_train.values,(X_train.shape[0], X_train.shape[1], 1))\n",
    "    y1_train = y_train#.values\n",
    "\n",
    "\n",
    "    X1_test = np.reshape(X_test.values,(X_test.shape[0], X_test.shape[1], 1))\n",
    "    y1_test = y_test#.values\n",
    "    input_shape = X1_train.shape\n",
    "    batch_size=128\n",
    "    \n",
    "    lstm_model2.fit(X1_train, y1_train, epochs=200, batch_size=32, verbose=0)\n",
    "    predictions = lstm_model2.predict(X1_test)\n",
    "    \n",
    "    pred1 = predictions.reshape(y1_test.shape)\n",
    "    #pred1\n",
    "    #merged_df['trend'] = merged_df['daily_returns_overall']\n",
    "\n",
    "    pred_cat = (pred1-X_test.Close).apply(condition)\n",
    "    X_test.Close-pred1\n",
    "    #pred2\n",
    "\n",
    "    pred = (y_test-X_test.Close).apply(condition)\n",
    "\n",
    "   \n",
    "\n",
    "    #pred\n",
    "    acc = sum(pred==pred_cat)/len(pred)\n",
    "    acc1[s]=acc\n",
    "\n",
    "    confusion_matrix(pred, pred_cat)\n",
    "\n",
    "    stock_test_df = pd.concat([X_test_orig.reset_index(), pd.DataFrame({'model_pred':pred_cat}).reset_index()],axis=1)\n",
    "    \n",
    "    stock_test_df['buy'] = stock_test_df['model_pred'].apply(lambda x: 1 if x == 'increase' else 0)\n",
    "    stock_test_df['spend'] = 5000 * stock_test_df['buy']\n",
    "    stock_test_df['shares'] = stock_test_df['spend']// stock_test_df['Close']\n",
    "    stock_test_df['profit'] = stock_test_df['shares'] * stock_test_df['next_day_return']\n",
    "\n",
    "    output_list1.append(stock_test_df)\n",
    "    \n",
    "    profit1[s] = sum(stock_test_df['profit'])    "
   ]
  },
  {
   "cell_type": "code",
   "execution_count": null,
   "metadata": {
    "colab": {
     "base_uri": "https://localhost:8080/"
    },
    "id": "GCkWY44AVEfp",
    "outputId": "a86faf41-cfab-42ea-e85b-8da451b8fc25"
   },
   "outputs": [
    {
     "data": {
      "text/plain": [
       "{'CARR': 0.5198019801980198,\n",
       " 'ENPH': 0.4752475247524752,\n",
       " 'TSLA': 0.47029702970297027,\n",
       " 'DHR': 0.4801980198019802,\n",
       " 'AMD': 0.504950495049505,\n",
       " 'MRNA': 0.5396039603960396,\n",
       " 'DHI': 0.5247524752475248}"
      ]
     },
     "execution_count": 53,
     "metadata": {},
     "output_type": "execute_result"
    }
   ],
   "source": [
    "acc1"
   ]
  },
  {
   "cell_type": "code",
   "execution_count": null,
   "metadata": {
    "colab": {
     "base_uri": "https://localhost:8080/"
    },
    "id": "rYOyfZjlVEfp",
    "outputId": "184f2ed0-0477-4853-c0d4-c47c4a09748c"
   },
   "outputs": [
    {
     "data": {
      "text/plain": [
       "{'CARR': 741.1722338548282,\n",
       " 'ENPH': -1983.5403224299273,\n",
       " 'TSLA': -572.83783532973,\n",
       " 'DHR': -17.06375900435787,\n",
       " 'AMD': 927.8525237780125,\n",
       " 'MRNA': 740.8416232664703,\n",
       " 'DHI': -49.20119658671645}"
      ]
     },
     "execution_count": 54,
     "metadata": {},
     "output_type": "execute_result"
    }
   ],
   "source": [
    "profit1"
   ]
  },
  {
   "cell_type": "code",
   "execution_count": null,
   "metadata": {
    "id": "bMu-s8D9hVZq"
   },
   "outputs": [],
   "source": [
    "acc_df = pd.DataFrame([acc1],index=['LSTM2_trend'])\n",
    "profit_df = pd.DataFrame([profit1],index=['LSTM2_trend'])"
   ]
  },
  {
   "cell_type": "code",
   "execution_count": null,
   "metadata": {
    "id": "DpPcCAD4VEfp"
   },
   "outputs": [],
   "source": [
    "model = tf.keras.Sequential()\n",
    "model.add(LSTM(50, return_sequences=True, input_shape=(7, 1)))\n",
    "model.add(LSTM(50, return_sequences=False))\n",
    "model.add(Dense(25))\n",
    "model.add(Dense(1))\n",
    "\n",
    "# Compile and train model\n",
    "model.compile(optimizer='adam', loss='mean_squared_error')\n"
   ]
  },
  {
   "cell_type": "code",
   "execution_count": null,
   "metadata": {
    "id": "zzE3uLrBVEfp"
   },
   "outputs": [],
   "source": []
  },
  {
   "cell_type": "code",
   "execution_count": null,
   "metadata": {
    "id": "VSpJ8e_2VEfq"
   },
   "outputs": [],
   "source": []
  },
  {
   "cell_type": "code",
   "execution_count": null,
   "metadata": {
    "id": "CrVIrbp0VEfq"
   },
   "outputs": [],
   "source": [
    "from sklearn.svm import SVR\n",
    "from sklearn.linear_model import LinearRegression\n",
    "from sklearn.model_selection import train_test_split\n",
    "\n",
    "acc2 = {}\n",
    "profit2={}\n",
    "#Tesla\n",
    "for s in selected:\n",
    "    idx = sp500.index(s)\n",
    "    stock = df_list3[idx].dropna()\n",
    "    X = stock\n",
    "    y = stock['pred_price']\n",
    "    \n",
    "    X_train_orig, X_test_orig, y_train, y_test = train_test_split(X,y,test_size=0.2,shuffle=False)\n",
    "    X_train = X_train_orig.iloc[:,2:-3]\n",
    "    X_test = X_test_orig.iloc[:,2:-3]    \n",
    "    \"\"\"\n",
    "    svr_rbf = SVR(kernel='rbf',C=1e3,gamma=0.1)\n",
    "    svr_rbf.fit(X_train,y_train)\n",
    "    svm_scores = svr_rbf.score(X_test,y_test)\n",
    "    svm_scores\n",
    "    \"\"\"\n",
    "    X1_train = np.reshape(X_train.values,(X_train.shape[0], X_train.shape[1], 1))\n",
    "    y1_train = y_train.values\n",
    "\n",
    "\n",
    "    X1_test = np.reshape(X_test.values,(X_test.shape[0], X_test.shape[1], 1))\n",
    "    y1_test = y_test.values\n",
    "    input_shape = X1_train.shape\n",
    "    batch_size=128\n",
    "    \n",
    "    lstm_model2.fit(X1_train, y1_train, epochs=200, batch_size=32, verbose=0)\n",
    "    predictions = lstm_model2.predict(X1_test)\n",
    "    \n",
    "    pred1 = predictions.reshape(y1_test.shape)\n",
    "    #pred1\n",
    "    #merged_df['trend'] = merged_df['daily_returns_overall']\n",
    "\n",
    "    pred2 = (pred1-X_test.Close).apply(condition)\n",
    "    X_test.Close-pred1\n",
    "    #pred2\n",
    "\n",
    "    pred = (y_test-X_test.Close).apply(condition)\n",
    "\n",
    "    #pred\n",
    "    acc = sum(pred==pred2)/len(pred)\n",
    "    acc2[s]=acc\n",
    "    \n",
    "    stock_test_df = pd.concat([X_test_orig.reset_index(), pd.DataFrame({'model_pred':pred_cat}).reset_index()],axis=1)\n",
    "    \n",
    "    stock_test_df['buy'] = stock_test_df['model_pred'].apply(lambda x: 1 if x == 'increase' else 0)\n",
    "    stock_test_df['spend'] = 5000 * stock_test_df['buy']\n",
    "    stock_test_df['shares'] = stock_test_df['spend']// stock_test_df['Close']\n",
    "    stock_test_df['profit'] = stock_test_df['shares'] * stock_test_df['next_day_return']\n",
    "    print(stock_test_df)\n",
    "    output_list1.append(stock_test_df)\n",
    "    \n",
    "    profit2[s] = sum(stock_test_df['profit'])    "
   ]
  },
  {
   "cell_type": "code",
   "execution_count": null,
   "metadata": {
    "colab": {
     "base_uri": "https://localhost:8080/"
    },
    "id": "JZOjCldFVEfq",
    "outputId": "be3db98b-c651-4f33-dc6c-d0da2742f6d5"
   },
   "outputs": [
    {
     "data": {
      "text/plain": [
       "{'CARR': 0.5247524752475248,\n",
       " 'ENPH': 0.504950495049505,\n",
       " 'TSLA': 0.43564356435643564,\n",
       " 'DHR': 0.4306930693069307,\n",
       " 'AMD': 0.504950495049505,\n",
       " 'MRNA': 0.49504950495049505,\n",
       " 'DHI': 0.5297029702970297}"
      ]
     },
     "execution_count": 58,
     "metadata": {},
     "output_type": "execute_result"
    }
   ],
   "source": [
    "acc2"
   ]
  },
  {
   "cell_type": "code",
   "execution_count": null,
   "metadata": {
    "colab": {
     "base_uri": "https://localhost:8080/"
    },
    "id": "pdQ4nau7VEfq",
    "outputId": "8618daaa-1ee5-4c3b-c4dd-58d674350f7d"
   },
   "outputs": [
    {
     "data": {
      "text/plain": [
       "{'CARR': -3687.9318670199514,\n",
       " 'ENPH': -765.7824367634297,\n",
       " 'TSLA': -1368.1476848734585,\n",
       " 'DHR': -535.0884936735945,\n",
       " 'AMD': 70.99224068117414,\n",
       " 'MRNA': -141.7624687837607,\n",
       " 'DHI': -49.20119658671645}"
      ]
     },
     "execution_count": 59,
     "metadata": {},
     "output_type": "execute_result"
    }
   ],
   "source": [
    "profit2"
   ]
  },
  {
   "cell_type": "code",
   "execution_count": null,
   "metadata": {
    "id": "ddYo1zCOi1Hx"
   },
   "outputs": [],
   "source": [
    "acc_df = acc_df.append(pd.DataFrame([acc2],index=['LSTM2_val']))\n",
    "profit_df = profit_df.append(pd.DataFrame([profit2],index=['LSTM2_val']))"
   ]
  },
  {
   "cell_type": "code",
   "execution_count": null,
   "metadata": {
    "colab": {
     "base_uri": "https://localhost:8080/",
     "height": 112
    },
    "id": "OpaMu6osjhpF",
    "outputId": "4d1ca8a3-ccb0-4541-d2bb-7655e4f10060"
   },
   "outputs": [
    {
     "data": {
      "text/html": [
       "\n",
       "  <div id=\"df-d710ba3b-bd1d-4c7b-9d4d-18d66376e7b5\">\n",
       "    <div class=\"colab-df-container\">\n",
       "      <div>\n",
       "<style scoped>\n",
       "    .dataframe tbody tr th:only-of-type {\n",
       "        vertical-align: middle;\n",
       "    }\n",
       "\n",
       "    .dataframe tbody tr th {\n",
       "        vertical-align: top;\n",
       "    }\n",
       "\n",
       "    .dataframe thead th {\n",
       "        text-align: right;\n",
       "    }\n",
       "</style>\n",
       "<table border=\"1\" class=\"dataframe\">\n",
       "  <thead>\n",
       "    <tr style=\"text-align: right;\">\n",
       "      <th></th>\n",
       "      <th>CARR</th>\n",
       "      <th>ENPH</th>\n",
       "      <th>TSLA</th>\n",
       "      <th>DHR</th>\n",
       "      <th>AMD</th>\n",
       "      <th>MRNA</th>\n",
       "      <th>DHI</th>\n",
       "    </tr>\n",
       "  </thead>\n",
       "  <tbody>\n",
       "    <tr>\n",
       "      <th>LSTM2_trend</th>\n",
       "      <td>0.5198019801980198</td>\n",
       "      <td>0.4752475247524752</td>\n",
       "      <td>0.47029702970297027</td>\n",
       "      <td>0.4801980198019802</td>\n",
       "      <td>0.504950495049505</td>\n",
       "      <td>0.5396039603960396</td>\n",
       "      <td>0.5247524752475248</td>\n",
       "    </tr>\n",
       "    <tr>\n",
       "      <th>LSTM2_val</th>\n",
       "      <td>0.5247524752475248</td>\n",
       "      <td>0.504950495049505</td>\n",
       "      <td>0.43564356435643564</td>\n",
       "      <td>0.4306930693069307</td>\n",
       "      <td>0.504950495049505</td>\n",
       "      <td>0.49504950495049505</td>\n",
       "      <td>0.5297029702970297</td>\n",
       "    </tr>\n",
       "  </tbody>\n",
       "</table>\n",
       "</div>\n",
       "      <button class=\"colab-df-convert\" onclick=\"convertToInteractive('df-d710ba3b-bd1d-4c7b-9d4d-18d66376e7b5')\"\n",
       "              title=\"Convert this dataframe to an interactive table.\"\n",
       "              style=\"display:none;\">\n",
       "        \n",
       "  <svg xmlns=\"http://www.w3.org/2000/svg\" height=\"24px\"viewBox=\"0 0 24 24\"\n",
       "       width=\"24px\">\n",
       "    <path d=\"M0 0h24v24H0V0z\" fill=\"none\"/>\n",
       "    <path d=\"M18.56 5.44l.94 2.06.94-2.06 2.06-.94-2.06-.94-.94-2.06-.94 2.06-2.06.94zm-11 1L8.5 8.5l.94-2.06 2.06-.94-2.06-.94L8.5 2.5l-.94 2.06-2.06.94zm10 10l.94 2.06.94-2.06 2.06-.94-2.06-.94-.94-2.06-.94 2.06-2.06.94z\"/><path d=\"M17.41 7.96l-1.37-1.37c-.4-.4-.92-.59-1.43-.59-.52 0-1.04.2-1.43.59L10.3 9.45l-7.72 7.72c-.78.78-.78 2.05 0 2.83L4 21.41c.39.39.9.59 1.41.59.51 0 1.02-.2 1.41-.59l7.78-7.78 2.81-2.81c.8-.78.8-2.07 0-2.86zM5.41 20L4 18.59l7.72-7.72 1.47 1.35L5.41 20z\"/>\n",
       "  </svg>\n",
       "      </button>\n",
       "      \n",
       "  <style>\n",
       "    .colab-df-container {\n",
       "      display:flex;\n",
       "      flex-wrap:wrap;\n",
       "      gap: 12px;\n",
       "    }\n",
       "\n",
       "    .colab-df-convert {\n",
       "      background-color: #E8F0FE;\n",
       "      border: none;\n",
       "      border-radius: 50%;\n",
       "      cursor: pointer;\n",
       "      display: none;\n",
       "      fill: #1967D2;\n",
       "      height: 32px;\n",
       "      padding: 0 0 0 0;\n",
       "      width: 32px;\n",
       "    }\n",
       "\n",
       "    .colab-df-convert:hover {\n",
       "      background-color: #E2EBFA;\n",
       "      box-shadow: 0px 1px 2px rgba(60, 64, 67, 0.3), 0px 1px 3px 1px rgba(60, 64, 67, 0.15);\n",
       "      fill: #174EA6;\n",
       "    }\n",
       "\n",
       "    [theme=dark] .colab-df-convert {\n",
       "      background-color: #3B4455;\n",
       "      fill: #D2E3FC;\n",
       "    }\n",
       "\n",
       "    [theme=dark] .colab-df-convert:hover {\n",
       "      background-color: #434B5C;\n",
       "      box-shadow: 0px 1px 3px 1px rgba(0, 0, 0, 0.15);\n",
       "      filter: drop-shadow(0px 1px 2px rgba(0, 0, 0, 0.3));\n",
       "      fill: #FFFFFF;\n",
       "    }\n",
       "  </style>\n",
       "\n",
       "      <script>\n",
       "        const buttonEl =\n",
       "          document.querySelector('#df-d710ba3b-bd1d-4c7b-9d4d-18d66376e7b5 button.colab-df-convert');\n",
       "        buttonEl.style.display =\n",
       "          google.colab.kernel.accessAllowed ? 'block' : 'none';\n",
       "\n",
       "        async function convertToInteractive(key) {\n",
       "          const element = document.querySelector('#df-d710ba3b-bd1d-4c7b-9d4d-18d66376e7b5');\n",
       "          const dataTable =\n",
       "            await google.colab.kernel.invokeFunction('convertToInteractive',\n",
       "                                                     [key], {});\n",
       "          if (!dataTable) return;\n",
       "\n",
       "          const docLinkHtml = 'Like what you see? Visit the ' +\n",
       "            '<a target=\"_blank\" href=https://colab.research.google.com/notebooks/data_table.ipynb>data table notebook</a>'\n",
       "            + ' to learn more about interactive tables.';\n",
       "          element.innerHTML = '';\n",
       "          dataTable['output_type'] = 'display_data';\n",
       "          await google.colab.output.renderOutput(dataTable, element);\n",
       "          const docLink = document.createElement('div');\n",
       "          docLink.innerHTML = docLinkHtml;\n",
       "          element.appendChild(docLink);\n",
       "        }\n",
       "      </script>\n",
       "    </div>\n",
       "  </div>\n",
       "  "
      ],
      "text/plain": [
       "                          CARR               ENPH                TSLA  \\\n",
       "LSTM2_trend 0.5198019801980198 0.4752475247524752 0.47029702970297027   \n",
       "LSTM2_val   0.5247524752475248  0.504950495049505 0.43564356435643564   \n",
       "\n",
       "                           DHR               AMD                MRNA  \\\n",
       "LSTM2_trend 0.4801980198019802 0.504950495049505  0.5396039603960396   \n",
       "LSTM2_val   0.4306930693069307 0.504950495049505 0.49504950495049505   \n",
       "\n",
       "                           DHI  \n",
       "LSTM2_trend 0.5247524752475248  \n",
       "LSTM2_val   0.5297029702970297  "
      ]
     },
     "execution_count": 61,
     "metadata": {},
     "output_type": "execute_result"
    }
   ],
   "source": [
    "acc_df"
   ]
  },
  {
   "cell_type": "code",
   "execution_count": null,
   "metadata": {
    "id": "AYRmoLl_VEfr"
   },
   "outputs": [],
   "source": [
    "svm_model = SVR(kernel='rbf', C=100, gamma=0.1, epsilon=.1)\n",
    "\n"
   ]
  },
  {
   "cell_type": "code",
   "execution_count": null,
   "metadata": {
    "colab": {
     "base_uri": "https://localhost:8080/",
     "height": 439
    },
    "id": "quRK6BlhVEfr",
    "outputId": "f413bfdf-5ba8-4873-ab09-c238dba62b75"
   },
   "outputs": [
    {
     "data": {
      "application/vnd.google.colaboratory.intrinsic+json": {
       "type": "string"
      },
      "text/plain": [
       "''"
      ]
     },
     "execution_count": 63,
     "metadata": {},
     "output_type": "execute_result"
    },
    {
     "data": {
      "text/html": [
       "<style>#sk-container-id-1 {color: black;background-color: white;}#sk-container-id-1 pre{padding: 0;}#sk-container-id-1 div.sk-toggleable {background-color: white;}#sk-container-id-1 label.sk-toggleable__label {cursor: pointer;display: block;width: 100%;margin-bottom: 0;padding: 0.3em;box-sizing: border-box;text-align: center;}#sk-container-id-1 label.sk-toggleable__label-arrow:before {content: \"▸\";float: left;margin-right: 0.25em;color: #696969;}#sk-container-id-1 label.sk-toggleable__label-arrow:hover:before {color: black;}#sk-container-id-1 div.sk-estimator:hover label.sk-toggleable__label-arrow:before {color: black;}#sk-container-id-1 div.sk-toggleable__content {max-height: 0;max-width: 0;overflow: hidden;text-align: left;background-color: #f0f8ff;}#sk-container-id-1 div.sk-toggleable__content pre {margin: 0.2em;color: black;border-radius: 0.25em;background-color: #f0f8ff;}#sk-container-id-1 input.sk-toggleable__control:checked~div.sk-toggleable__content {max-height: 200px;max-width: 100%;overflow: auto;}#sk-container-id-1 input.sk-toggleable__control:checked~label.sk-toggleable__label-arrow:before {content: \"▾\";}#sk-container-id-1 div.sk-estimator input.sk-toggleable__control:checked~label.sk-toggleable__label {background-color: #d4ebff;}#sk-container-id-1 div.sk-label input.sk-toggleable__control:checked~label.sk-toggleable__label {background-color: #d4ebff;}#sk-container-id-1 input.sk-hidden--visually {border: 0;clip: rect(1px 1px 1px 1px);clip: rect(1px, 1px, 1px, 1px);height: 1px;margin: -1px;overflow: hidden;padding: 0;position: absolute;width: 1px;}#sk-container-id-1 div.sk-estimator {font-family: monospace;background-color: #f0f8ff;border: 1px dotted black;border-radius: 0.25em;box-sizing: border-box;margin-bottom: 0.5em;}#sk-container-id-1 div.sk-estimator:hover {background-color: #d4ebff;}#sk-container-id-1 div.sk-parallel-item::after {content: \"\";width: 100%;border-bottom: 1px solid gray;flex-grow: 1;}#sk-container-id-1 div.sk-label:hover label.sk-toggleable__label {background-color: #d4ebff;}#sk-container-id-1 div.sk-serial::before {content: \"\";position: absolute;border-left: 1px solid gray;box-sizing: border-box;top: 0;bottom: 0;left: 50%;z-index: 0;}#sk-container-id-1 div.sk-serial {display: flex;flex-direction: column;align-items: center;background-color: white;padding-right: 0.2em;padding-left: 0.2em;position: relative;}#sk-container-id-1 div.sk-item {position: relative;z-index: 1;}#sk-container-id-1 div.sk-parallel {display: flex;align-items: stretch;justify-content: center;background-color: white;position: relative;}#sk-container-id-1 div.sk-item::before, #sk-container-id-1 div.sk-parallel-item::before {content: \"\";position: absolute;border-left: 1px solid gray;box-sizing: border-box;top: 0;bottom: 0;left: 50%;z-index: -1;}#sk-container-id-1 div.sk-parallel-item {display: flex;flex-direction: column;z-index: 1;position: relative;background-color: white;}#sk-container-id-1 div.sk-parallel-item:first-child::after {align-self: flex-end;width: 50%;}#sk-container-id-1 div.sk-parallel-item:last-child::after {align-self: flex-start;width: 50%;}#sk-container-id-1 div.sk-parallel-item:only-child::after {width: 0;}#sk-container-id-1 div.sk-dashed-wrapped {border: 1px dashed gray;margin: 0 0.4em 0.5em 0.4em;box-sizing: border-box;padding-bottom: 0.4em;background-color: white;}#sk-container-id-1 div.sk-label label {font-family: monospace;font-weight: bold;display: inline-block;line-height: 1.2em;}#sk-container-id-1 div.sk-label-container {text-align: center;}#sk-container-id-1 div.sk-container {/* jupyter's `normalize.less` sets `[hidden] { display: none; }` but bootstrap.min.css set `[hidden] { display: none !important; }` so we also need the `!important` here to be able to override the default hidden behavior on the sphinx rendered scikit-learn.org. See: https://github.com/scikit-learn/scikit-learn/issues/21755 */display: inline-block !important;position: relative;}#sk-container-id-1 div.sk-text-repr-fallback {display: none;}</style><div id=\"sk-container-id-1\" class=\"sk-top-container\"><div class=\"sk-text-repr-fallback\"><pre>SVR(C=100, gamma=0.1)</pre><b>In a Jupyter environment, please rerun this cell to show the HTML representation or trust the notebook. <br />On GitHub, the HTML representation is unable to render, please try loading this page with nbviewer.org.</b></div><div class=\"sk-container\" hidden><div class=\"sk-item\"><div class=\"sk-estimator sk-toggleable\"><input class=\"sk-toggleable__control sk-hidden--visually\" id=\"sk-estimator-id-1\" type=\"checkbox\" checked><label for=\"sk-estimator-id-1\" class=\"sk-toggleable__label sk-toggleable__label-arrow\">SVR</label><div class=\"sk-toggleable__content\"><pre>SVR(C=100, gamma=0.1)</pre></div></div></div></div></div>"
      ],
      "text/plain": [
       "SVR(C=100, gamma=0.1)"
      ]
     },
     "execution_count": 63,
     "metadata": {},
     "output_type": "execute_result"
    },
    {
     "data": {
      "text/html": [
       "<style>#sk-container-id-2 {color: black;background-color: white;}#sk-container-id-2 pre{padding: 0;}#sk-container-id-2 div.sk-toggleable {background-color: white;}#sk-container-id-2 label.sk-toggleable__label {cursor: pointer;display: block;width: 100%;margin-bottom: 0;padding: 0.3em;box-sizing: border-box;text-align: center;}#sk-container-id-2 label.sk-toggleable__label-arrow:before {content: \"▸\";float: left;margin-right: 0.25em;color: #696969;}#sk-container-id-2 label.sk-toggleable__label-arrow:hover:before {color: black;}#sk-container-id-2 div.sk-estimator:hover label.sk-toggleable__label-arrow:before {color: black;}#sk-container-id-2 div.sk-toggleable__content {max-height: 0;max-width: 0;overflow: hidden;text-align: left;background-color: #f0f8ff;}#sk-container-id-2 div.sk-toggleable__content pre {margin: 0.2em;color: black;border-radius: 0.25em;background-color: #f0f8ff;}#sk-container-id-2 input.sk-toggleable__control:checked~div.sk-toggleable__content {max-height: 200px;max-width: 100%;overflow: auto;}#sk-container-id-2 input.sk-toggleable__control:checked~label.sk-toggleable__label-arrow:before {content: \"▾\";}#sk-container-id-2 div.sk-estimator input.sk-toggleable__control:checked~label.sk-toggleable__label {background-color: #d4ebff;}#sk-container-id-2 div.sk-label input.sk-toggleable__control:checked~label.sk-toggleable__label {background-color: #d4ebff;}#sk-container-id-2 input.sk-hidden--visually {border: 0;clip: rect(1px 1px 1px 1px);clip: rect(1px, 1px, 1px, 1px);height: 1px;margin: -1px;overflow: hidden;padding: 0;position: absolute;width: 1px;}#sk-container-id-2 div.sk-estimator {font-family: monospace;background-color: #f0f8ff;border: 1px dotted black;border-radius: 0.25em;box-sizing: border-box;margin-bottom: 0.5em;}#sk-container-id-2 div.sk-estimator:hover {background-color: #d4ebff;}#sk-container-id-2 div.sk-parallel-item::after {content: \"\";width: 100%;border-bottom: 1px solid gray;flex-grow: 1;}#sk-container-id-2 div.sk-label:hover label.sk-toggleable__label {background-color: #d4ebff;}#sk-container-id-2 div.sk-serial::before {content: \"\";position: absolute;border-left: 1px solid gray;box-sizing: border-box;top: 0;bottom: 0;left: 50%;z-index: 0;}#sk-container-id-2 div.sk-serial {display: flex;flex-direction: column;align-items: center;background-color: white;padding-right: 0.2em;padding-left: 0.2em;position: relative;}#sk-container-id-2 div.sk-item {position: relative;z-index: 1;}#sk-container-id-2 div.sk-parallel {display: flex;align-items: stretch;justify-content: center;background-color: white;position: relative;}#sk-container-id-2 div.sk-item::before, #sk-container-id-2 div.sk-parallel-item::before {content: \"\";position: absolute;border-left: 1px solid gray;box-sizing: border-box;top: 0;bottom: 0;left: 50%;z-index: -1;}#sk-container-id-2 div.sk-parallel-item {display: flex;flex-direction: column;z-index: 1;position: relative;background-color: white;}#sk-container-id-2 div.sk-parallel-item:first-child::after {align-self: flex-end;width: 50%;}#sk-container-id-2 div.sk-parallel-item:last-child::after {align-self: flex-start;width: 50%;}#sk-container-id-2 div.sk-parallel-item:only-child::after {width: 0;}#sk-container-id-2 div.sk-dashed-wrapped {border: 1px dashed gray;margin: 0 0.4em 0.5em 0.4em;box-sizing: border-box;padding-bottom: 0.4em;background-color: white;}#sk-container-id-2 div.sk-label label {font-family: monospace;font-weight: bold;display: inline-block;line-height: 1.2em;}#sk-container-id-2 div.sk-label-container {text-align: center;}#sk-container-id-2 div.sk-container {/* jupyter's `normalize.less` sets `[hidden] { display: none; }` but bootstrap.min.css set `[hidden] { display: none !important; }` so we also need the `!important` here to be able to override the default hidden behavior on the sphinx rendered scikit-learn.org. See: https://github.com/scikit-learn/scikit-learn/issues/21755 */display: inline-block !important;position: relative;}#sk-container-id-2 div.sk-text-repr-fallback {display: none;}</style><div id=\"sk-container-id-2\" class=\"sk-top-container\"><div class=\"sk-text-repr-fallback\"><pre>SVR(C=100, gamma=0.1)</pre><b>In a Jupyter environment, please rerun this cell to show the HTML representation or trust the notebook. <br />On GitHub, the HTML representation is unable to render, please try loading this page with nbviewer.org.</b></div><div class=\"sk-container\" hidden><div class=\"sk-item\"><div class=\"sk-estimator sk-toggleable\"><input class=\"sk-toggleable__control sk-hidden--visually\" id=\"sk-estimator-id-2\" type=\"checkbox\" checked><label for=\"sk-estimator-id-2\" class=\"sk-toggleable__label sk-toggleable__label-arrow\">SVR</label><div class=\"sk-toggleable__content\"><pre>SVR(C=100, gamma=0.1)</pre></div></div></div></div></div>"
      ],
      "text/plain": [
       "SVR(C=100, gamma=0.1)"
      ]
     },
     "execution_count": 63,
     "metadata": {},
     "output_type": "execute_result"
    },
    {
     "data": {
      "text/html": [
       "<style>#sk-container-id-3 {color: black;background-color: white;}#sk-container-id-3 pre{padding: 0;}#sk-container-id-3 div.sk-toggleable {background-color: white;}#sk-container-id-3 label.sk-toggleable__label {cursor: pointer;display: block;width: 100%;margin-bottom: 0;padding: 0.3em;box-sizing: border-box;text-align: center;}#sk-container-id-3 label.sk-toggleable__label-arrow:before {content: \"▸\";float: left;margin-right: 0.25em;color: #696969;}#sk-container-id-3 label.sk-toggleable__label-arrow:hover:before {color: black;}#sk-container-id-3 div.sk-estimator:hover label.sk-toggleable__label-arrow:before {color: black;}#sk-container-id-3 div.sk-toggleable__content {max-height: 0;max-width: 0;overflow: hidden;text-align: left;background-color: #f0f8ff;}#sk-container-id-3 div.sk-toggleable__content pre {margin: 0.2em;color: black;border-radius: 0.25em;background-color: #f0f8ff;}#sk-container-id-3 input.sk-toggleable__control:checked~div.sk-toggleable__content {max-height: 200px;max-width: 100%;overflow: auto;}#sk-container-id-3 input.sk-toggleable__control:checked~label.sk-toggleable__label-arrow:before {content: \"▾\";}#sk-container-id-3 div.sk-estimator input.sk-toggleable__control:checked~label.sk-toggleable__label {background-color: #d4ebff;}#sk-container-id-3 div.sk-label input.sk-toggleable__control:checked~label.sk-toggleable__label {background-color: #d4ebff;}#sk-container-id-3 input.sk-hidden--visually {border: 0;clip: rect(1px 1px 1px 1px);clip: rect(1px, 1px, 1px, 1px);height: 1px;margin: -1px;overflow: hidden;padding: 0;position: absolute;width: 1px;}#sk-container-id-3 div.sk-estimator {font-family: monospace;background-color: #f0f8ff;border: 1px dotted black;border-radius: 0.25em;box-sizing: border-box;margin-bottom: 0.5em;}#sk-container-id-3 div.sk-estimator:hover {background-color: #d4ebff;}#sk-container-id-3 div.sk-parallel-item::after {content: \"\";width: 100%;border-bottom: 1px solid gray;flex-grow: 1;}#sk-container-id-3 div.sk-label:hover label.sk-toggleable__label {background-color: #d4ebff;}#sk-container-id-3 div.sk-serial::before {content: \"\";position: absolute;border-left: 1px solid gray;box-sizing: border-box;top: 0;bottom: 0;left: 50%;z-index: 0;}#sk-container-id-3 div.sk-serial {display: flex;flex-direction: column;align-items: center;background-color: white;padding-right: 0.2em;padding-left: 0.2em;position: relative;}#sk-container-id-3 div.sk-item {position: relative;z-index: 1;}#sk-container-id-3 div.sk-parallel {display: flex;align-items: stretch;justify-content: center;background-color: white;position: relative;}#sk-container-id-3 div.sk-item::before, #sk-container-id-3 div.sk-parallel-item::before {content: \"\";position: absolute;border-left: 1px solid gray;box-sizing: border-box;top: 0;bottom: 0;left: 50%;z-index: -1;}#sk-container-id-3 div.sk-parallel-item {display: flex;flex-direction: column;z-index: 1;position: relative;background-color: white;}#sk-container-id-3 div.sk-parallel-item:first-child::after {align-self: flex-end;width: 50%;}#sk-container-id-3 div.sk-parallel-item:last-child::after {align-self: flex-start;width: 50%;}#sk-container-id-3 div.sk-parallel-item:only-child::after {width: 0;}#sk-container-id-3 div.sk-dashed-wrapped {border: 1px dashed gray;margin: 0 0.4em 0.5em 0.4em;box-sizing: border-box;padding-bottom: 0.4em;background-color: white;}#sk-container-id-3 div.sk-label label {font-family: monospace;font-weight: bold;display: inline-block;line-height: 1.2em;}#sk-container-id-3 div.sk-label-container {text-align: center;}#sk-container-id-3 div.sk-container {/* jupyter's `normalize.less` sets `[hidden] { display: none; }` but bootstrap.min.css set `[hidden] { display: none !important; }` so we also need the `!important` here to be able to override the default hidden behavior on the sphinx rendered scikit-learn.org. See: https://github.com/scikit-learn/scikit-learn/issues/21755 */display: inline-block !important;position: relative;}#sk-container-id-3 div.sk-text-repr-fallback {display: none;}</style><div id=\"sk-container-id-3\" class=\"sk-top-container\"><div class=\"sk-text-repr-fallback\"><pre>SVR(C=100, gamma=0.1)</pre><b>In a Jupyter environment, please rerun this cell to show the HTML representation or trust the notebook. <br />On GitHub, the HTML representation is unable to render, please try loading this page with nbviewer.org.</b></div><div class=\"sk-container\" hidden><div class=\"sk-item\"><div class=\"sk-estimator sk-toggleable\"><input class=\"sk-toggleable__control sk-hidden--visually\" id=\"sk-estimator-id-3\" type=\"checkbox\" checked><label for=\"sk-estimator-id-3\" class=\"sk-toggleable__label sk-toggleable__label-arrow\">SVR</label><div class=\"sk-toggleable__content\"><pre>SVR(C=100, gamma=0.1)</pre></div></div></div></div></div>"
      ],
      "text/plain": [
       "SVR(C=100, gamma=0.1)"
      ]
     },
     "execution_count": 63,
     "metadata": {},
     "output_type": "execute_result"
    },
    {
     "data": {
      "text/html": [
       "<style>#sk-container-id-4 {color: black;background-color: white;}#sk-container-id-4 pre{padding: 0;}#sk-container-id-4 div.sk-toggleable {background-color: white;}#sk-container-id-4 label.sk-toggleable__label {cursor: pointer;display: block;width: 100%;margin-bottom: 0;padding: 0.3em;box-sizing: border-box;text-align: center;}#sk-container-id-4 label.sk-toggleable__label-arrow:before {content: \"▸\";float: left;margin-right: 0.25em;color: #696969;}#sk-container-id-4 label.sk-toggleable__label-arrow:hover:before {color: black;}#sk-container-id-4 div.sk-estimator:hover label.sk-toggleable__label-arrow:before {color: black;}#sk-container-id-4 div.sk-toggleable__content {max-height: 0;max-width: 0;overflow: hidden;text-align: left;background-color: #f0f8ff;}#sk-container-id-4 div.sk-toggleable__content pre {margin: 0.2em;color: black;border-radius: 0.25em;background-color: #f0f8ff;}#sk-container-id-4 input.sk-toggleable__control:checked~div.sk-toggleable__content {max-height: 200px;max-width: 100%;overflow: auto;}#sk-container-id-4 input.sk-toggleable__control:checked~label.sk-toggleable__label-arrow:before {content: \"▾\";}#sk-container-id-4 div.sk-estimator input.sk-toggleable__control:checked~label.sk-toggleable__label {background-color: #d4ebff;}#sk-container-id-4 div.sk-label input.sk-toggleable__control:checked~label.sk-toggleable__label {background-color: #d4ebff;}#sk-container-id-4 input.sk-hidden--visually {border: 0;clip: rect(1px 1px 1px 1px);clip: rect(1px, 1px, 1px, 1px);height: 1px;margin: -1px;overflow: hidden;padding: 0;position: absolute;width: 1px;}#sk-container-id-4 div.sk-estimator {font-family: monospace;background-color: #f0f8ff;border: 1px dotted black;border-radius: 0.25em;box-sizing: border-box;margin-bottom: 0.5em;}#sk-container-id-4 div.sk-estimator:hover {background-color: #d4ebff;}#sk-container-id-4 div.sk-parallel-item::after {content: \"\";width: 100%;border-bottom: 1px solid gray;flex-grow: 1;}#sk-container-id-4 div.sk-label:hover label.sk-toggleable__label {background-color: #d4ebff;}#sk-container-id-4 div.sk-serial::before {content: \"\";position: absolute;border-left: 1px solid gray;box-sizing: border-box;top: 0;bottom: 0;left: 50%;z-index: 0;}#sk-container-id-4 div.sk-serial {display: flex;flex-direction: column;align-items: center;background-color: white;padding-right: 0.2em;padding-left: 0.2em;position: relative;}#sk-container-id-4 div.sk-item {position: relative;z-index: 1;}#sk-container-id-4 div.sk-parallel {display: flex;align-items: stretch;justify-content: center;background-color: white;position: relative;}#sk-container-id-4 div.sk-item::before, #sk-container-id-4 div.sk-parallel-item::before {content: \"\";position: absolute;border-left: 1px solid gray;box-sizing: border-box;top: 0;bottom: 0;left: 50%;z-index: -1;}#sk-container-id-4 div.sk-parallel-item {display: flex;flex-direction: column;z-index: 1;position: relative;background-color: white;}#sk-container-id-4 div.sk-parallel-item:first-child::after {align-self: flex-end;width: 50%;}#sk-container-id-4 div.sk-parallel-item:last-child::after {align-self: flex-start;width: 50%;}#sk-container-id-4 div.sk-parallel-item:only-child::after {width: 0;}#sk-container-id-4 div.sk-dashed-wrapped {border: 1px dashed gray;margin: 0 0.4em 0.5em 0.4em;box-sizing: border-box;padding-bottom: 0.4em;background-color: white;}#sk-container-id-4 div.sk-label label {font-family: monospace;font-weight: bold;display: inline-block;line-height: 1.2em;}#sk-container-id-4 div.sk-label-container {text-align: center;}#sk-container-id-4 div.sk-container {/* jupyter's `normalize.less` sets `[hidden] { display: none; }` but bootstrap.min.css set `[hidden] { display: none !important; }` so we also need the `!important` here to be able to override the default hidden behavior on the sphinx rendered scikit-learn.org. See: https://github.com/scikit-learn/scikit-learn/issues/21755 */display: inline-block !important;position: relative;}#sk-container-id-4 div.sk-text-repr-fallback {display: none;}</style><div id=\"sk-container-id-4\" class=\"sk-top-container\"><div class=\"sk-text-repr-fallback\"><pre>SVR(C=100, gamma=0.1)</pre><b>In a Jupyter environment, please rerun this cell to show the HTML representation or trust the notebook. <br />On GitHub, the HTML representation is unable to render, please try loading this page with nbviewer.org.</b></div><div class=\"sk-container\" hidden><div class=\"sk-item\"><div class=\"sk-estimator sk-toggleable\"><input class=\"sk-toggleable__control sk-hidden--visually\" id=\"sk-estimator-id-4\" type=\"checkbox\" checked><label for=\"sk-estimator-id-4\" class=\"sk-toggleable__label sk-toggleable__label-arrow\">SVR</label><div class=\"sk-toggleable__content\"><pre>SVR(C=100, gamma=0.1)</pre></div></div></div></div></div>"
      ],
      "text/plain": [
       "SVR(C=100, gamma=0.1)"
      ]
     },
     "execution_count": 63,
     "metadata": {},
     "output_type": "execute_result"
    },
    {
     "data": {
      "text/html": [
       "<style>#sk-container-id-5 {color: black;background-color: white;}#sk-container-id-5 pre{padding: 0;}#sk-container-id-5 div.sk-toggleable {background-color: white;}#sk-container-id-5 label.sk-toggleable__label {cursor: pointer;display: block;width: 100%;margin-bottom: 0;padding: 0.3em;box-sizing: border-box;text-align: center;}#sk-container-id-5 label.sk-toggleable__label-arrow:before {content: \"▸\";float: left;margin-right: 0.25em;color: #696969;}#sk-container-id-5 label.sk-toggleable__label-arrow:hover:before {color: black;}#sk-container-id-5 div.sk-estimator:hover label.sk-toggleable__label-arrow:before {color: black;}#sk-container-id-5 div.sk-toggleable__content {max-height: 0;max-width: 0;overflow: hidden;text-align: left;background-color: #f0f8ff;}#sk-container-id-5 div.sk-toggleable__content pre {margin: 0.2em;color: black;border-radius: 0.25em;background-color: #f0f8ff;}#sk-container-id-5 input.sk-toggleable__control:checked~div.sk-toggleable__content {max-height: 200px;max-width: 100%;overflow: auto;}#sk-container-id-5 input.sk-toggleable__control:checked~label.sk-toggleable__label-arrow:before {content: \"▾\";}#sk-container-id-5 div.sk-estimator input.sk-toggleable__control:checked~label.sk-toggleable__label {background-color: #d4ebff;}#sk-container-id-5 div.sk-label input.sk-toggleable__control:checked~label.sk-toggleable__label {background-color: #d4ebff;}#sk-container-id-5 input.sk-hidden--visually {border: 0;clip: rect(1px 1px 1px 1px);clip: rect(1px, 1px, 1px, 1px);height: 1px;margin: -1px;overflow: hidden;padding: 0;position: absolute;width: 1px;}#sk-container-id-5 div.sk-estimator {font-family: monospace;background-color: #f0f8ff;border: 1px dotted black;border-radius: 0.25em;box-sizing: border-box;margin-bottom: 0.5em;}#sk-container-id-5 div.sk-estimator:hover {background-color: #d4ebff;}#sk-container-id-5 div.sk-parallel-item::after {content: \"\";width: 100%;border-bottom: 1px solid gray;flex-grow: 1;}#sk-container-id-5 div.sk-label:hover label.sk-toggleable__label {background-color: #d4ebff;}#sk-container-id-5 div.sk-serial::before {content: \"\";position: absolute;border-left: 1px solid gray;box-sizing: border-box;top: 0;bottom: 0;left: 50%;z-index: 0;}#sk-container-id-5 div.sk-serial {display: flex;flex-direction: column;align-items: center;background-color: white;padding-right: 0.2em;padding-left: 0.2em;position: relative;}#sk-container-id-5 div.sk-item {position: relative;z-index: 1;}#sk-container-id-5 div.sk-parallel {display: flex;align-items: stretch;justify-content: center;background-color: white;position: relative;}#sk-container-id-5 div.sk-item::before, #sk-container-id-5 div.sk-parallel-item::before {content: \"\";position: absolute;border-left: 1px solid gray;box-sizing: border-box;top: 0;bottom: 0;left: 50%;z-index: -1;}#sk-container-id-5 div.sk-parallel-item {display: flex;flex-direction: column;z-index: 1;position: relative;background-color: white;}#sk-container-id-5 div.sk-parallel-item:first-child::after {align-self: flex-end;width: 50%;}#sk-container-id-5 div.sk-parallel-item:last-child::after {align-self: flex-start;width: 50%;}#sk-container-id-5 div.sk-parallel-item:only-child::after {width: 0;}#sk-container-id-5 div.sk-dashed-wrapped {border: 1px dashed gray;margin: 0 0.4em 0.5em 0.4em;box-sizing: border-box;padding-bottom: 0.4em;background-color: white;}#sk-container-id-5 div.sk-label label {font-family: monospace;font-weight: bold;display: inline-block;line-height: 1.2em;}#sk-container-id-5 div.sk-label-container {text-align: center;}#sk-container-id-5 div.sk-container {/* jupyter's `normalize.less` sets `[hidden] { display: none; }` but bootstrap.min.css set `[hidden] { display: none !important; }` so we also need the `!important` here to be able to override the default hidden behavior on the sphinx rendered scikit-learn.org. See: https://github.com/scikit-learn/scikit-learn/issues/21755 */display: inline-block !important;position: relative;}#sk-container-id-5 div.sk-text-repr-fallback {display: none;}</style><div id=\"sk-container-id-5\" class=\"sk-top-container\"><div class=\"sk-text-repr-fallback\"><pre>SVR(C=100, gamma=0.1)</pre><b>In a Jupyter environment, please rerun this cell to show the HTML representation or trust the notebook. <br />On GitHub, the HTML representation is unable to render, please try loading this page with nbviewer.org.</b></div><div class=\"sk-container\" hidden><div class=\"sk-item\"><div class=\"sk-estimator sk-toggleable\"><input class=\"sk-toggleable__control sk-hidden--visually\" id=\"sk-estimator-id-5\" type=\"checkbox\" checked><label for=\"sk-estimator-id-5\" class=\"sk-toggleable__label sk-toggleable__label-arrow\">SVR</label><div class=\"sk-toggleable__content\"><pre>SVR(C=100, gamma=0.1)</pre></div></div></div></div></div>"
      ],
      "text/plain": [
       "SVR(C=100, gamma=0.1)"
      ]
     },
     "execution_count": 63,
     "metadata": {},
     "output_type": "execute_result"
    },
    {
     "data": {
      "text/html": [
       "<style>#sk-container-id-6 {color: black;background-color: white;}#sk-container-id-6 pre{padding: 0;}#sk-container-id-6 div.sk-toggleable {background-color: white;}#sk-container-id-6 label.sk-toggleable__label {cursor: pointer;display: block;width: 100%;margin-bottom: 0;padding: 0.3em;box-sizing: border-box;text-align: center;}#sk-container-id-6 label.sk-toggleable__label-arrow:before {content: \"▸\";float: left;margin-right: 0.25em;color: #696969;}#sk-container-id-6 label.sk-toggleable__label-arrow:hover:before {color: black;}#sk-container-id-6 div.sk-estimator:hover label.sk-toggleable__label-arrow:before {color: black;}#sk-container-id-6 div.sk-toggleable__content {max-height: 0;max-width: 0;overflow: hidden;text-align: left;background-color: #f0f8ff;}#sk-container-id-6 div.sk-toggleable__content pre {margin: 0.2em;color: black;border-radius: 0.25em;background-color: #f0f8ff;}#sk-container-id-6 input.sk-toggleable__control:checked~div.sk-toggleable__content {max-height: 200px;max-width: 100%;overflow: auto;}#sk-container-id-6 input.sk-toggleable__control:checked~label.sk-toggleable__label-arrow:before {content: \"▾\";}#sk-container-id-6 div.sk-estimator input.sk-toggleable__control:checked~label.sk-toggleable__label {background-color: #d4ebff;}#sk-container-id-6 div.sk-label input.sk-toggleable__control:checked~label.sk-toggleable__label {background-color: #d4ebff;}#sk-container-id-6 input.sk-hidden--visually {border: 0;clip: rect(1px 1px 1px 1px);clip: rect(1px, 1px, 1px, 1px);height: 1px;margin: -1px;overflow: hidden;padding: 0;position: absolute;width: 1px;}#sk-container-id-6 div.sk-estimator {font-family: monospace;background-color: #f0f8ff;border: 1px dotted black;border-radius: 0.25em;box-sizing: border-box;margin-bottom: 0.5em;}#sk-container-id-6 div.sk-estimator:hover {background-color: #d4ebff;}#sk-container-id-6 div.sk-parallel-item::after {content: \"\";width: 100%;border-bottom: 1px solid gray;flex-grow: 1;}#sk-container-id-6 div.sk-label:hover label.sk-toggleable__label {background-color: #d4ebff;}#sk-container-id-6 div.sk-serial::before {content: \"\";position: absolute;border-left: 1px solid gray;box-sizing: border-box;top: 0;bottom: 0;left: 50%;z-index: 0;}#sk-container-id-6 div.sk-serial {display: flex;flex-direction: column;align-items: center;background-color: white;padding-right: 0.2em;padding-left: 0.2em;position: relative;}#sk-container-id-6 div.sk-item {position: relative;z-index: 1;}#sk-container-id-6 div.sk-parallel {display: flex;align-items: stretch;justify-content: center;background-color: white;position: relative;}#sk-container-id-6 div.sk-item::before, #sk-container-id-6 div.sk-parallel-item::before {content: \"\";position: absolute;border-left: 1px solid gray;box-sizing: border-box;top: 0;bottom: 0;left: 50%;z-index: -1;}#sk-container-id-6 div.sk-parallel-item {display: flex;flex-direction: column;z-index: 1;position: relative;background-color: white;}#sk-container-id-6 div.sk-parallel-item:first-child::after {align-self: flex-end;width: 50%;}#sk-container-id-6 div.sk-parallel-item:last-child::after {align-self: flex-start;width: 50%;}#sk-container-id-6 div.sk-parallel-item:only-child::after {width: 0;}#sk-container-id-6 div.sk-dashed-wrapped {border: 1px dashed gray;margin: 0 0.4em 0.5em 0.4em;box-sizing: border-box;padding-bottom: 0.4em;background-color: white;}#sk-container-id-6 div.sk-label label {font-family: monospace;font-weight: bold;display: inline-block;line-height: 1.2em;}#sk-container-id-6 div.sk-label-container {text-align: center;}#sk-container-id-6 div.sk-container {/* jupyter's `normalize.less` sets `[hidden] { display: none; }` but bootstrap.min.css set `[hidden] { display: none !important; }` so we also need the `!important` here to be able to override the default hidden behavior on the sphinx rendered scikit-learn.org. See: https://github.com/scikit-learn/scikit-learn/issues/21755 */display: inline-block !important;position: relative;}#sk-container-id-6 div.sk-text-repr-fallback {display: none;}</style><div id=\"sk-container-id-6\" class=\"sk-top-container\"><div class=\"sk-text-repr-fallback\"><pre>SVR(C=100, gamma=0.1)</pre><b>In a Jupyter environment, please rerun this cell to show the HTML representation or trust the notebook. <br />On GitHub, the HTML representation is unable to render, please try loading this page with nbviewer.org.</b></div><div class=\"sk-container\" hidden><div class=\"sk-item\"><div class=\"sk-estimator sk-toggleable\"><input class=\"sk-toggleable__control sk-hidden--visually\" id=\"sk-estimator-id-6\" type=\"checkbox\" checked><label for=\"sk-estimator-id-6\" class=\"sk-toggleable__label sk-toggleable__label-arrow\">SVR</label><div class=\"sk-toggleable__content\"><pre>SVR(C=100, gamma=0.1)</pre></div></div></div></div></div>"
      ],
      "text/plain": [
       "SVR(C=100, gamma=0.1)"
      ]
     },
     "execution_count": 63,
     "metadata": {},
     "output_type": "execute_result"
    },
    {
     "data": {
      "text/html": [
       "<style>#sk-container-id-7 {color: black;background-color: white;}#sk-container-id-7 pre{padding: 0;}#sk-container-id-7 div.sk-toggleable {background-color: white;}#sk-container-id-7 label.sk-toggleable__label {cursor: pointer;display: block;width: 100%;margin-bottom: 0;padding: 0.3em;box-sizing: border-box;text-align: center;}#sk-container-id-7 label.sk-toggleable__label-arrow:before {content: \"▸\";float: left;margin-right: 0.25em;color: #696969;}#sk-container-id-7 label.sk-toggleable__label-arrow:hover:before {color: black;}#sk-container-id-7 div.sk-estimator:hover label.sk-toggleable__label-arrow:before {color: black;}#sk-container-id-7 div.sk-toggleable__content {max-height: 0;max-width: 0;overflow: hidden;text-align: left;background-color: #f0f8ff;}#sk-container-id-7 div.sk-toggleable__content pre {margin: 0.2em;color: black;border-radius: 0.25em;background-color: #f0f8ff;}#sk-container-id-7 input.sk-toggleable__control:checked~div.sk-toggleable__content {max-height: 200px;max-width: 100%;overflow: auto;}#sk-container-id-7 input.sk-toggleable__control:checked~label.sk-toggleable__label-arrow:before {content: \"▾\";}#sk-container-id-7 div.sk-estimator input.sk-toggleable__control:checked~label.sk-toggleable__label {background-color: #d4ebff;}#sk-container-id-7 div.sk-label input.sk-toggleable__control:checked~label.sk-toggleable__label {background-color: #d4ebff;}#sk-container-id-7 input.sk-hidden--visually {border: 0;clip: rect(1px 1px 1px 1px);clip: rect(1px, 1px, 1px, 1px);height: 1px;margin: -1px;overflow: hidden;padding: 0;position: absolute;width: 1px;}#sk-container-id-7 div.sk-estimator {font-family: monospace;background-color: #f0f8ff;border: 1px dotted black;border-radius: 0.25em;box-sizing: border-box;margin-bottom: 0.5em;}#sk-container-id-7 div.sk-estimator:hover {background-color: #d4ebff;}#sk-container-id-7 div.sk-parallel-item::after {content: \"\";width: 100%;border-bottom: 1px solid gray;flex-grow: 1;}#sk-container-id-7 div.sk-label:hover label.sk-toggleable__label {background-color: #d4ebff;}#sk-container-id-7 div.sk-serial::before {content: \"\";position: absolute;border-left: 1px solid gray;box-sizing: border-box;top: 0;bottom: 0;left: 50%;z-index: 0;}#sk-container-id-7 div.sk-serial {display: flex;flex-direction: column;align-items: center;background-color: white;padding-right: 0.2em;padding-left: 0.2em;position: relative;}#sk-container-id-7 div.sk-item {position: relative;z-index: 1;}#sk-container-id-7 div.sk-parallel {display: flex;align-items: stretch;justify-content: center;background-color: white;position: relative;}#sk-container-id-7 div.sk-item::before, #sk-container-id-7 div.sk-parallel-item::before {content: \"\";position: absolute;border-left: 1px solid gray;box-sizing: border-box;top: 0;bottom: 0;left: 50%;z-index: -1;}#sk-container-id-7 div.sk-parallel-item {display: flex;flex-direction: column;z-index: 1;position: relative;background-color: white;}#sk-container-id-7 div.sk-parallel-item:first-child::after {align-self: flex-end;width: 50%;}#sk-container-id-7 div.sk-parallel-item:last-child::after {align-self: flex-start;width: 50%;}#sk-container-id-7 div.sk-parallel-item:only-child::after {width: 0;}#sk-container-id-7 div.sk-dashed-wrapped {border: 1px dashed gray;margin: 0 0.4em 0.5em 0.4em;box-sizing: border-box;padding-bottom: 0.4em;background-color: white;}#sk-container-id-7 div.sk-label label {font-family: monospace;font-weight: bold;display: inline-block;line-height: 1.2em;}#sk-container-id-7 div.sk-label-container {text-align: center;}#sk-container-id-7 div.sk-container {/* jupyter's `normalize.less` sets `[hidden] { display: none; }` but bootstrap.min.css set `[hidden] { display: none !important; }` so we also need the `!important` here to be able to override the default hidden behavior on the sphinx rendered scikit-learn.org. See: https://github.com/scikit-learn/scikit-learn/issues/21755 */display: inline-block !important;position: relative;}#sk-container-id-7 div.sk-text-repr-fallback {display: none;}</style><div id=\"sk-container-id-7\" class=\"sk-top-container\"><div class=\"sk-text-repr-fallback\"><pre>SVR(C=100, gamma=0.1)</pre><b>In a Jupyter environment, please rerun this cell to show the HTML representation or trust the notebook. <br />On GitHub, the HTML representation is unable to render, please try loading this page with nbviewer.org.</b></div><div class=\"sk-container\" hidden><div class=\"sk-item\"><div class=\"sk-estimator sk-toggleable\"><input class=\"sk-toggleable__control sk-hidden--visually\" id=\"sk-estimator-id-7\" type=\"checkbox\" checked><label for=\"sk-estimator-id-7\" class=\"sk-toggleable__label sk-toggleable__label-arrow\">SVR</label><div class=\"sk-toggleable__content\"><pre>SVR(C=100, gamma=0.1)</pre></div></div></div></div></div>"
      ],
      "text/plain": [
       "SVR(C=100, gamma=0.1)"
      ]
     },
     "execution_count": 63,
     "metadata": {},
     "output_type": "execute_result"
    }
   ],
   "source": [
    "\"\"\"\"\"\"\n",
    "from sklearn.svm import SVR\n",
    "from sklearn.linear_model import LinearRegression\n",
    "from sklearn.model_selection import train_test_split\n",
    "\n",
    "acc3 = {}\n",
    "profit3={}\n",
    "#Tesla\n",
    "for s in selected:\n",
    "    idx = sp500.index(s)\n",
    "    stock = df_list3[idx].dropna()\n",
    "    X = stock\n",
    "    y = stock['pred_price']\n",
    "    \n",
    "    X_train_orig, X_test_orig, y_train, y_test = train_test_split(X,y,test_size=0.2,shuffle =False)\n",
    "    X_train = X_train_orig.iloc[:,2:-3]\n",
    "    X_test = X_test_orig.iloc[:,2:-3]    \n",
    "\n",
    "    svm_model.fit(X_train, y_train)\n",
    "    svm_predictions = svm_model.predict(X_test)\n",
    "    \n",
    "\n",
    "    \n",
    "    \n",
    "    pred2 = (svm_predictions-X_test.Close).apply(condition)    \n",
    "\n",
    "\n",
    "    \n",
    "    #pred1\n",
    "    #merged_df['trend'] = merged_df['daily_returns_overall']\n",
    "\n",
    "\n",
    "    #X_test.Close-combined_pred\n",
    "    #pred2\n",
    "\n",
    "    pred = (y_test-X_test.Close).apply(condition)\n",
    "\n",
    "    #pred\n",
    "    acc = sum(pred==pred2)/len(pred)\n",
    "    acc3[s]=acc\n",
    "\n",
    "    \n",
    "    stock_test_df = pd.concat([X_test_orig.reset_index(), pd.DataFrame({'model_pred':pred_cat}).reset_index()],axis=1)\n",
    "    \n",
    "    stock_test_df['buy'] = stock_test_df['model_pred'].apply(lambda x: 1 if x == 'increase' else 0)\n",
    "    stock_test_df['spend'] = 5000 * stock_test_df['buy']\n",
    "    stock_test_df['shares'] = stock_test_df['spend']// stock_test_df['Close']\n",
    "    stock_test_df['profit'] = stock_test_df['shares'] * stock_test_df['next_day_return']\n",
    "\n",
    "    output_list1.append(stock_test_df)\n",
    "    \n",
    "    profit3[s] = sum(stock_test_df['profit'])    "
   ]
  },
  {
   "cell_type": "code",
   "execution_count": null,
   "metadata": {
    "colab": {
     "base_uri": "https://localhost:8080/"
    },
    "id": "SHz0gNynVEfr",
    "outputId": "8ecca643-cb1f-4cba-94b6-2380c12ae53d"
   },
   "outputs": [
    {
     "data": {
      "text/plain": [
       "{'CARR': 0.48514851485148514,\n",
       " 'ENPH': 0.504950495049505,\n",
       " 'TSLA': 0.5445544554455446,\n",
       " 'DHR': 0.4306930693069307,\n",
       " 'AMD': 0.5,\n",
       " 'MRNA': 0.49504950495049505,\n",
       " 'DHI': 0.5297029702970297}"
      ]
     },
     "execution_count": 64,
     "metadata": {},
     "output_type": "execute_result"
    }
   ],
   "source": [
    "acc3"
   ]
  },
  {
   "cell_type": "code",
   "execution_count": null,
   "metadata": {
    "colab": {
     "base_uri": "https://localhost:8080/"
    },
    "id": "zPI1xwQRVEfr",
    "outputId": "76341d28-2430-4601-e2aa-60219f3506d2"
   },
   "outputs": [
    {
     "data": {
      "text/plain": [
       "{'CARR': -3687.9318670199514,\n",
       " 'ENPH': -765.7824367634297,\n",
       " 'TSLA': -1368.1476848734585,\n",
       " 'DHR': -535.0884936735945,\n",
       " 'AMD': 70.99224068117414,\n",
       " 'MRNA': -141.7624687837607,\n",
       " 'DHI': -49.20119658671645}"
      ]
     },
     "execution_count": 65,
     "metadata": {},
     "output_type": "execute_result"
    }
   ],
   "source": [
    "profit3"
   ]
  },
  {
   "cell_type": "code",
   "execution_count": null,
   "metadata": {
    "id": "dAf6pFfajpzH"
   },
   "outputs": [],
   "source": [
    "acc_df = acc_df.append(pd.DataFrame([acc3],index=['SVR_val']))\n",
    "profit_df = profit_df.append(pd.DataFrame([profit3],index=['SVR_val']))"
   ]
  },
  {
   "cell_type": "code",
   "execution_count": null,
   "metadata": {
    "colab": {
     "base_uri": "https://localhost:8080/",
     "height": 542
    },
    "id": "kwYRjG0WVEfr",
    "outputId": "167f93dd-d31a-49a1-b9c5-31ce9c476e8f"
   },
   "outputs": [
    {
     "data": {
      "text/plain": [
       "<keras.callbacks.History at 0x7f481d88e1f0>"
      ]
     },
     "execution_count": 67,
     "metadata": {},
     "output_type": "execute_result"
    },
    {
     "name": "stdout",
     "output_type": "stream",
     "text": [
      "7/7 [==============================] - 0s 2ms/step\n"
     ]
    },
    {
     "data": {
      "text/html": [
       "<style>#sk-container-id-8 {color: black;background-color: white;}#sk-container-id-8 pre{padding: 0;}#sk-container-id-8 div.sk-toggleable {background-color: white;}#sk-container-id-8 label.sk-toggleable__label {cursor: pointer;display: block;width: 100%;margin-bottom: 0;padding: 0.3em;box-sizing: border-box;text-align: center;}#sk-container-id-8 label.sk-toggleable__label-arrow:before {content: \"▸\";float: left;margin-right: 0.25em;color: #696969;}#sk-container-id-8 label.sk-toggleable__label-arrow:hover:before {color: black;}#sk-container-id-8 div.sk-estimator:hover label.sk-toggleable__label-arrow:before {color: black;}#sk-container-id-8 div.sk-toggleable__content {max-height: 0;max-width: 0;overflow: hidden;text-align: left;background-color: #f0f8ff;}#sk-container-id-8 div.sk-toggleable__content pre {margin: 0.2em;color: black;border-radius: 0.25em;background-color: #f0f8ff;}#sk-container-id-8 input.sk-toggleable__control:checked~div.sk-toggleable__content {max-height: 200px;max-width: 100%;overflow: auto;}#sk-container-id-8 input.sk-toggleable__control:checked~label.sk-toggleable__label-arrow:before {content: \"▾\";}#sk-container-id-8 div.sk-estimator input.sk-toggleable__control:checked~label.sk-toggleable__label {background-color: #d4ebff;}#sk-container-id-8 div.sk-label input.sk-toggleable__control:checked~label.sk-toggleable__label {background-color: #d4ebff;}#sk-container-id-8 input.sk-hidden--visually {border: 0;clip: rect(1px 1px 1px 1px);clip: rect(1px, 1px, 1px, 1px);height: 1px;margin: -1px;overflow: hidden;padding: 0;position: absolute;width: 1px;}#sk-container-id-8 div.sk-estimator {font-family: monospace;background-color: #f0f8ff;border: 1px dotted black;border-radius: 0.25em;box-sizing: border-box;margin-bottom: 0.5em;}#sk-container-id-8 div.sk-estimator:hover {background-color: #d4ebff;}#sk-container-id-8 div.sk-parallel-item::after {content: \"\";width: 100%;border-bottom: 1px solid gray;flex-grow: 1;}#sk-container-id-8 div.sk-label:hover label.sk-toggleable__label {background-color: #d4ebff;}#sk-container-id-8 div.sk-serial::before {content: \"\";position: absolute;border-left: 1px solid gray;box-sizing: border-box;top: 0;bottom: 0;left: 50%;z-index: 0;}#sk-container-id-8 div.sk-serial {display: flex;flex-direction: column;align-items: center;background-color: white;padding-right: 0.2em;padding-left: 0.2em;position: relative;}#sk-container-id-8 div.sk-item {position: relative;z-index: 1;}#sk-container-id-8 div.sk-parallel {display: flex;align-items: stretch;justify-content: center;background-color: white;position: relative;}#sk-container-id-8 div.sk-item::before, #sk-container-id-8 div.sk-parallel-item::before {content: \"\";position: absolute;border-left: 1px solid gray;box-sizing: border-box;top: 0;bottom: 0;left: 50%;z-index: -1;}#sk-container-id-8 div.sk-parallel-item {display: flex;flex-direction: column;z-index: 1;position: relative;background-color: white;}#sk-container-id-8 div.sk-parallel-item:first-child::after {align-self: flex-end;width: 50%;}#sk-container-id-8 div.sk-parallel-item:last-child::after {align-self: flex-start;width: 50%;}#sk-container-id-8 div.sk-parallel-item:only-child::after {width: 0;}#sk-container-id-8 div.sk-dashed-wrapped {border: 1px dashed gray;margin: 0 0.4em 0.5em 0.4em;box-sizing: border-box;padding-bottom: 0.4em;background-color: white;}#sk-container-id-8 div.sk-label label {font-family: monospace;font-weight: bold;display: inline-block;line-height: 1.2em;}#sk-container-id-8 div.sk-label-container {text-align: center;}#sk-container-id-8 div.sk-container {/* jupyter's `normalize.less` sets `[hidden] { display: none; }` but bootstrap.min.css set `[hidden] { display: none !important; }` so we also need the `!important` here to be able to override the default hidden behavior on the sphinx rendered scikit-learn.org. See: https://github.com/scikit-learn/scikit-learn/issues/21755 */display: inline-block !important;position: relative;}#sk-container-id-8 div.sk-text-repr-fallback {display: none;}</style><div id=\"sk-container-id-8\" class=\"sk-top-container\"><div class=\"sk-text-repr-fallback\"><pre>SVR(C=100, gamma=0.1)</pre><b>In a Jupyter environment, please rerun this cell to show the HTML representation or trust the notebook. <br />On GitHub, the HTML representation is unable to render, please try loading this page with nbviewer.org.</b></div><div class=\"sk-container\" hidden><div class=\"sk-item\"><div class=\"sk-estimator sk-toggleable\"><input class=\"sk-toggleable__control sk-hidden--visually\" id=\"sk-estimator-id-8\" type=\"checkbox\" checked><label for=\"sk-estimator-id-8\" class=\"sk-toggleable__label sk-toggleable__label-arrow\">SVR</label><div class=\"sk-toggleable__content\"><pre>SVR(C=100, gamma=0.1)</pre></div></div></div></div></div>"
      ],
      "text/plain": [
       "SVR(C=100, gamma=0.1)"
      ]
     },
     "execution_count": 67,
     "metadata": {},
     "output_type": "execute_result"
    },
    {
     "data": {
      "text/plain": [
       "<keras.callbacks.History at 0x7f4896dad430>"
      ]
     },
     "execution_count": 67,
     "metadata": {},
     "output_type": "execute_result"
    },
    {
     "name": "stdout",
     "output_type": "stream",
     "text": [
      "7/7 [==============================] - 0s 2ms/step\n"
     ]
    },
    {
     "data": {
      "text/html": [
       "<style>#sk-container-id-9 {color: black;background-color: white;}#sk-container-id-9 pre{padding: 0;}#sk-container-id-9 div.sk-toggleable {background-color: white;}#sk-container-id-9 label.sk-toggleable__label {cursor: pointer;display: block;width: 100%;margin-bottom: 0;padding: 0.3em;box-sizing: border-box;text-align: center;}#sk-container-id-9 label.sk-toggleable__label-arrow:before {content: \"▸\";float: left;margin-right: 0.25em;color: #696969;}#sk-container-id-9 label.sk-toggleable__label-arrow:hover:before {color: black;}#sk-container-id-9 div.sk-estimator:hover label.sk-toggleable__label-arrow:before {color: black;}#sk-container-id-9 div.sk-toggleable__content {max-height: 0;max-width: 0;overflow: hidden;text-align: left;background-color: #f0f8ff;}#sk-container-id-9 div.sk-toggleable__content pre {margin: 0.2em;color: black;border-radius: 0.25em;background-color: #f0f8ff;}#sk-container-id-9 input.sk-toggleable__control:checked~div.sk-toggleable__content {max-height: 200px;max-width: 100%;overflow: auto;}#sk-container-id-9 input.sk-toggleable__control:checked~label.sk-toggleable__label-arrow:before {content: \"▾\";}#sk-container-id-9 div.sk-estimator input.sk-toggleable__control:checked~label.sk-toggleable__label {background-color: #d4ebff;}#sk-container-id-9 div.sk-label input.sk-toggleable__control:checked~label.sk-toggleable__label {background-color: #d4ebff;}#sk-container-id-9 input.sk-hidden--visually {border: 0;clip: rect(1px 1px 1px 1px);clip: rect(1px, 1px, 1px, 1px);height: 1px;margin: -1px;overflow: hidden;padding: 0;position: absolute;width: 1px;}#sk-container-id-9 div.sk-estimator {font-family: monospace;background-color: #f0f8ff;border: 1px dotted black;border-radius: 0.25em;box-sizing: border-box;margin-bottom: 0.5em;}#sk-container-id-9 div.sk-estimator:hover {background-color: #d4ebff;}#sk-container-id-9 div.sk-parallel-item::after {content: \"\";width: 100%;border-bottom: 1px solid gray;flex-grow: 1;}#sk-container-id-9 div.sk-label:hover label.sk-toggleable__label {background-color: #d4ebff;}#sk-container-id-9 div.sk-serial::before {content: \"\";position: absolute;border-left: 1px solid gray;box-sizing: border-box;top: 0;bottom: 0;left: 50%;z-index: 0;}#sk-container-id-9 div.sk-serial {display: flex;flex-direction: column;align-items: center;background-color: white;padding-right: 0.2em;padding-left: 0.2em;position: relative;}#sk-container-id-9 div.sk-item {position: relative;z-index: 1;}#sk-container-id-9 div.sk-parallel {display: flex;align-items: stretch;justify-content: center;background-color: white;position: relative;}#sk-container-id-9 div.sk-item::before, #sk-container-id-9 div.sk-parallel-item::before {content: \"\";position: absolute;border-left: 1px solid gray;box-sizing: border-box;top: 0;bottom: 0;left: 50%;z-index: -1;}#sk-container-id-9 div.sk-parallel-item {display: flex;flex-direction: column;z-index: 1;position: relative;background-color: white;}#sk-container-id-9 div.sk-parallel-item:first-child::after {align-self: flex-end;width: 50%;}#sk-container-id-9 div.sk-parallel-item:last-child::after {align-self: flex-start;width: 50%;}#sk-container-id-9 div.sk-parallel-item:only-child::after {width: 0;}#sk-container-id-9 div.sk-dashed-wrapped {border: 1px dashed gray;margin: 0 0.4em 0.5em 0.4em;box-sizing: border-box;padding-bottom: 0.4em;background-color: white;}#sk-container-id-9 div.sk-label label {font-family: monospace;font-weight: bold;display: inline-block;line-height: 1.2em;}#sk-container-id-9 div.sk-label-container {text-align: center;}#sk-container-id-9 div.sk-container {/* jupyter's `normalize.less` sets `[hidden] { display: none; }` but bootstrap.min.css set `[hidden] { display: none !important; }` so we also need the `!important` here to be able to override the default hidden behavior on the sphinx rendered scikit-learn.org. See: https://github.com/scikit-learn/scikit-learn/issues/21755 */display: inline-block !important;position: relative;}#sk-container-id-9 div.sk-text-repr-fallback {display: none;}</style><div id=\"sk-container-id-9\" class=\"sk-top-container\"><div class=\"sk-text-repr-fallback\"><pre>SVR(C=100, gamma=0.1)</pre><b>In a Jupyter environment, please rerun this cell to show the HTML representation or trust the notebook. <br />On GitHub, the HTML representation is unable to render, please try loading this page with nbviewer.org.</b></div><div class=\"sk-container\" hidden><div class=\"sk-item\"><div class=\"sk-estimator sk-toggleable\"><input class=\"sk-toggleable__control sk-hidden--visually\" id=\"sk-estimator-id-9\" type=\"checkbox\" checked><label for=\"sk-estimator-id-9\" class=\"sk-toggleable__label sk-toggleable__label-arrow\">SVR</label><div class=\"sk-toggleable__content\"><pre>SVR(C=100, gamma=0.1)</pre></div></div></div></div></div>"
      ],
      "text/plain": [
       "SVR(C=100, gamma=0.1)"
      ]
     },
     "execution_count": 67,
     "metadata": {},
     "output_type": "execute_result"
    },
    {
     "data": {
      "text/plain": [
       "<keras.callbacks.History at 0x7f481bfa0c40>"
      ]
     },
     "execution_count": 67,
     "metadata": {},
     "output_type": "execute_result"
    },
    {
     "name": "stdout",
     "output_type": "stream",
     "text": [
      "7/7 [==============================] - 0s 2ms/step\n"
     ]
    },
    {
     "data": {
      "text/html": [
       "<style>#sk-container-id-10 {color: black;background-color: white;}#sk-container-id-10 pre{padding: 0;}#sk-container-id-10 div.sk-toggleable {background-color: white;}#sk-container-id-10 label.sk-toggleable__label {cursor: pointer;display: block;width: 100%;margin-bottom: 0;padding: 0.3em;box-sizing: border-box;text-align: center;}#sk-container-id-10 label.sk-toggleable__label-arrow:before {content: \"▸\";float: left;margin-right: 0.25em;color: #696969;}#sk-container-id-10 label.sk-toggleable__label-arrow:hover:before {color: black;}#sk-container-id-10 div.sk-estimator:hover label.sk-toggleable__label-arrow:before {color: black;}#sk-container-id-10 div.sk-toggleable__content {max-height: 0;max-width: 0;overflow: hidden;text-align: left;background-color: #f0f8ff;}#sk-container-id-10 div.sk-toggleable__content pre {margin: 0.2em;color: black;border-radius: 0.25em;background-color: #f0f8ff;}#sk-container-id-10 input.sk-toggleable__control:checked~div.sk-toggleable__content {max-height: 200px;max-width: 100%;overflow: auto;}#sk-container-id-10 input.sk-toggleable__control:checked~label.sk-toggleable__label-arrow:before {content: \"▾\";}#sk-container-id-10 div.sk-estimator input.sk-toggleable__control:checked~label.sk-toggleable__label {background-color: #d4ebff;}#sk-container-id-10 div.sk-label input.sk-toggleable__control:checked~label.sk-toggleable__label {background-color: #d4ebff;}#sk-container-id-10 input.sk-hidden--visually {border: 0;clip: rect(1px 1px 1px 1px);clip: rect(1px, 1px, 1px, 1px);height: 1px;margin: -1px;overflow: hidden;padding: 0;position: absolute;width: 1px;}#sk-container-id-10 div.sk-estimator {font-family: monospace;background-color: #f0f8ff;border: 1px dotted black;border-radius: 0.25em;box-sizing: border-box;margin-bottom: 0.5em;}#sk-container-id-10 div.sk-estimator:hover {background-color: #d4ebff;}#sk-container-id-10 div.sk-parallel-item::after {content: \"\";width: 100%;border-bottom: 1px solid gray;flex-grow: 1;}#sk-container-id-10 div.sk-label:hover label.sk-toggleable__label {background-color: #d4ebff;}#sk-container-id-10 div.sk-serial::before {content: \"\";position: absolute;border-left: 1px solid gray;box-sizing: border-box;top: 0;bottom: 0;left: 50%;z-index: 0;}#sk-container-id-10 div.sk-serial {display: flex;flex-direction: column;align-items: center;background-color: white;padding-right: 0.2em;padding-left: 0.2em;position: relative;}#sk-container-id-10 div.sk-item {position: relative;z-index: 1;}#sk-container-id-10 div.sk-parallel {display: flex;align-items: stretch;justify-content: center;background-color: white;position: relative;}#sk-container-id-10 div.sk-item::before, #sk-container-id-10 div.sk-parallel-item::before {content: \"\";position: absolute;border-left: 1px solid gray;box-sizing: border-box;top: 0;bottom: 0;left: 50%;z-index: -1;}#sk-container-id-10 div.sk-parallel-item {display: flex;flex-direction: column;z-index: 1;position: relative;background-color: white;}#sk-container-id-10 div.sk-parallel-item:first-child::after {align-self: flex-end;width: 50%;}#sk-container-id-10 div.sk-parallel-item:last-child::after {align-self: flex-start;width: 50%;}#sk-container-id-10 div.sk-parallel-item:only-child::after {width: 0;}#sk-container-id-10 div.sk-dashed-wrapped {border: 1px dashed gray;margin: 0 0.4em 0.5em 0.4em;box-sizing: border-box;padding-bottom: 0.4em;background-color: white;}#sk-container-id-10 div.sk-label label {font-family: monospace;font-weight: bold;display: inline-block;line-height: 1.2em;}#sk-container-id-10 div.sk-label-container {text-align: center;}#sk-container-id-10 div.sk-container {/* jupyter's `normalize.less` sets `[hidden] { display: none; }` but bootstrap.min.css set `[hidden] { display: none !important; }` so we also need the `!important` here to be able to override the default hidden behavior on the sphinx rendered scikit-learn.org. See: https://github.com/scikit-learn/scikit-learn/issues/21755 */display: inline-block !important;position: relative;}#sk-container-id-10 div.sk-text-repr-fallback {display: none;}</style><div id=\"sk-container-id-10\" class=\"sk-top-container\"><div class=\"sk-text-repr-fallback\"><pre>SVR(C=100, gamma=0.1)</pre><b>In a Jupyter environment, please rerun this cell to show the HTML representation or trust the notebook. <br />On GitHub, the HTML representation is unable to render, please try loading this page with nbviewer.org.</b></div><div class=\"sk-container\" hidden><div class=\"sk-item\"><div class=\"sk-estimator sk-toggleable\"><input class=\"sk-toggleable__control sk-hidden--visually\" id=\"sk-estimator-id-10\" type=\"checkbox\" checked><label for=\"sk-estimator-id-10\" class=\"sk-toggleable__label sk-toggleable__label-arrow\">SVR</label><div class=\"sk-toggleable__content\"><pre>SVR(C=100, gamma=0.1)</pre></div></div></div></div></div>"
      ],
      "text/plain": [
       "SVR(C=100, gamma=0.1)"
      ]
     },
     "execution_count": 67,
     "metadata": {},
     "output_type": "execute_result"
    },
    {
     "data": {
      "text/plain": [
       "<keras.callbacks.History at 0x7f482821c250>"
      ]
     },
     "execution_count": 67,
     "metadata": {},
     "output_type": "execute_result"
    },
    {
     "name": "stdout",
     "output_type": "stream",
     "text": [
      "7/7 [==============================] - 0s 3ms/step\n"
     ]
    },
    {
     "data": {
      "text/html": [
       "<style>#sk-container-id-11 {color: black;background-color: white;}#sk-container-id-11 pre{padding: 0;}#sk-container-id-11 div.sk-toggleable {background-color: white;}#sk-container-id-11 label.sk-toggleable__label {cursor: pointer;display: block;width: 100%;margin-bottom: 0;padding: 0.3em;box-sizing: border-box;text-align: center;}#sk-container-id-11 label.sk-toggleable__label-arrow:before {content: \"▸\";float: left;margin-right: 0.25em;color: #696969;}#sk-container-id-11 label.sk-toggleable__label-arrow:hover:before {color: black;}#sk-container-id-11 div.sk-estimator:hover label.sk-toggleable__label-arrow:before {color: black;}#sk-container-id-11 div.sk-toggleable__content {max-height: 0;max-width: 0;overflow: hidden;text-align: left;background-color: #f0f8ff;}#sk-container-id-11 div.sk-toggleable__content pre {margin: 0.2em;color: black;border-radius: 0.25em;background-color: #f0f8ff;}#sk-container-id-11 input.sk-toggleable__control:checked~div.sk-toggleable__content {max-height: 200px;max-width: 100%;overflow: auto;}#sk-container-id-11 input.sk-toggleable__control:checked~label.sk-toggleable__label-arrow:before {content: \"▾\";}#sk-container-id-11 div.sk-estimator input.sk-toggleable__control:checked~label.sk-toggleable__label {background-color: #d4ebff;}#sk-container-id-11 div.sk-label input.sk-toggleable__control:checked~label.sk-toggleable__label {background-color: #d4ebff;}#sk-container-id-11 input.sk-hidden--visually {border: 0;clip: rect(1px 1px 1px 1px);clip: rect(1px, 1px, 1px, 1px);height: 1px;margin: -1px;overflow: hidden;padding: 0;position: absolute;width: 1px;}#sk-container-id-11 div.sk-estimator {font-family: monospace;background-color: #f0f8ff;border: 1px dotted black;border-radius: 0.25em;box-sizing: border-box;margin-bottom: 0.5em;}#sk-container-id-11 div.sk-estimator:hover {background-color: #d4ebff;}#sk-container-id-11 div.sk-parallel-item::after {content: \"\";width: 100%;border-bottom: 1px solid gray;flex-grow: 1;}#sk-container-id-11 div.sk-label:hover label.sk-toggleable__label {background-color: #d4ebff;}#sk-container-id-11 div.sk-serial::before {content: \"\";position: absolute;border-left: 1px solid gray;box-sizing: border-box;top: 0;bottom: 0;left: 50%;z-index: 0;}#sk-container-id-11 div.sk-serial {display: flex;flex-direction: column;align-items: center;background-color: white;padding-right: 0.2em;padding-left: 0.2em;position: relative;}#sk-container-id-11 div.sk-item {position: relative;z-index: 1;}#sk-container-id-11 div.sk-parallel {display: flex;align-items: stretch;justify-content: center;background-color: white;position: relative;}#sk-container-id-11 div.sk-item::before, #sk-container-id-11 div.sk-parallel-item::before {content: \"\";position: absolute;border-left: 1px solid gray;box-sizing: border-box;top: 0;bottom: 0;left: 50%;z-index: -1;}#sk-container-id-11 div.sk-parallel-item {display: flex;flex-direction: column;z-index: 1;position: relative;background-color: white;}#sk-container-id-11 div.sk-parallel-item:first-child::after {align-self: flex-end;width: 50%;}#sk-container-id-11 div.sk-parallel-item:last-child::after {align-self: flex-start;width: 50%;}#sk-container-id-11 div.sk-parallel-item:only-child::after {width: 0;}#sk-container-id-11 div.sk-dashed-wrapped {border: 1px dashed gray;margin: 0 0.4em 0.5em 0.4em;box-sizing: border-box;padding-bottom: 0.4em;background-color: white;}#sk-container-id-11 div.sk-label label {font-family: monospace;font-weight: bold;display: inline-block;line-height: 1.2em;}#sk-container-id-11 div.sk-label-container {text-align: center;}#sk-container-id-11 div.sk-container {/* jupyter's `normalize.less` sets `[hidden] { display: none; }` but bootstrap.min.css set `[hidden] { display: none !important; }` so we also need the `!important` here to be able to override the default hidden behavior on the sphinx rendered scikit-learn.org. See: https://github.com/scikit-learn/scikit-learn/issues/21755 */display: inline-block !important;position: relative;}#sk-container-id-11 div.sk-text-repr-fallback {display: none;}</style><div id=\"sk-container-id-11\" class=\"sk-top-container\"><div class=\"sk-text-repr-fallback\"><pre>SVR(C=100, gamma=0.1)</pre><b>In a Jupyter environment, please rerun this cell to show the HTML representation or trust the notebook. <br />On GitHub, the HTML representation is unable to render, please try loading this page with nbviewer.org.</b></div><div class=\"sk-container\" hidden><div class=\"sk-item\"><div class=\"sk-estimator sk-toggleable\"><input class=\"sk-toggleable__control sk-hidden--visually\" id=\"sk-estimator-id-11\" type=\"checkbox\" checked><label for=\"sk-estimator-id-11\" class=\"sk-toggleable__label sk-toggleable__label-arrow\">SVR</label><div class=\"sk-toggleable__content\"><pre>SVR(C=100, gamma=0.1)</pre></div></div></div></div></div>"
      ],
      "text/plain": [
       "SVR(C=100, gamma=0.1)"
      ]
     },
     "execution_count": 67,
     "metadata": {},
     "output_type": "execute_result"
    },
    {
     "data": {
      "text/plain": [
       "<keras.callbacks.History at 0x7f481c7f2070>"
      ]
     },
     "execution_count": 67,
     "metadata": {},
     "output_type": "execute_result"
    },
    {
     "name": "stdout",
     "output_type": "stream",
     "text": [
      "7/7 [==============================] - 0s 2ms/step\n"
     ]
    },
    {
     "data": {
      "text/html": [
       "<style>#sk-container-id-12 {color: black;background-color: white;}#sk-container-id-12 pre{padding: 0;}#sk-container-id-12 div.sk-toggleable {background-color: white;}#sk-container-id-12 label.sk-toggleable__label {cursor: pointer;display: block;width: 100%;margin-bottom: 0;padding: 0.3em;box-sizing: border-box;text-align: center;}#sk-container-id-12 label.sk-toggleable__label-arrow:before {content: \"▸\";float: left;margin-right: 0.25em;color: #696969;}#sk-container-id-12 label.sk-toggleable__label-arrow:hover:before {color: black;}#sk-container-id-12 div.sk-estimator:hover label.sk-toggleable__label-arrow:before {color: black;}#sk-container-id-12 div.sk-toggleable__content {max-height: 0;max-width: 0;overflow: hidden;text-align: left;background-color: #f0f8ff;}#sk-container-id-12 div.sk-toggleable__content pre {margin: 0.2em;color: black;border-radius: 0.25em;background-color: #f0f8ff;}#sk-container-id-12 input.sk-toggleable__control:checked~div.sk-toggleable__content {max-height: 200px;max-width: 100%;overflow: auto;}#sk-container-id-12 input.sk-toggleable__control:checked~label.sk-toggleable__label-arrow:before {content: \"▾\";}#sk-container-id-12 div.sk-estimator input.sk-toggleable__control:checked~label.sk-toggleable__label {background-color: #d4ebff;}#sk-container-id-12 div.sk-label input.sk-toggleable__control:checked~label.sk-toggleable__label {background-color: #d4ebff;}#sk-container-id-12 input.sk-hidden--visually {border: 0;clip: rect(1px 1px 1px 1px);clip: rect(1px, 1px, 1px, 1px);height: 1px;margin: -1px;overflow: hidden;padding: 0;position: absolute;width: 1px;}#sk-container-id-12 div.sk-estimator {font-family: monospace;background-color: #f0f8ff;border: 1px dotted black;border-radius: 0.25em;box-sizing: border-box;margin-bottom: 0.5em;}#sk-container-id-12 div.sk-estimator:hover {background-color: #d4ebff;}#sk-container-id-12 div.sk-parallel-item::after {content: \"\";width: 100%;border-bottom: 1px solid gray;flex-grow: 1;}#sk-container-id-12 div.sk-label:hover label.sk-toggleable__label {background-color: #d4ebff;}#sk-container-id-12 div.sk-serial::before {content: \"\";position: absolute;border-left: 1px solid gray;box-sizing: border-box;top: 0;bottom: 0;left: 50%;z-index: 0;}#sk-container-id-12 div.sk-serial {display: flex;flex-direction: column;align-items: center;background-color: white;padding-right: 0.2em;padding-left: 0.2em;position: relative;}#sk-container-id-12 div.sk-item {position: relative;z-index: 1;}#sk-container-id-12 div.sk-parallel {display: flex;align-items: stretch;justify-content: center;background-color: white;position: relative;}#sk-container-id-12 div.sk-item::before, #sk-container-id-12 div.sk-parallel-item::before {content: \"\";position: absolute;border-left: 1px solid gray;box-sizing: border-box;top: 0;bottom: 0;left: 50%;z-index: -1;}#sk-container-id-12 div.sk-parallel-item {display: flex;flex-direction: column;z-index: 1;position: relative;background-color: white;}#sk-container-id-12 div.sk-parallel-item:first-child::after {align-self: flex-end;width: 50%;}#sk-container-id-12 div.sk-parallel-item:last-child::after {align-self: flex-start;width: 50%;}#sk-container-id-12 div.sk-parallel-item:only-child::after {width: 0;}#sk-container-id-12 div.sk-dashed-wrapped {border: 1px dashed gray;margin: 0 0.4em 0.5em 0.4em;box-sizing: border-box;padding-bottom: 0.4em;background-color: white;}#sk-container-id-12 div.sk-label label {font-family: monospace;font-weight: bold;display: inline-block;line-height: 1.2em;}#sk-container-id-12 div.sk-label-container {text-align: center;}#sk-container-id-12 div.sk-container {/* jupyter's `normalize.less` sets `[hidden] { display: none; }` but bootstrap.min.css set `[hidden] { display: none !important; }` so we also need the `!important` here to be able to override the default hidden behavior on the sphinx rendered scikit-learn.org. See: https://github.com/scikit-learn/scikit-learn/issues/21755 */display: inline-block !important;position: relative;}#sk-container-id-12 div.sk-text-repr-fallback {display: none;}</style><div id=\"sk-container-id-12\" class=\"sk-top-container\"><div class=\"sk-text-repr-fallback\"><pre>SVR(C=100, gamma=0.1)</pre><b>In a Jupyter environment, please rerun this cell to show the HTML representation or trust the notebook. <br />On GitHub, the HTML representation is unable to render, please try loading this page with nbviewer.org.</b></div><div class=\"sk-container\" hidden><div class=\"sk-item\"><div class=\"sk-estimator sk-toggleable\"><input class=\"sk-toggleable__control sk-hidden--visually\" id=\"sk-estimator-id-12\" type=\"checkbox\" checked><label for=\"sk-estimator-id-12\" class=\"sk-toggleable__label sk-toggleable__label-arrow\">SVR</label><div class=\"sk-toggleable__content\"><pre>SVR(C=100, gamma=0.1)</pre></div></div></div></div></div>"
      ],
      "text/plain": [
       "SVR(C=100, gamma=0.1)"
      ]
     },
     "execution_count": 67,
     "metadata": {},
     "output_type": "execute_result"
    },
    {
     "data": {
      "text/plain": [
       "<keras.callbacks.History at 0x7f481c7e19a0>"
      ]
     },
     "execution_count": 67,
     "metadata": {},
     "output_type": "execute_result"
    },
    {
     "name": "stdout",
     "output_type": "stream",
     "text": [
      "7/7 [==============================] - 0s 3ms/step\n"
     ]
    },
    {
     "data": {
      "text/html": [
       "<style>#sk-container-id-13 {color: black;background-color: white;}#sk-container-id-13 pre{padding: 0;}#sk-container-id-13 div.sk-toggleable {background-color: white;}#sk-container-id-13 label.sk-toggleable__label {cursor: pointer;display: block;width: 100%;margin-bottom: 0;padding: 0.3em;box-sizing: border-box;text-align: center;}#sk-container-id-13 label.sk-toggleable__label-arrow:before {content: \"▸\";float: left;margin-right: 0.25em;color: #696969;}#sk-container-id-13 label.sk-toggleable__label-arrow:hover:before {color: black;}#sk-container-id-13 div.sk-estimator:hover label.sk-toggleable__label-arrow:before {color: black;}#sk-container-id-13 div.sk-toggleable__content {max-height: 0;max-width: 0;overflow: hidden;text-align: left;background-color: #f0f8ff;}#sk-container-id-13 div.sk-toggleable__content pre {margin: 0.2em;color: black;border-radius: 0.25em;background-color: #f0f8ff;}#sk-container-id-13 input.sk-toggleable__control:checked~div.sk-toggleable__content {max-height: 200px;max-width: 100%;overflow: auto;}#sk-container-id-13 input.sk-toggleable__control:checked~label.sk-toggleable__label-arrow:before {content: \"▾\";}#sk-container-id-13 div.sk-estimator input.sk-toggleable__control:checked~label.sk-toggleable__label {background-color: #d4ebff;}#sk-container-id-13 div.sk-label input.sk-toggleable__control:checked~label.sk-toggleable__label {background-color: #d4ebff;}#sk-container-id-13 input.sk-hidden--visually {border: 0;clip: rect(1px 1px 1px 1px);clip: rect(1px, 1px, 1px, 1px);height: 1px;margin: -1px;overflow: hidden;padding: 0;position: absolute;width: 1px;}#sk-container-id-13 div.sk-estimator {font-family: monospace;background-color: #f0f8ff;border: 1px dotted black;border-radius: 0.25em;box-sizing: border-box;margin-bottom: 0.5em;}#sk-container-id-13 div.sk-estimator:hover {background-color: #d4ebff;}#sk-container-id-13 div.sk-parallel-item::after {content: \"\";width: 100%;border-bottom: 1px solid gray;flex-grow: 1;}#sk-container-id-13 div.sk-label:hover label.sk-toggleable__label {background-color: #d4ebff;}#sk-container-id-13 div.sk-serial::before {content: \"\";position: absolute;border-left: 1px solid gray;box-sizing: border-box;top: 0;bottom: 0;left: 50%;z-index: 0;}#sk-container-id-13 div.sk-serial {display: flex;flex-direction: column;align-items: center;background-color: white;padding-right: 0.2em;padding-left: 0.2em;position: relative;}#sk-container-id-13 div.sk-item {position: relative;z-index: 1;}#sk-container-id-13 div.sk-parallel {display: flex;align-items: stretch;justify-content: center;background-color: white;position: relative;}#sk-container-id-13 div.sk-item::before, #sk-container-id-13 div.sk-parallel-item::before {content: \"\";position: absolute;border-left: 1px solid gray;box-sizing: border-box;top: 0;bottom: 0;left: 50%;z-index: -1;}#sk-container-id-13 div.sk-parallel-item {display: flex;flex-direction: column;z-index: 1;position: relative;background-color: white;}#sk-container-id-13 div.sk-parallel-item:first-child::after {align-self: flex-end;width: 50%;}#sk-container-id-13 div.sk-parallel-item:last-child::after {align-self: flex-start;width: 50%;}#sk-container-id-13 div.sk-parallel-item:only-child::after {width: 0;}#sk-container-id-13 div.sk-dashed-wrapped {border: 1px dashed gray;margin: 0 0.4em 0.5em 0.4em;box-sizing: border-box;padding-bottom: 0.4em;background-color: white;}#sk-container-id-13 div.sk-label label {font-family: monospace;font-weight: bold;display: inline-block;line-height: 1.2em;}#sk-container-id-13 div.sk-label-container {text-align: center;}#sk-container-id-13 div.sk-container {/* jupyter's `normalize.less` sets `[hidden] { display: none; }` but bootstrap.min.css set `[hidden] { display: none !important; }` so we also need the `!important` here to be able to override the default hidden behavior on the sphinx rendered scikit-learn.org. See: https://github.com/scikit-learn/scikit-learn/issues/21755 */display: inline-block !important;position: relative;}#sk-container-id-13 div.sk-text-repr-fallback {display: none;}</style><div id=\"sk-container-id-13\" class=\"sk-top-container\"><div class=\"sk-text-repr-fallback\"><pre>SVR(C=100, gamma=0.1)</pre><b>In a Jupyter environment, please rerun this cell to show the HTML representation or trust the notebook. <br />On GitHub, the HTML representation is unable to render, please try loading this page with nbviewer.org.</b></div><div class=\"sk-container\" hidden><div class=\"sk-item\"><div class=\"sk-estimator sk-toggleable\"><input class=\"sk-toggleable__control sk-hidden--visually\" id=\"sk-estimator-id-13\" type=\"checkbox\" checked><label for=\"sk-estimator-id-13\" class=\"sk-toggleable__label sk-toggleable__label-arrow\">SVR</label><div class=\"sk-toggleable__content\"><pre>SVR(C=100, gamma=0.1)</pre></div></div></div></div></div>"
      ],
      "text/plain": [
       "SVR(C=100, gamma=0.1)"
      ]
     },
     "execution_count": 67,
     "metadata": {},
     "output_type": "execute_result"
    },
    {
     "data": {
      "text/plain": [
       "<keras.callbacks.History at 0x7f4827ab27c0>"
      ]
     },
     "execution_count": 67,
     "metadata": {},
     "output_type": "execute_result"
    },
    {
     "name": "stdout",
     "output_type": "stream",
     "text": [
      "7/7 [==============================] - 0s 3ms/step\n"
     ]
    },
    {
     "data": {
      "text/html": [
       "<style>#sk-container-id-14 {color: black;background-color: white;}#sk-container-id-14 pre{padding: 0;}#sk-container-id-14 div.sk-toggleable {background-color: white;}#sk-container-id-14 label.sk-toggleable__label {cursor: pointer;display: block;width: 100%;margin-bottom: 0;padding: 0.3em;box-sizing: border-box;text-align: center;}#sk-container-id-14 label.sk-toggleable__label-arrow:before {content: \"▸\";float: left;margin-right: 0.25em;color: #696969;}#sk-container-id-14 label.sk-toggleable__label-arrow:hover:before {color: black;}#sk-container-id-14 div.sk-estimator:hover label.sk-toggleable__label-arrow:before {color: black;}#sk-container-id-14 div.sk-toggleable__content {max-height: 0;max-width: 0;overflow: hidden;text-align: left;background-color: #f0f8ff;}#sk-container-id-14 div.sk-toggleable__content pre {margin: 0.2em;color: black;border-radius: 0.25em;background-color: #f0f8ff;}#sk-container-id-14 input.sk-toggleable__control:checked~div.sk-toggleable__content {max-height: 200px;max-width: 100%;overflow: auto;}#sk-container-id-14 input.sk-toggleable__control:checked~label.sk-toggleable__label-arrow:before {content: \"▾\";}#sk-container-id-14 div.sk-estimator input.sk-toggleable__control:checked~label.sk-toggleable__label {background-color: #d4ebff;}#sk-container-id-14 div.sk-label input.sk-toggleable__control:checked~label.sk-toggleable__label {background-color: #d4ebff;}#sk-container-id-14 input.sk-hidden--visually {border: 0;clip: rect(1px 1px 1px 1px);clip: rect(1px, 1px, 1px, 1px);height: 1px;margin: -1px;overflow: hidden;padding: 0;position: absolute;width: 1px;}#sk-container-id-14 div.sk-estimator {font-family: monospace;background-color: #f0f8ff;border: 1px dotted black;border-radius: 0.25em;box-sizing: border-box;margin-bottom: 0.5em;}#sk-container-id-14 div.sk-estimator:hover {background-color: #d4ebff;}#sk-container-id-14 div.sk-parallel-item::after {content: \"\";width: 100%;border-bottom: 1px solid gray;flex-grow: 1;}#sk-container-id-14 div.sk-label:hover label.sk-toggleable__label {background-color: #d4ebff;}#sk-container-id-14 div.sk-serial::before {content: \"\";position: absolute;border-left: 1px solid gray;box-sizing: border-box;top: 0;bottom: 0;left: 50%;z-index: 0;}#sk-container-id-14 div.sk-serial {display: flex;flex-direction: column;align-items: center;background-color: white;padding-right: 0.2em;padding-left: 0.2em;position: relative;}#sk-container-id-14 div.sk-item {position: relative;z-index: 1;}#sk-container-id-14 div.sk-parallel {display: flex;align-items: stretch;justify-content: center;background-color: white;position: relative;}#sk-container-id-14 div.sk-item::before, #sk-container-id-14 div.sk-parallel-item::before {content: \"\";position: absolute;border-left: 1px solid gray;box-sizing: border-box;top: 0;bottom: 0;left: 50%;z-index: -1;}#sk-container-id-14 div.sk-parallel-item {display: flex;flex-direction: column;z-index: 1;position: relative;background-color: white;}#sk-container-id-14 div.sk-parallel-item:first-child::after {align-self: flex-end;width: 50%;}#sk-container-id-14 div.sk-parallel-item:last-child::after {align-self: flex-start;width: 50%;}#sk-container-id-14 div.sk-parallel-item:only-child::after {width: 0;}#sk-container-id-14 div.sk-dashed-wrapped {border: 1px dashed gray;margin: 0 0.4em 0.5em 0.4em;box-sizing: border-box;padding-bottom: 0.4em;background-color: white;}#sk-container-id-14 div.sk-label label {font-family: monospace;font-weight: bold;display: inline-block;line-height: 1.2em;}#sk-container-id-14 div.sk-label-container {text-align: center;}#sk-container-id-14 div.sk-container {/* jupyter's `normalize.less` sets `[hidden] { display: none; }` but bootstrap.min.css set `[hidden] { display: none !important; }` so we also need the `!important` here to be able to override the default hidden behavior on the sphinx rendered scikit-learn.org. See: https://github.com/scikit-learn/scikit-learn/issues/21755 */display: inline-block !important;position: relative;}#sk-container-id-14 div.sk-text-repr-fallback {display: none;}</style><div id=\"sk-container-id-14\" class=\"sk-top-container\"><div class=\"sk-text-repr-fallback\"><pre>SVR(C=100, gamma=0.1)</pre><b>In a Jupyter environment, please rerun this cell to show the HTML representation or trust the notebook. <br />On GitHub, the HTML representation is unable to render, please try loading this page with nbviewer.org.</b></div><div class=\"sk-container\" hidden><div class=\"sk-item\"><div class=\"sk-estimator sk-toggleable\"><input class=\"sk-toggleable__control sk-hidden--visually\" id=\"sk-estimator-id-14\" type=\"checkbox\" checked><label for=\"sk-estimator-id-14\" class=\"sk-toggleable__label sk-toggleable__label-arrow\">SVR</label><div class=\"sk-toggleable__content\"><pre>SVR(C=100, gamma=0.1)</pre></div></div></div></div></div>"
      ],
      "text/plain": [
       "SVR(C=100, gamma=0.1)"
      ]
     },
     "execution_count": 67,
     "metadata": {},
     "output_type": "execute_result"
    }
   ],
   "source": [
    "from sklearn.linear_model import LinearRegression\n",
    "from sklearn.model_selection import train_test_split\n",
    "from sklearn.preprocessing import LabelEncoder\n",
    "\n",
    "acc4 = {}\n",
    "#Tesla\n",
    "profit4={}\n",
    "#Tesla\n",
    "for s in selected:\n",
    "    idx = sp500.index(s)\n",
    "    stock = df_list3[idx].dropna()\n",
    "    X = stock\n",
    "    y = stock['trend']\n",
    "\n",
    "    label_encoder = LabelEncoder()\n",
    "    y_encoded = label_encoder.fit_transform(y)\n",
    "\n",
    "    X_train_orig, X_test_orig, y_train, y_test = train_test_split(X,y_encoded,test_size=0.2,shuffle=False)\n",
    "    X_train = X_train_orig.iloc[:,2:-3]\n",
    "    X_test = X_test_orig.iloc[:,2:-3]    \n",
    "\n",
    "\n",
    "    X1_train = np.reshape(X_train.values,(X_train.shape[0], X_train.shape[1], 1))\n",
    "    y1_train = y_train#.values\n",
    "\n",
    "\n",
    "    X1_test = np.reshape(X_test.values,(X_test.shape[0], X_test.shape[1], 1))\n",
    "    y1_test = y_test#.values\n",
    "    input_shape = X1_train.shape\n",
    "    batch_size=128\n",
    "    \n",
    "    lstm_model2.fit(X1_train, y1_train, epochs=200, batch_size=32, verbose=0)\n",
    "    lstm_predictions = lstm_model2.predict(X1_test)\n",
    "    \n",
    "    \n",
    "    \n",
    "    #pred1\n",
    "    #merged_df['trend'] = merged_df['daily_returns_overall']\n",
    "\n",
    "    svm_model.fit(X_train, y_train)\n",
    "    svm_predictions = svm_model.predict(X_test)\n",
    "    \n",
    "    lstm_predictions = lstm_predictions.reshape(y1_test.shape)\n",
    "    combined_pred = (lstm_predictions + svm_predictions) / 2\n",
    "    \n",
    "    \n",
    "    pred2 = (combined_pred-X_test.Close).apply(condition)\n",
    "    #X_test.Close-combined_pred\n",
    "    #pred2\n",
    "\n",
    "    pred = (y1_test-X_test.Close).apply(condition)\n",
    "\n",
    "    #pred\n",
    "    acc = sum(pred==pred2)/len(pred)\n",
    "    acc4[s]=acc\n",
    "\n",
    "    stock_test_df = pd.concat([X_test_orig.reset_index(), pd.DataFrame({'model_pred':pred_cat}).reset_index()],axis=1)\n",
    "    \n",
    "    stock_test_df['buy'] = stock_test_df['model_pred'].apply(lambda x: 1 if x == 'increase' else 0)\n",
    "    stock_test_df['spend'] = 5000 * stock_test_df['buy']\n",
    "    stock_test_df['shares'] = stock_test_df['spend']// stock_test_df['Close']\n",
    "    stock_test_df['profit'] = stock_test_df['shares'] * stock_test_df['next_day_return']\n",
    "\n",
    "    profit4[s] = sum(stock_test_df['profit'])    "
   ]
  },
  {
   "cell_type": "code",
   "execution_count": null,
   "metadata": {
    "colab": {
     "base_uri": "https://localhost:8080/"
    },
    "id": "SsjERJhbj5iq",
    "outputId": "1d587965-5377-4fc7-cdce-e11d9defe316"
   },
   "outputs": [
    {
     "data": {
      "text/plain": [
       "137892    decrease\n",
       "137893    decrease\n",
       "137894    decrease\n",
       "137895    decrease\n",
       "137896    decrease\n",
       "            ...   \n",
       "138089    decrease\n",
       "138090    decrease\n",
       "138091    decrease\n",
       "138092    decrease\n",
       "138093    decrease\n",
       "Name: Close, Length: 202, dtype: object"
      ]
     },
     "execution_count": 68,
     "metadata": {},
     "output_type": "execute_result"
    }
   ],
   "source": [
    "pred"
   ]
  },
  {
   "cell_type": "code",
   "execution_count": null,
   "metadata": {
    "colab": {
     "base_uri": "https://localhost:8080/"
    },
    "id": "NLPolfnnkGqu",
    "outputId": "9861ae55-2f98-429e-8d2e-265e162035a9"
   },
   "outputs": [
    {
     "data": {
      "text/plain": [
       "137892    decrease\n",
       "137893    decrease\n",
       "137894    decrease\n",
       "137895    decrease\n",
       "137896    decrease\n",
       "            ...   \n",
       "138089    decrease\n",
       "138090    decrease\n",
       "138091    decrease\n",
       "138092    decrease\n",
       "138093    decrease\n",
       "Name: Close, Length: 202, dtype: object"
      ]
     },
     "execution_count": 69,
     "metadata": {},
     "output_type": "execute_result"
    }
   ],
   "source": [
    "pred2"
   ]
  },
  {
   "cell_type": "code",
   "execution_count": null,
   "metadata": {
    "colab": {
     "base_uri": "https://localhost:8080/"
    },
    "id": "60PxDaa2VEfs",
    "outputId": "f9646f99-1b3e-4750-f4fd-84fd7b95bacb"
   },
   "outputs": [
    {
     "data": {
      "text/plain": [
       "{'CARR': 1.0,\n",
       " 'ENPH': 1.0,\n",
       " 'TSLA': 1.0,\n",
       " 'DHR': 1.0,\n",
       " 'AMD': 1.0,\n",
       " 'MRNA': 1.0,\n",
       " 'DHI': 1.0}"
      ]
     },
     "execution_count": 70,
     "metadata": {},
     "output_type": "execute_result"
    }
   ],
   "source": [
    "acc4"
   ]
  },
  {
   "cell_type": "code",
   "execution_count": null,
   "metadata": {
    "colab": {
     "base_uri": "https://localhost:8080/"
    },
    "id": "yiYnuW3MVEfs",
    "outputId": "1dfbf87d-f5e0-478a-887e-27db082703b2"
   },
   "outputs": [
    {
     "data": {
      "text/plain": [
       "{'CARR': -3687.9318670199514,\n",
       " 'ENPH': -765.7824367634297,\n",
       " 'TSLA': -1368.1476848734585,\n",
       " 'DHR': -535.0884936735945,\n",
       " 'AMD': 70.99224068117414,\n",
       " 'MRNA': -141.7624687837607,\n",
       " 'DHI': -49.20119658671645}"
      ]
     },
     "execution_count": 71,
     "metadata": {},
     "output_type": "execute_result"
    }
   ],
   "source": [
    "profit4"
   ]
  },
  {
   "cell_type": "code",
   "execution_count": null,
   "metadata": {
    "colab": {
     "base_uri": "https://localhost:8080/"
    },
    "id": "i11uQ8nrVEfs",
    "outputId": "88decbcb-e610-4ff5-c853-6f51d0d61f0c"
   },
   "outputs": [
    {
     "data": {
      "text/plain": [
       "{'CARR': 0.5198019801980198,\n",
       " 'ENPH': 0.4752475247524752,\n",
       " 'TSLA': 0.47029702970297027,\n",
       " 'DHR': 0.4801980198019802,\n",
       " 'AMD': 0.504950495049505,\n",
       " 'MRNA': 0.5396039603960396,\n",
       " 'DHI': 0.5247524752475248}"
      ]
     },
     "execution_count": 72,
     "metadata": {},
     "output_type": "execute_result"
    }
   ],
   "source": [
    "acc1"
   ]
  },
  {
   "cell_type": "code",
   "execution_count": null,
   "metadata": {
    "colab": {
     "base_uri": "https://localhost:8080/"
    },
    "id": "MAQxcuJlVEfs",
    "outputId": "48ab23d2-32a3-4f76-f0e5-4b9e85252ecc"
   },
   "outputs": [
    {
     "data": {
      "text/plain": [
       "{'CARR': 0.5247524752475248,\n",
       " 'ENPH': 0.504950495049505,\n",
       " 'TSLA': 0.43564356435643564,\n",
       " 'DHR': 0.4306930693069307,\n",
       " 'AMD': 0.504950495049505,\n",
       " 'MRNA': 0.49504950495049505,\n",
       " 'DHI': 0.5297029702970297}"
      ]
     },
     "execution_count": 73,
     "metadata": {},
     "output_type": "execute_result"
    }
   ],
   "source": [
    "acc2"
   ]
  },
  {
   "cell_type": "code",
   "execution_count": null,
   "metadata": {
    "colab": {
     "base_uri": "https://localhost:8080/"
    },
    "id": "Ov1ui4WdVEfs",
    "outputId": "d9ae92f7-2b4d-427b-aba9-97098f64a588"
   },
   "outputs": [
    {
     "data": {
      "text/plain": [
       "{'CARR': 0.48514851485148514,\n",
       " 'ENPH': 0.504950495049505,\n",
       " 'TSLA': 0.5445544554455446,\n",
       " 'DHR': 0.4306930693069307,\n",
       " 'AMD': 0.5,\n",
       " 'MRNA': 0.49504950495049505,\n",
       " 'DHI': 0.5297029702970297}"
      ]
     },
     "execution_count": 74,
     "metadata": {},
     "output_type": "execute_result"
    }
   ],
   "source": [
    "acc3"
   ]
  },
  {
   "cell_type": "code",
   "execution_count": null,
   "metadata": {
    "colab": {
     "base_uri": "https://localhost:8080/"
    },
    "id": "Ri5ntVrOVEfs",
    "outputId": "86d14478-9040-4bcb-d273-6f1176607415"
   },
   "outputs": [
    {
     "data": {
      "text/plain": [
       "{'CARR': 1.0,\n",
       " 'ENPH': 1.0,\n",
       " 'TSLA': 1.0,\n",
       " 'DHR': 1.0,\n",
       " 'AMD': 1.0,\n",
       " 'MRNA': 1.0,\n",
       " 'DHI': 1.0}"
      ]
     },
     "execution_count": 75,
     "metadata": {},
     "output_type": "execute_result"
    }
   ],
   "source": [
    "acc4"
   ]
  },
  {
   "cell_type": "code",
   "execution_count": null,
   "metadata": {
    "id": "e7e6KhX_VEfs"
   },
   "outputs": [],
   "source": []
  },
  {
   "cell_type": "code",
   "execution_count": null,
   "metadata": {
    "id": "BIyQBBKyVEft"
   },
   "outputs": [],
   "source": []
  },
  {
   "cell_type": "code",
   "execution_count": null,
   "metadata": {
    "id": "CezJcxXuVEft"
   },
   "outputs": [],
   "source": []
  },
  {
   "cell_type": "code",
   "execution_count": null,
   "metadata": {
    "colab": {
     "base_uri": "https://localhost:8080/"
    },
    "id": "ZIMvJmwzVEft",
    "outputId": "a3baf8d2-29db-4f84-e12a-488b148bf79f"
   },
   "outputs": [
    {
     "name": "stdout",
     "output_type": "stream",
     "text": [
      "Model: \"sequential_3\"\n",
      "_________________________________________________________________\n",
      " Layer (type)                Output Shape              Param #   \n",
      "=================================================================\n",
      " lstm_5 (LSTM)               (None, 128)               66560     \n",
      "                                                                 \n",
      " dense_5 (Dense)             (None, 8)                 1032      \n",
      "                                                                 \n",
      " dense_6 (Dense)             (None, 1)                 9         \n",
      "                                                                 \n",
      "=================================================================\n",
      "Total params: 67,601\n",
      "Trainable params: 67,601\n",
      "Non-trainable params: 0\n",
      "_________________________________________________________________\n"
     ]
    }
   ],
   "source": [
    "\n",
    "lstm_model3 = Sequential()\n",
    "lstm_model3.add(LSTM(128, input_shape=( 7,1)))\n",
    "lstm_model3.add(Dense(8, 'relu'))\n",
    "lstm_model3.add(Dense(1, 'sigmoid'))\n",
    "#lstm_model.add(Dense(1, activation='linear'))\n",
    "\n",
    "lstm_model3.summary()\n",
    "cp1 = ModelCheckpoint('model/', save_best_only=True)\n",
    "lstm_model3.compile(loss='binary_crossentropy', optimizer='adam', metrics=['accuracy'])"
   ]
  },
  {
   "cell_type": "code",
   "execution_count": null,
   "metadata": {
    "colab": {
     "base_uri": "https://localhost:8080/"
    },
    "id": "AU_YCcRhVEft",
    "outputId": "a70db920-599f-4d72-ee37-7d334b181593"
   },
   "outputs": [
    {
     "data": {
      "text/plain": [
       "<keras.callbacks.History at 0x7f481d04beb0>"
      ]
     },
     "execution_count": 77,
     "metadata": {},
     "output_type": "execute_result"
    },
    {
     "name": "stdout",
     "output_type": "stream",
     "text": [
      "7/7 [==============================] - 0s 3ms/step\n"
     ]
    },
    {
     "data": {
      "text/plain": [
       "<keras.callbacks.History at 0x7f481cceba30>"
      ]
     },
     "execution_count": 77,
     "metadata": {},
     "output_type": "execute_result"
    },
    {
     "name": "stdout",
     "output_type": "stream",
     "text": [
      "7/7 [==============================] - 0s 4ms/step\n"
     ]
    },
    {
     "data": {
      "text/plain": [
       "<keras.callbacks.History at 0x7f481cc2f070>"
      ]
     },
     "execution_count": 77,
     "metadata": {},
     "output_type": "execute_result"
    },
    {
     "name": "stdout",
     "output_type": "stream",
     "text": [
      "7/7 [==============================] - 0s 5ms/step\n"
     ]
    },
    {
     "data": {
      "text/plain": [
       "<keras.callbacks.History at 0x7f481e5f0070>"
      ]
     },
     "execution_count": 77,
     "metadata": {},
     "output_type": "execute_result"
    },
    {
     "name": "stdout",
     "output_type": "stream",
     "text": [
      "7/7 [==============================] - 0s 4ms/step\n"
     ]
    },
    {
     "data": {
      "text/plain": [
       "<keras.callbacks.History at 0x7f481e5b4ee0>"
      ]
     },
     "execution_count": 77,
     "metadata": {},
     "output_type": "execute_result"
    },
    {
     "name": "stdout",
     "output_type": "stream",
     "text": [
      "7/7 [==============================] - 0s 5ms/step\n"
     ]
    },
    {
     "data": {
      "text/plain": [
       "<keras.callbacks.History at 0x7f481cef6a90>"
      ]
     },
     "execution_count": 77,
     "metadata": {},
     "output_type": "execute_result"
    },
    {
     "name": "stdout",
     "output_type": "stream",
     "text": [
      "7/7 [==============================] - 0s 4ms/step\n"
     ]
    },
    {
     "data": {
      "text/plain": [
       "<keras.callbacks.History at 0x7f481e59c460>"
      ]
     },
     "execution_count": 77,
     "metadata": {},
     "output_type": "execute_result"
    },
    {
     "name": "stdout",
     "output_type": "stream",
     "text": [
      "7/7 [==============================] - 0s 4ms/step\n"
     ]
    }
   ],
   "source": [
    "from sklearn.svm import SVR\n",
    "from sklearn.linear_model import LinearRegression\n",
    "from sklearn.model_selection import train_test_split\n",
    "\n",
    "acc5 = {}\n",
    "profit5={}\n",
    "#Tesla\n",
    "for s in selected:\n",
    "    idx = sp500.index(s)\n",
    "    stock = df_list3[idx].dropna()\n",
    "    X = stock\n",
    "    y = stock['trend']\n",
    "    \n",
    "\n",
    "    \n",
    "    \n",
    "\n",
    "    label_encoder = LabelEncoder()\n",
    "    y_encoded = label_encoder.fit_transform(y)\n",
    "\n",
    "    X_train_orig, X_test_orig, y_train, y_test = train_test_split(X,y_encoded,test_size=0.2,shuffle=False)\n",
    "    X_train = X_train_orig.iloc[:,2:-3]\n",
    "    X_test = X_test_orig.iloc[:,2:-3]    \n",
    "\n",
    "    X1_train = np.reshape(X_train.values,(X_train.shape[0], X_train.shape[1], 1))\n",
    "    y1_train = y_train#.values\n",
    "\n",
    "\n",
    "    X1_test = np.reshape(X_test.values,(X_test.shape[0], X_test.shape[1], 1))\n",
    "    y1_test = y_test#.values\n",
    "    input_shape = X1_train.shape\n",
    "    batch_size=128\n",
    "    \n",
    "    lstm_model3.fit(X1_train, y1_train, epochs=200, batch_size=32, verbose=0)\n",
    "    pred2 = label_encoder.inverse_transform(lstm_model3.predict(X1_test).astype(int).reshape(y1_test.shape))\n",
    "    pred = label_encoder.inverse_transform(y_test)\n",
    "  \n",
    "\n",
    "    #pred\n",
    "    acc = sum(pred==pred2)/len(pred)\n",
    "    acc5[s]=acc\n",
    "    \n",
    "    stock_test_df = pd.concat([X_test_orig.reset_index(), pd.DataFrame({'model_pred':pred_cat}).reset_index()],axis=1)\n",
    "    \n",
    "    stock_test_df['buy'] = stock_test_df['model_pred'].apply(lambda x: 1 if x == 'increase' else 0)\n",
    "    stock_test_df['spend'] = 5000 * stock_test_df['buy']\n",
    "    stock_test_df['shares'] = stock_test_df['spend']// stock_test_df['Close']\n",
    "    stock_test_df['profit'] = stock_test_df['shares'] * stock_test_df['next_day_return']\n",
    "\n",
    "    output_list1.append(stock_test_df)\n",
    "    \n",
    "    profit5[s] = sum(stock_test_df['profit'])    "
   ]
  },
  {
   "cell_type": "code",
   "execution_count": null,
   "metadata": {
    "colab": {
     "base_uri": "https://localhost:8080/"
    },
    "id": "WoE-r14UVEft",
    "outputId": "207deb16-2f83-4edc-f8ad-af51d72aa805"
   },
   "outputs": [
    {
     "data": {
      "text/plain": [
       "{'CARR': -3687.9318670199514,\n",
       " 'ENPH': -765.7824367634297,\n",
       " 'TSLA': -1368.1476848734585,\n",
       " 'DHR': -535.0884936735945,\n",
       " 'AMD': 70.99224068117414,\n",
       " 'MRNA': -141.7624687837607,\n",
       " 'DHI': -49.20119658671645}"
      ]
     },
     "execution_count": 78,
     "metadata": {},
     "output_type": "execute_result"
    }
   ],
   "source": [
    "profit5"
   ]
  },
  {
   "cell_type": "code",
   "execution_count": null,
   "metadata": {
    "colab": {
     "base_uri": "https://localhost:8080/"
    },
    "id": "6GAYJEjVVEft",
    "outputId": "65c05b36-0cc9-4361-be60-a00f24450a42"
   },
   "outputs": [
    {
     "data": {
      "text/plain": [
       "{'CARR': 0.5396039603960396,\n",
       " 'ENPH': 0.504950495049505,\n",
       " 'TSLA': 0.5445544554455446,\n",
       " 'DHR': 0.48514851485148514,\n",
       " 'AMD': 0.49504950495049505,\n",
       " 'MRNA': 0.49504950495049505,\n",
       " 'DHI': 0.5297029702970297}"
      ]
     },
     "execution_count": 79,
     "metadata": {},
     "output_type": "execute_result"
    }
   ],
   "source": [
    "acc5"
   ]
  },
  {
   "cell_type": "code",
   "execution_count": null,
   "metadata": {
    "id": "-z36PkSZlTEm"
   },
   "outputs": [],
   "source": [
    "acc_df = acc_df.append(pd.DataFrame([acc5],index=['LSTM3_trend']))\n",
    "profit_df = profit_df.append(pd.DataFrame([profit5],index=['LSTM3_trend']))"
   ]
  },
  {
   "cell_type": "code",
   "execution_count": null,
   "metadata": {
    "colab": {
     "base_uri": "https://localhost:8080/"
    },
    "id": "bYkb0gqpVEfu",
    "outputId": "5929eb55-c27e-4e58-ba2c-ece7399afdbd"
   },
   "outputs": [
    {
     "name": "stdout",
     "output_type": "stream",
     "text": [
      "Model: \"sequential_4\"\n",
      "_________________________________________________________________\n",
      " Layer (type)                Output Shape              Param #   \n",
      "=================================================================\n",
      " lstm_6 (LSTM)               (None, 128)               66560     \n",
      "                                                                 \n",
      " dense_7 (Dense)             (None, 8)                 1032      \n",
      "                                                                 \n",
      " dense_8 (Dense)             (None, 1)                 9         \n",
      "                                                                 \n",
      "=================================================================\n",
      "Total params: 67,601\n",
      "Trainable params: 67,601\n",
      "Non-trainable params: 0\n",
      "_________________________________________________________________\n"
     ]
    }
   ],
   "source": [
    "\n",
    "lstm_model4 = Sequential()\n",
    "lstm_model4.add(LSTM(128, input_shape=( 7,1)))\n",
    "lstm_model4.add(Dense(8, 'relu'))\n",
    "lstm_model4.add(Dense(1, 'softmax'))\n",
    "#lstm_model.add(Dense(1, activation='linear'))\n",
    "\n",
    "lstm_model4.summary()\n",
    "cp1 = ModelCheckpoint('model/', save_best_only=True)\n",
    "lstm_model4.compile(loss='binary_crossentropy', optimizer='adam', metrics=['accuracy'])"
   ]
  },
  {
   "cell_type": "code",
   "execution_count": null,
   "metadata": {
    "colab": {
     "base_uri": "https://localhost:8080/",
     "height": 510
    },
    "id": "EB5il70lVEfu",
    "outputId": "a6f51e4f-91c3-49c3-846d-ad96f9f04354"
   },
   "outputs": [
    {
     "data": {
      "text/plain": [
       "<keras.callbacks.History at 0x7f481d03f5e0>"
      ]
     },
     "execution_count": 82,
     "metadata": {},
     "output_type": "execute_result"
    },
    {
     "name": "stdout",
     "output_type": "stream",
     "text": [
      "7/7 [==============================] - 0s 4ms/step\n"
     ]
    },
    {
     "data": {
      "application/vnd.google.colaboratory.intrinsic+json": {
       "type": "string"
      },
      "text/plain": [
       "\"\\n    \\n    #pred1\\n    #merged_df['trend'] = merged_df['daily_returns_overall']\\n\\n    svm_model.fit(X_train, y_train)\\n    svm_predictions = svm_model.predict(X_test)\\n    \\n    lstm_predictions = lstm_predictions.reshape(y1_test.shape)\\n    combined_pred = (lstm_predictions + svm_predictions) / 2\\n    \\n    \\n    pred2 = (combined_pred-X_test.Close).apply(condition)\\n    #X_test.Close-combined_pred\\n    #pred2\\n\\n    pred = (y_test-X_test.Close).apply(condition)\""
      ]
     },
     "execution_count": 82,
     "metadata": {},
     "output_type": "execute_result"
    },
    {
     "data": {
      "text/plain": [
       "<keras.callbacks.History at 0x7f481e53d550>"
      ]
     },
     "execution_count": 82,
     "metadata": {},
     "output_type": "execute_result"
    },
    {
     "name": "stdout",
     "output_type": "stream",
     "text": [
      "7/7 [==============================] - 0s 4ms/step\n"
     ]
    },
    {
     "data": {
      "application/vnd.google.colaboratory.intrinsic+json": {
       "type": "string"
      },
      "text/plain": [
       "\"\\n    \\n    #pred1\\n    #merged_df['trend'] = merged_df['daily_returns_overall']\\n\\n    svm_model.fit(X_train, y_train)\\n    svm_predictions = svm_model.predict(X_test)\\n    \\n    lstm_predictions = lstm_predictions.reshape(y1_test.shape)\\n    combined_pred = (lstm_predictions + svm_predictions) / 2\\n    \\n    \\n    pred2 = (combined_pred-X_test.Close).apply(condition)\\n    #X_test.Close-combined_pred\\n    #pred2\\n\\n    pred = (y_test-X_test.Close).apply(condition)\""
      ]
     },
     "execution_count": 82,
     "metadata": {},
     "output_type": "execute_result"
    },
    {
     "data": {
      "text/plain": [
       "<keras.callbacks.History at 0x7f481e4eda90>"
      ]
     },
     "execution_count": 82,
     "metadata": {},
     "output_type": "execute_result"
    },
    {
     "name": "stdout",
     "output_type": "stream",
     "text": [
      "7/7 [==============================] - 0s 3ms/step\n"
     ]
    },
    {
     "data": {
      "application/vnd.google.colaboratory.intrinsic+json": {
       "type": "string"
      },
      "text/plain": [
       "\"\\n    \\n    #pred1\\n    #merged_df['trend'] = merged_df['daily_returns_overall']\\n\\n    svm_model.fit(X_train, y_train)\\n    svm_predictions = svm_model.predict(X_test)\\n    \\n    lstm_predictions = lstm_predictions.reshape(y1_test.shape)\\n    combined_pred = (lstm_predictions + svm_predictions) / 2\\n    \\n    \\n    pred2 = (combined_pred-X_test.Close).apply(condition)\\n    #X_test.Close-combined_pred\\n    #pred2\\n\\n    pred = (y_test-X_test.Close).apply(condition)\""
      ]
     },
     "execution_count": 82,
     "metadata": {},
     "output_type": "execute_result"
    },
    {
     "data": {
      "text/plain": [
       "<keras.callbacks.History at 0x7f481e53d760>"
      ]
     },
     "execution_count": 82,
     "metadata": {},
     "output_type": "execute_result"
    },
    {
     "name": "stdout",
     "output_type": "stream",
     "text": [
      "7/7 [==============================] - 0s 4ms/step\n"
     ]
    },
    {
     "data": {
      "application/vnd.google.colaboratory.intrinsic+json": {
       "type": "string"
      },
      "text/plain": [
       "\"\\n    \\n    #pred1\\n    #merged_df['trend'] = merged_df['daily_returns_overall']\\n\\n    svm_model.fit(X_train, y_train)\\n    svm_predictions = svm_model.predict(X_test)\\n    \\n    lstm_predictions = lstm_predictions.reshape(y1_test.shape)\\n    combined_pred = (lstm_predictions + svm_predictions) / 2\\n    \\n    \\n    pred2 = (combined_pred-X_test.Close).apply(condition)\\n    #X_test.Close-combined_pred\\n    #pred2\\n\\n    pred = (y_test-X_test.Close).apply(condition)\""
      ]
     },
     "execution_count": 82,
     "metadata": {},
     "output_type": "execute_result"
    },
    {
     "data": {
      "text/plain": [
       "<keras.callbacks.History at 0x7f481e53e5b0>"
      ]
     },
     "execution_count": 82,
     "metadata": {},
     "output_type": "execute_result"
    },
    {
     "name": "stdout",
     "output_type": "stream",
     "text": [
      "7/7 [==============================] - 0s 4ms/step\n"
     ]
    },
    {
     "data": {
      "application/vnd.google.colaboratory.intrinsic+json": {
       "type": "string"
      },
      "text/plain": [
       "\"\\n    \\n    #pred1\\n    #merged_df['trend'] = merged_df['daily_returns_overall']\\n\\n    svm_model.fit(X_train, y_train)\\n    svm_predictions = svm_model.predict(X_test)\\n    \\n    lstm_predictions = lstm_predictions.reshape(y1_test.shape)\\n    combined_pred = (lstm_predictions + svm_predictions) / 2\\n    \\n    \\n    pred2 = (combined_pred-X_test.Close).apply(condition)\\n    #X_test.Close-combined_pred\\n    #pred2\\n\\n    pred = (y_test-X_test.Close).apply(condition)\""
      ]
     },
     "execution_count": 82,
     "metadata": {},
     "output_type": "execute_result"
    },
    {
     "data": {
      "text/plain": [
       "<keras.callbacks.History at 0x7f481e486910>"
      ]
     },
     "execution_count": 82,
     "metadata": {},
     "output_type": "execute_result"
    },
    {
     "name": "stdout",
     "output_type": "stream",
     "text": [
      "7/7 [==============================] - 0s 4ms/step\n"
     ]
    },
    {
     "data": {
      "application/vnd.google.colaboratory.intrinsic+json": {
       "type": "string"
      },
      "text/plain": [
       "\"\\n    \\n    #pred1\\n    #merged_df['trend'] = merged_df['daily_returns_overall']\\n\\n    svm_model.fit(X_train, y_train)\\n    svm_predictions = svm_model.predict(X_test)\\n    \\n    lstm_predictions = lstm_predictions.reshape(y1_test.shape)\\n    combined_pred = (lstm_predictions + svm_predictions) / 2\\n    \\n    \\n    pred2 = (combined_pred-X_test.Close).apply(condition)\\n    #X_test.Close-combined_pred\\n    #pred2\\n\\n    pred = (y_test-X_test.Close).apply(condition)\""
      ]
     },
     "execution_count": 82,
     "metadata": {},
     "output_type": "execute_result"
    },
    {
     "data": {
      "text/plain": [
       "<keras.callbacks.History at 0x7f481e4f5a30>"
      ]
     },
     "execution_count": 82,
     "metadata": {},
     "output_type": "execute_result"
    },
    {
     "name": "stdout",
     "output_type": "stream",
     "text": [
      "7/7 [==============================] - 0s 4ms/step\n"
     ]
    },
    {
     "data": {
      "application/vnd.google.colaboratory.intrinsic+json": {
       "type": "string"
      },
      "text/plain": [
       "\"\\n    \\n    #pred1\\n    #merged_df['trend'] = merged_df['daily_returns_overall']\\n\\n    svm_model.fit(X_train, y_train)\\n    svm_predictions = svm_model.predict(X_test)\\n    \\n    lstm_predictions = lstm_predictions.reshape(y1_test.shape)\\n    combined_pred = (lstm_predictions + svm_predictions) / 2\\n    \\n    \\n    pred2 = (combined_pred-X_test.Close).apply(condition)\\n    #X_test.Close-combined_pred\\n    #pred2\\n\\n    pred = (y_test-X_test.Close).apply(condition)\""
      ]
     },
     "execution_count": 82,
     "metadata": {},
     "output_type": "execute_result"
    }
   ],
   "source": [
    "from sklearn.svm import SVR\n",
    "from sklearn.linear_model import LinearRegression\n",
    "from sklearn.model_selection import train_test_split\n",
    "from sklearn.preprocessing import LabelEncoder\n",
    "\n",
    "acc6 = {}\n",
    "profit6={}\n",
    "#Tesla\n",
    "for s in selected:\n",
    "    idx = sp500.index(s)\n",
    "    stock = df_list4[idx].dropna()\n",
    "    X = stock\n",
    "    y = stock['trend']\n",
    "    \n",
    "\n",
    "    \n",
    "    \n",
    "\n",
    "    label_encoder = LabelEncoder()\n",
    "    y_encoded = label_encoder.fit_transform(y).astype(int)\n",
    "\n",
    "    X_train_orig, X_test_orig, y_train, y_test = train_test_split(X,y_encoded,test_size=0.2,shuffle=False)\n",
    "    X_train = X_train_orig.iloc[:,2:-3]\n",
    "    X_test = X_test_orig.iloc[:,2:-3]    \n",
    "\n",
    "    X1_train = np.reshape(X_train.values,(X_train.shape[0], X_train.shape[1], 1))\n",
    "    y1_train = y_train#.values\n",
    "\n",
    "\n",
    "    X1_test = np.reshape(X_test.values,(X_test.shape[0], X_test.shape[1], 1))\n",
    "    y1_test = y_test#.values\n",
    "    input_shape = X1_train.shape\n",
    "    batch_size=128\n",
    "    \n",
    "    lstm_model3.fit(X1_train, y1_train, epochs=200, batch_size=32, verbose=0)\n",
    "    pred2 = label_encoder.inverse_transform(lstm_model3.predict(X1_test).astype(int).reshape(y1_test.shape))\n",
    "    pred = y1_test\n",
    "    \"\"\"\n",
    "    \n",
    "    #pred1\n",
    "    #merged_df['trend'] = merged_df['daily_returns_overall']\n",
    "\n",
    "    svm_model.fit(X_train, y_train)\n",
    "    svm_predictions = svm_model.predict(X_test)\n",
    "    \n",
    "    lstm_predictions = lstm_predictions.reshape(y1_test.shape)\n",
    "    combined_pred = (lstm_predictions + svm_predictions) / 2\n",
    "    \n",
    "    \n",
    "    pred2 = (combined_pred-X_test.Close).apply(condition)\n",
    "    #X_test.Close-combined_pred\n",
    "    #pred2\n",
    "\n",
    "    pred = (y_test-X_test.Close).apply(condition)\"\"\"\n",
    "    \n",
    "    \n",
    "\n",
    "    #pred\n",
    "    acc = sum(pred==pred2)/len(pred)\n",
    "    acc6[s]=acc\n",
    "    \n",
    "    stock_test_df = pd.concat([X_test_orig.reset_index(), pd.DataFrame({'model_pred':pred_cat}).reset_index()],axis=1)\n",
    "    \n",
    "    stock_test_df['buy'] = stock_test_df['model_pred'].apply(lambda x: 1 if x == 'increase' else 0)\n",
    "    stock_test_df['spend'] = 5000 * stock_test_df['buy']\n",
    "    stock_test_df['shares'] = stock_test_df['spend']// stock_test_df['Close']\n",
    "    stock_test_df['profit'] = stock_test_df['shares'] * stock_test_df['next_day_return']\n",
    "\n",
    "    output_list1.append(stock_test_df)\n",
    "    \n",
    "    profit6[s] = sum(stock_test_df['profit'])   "
   ]
  },
  {
   "cell_type": "code",
   "execution_count": null,
   "metadata": {
    "colab": {
     "base_uri": "https://localhost:8080/"
    },
    "id": "lFGKlwqeVEfu",
    "outputId": "9c279f0c-ea67-4db8-f64f-be3dcf95fe8d"
   },
   "outputs": [
    {
     "data": {
      "text/plain": [
       "{'CARR': 0.0,\n",
       " 'ENPH': 0.0,\n",
       " 'TSLA': 0.0,\n",
       " 'DHR': 0.0,\n",
       " 'AMD': 0.0,\n",
       " 'MRNA': 0.0,\n",
       " 'DHI': 0.0}"
      ]
     },
     "execution_count": 83,
     "metadata": {},
     "output_type": "execute_result"
    }
   ],
   "source": [
    "acc6"
   ]
  },
  {
   "cell_type": "code",
   "execution_count": null,
   "metadata": {
    "colab": {
     "base_uri": "https://localhost:8080/"
    },
    "id": "u5gj4udlVEfu",
    "outputId": "2e1ac8c3-d4b3-4f5b-d9e3-61931076ebfb"
   },
   "outputs": [
    {
     "data": {
      "text/plain": [
       "{'CARR': -3687.9318670199514,\n",
       " 'ENPH': -765.7824367634297,\n",
       " 'TSLA': -1368.1476848734585,\n",
       " 'DHR': -535.0884936735945,\n",
       " 'AMD': 70.99224068117414,\n",
       " 'MRNA': -141.7624687837607,\n",
       " 'DHI': -49.20119658671645}"
      ]
     },
     "execution_count": 84,
     "metadata": {},
     "output_type": "execute_result"
    }
   ],
   "source": [
    "profit6"
   ]
  },
  {
   "cell_type": "code",
   "execution_count": null,
   "metadata": {
    "id": "w6qXz25Blw6o"
   },
   "outputs": [],
   "source": []
  },
  {
   "cell_type": "code",
   "execution_count": null,
   "metadata": {
    "colab": {
     "base_uri": "https://localhost:8080/"
    },
    "id": "5gBfx8bgVEfu",
    "outputId": "8a1e6fdc-33c1-4786-8836-3adbc9c39132"
   },
   "outputs": [
    {
     "name": "stdout",
     "output_type": "stream",
     "text": [
      "Model: \"sequential_5\"\n",
      "_________________________________________________________________\n",
      " Layer (type)                Output Shape              Param #   \n",
      "=================================================================\n",
      " lstm_7 (LSTM)               (None, 128)               66560     \n",
      "                                                                 \n",
      " dense_9 (Dense)             (None, 8)                 1032      \n",
      "                                                                 \n",
      " dense_10 (Dense)            (None, 3)                 27        \n",
      "                                                                 \n",
      "=================================================================\n",
      "Total params: 67,619\n",
      "Trainable params: 67,619\n",
      "Non-trainable params: 0\n",
      "_________________________________________________________________\n"
     ]
    }
   ],
   "source": [
    "\n",
    "lstm_model5 = Sequential()\n",
    "lstm_model5.add(LSTM(128, input_shape=( 7,1)))\n",
    "lstm_model5.add(Dense(8, 'relu'))\n",
    "lstm_model5.add(Dense(3, 'softmax'))\n",
    "#lstm_model.add(Dense(1, activation='linear'))\n",
    "\n",
    "lstm_model5.summary()\n",
    "cp1 = ModelCheckpoint('model/', save_best_only=True)\n",
    "lstm_model5.compile(loss='binary_crossentropy', optimizer='adam', metrics=['accuracy'])"
   ]
  },
  {
   "cell_type": "code",
   "execution_count": null,
   "metadata": {
    "colab": {
     "base_uri": "https://localhost:8080/"
    },
    "id": "0VKntKOwVEfv",
    "outputId": "9b6b22ce-ee2d-4e76-dab1-d1baef69aaa8"
   },
   "outputs": [
    {
     "data": {
      "text/plain": [
       "<keras.callbacks.History at 0x7f481e5604f0>"
      ]
     },
     "execution_count": 86,
     "metadata": {},
     "output_type": "execute_result"
    },
    {
     "name": "stdout",
     "output_type": "stream",
     "text": [
      "7/7 [==============================] - 0s 4ms/step\n"
     ]
    },
    {
     "data": {
      "text/plain": [
       "<keras.callbacks.History at 0x7f481dfe2d00>"
      ]
     },
     "execution_count": 86,
     "metadata": {},
     "output_type": "execute_result"
    },
    {
     "name": "stdout",
     "output_type": "stream",
     "text": [
      "7/7 [==============================] - 0s 4ms/step\n"
     ]
    },
    {
     "data": {
      "text/plain": [
       "<keras.callbacks.History at 0x7f481df8c580>"
      ]
     },
     "execution_count": 86,
     "metadata": {},
     "output_type": "execute_result"
    },
    {
     "name": "stdout",
     "output_type": "stream",
     "text": [
      "7/7 [==============================] - 0s 3ms/step\n"
     ]
    },
    {
     "data": {
      "text/plain": [
       "<keras.callbacks.History at 0x7f481df93400>"
      ]
     },
     "execution_count": 86,
     "metadata": {},
     "output_type": "execute_result"
    },
    {
     "name": "stdout",
     "output_type": "stream",
     "text": [
      "7/7 [==============================] - 0s 5ms/step\n"
     ]
    },
    {
     "data": {
      "text/plain": [
       "<keras.callbacks.History at 0x7f481dff9a30>"
      ]
     },
     "execution_count": 86,
     "metadata": {},
     "output_type": "execute_result"
    },
    {
     "name": "stdout",
     "output_type": "stream",
     "text": [
      "7/7 [==============================] - 0s 3ms/step\n"
     ]
    },
    {
     "data": {
      "text/plain": [
       "<keras.callbacks.History at 0x7f481df14340>"
      ]
     },
     "execution_count": 86,
     "metadata": {},
     "output_type": "execute_result"
    },
    {
     "name": "stdout",
     "output_type": "stream",
     "text": [
      "7/7 [==============================] - 0s 5ms/step\n"
     ]
    },
    {
     "data": {
      "text/plain": [
       "<keras.callbacks.History at 0x7f481df0b0a0>"
      ]
     },
     "execution_count": 86,
     "metadata": {},
     "output_type": "execute_result"
    },
    {
     "name": "stdout",
     "output_type": "stream",
     "text": [
      "7/7 [==============================] - 0s 5ms/step\n"
     ]
    }
   ],
   "source": [
    "from sklearn.svm import SVR\n",
    "from sklearn.linear_model import LinearRegression\n",
    "from sklearn.model_selection import train_test_split\n",
    "from sklearn.preprocessing import LabelEncoder\n",
    "\n",
    "acc7 = {}\n",
    "\n",
    "output_list =[]\n",
    "\n",
    "profit7 = {}\n",
    "\n",
    "#trading \n",
    "for s in selected:\n",
    "    idx = sp500.index(s)\n",
    "    stock = df_list3[idx].dropna()\n",
    "    X = stock\n",
    "    y = stock['trend']\n",
    "    \n",
    "    \n",
    "\n",
    "    label_encoder = LabelEncoder()\n",
    "    y_encoded = label_encoder.fit_transform(y)\n",
    "\n",
    "    X_train_orig, X_test_orig, y_train, y_test = train_test_split(X,y_encoded,test_size=0.2,shuffle = False)\n",
    "    X_train = X_train_orig.iloc[:,2:-3]\n",
    "    X_test = X_test_orig.iloc[:,2:-3]\n",
    "    \n",
    "    X1_train = np.reshape(X_train.values,(X_train.shape[0], X_train.shape[1], 1))\n",
    "    y1_train = y_train#.values\n",
    "\n",
    "\n",
    "    X1_test = np.reshape(X_test.values,(X_test.shape[0], X_test.shape[1], 1))\n",
    "    y1_test = y_test#.values\n",
    "    input_shape = X1_train.shape\n",
    "    batch_size=128\n",
    "    \n",
    "    lstm_model.fit(X1_train, y1_train, epochs=200, batch_size=32, verbose=0)\n",
    "    pred2 = lstm_model.predict(X1_test).reshape(y1_test.shape).astype(int)\n",
    "    pred = y1_test\n",
    "\n",
    "    pred_cat = label_encoder.inverse_transform(pred2)\n",
    "\n",
    "\n",
    "    \n",
    "    acc = sum(pred==pred2)/len(pred)\n",
    "    acc7[s]=acc\n",
    "    \n",
    "    stock_test_df = pd.concat([X_test_orig.reset_index(), pd.DataFrame({'model_pred':pred_cat})],axis=1)\n",
    "    \n",
    "    stock_test_df['buy'] = stock_test_df['model_pred'].apply(lambda x: 1 if x == 'increase' else 0)\n",
    "    stock_test_df['spend'] = 5000 * stock_test_df['buy']\n",
    "    stock_test_df['shares'] = stock_test_df['spend']// stock_test_df['Close']\n",
    "    stock_test_df['profit'] = stock_test_df['shares'] * stock_test_df['next_day_return']\n",
    "\n",
    "    \n",
    "    profit7[s] = sum(stock_test_df['profit'])    \n"
   ]
  },
  {
   "cell_type": "code",
   "execution_count": null,
   "metadata": {
    "colab": {
     "base_uri": "https://localhost:8080/"
    },
    "id": "aYYJmQTVVEfv",
    "outputId": "824b3e9e-c792-47fb-d986-f4588ae5f928"
   },
   "outputs": [
    {
     "data": {
      "text/plain": [
       "{'CARR': 0.5396039603960396,\n",
       " 'ENPH': 0.504950495049505,\n",
       " 'TSLA': 0.5445544554455446,\n",
       " 'DHR': 0.48514851485148514,\n",
       " 'AMD': 0.49504950495049505,\n",
       " 'MRNA': 0.49504950495049505,\n",
       " 'DHI': 0.5297029702970297}"
      ]
     },
     "execution_count": 87,
     "metadata": {},
     "output_type": "execute_result"
    }
   ],
   "source": [
    "acc7"
   ]
  },
  {
   "cell_type": "code",
   "execution_count": null,
   "metadata": {
    "colab": {
     "base_uri": "https://localhost:8080/"
    },
    "id": "VvAAHQLMVEfv",
    "outputId": "a83fbf64-e8df-45ce-a7e2-3f24c783bde1"
   },
   "outputs": [
    {
     "data": {
      "text/plain": [
       "{'CARR': 0.0,\n",
       " 'ENPH': 0.0,\n",
       " 'TSLA': 0.0,\n",
       " 'DHR': 0.0,\n",
       " 'AMD': 0.0,\n",
       " 'MRNA': 0.0,\n",
       " 'DHI': 0.0}"
      ]
     },
     "execution_count": 88,
     "metadata": {},
     "output_type": "execute_result"
    }
   ],
   "source": [
    "profit7"
   ]
  },
  {
   "cell_type": "code",
   "execution_count": null,
   "metadata": {
    "colab": {
     "base_uri": "https://localhost:8080/"
    },
    "id": "3JOlSc4lVEfw",
    "outputId": "a669013b-bcd1-4a47-da72-ad27a6856a60"
   },
   "outputs": [
    {
     "data": {
      "text/plain": [
       "<keras.callbacks.History at 0x7f481e4bd8b0>"
      ]
     },
     "execution_count": 90,
     "metadata": {},
     "output_type": "execute_result"
    },
    {
     "name": "stdout",
     "output_type": "stream",
     "text": [
      "7/7 [==============================] - 0s 5ms/step\n"
     ]
    },
    {
     "data": {
      "text/plain": [
       "<keras.callbacks.History at 0x7f481df06940>"
      ]
     },
     "execution_count": 90,
     "metadata": {},
     "output_type": "execute_result"
    },
    {
     "name": "stdout",
     "output_type": "stream",
     "text": [
      "7/7 [==============================] - 0s 4ms/step\n"
     ]
    },
    {
     "data": {
      "text/plain": [
       "<keras.callbacks.History at 0x7f481cb5f4f0>"
      ]
     },
     "execution_count": 90,
     "metadata": {},
     "output_type": "execute_result"
    },
    {
     "name": "stdout",
     "output_type": "stream",
     "text": [
      "7/7 [==============================] - 0s 5ms/step\n"
     ]
    },
    {
     "data": {
      "text/plain": [
       "<keras.callbacks.History at 0x7f481cb6f940>"
      ]
     },
     "execution_count": 90,
     "metadata": {},
     "output_type": "execute_result"
    },
    {
     "name": "stdout",
     "output_type": "stream",
     "text": [
      "7/7 [==============================] - 0s 4ms/step\n"
     ]
    },
    {
     "data": {
      "text/plain": [
       "<keras.callbacks.History at 0x7f481cb75f70>"
      ]
     },
     "execution_count": 90,
     "metadata": {},
     "output_type": "execute_result"
    },
    {
     "name": "stdout",
     "output_type": "stream",
     "text": [
      "7/7 [==============================] - 0s 4ms/step\n"
     ]
    },
    {
     "data": {
      "text/plain": [
       "<keras.callbacks.History at 0x7f481cb22220>"
      ]
     },
     "execution_count": 90,
     "metadata": {},
     "output_type": "execute_result"
    },
    {
     "name": "stdout",
     "output_type": "stream",
     "text": [
      "7/7 [==============================] - 0s 4ms/step\n"
     ]
    },
    {
     "data": {
      "text/plain": [
       "<keras.callbacks.History at 0x7f481cac0640>"
      ]
     },
     "execution_count": 90,
     "metadata": {},
     "output_type": "execute_result"
    },
    {
     "name": "stdout",
     "output_type": "stream",
     "text": [
      "7/7 [==============================] - 0s 3ms/step\n"
     ]
    }
   ],
   "source": [
    "from sklearn.svm import SVR\n",
    "from sklearn.linear_model import LinearRegression\n",
    "from sklearn.model_selection import train_test_split\n",
    "\n",
    "output_list9 =[]\n",
    "acc9 = {}\n",
    "profit9={}\n",
    "#Tesla\n",
    "for s in selected:\n",
    "    idx = sp500.index(s)\n",
    "    stock = df_list3[idx].dropna()\n",
    "    X = stock\n",
    "    y = stock['pred_price']\n",
    "    \n",
    "    X_train_orig, X_test_orig, y_train, y_test = train_test_split(X,y,test_size=0.2,shuffle = False)\n",
    "    X_train = X_train_orig.iloc[:,2:-3]\n",
    "    X_test = X_test_orig.iloc[:,2:-3]    \n",
    "\n",
    "\n",
    "\n",
    "    X1_train = np.reshape(X_train.values,(X_train.shape[0], X_train.shape[1], 1))\n",
    "    y1_train = y_train#.values\n",
    "\n",
    "\n",
    "    X1_test = np.reshape(X_test.values,(X_test.shape[0], X_test.shape[1], 1))\n",
    "    y1_test = y_test#.values\n",
    "    input_shape = X1_train.shape\n",
    "    batch_size=128\n",
    "    \n",
    "    lstm_model.fit(X1_train, y1_train, epochs=200, batch_size=32, verbose=0)\n",
    "    predictions = lstm_model.predict(X1_test)\n",
    "    \n",
    "    pred1 = predictions.reshape(y1_test.shape)\n",
    "    #pred1\n",
    "    #merged_df['trend'] = merged_df['daily_returns_overall']\n",
    "\n",
    "    pred_cat = (pred1-X_test.Close).apply(condition)\n",
    "\n",
    "    #pred2\n",
    "\n",
    "    pred = (y_test-X_test.Close).apply(condition)\n",
    "\n",
    "    #pred\n",
    "    acc = sum(pred==pred_cat)/len(pred)\n",
    "    acc9[s]=acc\n",
    "\n",
    "    \n",
    "    stock_test_df = pd.concat([X_test_orig.reset_index(), pd.DataFrame({'model_pred':pred_cat}).reset_index()],axis=1)\n",
    "    \n",
    "    stock_test_df['buy'] = stock_test_df['model_pred'].apply(lambda x: 1 if x == 'increase' else 0)\n",
    "    stock_test_df['spend'] = 5000 * stock_test_df['buy']\n",
    "    stock_test_df['shares'] = stock_test_df['spend']// stock_test_df['Close']\n",
    "    stock_test_df['profit'] = stock_test_df['shares'] * stock_test_df['next_day_return']\n",
    "\n",
    "  \n",
    "    profit9[s] = sum(stock_test_df['profit'])    "
   ]
  },
  {
   "cell_type": "code",
   "execution_count": null,
   "metadata": {
    "colab": {
     "base_uri": "https://localhost:8080/"
    },
    "id": "8R9MVu_fVEfw",
    "outputId": "66e03672-2997-4ab8-ab37-a9779709ed28"
   },
   "outputs": [
    {
     "data": {
      "text/plain": [
       "{'CARR': 0.5,\n",
       " 'ENPH': 0.504950495049505,\n",
       " 'TSLA': 0.5693069306930693,\n",
       " 'DHR': 0.48514851485148514,\n",
       " 'AMD': 0.5099009900990099,\n",
       " 'MRNA': 0.49504950495049505,\n",
       " 'DHI': 0.5297029702970297}"
      ]
     },
     "execution_count": 91,
     "metadata": {},
     "output_type": "execute_result"
    }
   ],
   "source": [
    "acc9"
   ]
  },
  {
   "cell_type": "code",
   "execution_count": null,
   "metadata": {
    "colab": {
     "base_uri": "https://localhost:8080/"
    },
    "id": "MjzqoMtMVEfw",
    "outputId": "bd18f0be-ceb5-43b7-8d77-72e3292ae7ca"
   },
   "outputs": [
    {
     "data": {
      "text/plain": [
       "{'CARR': 2097.334927546339,\n",
       " 'ENPH': 0.0,\n",
       " 'TSLA': 3258.314233193625,\n",
       " 'DHR': 0.0,\n",
       " 'AMD': 1157.974276649753,\n",
       " 'MRNA': 0.0,\n",
       " 'DHI': 0.0}"
      ]
     },
     "execution_count": 92,
     "metadata": {},
     "output_type": "execute_result"
    }
   ],
   "source": [
    "profit9"
   ]
  },
  {
   "cell_type": "code",
   "execution_count": null,
   "metadata": {
    "id": "Nwhhb6EVVEfw"
   },
   "outputs": [],
   "source": [
    "acc_df = acc_df.append(pd.DataFrame([acc9],index=['LSTM1_val']))\n",
    "profit_df = profit_df.append(pd.DataFrame([profit9],index=['LSTM1_val']))"
   ]
  },
  {
   "cell_type": "code",
   "execution_count": null,
   "metadata": {
    "id": "Wirj_t_nmXEa"
   },
   "outputs": [],
   "source": []
  },
  {
   "cell_type": "code",
   "execution_count": null,
   "metadata": {
    "colab": {
     "base_uri": "https://localhost:8080/",
     "height": 267
    },
    "id": "0Wz8GCQlVEfx",
    "outputId": "b2bc698d-e675-4354-a8c2-0af12dc9328f"
   },
   "outputs": [
    {
     "data": {
      "application/vnd.google.colaboratory.intrinsic+json": {
       "type": "string"
      },
      "text/plain": [
       "'\\n    train_size = math.ceil(len(X)*0.8)\\n    X_train_orig, X_test_orig= X[:train_size],X[train_size:]\\n    y_train, y_test= y[:train_size],y[train_size:]'"
      ]
     },
     "execution_count": 94,
     "metadata": {},
     "output_type": "execute_result"
    },
    {
     "data": {
      "text/plain": [
       "<keras.callbacks.History at 0x7f481cac0fa0>"
      ]
     },
     "execution_count": 94,
     "metadata": {},
     "output_type": "execute_result"
    },
    {
     "name": "stdout",
     "output_type": "stream",
     "text": [
      "7/7 [==============================] - 0s 4ms/step\n"
     ]
    },
    {
     "data": {
      "application/vnd.google.colaboratory.intrinsic+json": {
       "type": "string"
      },
      "text/plain": [
       "'\\n    train_size = math.ceil(len(X)*0.8)\\n    X_train_orig, X_test_orig= X[:train_size],X[train_size:]\\n    y_train, y_test= y[:train_size],y[train_size:]'"
      ]
     },
     "execution_count": 94,
     "metadata": {},
     "output_type": "execute_result"
    },
    {
     "data": {
      "text/plain": [
       "<keras.callbacks.History at 0x7f481cad1190>"
      ]
     },
     "execution_count": 94,
     "metadata": {},
     "output_type": "execute_result"
    },
    {
     "name": "stdout",
     "output_type": "stream",
     "text": [
      "7/7 [==============================] - 0s 5ms/step\n"
     ]
    },
    {
     "data": {
      "application/vnd.google.colaboratory.intrinsic+json": {
       "type": "string"
      },
      "text/plain": [
       "'\\n    train_size = math.ceil(len(X)*0.8)\\n    X_train_orig, X_test_orig= X[:train_size],X[train_size:]\\n    y_train, y_test= y[:train_size],y[train_size:]'"
      ]
     },
     "execution_count": 94,
     "metadata": {},
     "output_type": "execute_result"
    },
    {
     "data": {
      "text/plain": [
       "<keras.callbacks.History at 0x7f481cb293a0>"
      ]
     },
     "execution_count": 94,
     "metadata": {},
     "output_type": "execute_result"
    },
    {
     "name": "stdout",
     "output_type": "stream",
     "text": [
      "7/7 [==============================] - 0s 4ms/step\n"
     ]
    },
    {
     "data": {
      "application/vnd.google.colaboratory.intrinsic+json": {
       "type": "string"
      },
      "text/plain": [
       "'\\n    train_size = math.ceil(len(X)*0.8)\\n    X_train_orig, X_test_orig= X[:train_size],X[train_size:]\\n    y_train, y_test= y[:train_size],y[train_size:]'"
      ]
     },
     "execution_count": 94,
     "metadata": {},
     "output_type": "execute_result"
    },
    {
     "data": {
      "text/plain": [
       "<keras.callbacks.History at 0x7f481ca87ac0>"
      ]
     },
     "execution_count": 94,
     "metadata": {},
     "output_type": "execute_result"
    },
    {
     "name": "stdout",
     "output_type": "stream",
     "text": [
      "7/7 [==============================] - 0s 4ms/step\n"
     ]
    },
    {
     "data": {
      "application/vnd.google.colaboratory.intrinsic+json": {
       "type": "string"
      },
      "text/plain": [
       "'\\n    train_size = math.ceil(len(X)*0.8)\\n    X_train_orig, X_test_orig= X[:train_size],X[train_size:]\\n    y_train, y_test= y[:train_size],y[train_size:]'"
      ]
     },
     "execution_count": 94,
     "metadata": {},
     "output_type": "execute_result"
    },
    {
     "data": {
      "text/plain": [
       "<keras.callbacks.History at 0x7f481e0b5880>"
      ]
     },
     "execution_count": 94,
     "metadata": {},
     "output_type": "execute_result"
    },
    {
     "name": "stdout",
     "output_type": "stream",
     "text": [
      "7/7 [==============================] - 0s 4ms/step\n"
     ]
    },
    {
     "data": {
      "application/vnd.google.colaboratory.intrinsic+json": {
       "type": "string"
      },
      "text/plain": [
       "'\\n    train_size = math.ceil(len(X)*0.8)\\n    X_train_orig, X_test_orig= X[:train_size],X[train_size:]\\n    y_train, y_test= y[:train_size],y[train_size:]'"
      ]
     },
     "execution_count": 94,
     "metadata": {},
     "output_type": "execute_result"
    },
    {
     "data": {
      "text/plain": [
       "<keras.callbacks.History at 0x7f481cbb4a00>"
      ]
     },
     "execution_count": 94,
     "metadata": {},
     "output_type": "execute_result"
    },
    {
     "name": "stdout",
     "output_type": "stream",
     "text": [
      "7/7 [==============================] - 0s 4ms/step\n"
     ]
    },
    {
     "data": {
      "application/vnd.google.colaboratory.intrinsic+json": {
       "type": "string"
      },
      "text/plain": [
       "'\\n    train_size = math.ceil(len(X)*0.8)\\n    X_train_orig, X_test_orig= X[:train_size],X[train_size:]\\n    y_train, y_test= y[:train_size],y[train_size:]'"
      ]
     },
     "execution_count": 94,
     "metadata": {},
     "output_type": "execute_result"
    },
    {
     "data": {
      "text/plain": [
       "<keras.callbacks.History at 0x7f481cb4c700>"
      ]
     },
     "execution_count": 94,
     "metadata": {},
     "output_type": "execute_result"
    },
    {
     "name": "stdout",
     "output_type": "stream",
     "text": [
      "7/7 [==============================] - 0s 4ms/step\n"
     ]
    }
   ],
   "source": [
    "output_list10 =[]\n",
    "acc10 = {}\n",
    "profit10={}\n",
    "\n",
    "ratio = 0.8\n",
    "#Tesla\n",
    "for s in selected:\n",
    "    idx = sp500.index(s)\n",
    "    stock = df_list3[idx].dropna()\n",
    "    X = stock\n",
    "    y = stock['pred_price']\n",
    "    \"\"\"\n",
    "    train_size = math.ceil(len(X)*0.8)\n",
    "    X_train_orig, X_test_orig= X[:train_size],X[train_size:]\n",
    "    y_train, y_test= y[:train_size],y[train_size:]\"\"\"\n",
    "    X_train_orig, X_test_orig, y_train, y_test = train_test_split(X,y,test_size=0.2,shuffle=False)\n",
    "    X_train = X_train_orig.iloc[:,2:-3]\n",
    "    X_test = X_test_orig.iloc[:,2:-3]    \n",
    "\n",
    "    X1_train = np.reshape(X_train.values,(X_train.shape[0], X_train.shape[1], 1))\n",
    "    y1_train = y_train#.values\n",
    "\n",
    "\n",
    "    X1_test = np.reshape(X_test.values,(X_test.shape[0], X_test.shape[1], 1))\n",
    "    y1_test = y_test#.values\n",
    "    input_shape = X1_train.shape\n",
    "    batch_size=128\n",
    "    \n",
    "    lstm_model.fit(X1_train, y1_train, epochs=200, batch_size=32, verbose=0)\n",
    "    predictions = lstm_model.predict(X1_test)\n",
    "    \n",
    "    pred1 = predictions.reshape(y1_test.shape)\n",
    "    #pred1\n",
    "    #merged_df['trend'] = merged_df['daily_returns_overall']\n",
    "\n",
    "    pred_cat = (pred1-X_test.Close).apply(condition)\n",
    "\n",
    "    #pred2\n",
    "\n",
    "    pred = (y_test-X_test.Close).apply(condition)\n",
    "\n",
    "    #pred\n",
    "    acc = sum(pred==pred_cat)/len(pred)\n",
    "    acc10[s]=acc\n",
    "\n",
    "    \n",
    "    stock_test_df = pd.concat([X_test_orig.reset_index(), pd.DataFrame({'model_pred':pred_cat}).reset_index()],axis=1)\n",
    "    \n",
    "    stock_test_df['buy'] = stock_test_df['model_pred'].apply(lambda x: 1 if x == 'increase' else 0)\n",
    "    stock_test_df['spend'] = 5000 * stock_test_df['buy']\n",
    "    stock_test_df['shares'] = stock_test_df['spend']// stock_test_df['Close']\n",
    "    stock_test_df['profit'] = stock_test_df['shares'] * stock_test_df['next_day_return']\n",
    "\n",
    "    output_list10.append(stock_test_df)\n",
    "    \n",
    "    profit10[s] = sum(stock_test_df['profit'])    \n",
    "\n",
    "\n",
    "\n"
   ]
  },
  {
   "cell_type": "code",
   "execution_count": null,
   "metadata": {
    "colab": {
     "base_uri": "https://localhost:8080/"
    },
    "id": "usdTu0zyVEfx",
    "outputId": "bf81191f-70d8-46c7-cfdd-9ffbb7bef6f9"
   },
   "outputs": [
    {
     "data": {
      "text/plain": [
       "{'CARR': 0.45544554455445546,\n",
       " 'ENPH': 0.504950495049505,\n",
       " 'TSLA': 0.5594059405940595,\n",
       " 'DHR': 0.48514851485148514,\n",
       " 'AMD': 0.5099009900990099,\n",
       " 'MRNA': 0.49504950495049505,\n",
       " 'DHI': 0.5297029702970297}"
      ]
     },
     "execution_count": 95,
     "metadata": {},
     "output_type": "execute_result"
    }
   ],
   "source": [
    "acc10\n"
   ]
  },
  {
   "cell_type": "code",
   "execution_count": null,
   "metadata": {
    "colab": {
     "base_uri": "https://localhost:8080/"
    },
    "id": "u22ESHBkVEfx",
    "outputId": "e9daa27e-6983-4ee5-9a30-d580693fb6e2"
   },
   "outputs": [
    {
     "data": {
      "text/plain": [
       "{'CARR': -1309.703623200739,\n",
       " 'ENPH': 0.0,\n",
       " 'TSLA': 3081.6054399937075,\n",
       " 'DHR': 0.0,\n",
       " 'AMD': 1157.974276649753,\n",
       " 'MRNA': 0.0,\n",
       " 'DHI': 0.0}"
      ]
     },
     "execution_count": 96,
     "metadata": {},
     "output_type": "execute_result"
    }
   ],
   "source": [
    "profit10"
   ]
  },
  {
   "cell_type": "code",
   "execution_count": null,
   "metadata": {
    "id": "WaH3SLGNVEfx"
   },
   "outputs": [],
   "source": []
  },
  {
   "cell_type": "code",
   "execution_count": null,
   "metadata": {
    "id": "RNdENC3MVEfy"
   },
   "outputs": [],
   "source": []
  },
  {
   "cell_type": "code",
   "execution_count": null,
   "metadata": {
    "id": "FaU5rcS2VEfy"
   },
   "outputs": [],
   "source": []
  },
  {
   "cell_type": "code",
   "execution_count": null,
   "metadata": {
    "colab": {
     "base_uri": "https://localhost:8080/"
    },
    "id": "jAzRDSmVVEfy",
    "outputId": "d1fca7ae-0adc-44d0-91b4-e3c8086fd7d2"
   },
   "outputs": [
    {
     "data": {
      "text/plain": [
       "<keras.callbacks.History at 0x7f481cb5fa90>"
      ]
     },
     "execution_count": 97,
     "metadata": {},
     "output_type": "execute_result"
    },
    {
     "name": "stdout",
     "output_type": "stream",
     "text": [
      "7/7 [==============================] - 0s 4ms/step\n"
     ]
    }
   ],
   "source": [
    "lstm_model.fit(X1_train, y1_train, epochs=200, batch_size=32, verbose=0)\n",
    "predictions = lstm_model.predict(X1_test)\n"
   ]
  },
  {
   "cell_type": "code",
   "execution_count": null,
   "metadata": {
    "colab": {
     "base_uri": "https://localhost:8080/"
    },
    "id": "OVOuJ09mVEfz",
    "outputId": "4799eded-562e-4a38-931c-e491f4d5d803"
   },
   "outputs": [
    {
     "name": "stdout",
     "output_type": "stream",
     "text": [
      "4/4 [==============================] - 1s 5ms/step - loss: 2007.8115 - root_mean_squared_error: 44.8086\n",
      "Test score: 2007.8115234375\n",
      "Test accuracy: 44.80860900878906\n"
     ]
    }
   ],
   "source": [
    "score, accuracy = lstm_model.evaluate(X1_test, y1_test, batch_size=64)\n",
    "\n",
    "print('Test score:', score)\n",
    "print('Test accuracy:', accuracy)"
   ]
  },
  {
   "cell_type": "code",
   "execution_count": null,
   "metadata": {
    "colab": {
     "base_uri": "https://localhost:8080/"
    },
    "id": "2kXaGaX7VEfz",
    "outputId": "5bccf097-b1ef-446c-a430-12f991553435"
   },
   "outputs": [
    {
     "name": "stdout",
     "output_type": "stream",
     "text": [
      "Epoch 1/200\n",
      "13/13 [==============================] - 0s 20ms/step - loss: 435.1403 - root_mean_squared_error: 20.8600 - val_loss: 2009.0056 - val_root_mean_squared_error: 44.8219\n",
      "Epoch 2/200\n",
      "13/13 [==============================] - 0s 17ms/step - loss: 435.1480 - root_mean_squared_error: 20.8602 - val_loss: 2009.5242 - val_root_mean_squared_error: 44.8277\n",
      "Epoch 3/200\n",
      "13/13 [==============================] - 0s 16ms/step - loss: 435.1457 - root_mean_squared_error: 20.8601 - val_loss: 2010.0862 - val_root_mean_squared_error: 44.8340\n",
      "Epoch 4/200\n",
      "13/13 [==============================] - 0s 15ms/step - loss: 435.1481 - root_mean_squared_error: 20.8602 - val_loss: 2010.3191 - val_root_mean_squared_error: 44.8366\n",
      "Epoch 5/200\n",
      "13/13 [==============================] - 0s 17ms/step - loss: 435.1451 - root_mean_squared_error: 20.8601 - val_loss: 2010.5043 - val_root_mean_squared_error: 44.8386\n",
      "Epoch 6/200\n",
      "13/13 [==============================] - 0s 16ms/step - loss: 435.1497 - root_mean_squared_error: 20.8602 - val_loss: 2009.4642 - val_root_mean_squared_error: 44.8270\n",
      "Epoch 7/200\n",
      "13/13 [==============================] - 0s 16ms/step - loss: 435.1473 - root_mean_squared_error: 20.8602 - val_loss: 2009.3804 - val_root_mean_squared_error: 44.8261\n",
      "Epoch 8/200\n",
      "13/13 [==============================] - 0s 17ms/step - loss: 435.1459 - root_mean_squared_error: 20.8602 - val_loss: 2009.6620 - val_root_mean_squared_error: 44.8293\n",
      "Epoch 9/200\n",
      "13/13 [==============================] - 0s 16ms/step - loss: 435.1473 - root_mean_squared_error: 20.8602 - val_loss: 2009.9224 - val_root_mean_squared_error: 44.8322\n",
      "Epoch 10/200\n",
      "13/13 [==============================] - 0s 18ms/step - loss: 435.1473 - root_mean_squared_error: 20.8602 - val_loss: 2009.5060 - val_root_mean_squared_error: 44.8275\n",
      "Epoch 11/200\n",
      "13/13 [==============================] - 0s 26ms/step - loss: 435.1432 - root_mean_squared_error: 20.8601 - val_loss: 2010.0037 - val_root_mean_squared_error: 44.8331\n",
      "Epoch 12/200\n",
      "13/13 [==============================] - 0s 24ms/step - loss: 435.1441 - root_mean_squared_error: 20.8601 - val_loss: 2010.4144 - val_root_mean_squared_error: 44.8376\n",
      "Epoch 13/200\n",
      "13/13 [==============================] - 0s 28ms/step - loss: 435.1462 - root_mean_squared_error: 20.8602 - val_loss: 2010.3398 - val_root_mean_squared_error: 44.8368\n",
      "Epoch 14/200\n",
      "13/13 [==============================] - 0s 24ms/step - loss: 435.1493 - root_mean_squared_error: 20.8602 - val_loss: 2010.8899 - val_root_mean_squared_error: 44.8429\n",
      "Epoch 15/200\n",
      "13/13 [==============================] - 0s 28ms/step - loss: 435.1449 - root_mean_squared_error: 20.8601 - val_loss: 2010.5110 - val_root_mean_squared_error: 44.8387\n",
      "Epoch 16/200\n",
      "13/13 [==============================] - 0s 20ms/step - loss: 435.1507 - root_mean_squared_error: 20.8603 - val_loss: 2010.9092 - val_root_mean_squared_error: 44.8432\n",
      "Epoch 17/200\n",
      "13/13 [==============================] - 0s 16ms/step - loss: 435.1451 - root_mean_squared_error: 20.8601 - val_loss: 2011.2256 - val_root_mean_squared_error: 44.8467\n",
      "Epoch 18/200\n",
      "13/13 [==============================] - 0s 19ms/step - loss: 435.1481 - root_mean_squared_error: 20.8602 - val_loss: 2011.7137 - val_root_mean_squared_error: 44.8521\n",
      "Epoch 19/200\n",
      "13/13 [==============================] - 0s 18ms/step - loss: 435.1526 - root_mean_squared_error: 20.8603 - val_loss: 2010.5289 - val_root_mean_squared_error: 44.8389\n",
      "Epoch 20/200\n",
      "13/13 [==============================] - 0s 18ms/step - loss: 435.1440 - root_mean_squared_error: 20.8601 - val_loss: 2011.1489 - val_root_mean_squared_error: 44.8458\n",
      "Epoch 21/200\n",
      "13/13 [==============================] - 0s 16ms/step - loss: 435.1519 - root_mean_squared_error: 20.8603 - val_loss: 2011.8856 - val_root_mean_squared_error: 44.8540\n",
      "Epoch 22/200\n",
      "13/13 [==============================] - 0s 16ms/step - loss: 435.1487 - root_mean_squared_error: 20.8602 - val_loss: 2010.7881 - val_root_mean_squared_error: 44.8418\n",
      "Epoch 23/200\n",
      "13/13 [==============================] - 0s 17ms/step - loss: 435.1436 - root_mean_squared_error: 20.8601 - val_loss: 2010.8890 - val_root_mean_squared_error: 44.8429\n",
      "Epoch 24/200\n",
      "13/13 [==============================] - 0s 17ms/step - loss: 435.1492 - root_mean_squared_error: 20.8602 - val_loss: 2010.2166 - val_root_mean_squared_error: 44.8354\n",
      "Epoch 25/200\n",
      "13/13 [==============================] - 0s 15ms/step - loss: 435.1478 - root_mean_squared_error: 20.8602 - val_loss: 2011.2854 - val_root_mean_squared_error: 44.8474\n",
      "Epoch 26/200\n",
      "13/13 [==============================] - 0s 16ms/step - loss: 435.1494 - root_mean_squared_error: 20.8602 - val_loss: 2010.4808 - val_root_mean_squared_error: 44.8384\n",
      "Epoch 27/200\n",
      "13/13 [==============================] - 0s 18ms/step - loss: 435.1455 - root_mean_squared_error: 20.8601 - val_loss: 2011.2695 - val_root_mean_squared_error: 44.8472\n",
      "Epoch 28/200\n",
      "13/13 [==============================] - 0s 17ms/step - loss: 435.1531 - root_mean_squared_error: 20.8603 - val_loss: 2010.8153 - val_root_mean_squared_error: 44.8421\n",
      "Epoch 29/200\n",
      "13/13 [==============================] - 0s 17ms/step - loss: 435.1460 - root_mean_squared_error: 20.8602 - val_loss: 2011.4934 - val_root_mean_squared_error: 44.8497\n",
      "Epoch 30/200\n",
      "13/13 [==============================] - 0s 19ms/step - loss: 435.1433 - root_mean_squared_error: 20.8601 - val_loss: 2011.7889 - val_root_mean_squared_error: 44.8530\n",
      "Epoch 31/200\n",
      "13/13 [==============================] - 0s 18ms/step - loss: 435.1444 - root_mean_squared_error: 20.8601 - val_loss: 2012.0463 - val_root_mean_squared_error: 44.8558\n",
      "Epoch 32/200\n",
      "13/13 [==============================] - 0s 17ms/step - loss: 435.1441 - root_mean_squared_error: 20.8601 - val_loss: 2013.6389 - val_root_mean_squared_error: 44.8736\n",
      "Epoch 33/200\n",
      "13/13 [==============================] - 0s 17ms/step - loss: 435.1425 - root_mean_squared_error: 20.8601 - val_loss: 2013.4602 - val_root_mean_squared_error: 44.8716\n",
      "Epoch 34/200\n",
      "13/13 [==============================] - 0s 16ms/step - loss: 435.1450 - root_mean_squared_error: 20.8601 - val_loss: 2013.5457 - val_root_mean_squared_error: 44.8725\n",
      "Epoch 35/200\n",
      "13/13 [==============================] - 0s 17ms/step - loss: 435.1425 - root_mean_squared_error: 20.8601 - val_loss: 2013.2012 - val_root_mean_squared_error: 44.8687\n",
      "Epoch 36/200\n",
      "13/13 [==============================] - 0s 19ms/step - loss: 435.1445 - root_mean_squared_error: 20.8601 - val_loss: 2012.7806 - val_root_mean_squared_error: 44.8640\n",
      "Epoch 37/200\n",
      "13/13 [==============================] - 0s 18ms/step - loss: 435.1476 - root_mean_squared_error: 20.8602 - val_loss: 2012.3395 - val_root_mean_squared_error: 44.8591\n",
      "Epoch 38/200\n",
      "13/13 [==============================] - 0s 16ms/step - loss: 435.1440 - root_mean_squared_error: 20.8601 - val_loss: 2012.7045 - val_root_mean_squared_error: 44.8632\n",
      "Epoch 39/200\n",
      "13/13 [==============================] - 0s 17ms/step - loss: 435.1516 - root_mean_squared_error: 20.8603 - val_loss: 2012.2766 - val_root_mean_squared_error: 44.8584\n",
      "Epoch 40/200\n",
      "13/13 [==============================] - 0s 17ms/step - loss: 435.1446 - root_mean_squared_error: 20.8601 - val_loss: 2012.1895 - val_root_mean_squared_error: 44.8574\n",
      "Epoch 41/200\n",
      "13/13 [==============================] - 0s 21ms/step - loss: 435.1475 - root_mean_squared_error: 20.8602 - val_loss: 2012.7972 - val_root_mean_squared_error: 44.8642\n",
      "Epoch 42/200\n",
      "13/13 [==============================] - 0s 21ms/step - loss: 435.1435 - root_mean_squared_error: 20.8601 - val_loss: 2012.7499 - val_root_mean_squared_error: 44.8637\n",
      "Epoch 43/200\n",
      "13/13 [==============================] - 0s 17ms/step - loss: 435.1429 - root_mean_squared_error: 20.8601 - val_loss: 2012.7964 - val_root_mean_squared_error: 44.8642\n",
      "Epoch 44/200\n",
      "13/13 [==============================] - 0s 21ms/step - loss: 435.1483 - root_mean_squared_error: 20.8602 - val_loss: 2012.8705 - val_root_mean_squared_error: 44.8650\n",
      "Epoch 45/200\n",
      "13/13 [==============================] - 0s 21ms/step - loss: 435.1512 - root_mean_squared_error: 20.8603 - val_loss: 2011.7985 - val_root_mean_squared_error: 44.8531\n",
      "Epoch 46/200\n",
      "13/13 [==============================] - 0s 17ms/step - loss: 435.1488 - root_mean_squared_error: 20.8602 - val_loss: 2012.4561 - val_root_mean_squared_error: 44.8604\n",
      "Epoch 47/200\n",
      "13/13 [==============================] - 0s 16ms/step - loss: 435.1477 - root_mean_squared_error: 20.8602 - val_loss: 2012.6162 - val_root_mean_squared_error: 44.8622\n",
      "Epoch 48/200\n",
      "13/13 [==============================] - 0s 18ms/step - loss: 435.1560 - root_mean_squared_error: 20.8604 - val_loss: 2011.8311 - val_root_mean_squared_error: 44.8534\n",
      "Epoch 49/200\n",
      "13/13 [==============================] - 0s 16ms/step - loss: 435.1532 - root_mean_squared_error: 20.8603 - val_loss: 2011.3901 - val_root_mean_squared_error: 44.8485\n",
      "Epoch 50/200\n",
      "13/13 [==============================] - 0s 17ms/step - loss: 435.1416 - root_mean_squared_error: 20.8600 - val_loss: 2012.3075 - val_root_mean_squared_error: 44.8587\n",
      "Epoch 51/200\n",
      "13/13 [==============================] - 0s 16ms/step - loss: 435.1447 - root_mean_squared_error: 20.8601 - val_loss: 2013.0698 - val_root_mean_squared_error: 44.8672\n",
      "Epoch 52/200\n",
      "13/13 [==============================] - 0s 17ms/step - loss: 435.1465 - root_mean_squared_error: 20.8602 - val_loss: 2013.0864 - val_root_mean_squared_error: 44.8674\n",
      "Epoch 53/200\n",
      "13/13 [==============================] - 0s 18ms/step - loss: 435.1437 - root_mean_squared_error: 20.8601 - val_loss: 2014.2209 - val_root_mean_squared_error: 44.8801\n",
      "Epoch 54/200\n",
      "13/13 [==============================] - 0s 17ms/step - loss: 435.1482 - root_mean_squared_error: 20.8602 - val_loss: 2014.1722 - val_root_mean_squared_error: 44.8795\n",
      "Epoch 55/200\n",
      "13/13 [==============================] - 0s 20ms/step - loss: 435.1472 - root_mean_squared_error: 20.8602 - val_loss: 2013.1405 - val_root_mean_squared_error: 44.8680\n",
      "Epoch 56/200\n",
      "13/13 [==============================] - 0s 15ms/step - loss: 435.1476 - root_mean_squared_error: 20.8602 - val_loss: 2013.3043 - val_root_mean_squared_error: 44.8699\n",
      "Epoch 57/200\n",
      "13/13 [==============================] - 0s 17ms/step - loss: 435.1433 - root_mean_squared_error: 20.8601 - val_loss: 2012.9519 - val_root_mean_squared_error: 44.8659\n",
      "Epoch 58/200\n",
      "13/13 [==============================] - 0s 17ms/step - loss: 435.1466 - root_mean_squared_error: 20.8602 - val_loss: 2012.6807 - val_root_mean_squared_error: 44.8629\n",
      "Epoch 59/200\n",
      "13/13 [==============================] - 0s 16ms/step - loss: 435.1447 - root_mean_squared_error: 20.8601 - val_loss: 2013.3143 - val_root_mean_squared_error: 44.8700\n",
      "Epoch 60/200\n",
      "13/13 [==============================] - 0s 26ms/step - loss: 435.1469 - root_mean_squared_error: 20.8602 - val_loss: 2013.6194 - val_root_mean_squared_error: 44.8734\n",
      "Epoch 61/200\n",
      "13/13 [==============================] - 0s 24ms/step - loss: 435.1444 - root_mean_squared_error: 20.8601 - val_loss: 2013.8121 - val_root_mean_squared_error: 44.8755\n",
      "Epoch 62/200\n",
      "13/13 [==============================] - 0s 25ms/step - loss: 435.1467 - root_mean_squared_error: 20.8602 - val_loss: 2014.0829 - val_root_mean_squared_error: 44.8785\n",
      "Epoch 63/200\n",
      "13/13 [==============================] - 0s 24ms/step - loss: 435.1445 - root_mean_squared_error: 20.8601 - val_loss: 2013.6403 - val_root_mean_squared_error: 44.8736\n",
      "Epoch 64/200\n",
      "13/13 [==============================] - 0s 29ms/step - loss: 435.1502 - root_mean_squared_error: 20.8603 - val_loss: 2014.1935 - val_root_mean_squared_error: 44.8798\n",
      "Epoch 65/200\n",
      "13/13 [==============================] - 0s 29ms/step - loss: 435.1394 - root_mean_squared_error: 20.8600 - val_loss: 2012.9646 - val_root_mean_squared_error: 44.8661\n",
      "Epoch 66/200\n",
      "13/13 [==============================] - 0s 17ms/step - loss: 435.1594 - root_mean_squared_error: 20.8605 - val_loss: 2011.6118 - val_root_mean_squared_error: 44.8510\n",
      "Epoch 67/200\n",
      "13/13 [==============================] - 0s 18ms/step - loss: 435.1443 - root_mean_squared_error: 20.8601 - val_loss: 2011.8405 - val_root_mean_squared_error: 44.8535\n",
      "Epoch 68/200\n",
      "13/13 [==============================] - 0s 18ms/step - loss: 435.1403 - root_mean_squared_error: 20.8600 - val_loss: 2012.3815 - val_root_mean_squared_error: 44.8596\n",
      "Epoch 69/200\n",
      "13/13 [==============================] - 0s 18ms/step - loss: 435.1571 - root_mean_squared_error: 20.8604 - val_loss: 2013.8241 - val_root_mean_squared_error: 44.8757\n",
      "Epoch 70/200\n",
      "13/13 [==============================] - 0s 16ms/step - loss: 435.1460 - root_mean_squared_error: 20.8602 - val_loss: 2012.8593 - val_root_mean_squared_error: 44.8649\n",
      "Epoch 71/200\n",
      "13/13 [==============================] - 0s 18ms/step - loss: 435.1447 - root_mean_squared_error: 20.8601 - val_loss: 2012.3802 - val_root_mean_squared_error: 44.8596\n",
      "Epoch 72/200\n",
      "13/13 [==============================] - 0s 18ms/step - loss: 435.1446 - root_mean_squared_error: 20.8601 - val_loss: 2012.8051 - val_root_mean_squared_error: 44.8643\n",
      "Epoch 73/200\n",
      "13/13 [==============================] - 0s 18ms/step - loss: 435.1537 - root_mean_squared_error: 20.8603 - val_loss: 2013.4937 - val_root_mean_squared_error: 44.8720\n",
      "Epoch 74/200\n",
      "13/13 [==============================] - 0s 17ms/step - loss: 435.1541 - root_mean_squared_error: 20.8603 - val_loss: 2012.1144 - val_root_mean_squared_error: 44.8566\n",
      "Epoch 75/200\n",
      "13/13 [==============================] - 0s 20ms/step - loss: 435.1617 - root_mean_squared_error: 20.8605 - val_loss: 2010.9153 - val_root_mean_squared_error: 44.8432\n",
      "Epoch 76/200\n",
      "13/13 [==============================] - 0s 19ms/step - loss: 435.1549 - root_mean_squared_error: 20.8604 - val_loss: 2012.5199 - val_root_mean_squared_error: 44.8611\n",
      "Epoch 77/200\n",
      "13/13 [==============================] - 0s 17ms/step - loss: 435.1452 - root_mean_squared_error: 20.8601 - val_loss: 2012.2402 - val_root_mean_squared_error: 44.8580\n",
      "Epoch 78/200\n",
      "13/13 [==============================] - 0s 16ms/step - loss: 435.1512 - root_mean_squared_error: 20.8603 - val_loss: 2013.1715 - val_root_mean_squared_error: 44.8684\n",
      "Epoch 79/200\n",
      "13/13 [==============================] - 0s 17ms/step - loss: 435.1416 - root_mean_squared_error: 20.8600 - val_loss: 2012.6437 - val_root_mean_squared_error: 44.8625\n",
      "Epoch 80/200\n",
      "13/13 [==============================] - 0s 16ms/step - loss: 435.1494 - root_mean_squared_error: 20.8602 - val_loss: 2011.9796 - val_root_mean_squared_error: 44.8551\n",
      "Epoch 81/200\n",
      "13/13 [==============================] - 0s 18ms/step - loss: 435.1441 - root_mean_squared_error: 20.8601 - val_loss: 2012.6587 - val_root_mean_squared_error: 44.8627\n",
      "Epoch 82/200\n",
      "13/13 [==============================] - 0s 16ms/step - loss: 435.1500 - root_mean_squared_error: 20.8603 - val_loss: 2013.2084 - val_root_mean_squared_error: 44.8688\n",
      "Epoch 83/200\n",
      "13/13 [==============================] - 0s 20ms/step - loss: 435.1423 - root_mean_squared_error: 20.8601 - val_loss: 2012.9697 - val_root_mean_squared_error: 44.8661\n",
      "Epoch 84/200\n",
      "13/13 [==============================] - 0s 17ms/step - loss: 435.1521 - root_mean_squared_error: 20.8603 - val_loss: 2012.2783 - val_root_mean_squared_error: 44.8584\n",
      "Epoch 85/200\n",
      "13/13 [==============================] - 0s 17ms/step - loss: 435.1422 - root_mean_squared_error: 20.8601 - val_loss: 2012.5812 - val_root_mean_squared_error: 44.8618\n",
      "Epoch 86/200\n",
      "13/13 [==============================] - 0s 17ms/step - loss: 435.1466 - root_mean_squared_error: 20.8602 - val_loss: 2013.3529 - val_root_mean_squared_error: 44.8704\n",
      "Epoch 87/200\n",
      "13/13 [==============================] - 0s 18ms/step - loss: 435.1648 - root_mean_squared_error: 20.8606 - val_loss: 2014.6621 - val_root_mean_squared_error: 44.8850\n",
      "Epoch 88/200\n",
      "13/13 [==============================] - 0s 18ms/step - loss: 435.1466 - root_mean_squared_error: 20.8602 - val_loss: 2013.7028 - val_root_mean_squared_error: 44.8743\n",
      "Epoch 89/200\n",
      "13/13 [==============================] - 0s 17ms/step - loss: 435.1461 - root_mean_squared_error: 20.8602 - val_loss: 2013.9581 - val_root_mean_squared_error: 44.8771\n",
      "Epoch 90/200\n",
      "13/13 [==============================] - 0s 17ms/step - loss: 435.1457 - root_mean_squared_error: 20.8601 - val_loss: 2014.0122 - val_root_mean_squared_error: 44.8777\n",
      "Epoch 91/200\n",
      "13/13 [==============================] - 0s 18ms/step - loss: 435.1426 - root_mean_squared_error: 20.8601 - val_loss: 2014.2916 - val_root_mean_squared_error: 44.8809\n",
      "Epoch 92/200\n",
      "13/13 [==============================] - 0s 17ms/step - loss: 435.1446 - root_mean_squared_error: 20.8601 - val_loss: 2014.4655 - val_root_mean_squared_error: 44.8828\n",
      "Epoch 93/200\n",
      "13/13 [==============================] - 0s 18ms/step - loss: 435.1490 - root_mean_squared_error: 20.8602 - val_loss: 2014.8308 - val_root_mean_squared_error: 44.8869\n",
      "Epoch 94/200\n",
      "13/13 [==============================] - 0s 18ms/step - loss: 435.1566 - root_mean_squared_error: 20.8604 - val_loss: 2014.7002 - val_root_mean_squared_error: 44.8854\n",
      "Epoch 95/200\n",
      "13/13 [==============================] - 0s 16ms/step - loss: 435.1434 - root_mean_squared_error: 20.8601 - val_loss: 2014.1460 - val_root_mean_squared_error: 44.8792\n",
      "Epoch 96/200\n",
      "13/13 [==============================] - 0s 17ms/step - loss: 435.1433 - root_mean_squared_error: 20.8601 - val_loss: 2013.0516 - val_root_mean_squared_error: 44.8670\n",
      "Epoch 97/200\n",
      "13/13 [==============================] - 0s 17ms/step - loss: 435.1503 - root_mean_squared_error: 20.8603 - val_loss: 2013.4102 - val_root_mean_squared_error: 44.8710\n",
      "Epoch 98/200\n",
      "13/13 [==============================] - 0s 16ms/step - loss: 435.1442 - root_mean_squared_error: 20.8601 - val_loss: 2012.6926 - val_root_mean_squared_error: 44.8630\n",
      "Epoch 99/200\n",
      "13/13 [==============================] - 0s 18ms/step - loss: 435.1426 - root_mean_squared_error: 20.8601 - val_loss: 2012.7784 - val_root_mean_squared_error: 44.8640\n",
      "Epoch 100/200\n",
      "13/13 [==============================] - 0s 16ms/step - loss: 435.1432 - root_mean_squared_error: 20.8601 - val_loss: 2012.7245 - val_root_mean_squared_error: 44.8634\n",
      "Epoch 101/200\n",
      "13/13 [==============================] - 0s 16ms/step - loss: 435.1434 - root_mean_squared_error: 20.8601 - val_loss: 2012.4166 - val_root_mean_squared_error: 44.8600\n",
      "Epoch 102/200\n",
      "13/13 [==============================] - 0s 19ms/step - loss: 435.1463 - root_mean_squared_error: 20.8602 - val_loss: 2012.8899 - val_root_mean_squared_error: 44.8652\n",
      "Epoch 103/200\n",
      "13/13 [==============================] - 0s 23ms/step - loss: 435.1578 - root_mean_squared_error: 20.8604 - val_loss: 2013.8033 - val_root_mean_squared_error: 44.8754\n",
      "Epoch 104/200\n",
      "13/13 [==============================] - 0s 18ms/step - loss: 435.1512 - root_mean_squared_error: 20.8603 - val_loss: 2011.5647 - val_root_mean_squared_error: 44.8505\n",
      "Epoch 105/200\n",
      "13/13 [==============================] - 0s 17ms/step - loss: 435.1434 - root_mean_squared_error: 20.8601 - val_loss: 2011.5608 - val_root_mean_squared_error: 44.8504\n",
      "Epoch 106/200\n",
      "13/13 [==============================] - 0s 16ms/step - loss: 435.1512 - root_mean_squared_error: 20.8603 - val_loss: 2011.4387 - val_root_mean_squared_error: 44.8491\n",
      "Epoch 107/200\n",
      "13/13 [==============================] - 0s 18ms/step - loss: 435.1517 - root_mean_squared_error: 20.8603 - val_loss: 2012.2848 - val_root_mean_squared_error: 44.8585\n",
      "Epoch 108/200\n",
      "13/13 [==============================] - 0s 18ms/step - loss: 435.1438 - root_mean_squared_error: 20.8601 - val_loss: 2012.3021 - val_root_mean_squared_error: 44.8587\n",
      "Epoch 109/200\n",
      "13/13 [==============================] - 0s 23ms/step - loss: 435.1448 - root_mean_squared_error: 20.8601 - val_loss: 2012.5052 - val_root_mean_squared_error: 44.8610\n",
      "Epoch 110/200\n",
      "13/13 [==============================] - 0s 27ms/step - loss: 435.1484 - root_mean_squared_error: 20.8602 - val_loss: 2011.5665 - val_root_mean_squared_error: 44.8505\n",
      "Epoch 111/200\n",
      "13/13 [==============================] - 0s 26ms/step - loss: 435.1479 - root_mean_squared_error: 20.8602 - val_loss: 2011.6937 - val_root_mean_squared_error: 44.8519\n",
      "Epoch 112/200\n",
      "13/13 [==============================] - 0s 25ms/step - loss: 435.1515 - root_mean_squared_error: 20.8603 - val_loss: 2013.3684 - val_root_mean_squared_error: 44.8706\n",
      "Epoch 113/200\n",
      "13/13 [==============================] - 0s 29ms/step - loss: 435.1475 - root_mean_squared_error: 20.8602 - val_loss: 2012.8085 - val_root_mean_squared_error: 44.8643\n",
      "Epoch 114/200\n",
      "13/13 [==============================] - 0s 32ms/step - loss: 435.1554 - root_mean_squared_error: 20.8604 - val_loss: 2014.1094 - val_root_mean_squared_error: 44.8788\n",
      "Epoch 115/200\n",
      "13/13 [==============================] - 0s 16ms/step - loss: 435.1510 - root_mean_squared_error: 20.8603 - val_loss: 2014.3854 - val_root_mean_squared_error: 44.8819\n",
      "Epoch 116/200\n",
      "13/13 [==============================] - 0s 18ms/step - loss: 435.1544 - root_mean_squared_error: 20.8604 - val_loss: 2013.5968 - val_root_mean_squared_error: 44.8731\n",
      "Epoch 117/200\n",
      "13/13 [==============================] - 0s 21ms/step - loss: 435.1434 - root_mean_squared_error: 20.8601 - val_loss: 2013.7097 - val_root_mean_squared_error: 44.8744\n",
      "Epoch 118/200\n",
      "13/13 [==============================] - 0s 19ms/step - loss: 435.1496 - root_mean_squared_error: 20.8602 - val_loss: 2014.2667 - val_root_mean_squared_error: 44.8806\n",
      "Epoch 119/200\n",
      "13/13 [==============================] - 0s 16ms/step - loss: 435.1436 - root_mean_squared_error: 20.8601 - val_loss: 2014.6648 - val_root_mean_squared_error: 44.8850\n",
      "Epoch 120/200\n",
      "13/13 [==============================] - 0s 18ms/step - loss: 435.1692 - root_mean_squared_error: 20.8607 - val_loss: 2016.2186 - val_root_mean_squared_error: 44.9023\n",
      "Epoch 121/200\n",
      "13/13 [==============================] - 0s 17ms/step - loss: 435.1551 - root_mean_squared_error: 20.8604 - val_loss: 2015.0409 - val_root_mean_squared_error: 44.8892\n",
      "Epoch 122/200\n",
      "13/13 [==============================] - 0s 18ms/step - loss: 435.1439 - root_mean_squared_error: 20.8601 - val_loss: 2014.1908 - val_root_mean_squared_error: 44.8797\n",
      "Epoch 123/200\n",
      "13/13 [==============================] - 0s 18ms/step - loss: 435.1432 - root_mean_squared_error: 20.8601 - val_loss: 2014.1682 - val_root_mean_squared_error: 44.8795\n",
      "Epoch 124/200\n",
      "13/13 [==============================] - 0s 16ms/step - loss: 435.1491 - root_mean_squared_error: 20.8602 - val_loss: 2013.6975 - val_root_mean_squared_error: 44.8742\n",
      "Epoch 125/200\n",
      "13/13 [==============================] - 0s 17ms/step - loss: 435.1471 - root_mean_squared_error: 20.8602 - val_loss: 2013.8387 - val_root_mean_squared_error: 44.8758\n",
      "Epoch 126/200\n",
      "13/13 [==============================] - 0s 21ms/step - loss: 435.1409 - root_mean_squared_error: 20.8600 - val_loss: 2014.5682 - val_root_mean_squared_error: 44.8839\n",
      "Epoch 127/200\n",
      "13/13 [==============================] - 0s 18ms/step - loss: 435.1437 - root_mean_squared_error: 20.8601 - val_loss: 2015.7324 - val_root_mean_squared_error: 44.8969\n",
      "Epoch 128/200\n",
      "13/13 [==============================] - 0s 17ms/step - loss: 435.1520 - root_mean_squared_error: 20.8603 - val_loss: 2014.8668 - val_root_mean_squared_error: 44.8873\n",
      "Epoch 129/200\n",
      "13/13 [==============================] - 0s 21ms/step - loss: 435.1444 - root_mean_squared_error: 20.8601 - val_loss: 2015.9197 - val_root_mean_squared_error: 44.8990\n",
      "Epoch 130/200\n",
      "13/13 [==============================] - 0s 20ms/step - loss: 435.1683 - root_mean_squared_error: 20.8607 - val_loss: 2014.8541 - val_root_mean_squared_error: 44.8871\n",
      "Epoch 131/200\n",
      "13/13 [==============================] - 0s 18ms/step - loss: 435.1503 - root_mean_squared_error: 20.8603 - val_loss: 2015.7524 - val_root_mean_squared_error: 44.8971\n",
      "Epoch 132/200\n",
      "13/13 [==============================] - 0s 17ms/step - loss: 435.1513 - root_mean_squared_error: 20.8603 - val_loss: 2015.4000 - val_root_mean_squared_error: 44.8932\n",
      "Epoch 133/200\n",
      "13/13 [==============================] - 0s 18ms/step - loss: 435.1441 - root_mean_squared_error: 20.8601 - val_loss: 2015.3561 - val_root_mean_squared_error: 44.8927\n",
      "Epoch 134/200\n",
      "13/13 [==============================] - 0s 18ms/step - loss: 435.1446 - root_mean_squared_error: 20.8601 - val_loss: 2015.0721 - val_root_mean_squared_error: 44.8896\n",
      "Epoch 135/200\n",
      "13/13 [==============================] - 0s 19ms/step - loss: 435.1443 - root_mean_squared_error: 20.8601 - val_loss: 2014.8474 - val_root_mean_squared_error: 44.8871\n",
      "Epoch 136/200\n",
      "13/13 [==============================] - 0s 18ms/step - loss: 435.1458 - root_mean_squared_error: 20.8601 - val_loss: 2014.2280 - val_root_mean_squared_error: 44.8802\n",
      "Epoch 137/200\n",
      "13/13 [==============================] - 0s 19ms/step - loss: 435.1430 - root_mean_squared_error: 20.8601 - val_loss: 2014.5676 - val_root_mean_squared_error: 44.8839\n",
      "Epoch 138/200\n",
      "13/13 [==============================] - 0s 17ms/step - loss: 435.1442 - root_mean_squared_error: 20.8601 - val_loss: 2015.0303 - val_root_mean_squared_error: 44.8891\n",
      "Epoch 139/200\n",
      "13/13 [==============================] - 0s 18ms/step - loss: 435.1508 - root_mean_squared_error: 20.8603 - val_loss: 2015.9943 - val_root_mean_squared_error: 44.8998\n",
      "Epoch 140/200\n",
      "13/13 [==============================] - 0s 17ms/step - loss: 435.1475 - root_mean_squared_error: 20.8602 - val_loss: 2015.8397 - val_root_mean_squared_error: 44.8981\n",
      "Epoch 141/200\n",
      "13/13 [==============================] - 0s 18ms/step - loss: 435.1452 - root_mean_squared_error: 20.8601 - val_loss: 2014.9421 - val_root_mean_squared_error: 44.8881\n",
      "Epoch 142/200\n",
      "13/13 [==============================] - 0s 18ms/step - loss: 435.1462 - root_mean_squared_error: 20.8602 - val_loss: 2015.1816 - val_root_mean_squared_error: 44.8908\n",
      "Epoch 143/200\n",
      "13/13 [==============================] - 0s 19ms/step - loss: 435.1457 - root_mean_squared_error: 20.8601 - val_loss: 2014.5199 - val_root_mean_squared_error: 44.8834\n",
      "Epoch 144/200\n",
      "13/13 [==============================] - 0s 17ms/step - loss: 435.1534 - root_mean_squared_error: 20.8603 - val_loss: 2015.5363 - val_root_mean_squared_error: 44.8947\n",
      "Epoch 145/200\n",
      "13/13 [==============================] - 0s 16ms/step - loss: 435.1471 - root_mean_squared_error: 20.8602 - val_loss: 2014.7594 - val_root_mean_squared_error: 44.8861\n",
      "Epoch 146/200\n",
      "13/13 [==============================] - 0s 18ms/step - loss: 435.1433 - root_mean_squared_error: 20.8601 - val_loss: 2013.8082 - val_root_mean_squared_error: 44.8755\n",
      "Epoch 147/200\n",
      "13/13 [==============================] - 0s 18ms/step - loss: 435.1438 - root_mean_squared_error: 20.8601 - val_loss: 2013.8303 - val_root_mean_squared_error: 44.8757\n",
      "Epoch 148/200\n",
      "13/13 [==============================] - 0s 18ms/step - loss: 435.1505 - root_mean_squared_error: 20.8603 - val_loss: 2012.8479 - val_root_mean_squared_error: 44.8648\n",
      "Epoch 149/200\n",
      "13/13 [==============================] - 0s 18ms/step - loss: 435.1536 - root_mean_squared_error: 20.8603 - val_loss: 2013.9475 - val_root_mean_squared_error: 44.8770\n",
      "Epoch 150/200\n",
      "13/13 [==============================] - 0s 17ms/step - loss: 435.1453 - root_mean_squared_error: 20.8601 - val_loss: 2013.0811 - val_root_mean_squared_error: 44.8674\n",
      "Epoch 151/200\n",
      "13/13 [==============================] - 0s 17ms/step - loss: 435.1512 - root_mean_squared_error: 20.8603 - val_loss: 2013.3936 - val_root_mean_squared_error: 44.8709\n",
      "Epoch 152/200\n",
      "13/13 [==============================] - 0s 19ms/step - loss: 435.1505 - root_mean_squared_error: 20.8603 - val_loss: 2012.6040 - val_root_mean_squared_error: 44.8621\n",
      "Epoch 153/200\n",
      "13/13 [==============================] - 0s 17ms/step - loss: 435.1555 - root_mean_squared_error: 20.8604 - val_loss: 2011.8778 - val_root_mean_squared_error: 44.8540\n",
      "Epoch 154/200\n",
      "13/13 [==============================] - 0s 17ms/step - loss: 435.1459 - root_mean_squared_error: 20.8602 - val_loss: 2012.9672 - val_root_mean_squared_error: 44.8661\n",
      "Epoch 155/200\n",
      "13/13 [==============================] - 0s 17ms/step - loss: 435.1443 - root_mean_squared_error: 20.8601 - val_loss: 2012.7839 - val_root_mean_squared_error: 44.8641\n",
      "Epoch 156/200\n",
      "13/13 [==============================] - 0s 18ms/step - loss: 435.1419 - root_mean_squared_error: 20.8601 - val_loss: 2013.1284 - val_root_mean_squared_error: 44.8679\n",
      "Epoch 157/200\n",
      "13/13 [==============================] - 0s 24ms/step - loss: 435.1487 - root_mean_squared_error: 20.8602 - val_loss: 2013.6915 - val_root_mean_squared_error: 44.8742\n",
      "Epoch 158/200\n",
      "13/13 [==============================] - 0s 26ms/step - loss: 435.1581 - root_mean_squared_error: 20.8604 - val_loss: 2014.0035 - val_root_mean_squared_error: 44.8777\n",
      "Epoch 159/200\n",
      "13/13 [==============================] - 0s 26ms/step - loss: 435.1662 - root_mean_squared_error: 20.8606 - val_loss: 2011.6405 - val_root_mean_squared_error: 44.8513\n",
      "Epoch 160/200\n",
      "13/13 [==============================] - 0s 24ms/step - loss: 435.1471 - root_mean_squared_error: 20.8602 - val_loss: 2011.3907 - val_root_mean_squared_error: 44.8485\n",
      "Epoch 161/200\n",
      "13/13 [==============================] - 0s 29ms/step - loss: 435.1444 - root_mean_squared_error: 20.8601 - val_loss: 2011.9778 - val_root_mean_squared_error: 44.8551\n",
      "Epoch 162/200\n",
      "13/13 [==============================] - 0s 28ms/step - loss: 435.1513 - root_mean_squared_error: 20.8603 - val_loss: 2010.7440 - val_root_mean_squared_error: 44.8413\n",
      "Epoch 163/200\n",
      "13/13 [==============================] - 0s 19ms/step - loss: 435.1446 - root_mean_squared_error: 20.8601 - val_loss: 2011.3175 - val_root_mean_squared_error: 44.8477\n",
      "Epoch 164/200\n",
      "13/13 [==============================] - 0s 18ms/step - loss: 435.1452 - root_mean_squared_error: 20.8601 - val_loss: 2010.7571 - val_root_mean_squared_error: 44.8415\n",
      "Epoch 165/200\n",
      "13/13 [==============================] - 0s 17ms/step - loss: 435.1450 - root_mean_squared_error: 20.8601 - val_loss: 2010.6934 - val_root_mean_squared_error: 44.8408\n",
      "Epoch 166/200\n",
      "13/13 [==============================] - 0s 17ms/step - loss: 435.1476 - root_mean_squared_error: 20.8602 - val_loss: 2011.0111 - val_root_mean_squared_error: 44.8443\n",
      "Epoch 167/200\n",
      "13/13 [==============================] - 0s 17ms/step - loss: 435.1458 - root_mean_squared_error: 20.8601 - val_loss: 2010.4330 - val_root_mean_squared_error: 44.8379\n",
      "Epoch 168/200\n",
      "13/13 [==============================] - 0s 20ms/step - loss: 435.1498 - root_mean_squared_error: 20.8602 - val_loss: 2010.3293 - val_root_mean_squared_error: 44.8367\n",
      "Epoch 169/200\n",
      "13/13 [==============================] - 0s 19ms/step - loss: 435.1461 - root_mean_squared_error: 20.8602 - val_loss: 2009.9355 - val_root_mean_squared_error: 44.8323\n",
      "Epoch 170/200\n",
      "13/13 [==============================] - 0s 18ms/step - loss: 435.1592 - root_mean_squared_error: 20.8605 - val_loss: 2011.3060 - val_root_mean_squared_error: 44.8476\n",
      "Epoch 171/200\n",
      "13/13 [==============================] - 0s 19ms/step - loss: 435.1489 - root_mean_squared_error: 20.8602 - val_loss: 2010.7314 - val_root_mean_squared_error: 44.8412\n",
      "Epoch 172/200\n",
      "13/13 [==============================] - 0s 19ms/step - loss: 435.1480 - root_mean_squared_error: 20.8602 - val_loss: 2010.2620 - val_root_mean_squared_error: 44.8359\n",
      "Epoch 173/200\n",
      "13/13 [==============================] - 0s 18ms/step - loss: 435.1609 - root_mean_squared_error: 20.8605 - val_loss: 2009.1028 - val_root_mean_squared_error: 44.8230\n",
      "Epoch 174/200\n",
      "13/13 [==============================] - 0s 18ms/step - loss: 435.1436 - root_mean_squared_error: 20.8601 - val_loss: 2009.4949 - val_root_mean_squared_error: 44.8274\n",
      "Epoch 175/200\n",
      "13/13 [==============================] - 0s 18ms/step - loss: 435.1473 - root_mean_squared_error: 20.8602 - val_loss: 2009.7533 - val_root_mean_squared_error: 44.8303\n",
      "Epoch 176/200\n",
      "13/13 [==============================] - 0s 19ms/step - loss: 435.1430 - root_mean_squared_error: 20.8601 - val_loss: 2009.9089 - val_root_mean_squared_error: 44.8320\n",
      "Epoch 177/200\n",
      "13/13 [==============================] - 0s 18ms/step - loss: 435.1472 - root_mean_squared_error: 20.8602 - val_loss: 2009.8478 - val_root_mean_squared_error: 44.8313\n",
      "Epoch 178/200\n",
      "13/13 [==============================] - 0s 19ms/step - loss: 435.1480 - root_mean_squared_error: 20.8602 - val_loss: 2011.0745 - val_root_mean_squared_error: 44.8450\n",
      "Epoch 179/200\n",
      "13/13 [==============================] - 0s 18ms/step - loss: 435.1431 - root_mean_squared_error: 20.8601 - val_loss: 2011.3043 - val_root_mean_squared_error: 44.8476\n",
      "Epoch 180/200\n",
      "13/13 [==============================] - 0s 18ms/step - loss: 435.1458 - root_mean_squared_error: 20.8601 - val_loss: 2011.4895 - val_root_mean_squared_error: 44.8496\n",
      "Epoch 181/200\n",
      "13/13 [==============================] - 0s 18ms/step - loss: 435.1454 - root_mean_squared_error: 20.8601 - val_loss: 2011.4281 - val_root_mean_squared_error: 44.8489\n",
      "Epoch 182/200\n",
      "13/13 [==============================] - 0s 19ms/step - loss: 435.1438 - root_mean_squared_error: 20.8601 - val_loss: 2010.8691 - val_root_mean_squared_error: 44.8427\n",
      "Epoch 183/200\n",
      "13/13 [==============================] - 0s 21ms/step - loss: 435.1468 - root_mean_squared_error: 20.8602 - val_loss: 2010.6494 - val_root_mean_squared_error: 44.8403\n",
      "Epoch 184/200\n",
      "13/13 [==============================] - 0s 18ms/step - loss: 435.1484 - root_mean_squared_error: 20.8602 - val_loss: 2009.4315 - val_root_mean_squared_error: 44.8267\n",
      "Epoch 185/200\n",
      "13/13 [==============================] - 0s 18ms/step - loss: 435.1458 - root_mean_squared_error: 20.8601 - val_loss: 2009.4230 - val_root_mean_squared_error: 44.8266\n",
      "Epoch 186/200\n",
      "13/13 [==============================] - 0s 18ms/step - loss: 435.1525 - root_mean_squared_error: 20.8603 - val_loss: 2010.3165 - val_root_mean_squared_error: 44.8366\n",
      "Epoch 187/200\n",
      "13/13 [==============================] - 0s 18ms/step - loss: 435.1453 - root_mean_squared_error: 20.8601 - val_loss: 2009.7366 - val_root_mean_squared_error: 44.8301\n",
      "Epoch 188/200\n",
      "13/13 [==============================] - 0s 17ms/step - loss: 435.1547 - root_mean_squared_error: 20.8604 - val_loss: 2010.4923 - val_root_mean_squared_error: 44.8385\n",
      "Epoch 189/200\n",
      "13/13 [==============================] - 0s 17ms/step - loss: 435.1479 - root_mean_squared_error: 20.8602 - val_loss: 2009.7820 - val_root_mean_squared_error: 44.8306\n",
      "Epoch 190/200\n",
      "13/13 [==============================] - 0s 17ms/step - loss: 435.1499 - root_mean_squared_error: 20.8602 - val_loss: 2010.4435 - val_root_mean_squared_error: 44.8380\n",
      "Epoch 191/200\n",
      "13/13 [==============================] - 0s 17ms/step - loss: 435.1592 - root_mean_squared_error: 20.8605 - val_loss: 2011.0383 - val_root_mean_squared_error: 44.8446\n",
      "Epoch 192/200\n",
      "13/13 [==============================] - 0s 17ms/step - loss: 435.1556 - root_mean_squared_error: 20.8604 - val_loss: 2010.0535 - val_root_mean_squared_error: 44.8336\n",
      "Epoch 193/200\n",
      "13/13 [==============================] - 0s 16ms/step - loss: 435.1565 - root_mean_squared_error: 20.8604 - val_loss: 2008.5469 - val_root_mean_squared_error: 44.8168\n",
      "Epoch 194/200\n",
      "13/13 [==============================] - 0s 17ms/step - loss: 435.1461 - root_mean_squared_error: 20.8602 - val_loss: 2008.8798 - val_root_mean_squared_error: 44.8205\n",
      "Epoch 195/200\n",
      "13/13 [==============================] - 0s 19ms/step - loss: 435.1488 - root_mean_squared_error: 20.8602 - val_loss: 2008.7313 - val_root_mean_squared_error: 44.8189\n",
      "Epoch 196/200\n",
      "13/13 [==============================] - 0s 17ms/step - loss: 435.1485 - root_mean_squared_error: 20.8602 - val_loss: 2009.1500 - val_root_mean_squared_error: 44.8235\n",
      "Epoch 197/200\n",
      "13/13 [==============================] - 0s 18ms/step - loss: 435.1505 - root_mean_squared_error: 20.8603 - val_loss: 2008.4211 - val_root_mean_squared_error: 44.8154\n",
      "Epoch 198/200\n",
      "13/13 [==============================] - 0s 19ms/step - loss: 435.1671 - root_mean_squared_error: 20.8607 - val_loss: 2009.0808 - val_root_mean_squared_error: 44.8228\n",
      "Epoch 199/200\n",
      "13/13 [==============================] - 0s 18ms/step - loss: 435.1442 - root_mean_squared_error: 20.8601 - val_loss: 2008.8431 - val_root_mean_squared_error: 44.8201\n",
      "Epoch 200/200\n",
      "13/13 [==============================] - 0s 18ms/step - loss: 435.1562 - root_mean_squared_error: 20.8604 - val_loss: 2009.4276 - val_root_mean_squared_error: 44.8266\n"
     ]
    },
    {
     "data": {
      "text/plain": [
       "<keras.callbacks.History at 0x7f48279cc640>"
      ]
     },
     "execution_count": 101,
     "metadata": {},
     "output_type": "execute_result"
    }
   ],
   "source": [
    "lstm_model.fit(X1_train, y1_train, epochs=200, batch_size=64, validation_data=(X1_test, y1_test))\n"
   ]
  },
  {
   "cell_type": "code",
   "execution_count": null,
   "metadata": {
    "id": "Go_G3semVEfz"
   },
   "outputs": [],
   "source": []
  },
  {
   "cell_type": "code",
   "execution_count": null,
   "metadata": {
    "colab": {
     "base_uri": "https://localhost:8080/",
     "height": 421
    },
    "id": "FFQliIW9VEf0",
    "outputId": "fa4536e8-a289-47ee-e81a-ec1d5f8a0084"
   },
   "outputs": [
    {
     "data": {
      "text/html": [
       "<style>#sk-container-id-15 {color: black;background-color: white;}#sk-container-id-15 pre{padding: 0;}#sk-container-id-15 div.sk-toggleable {background-color: white;}#sk-container-id-15 label.sk-toggleable__label {cursor: pointer;display: block;width: 100%;margin-bottom: 0;padding: 0.3em;box-sizing: border-box;text-align: center;}#sk-container-id-15 label.sk-toggleable__label-arrow:before {content: \"▸\";float: left;margin-right: 0.25em;color: #696969;}#sk-container-id-15 label.sk-toggleable__label-arrow:hover:before {color: black;}#sk-container-id-15 div.sk-estimator:hover label.sk-toggleable__label-arrow:before {color: black;}#sk-container-id-15 div.sk-toggleable__content {max-height: 0;max-width: 0;overflow: hidden;text-align: left;background-color: #f0f8ff;}#sk-container-id-15 div.sk-toggleable__content pre {margin: 0.2em;color: black;border-radius: 0.25em;background-color: #f0f8ff;}#sk-container-id-15 input.sk-toggleable__control:checked~div.sk-toggleable__content {max-height: 200px;max-width: 100%;overflow: auto;}#sk-container-id-15 input.sk-toggleable__control:checked~label.sk-toggleable__label-arrow:before {content: \"▾\";}#sk-container-id-15 div.sk-estimator input.sk-toggleable__control:checked~label.sk-toggleable__label {background-color: #d4ebff;}#sk-container-id-15 div.sk-label input.sk-toggleable__control:checked~label.sk-toggleable__label {background-color: #d4ebff;}#sk-container-id-15 input.sk-hidden--visually {border: 0;clip: rect(1px 1px 1px 1px);clip: rect(1px, 1px, 1px, 1px);height: 1px;margin: -1px;overflow: hidden;padding: 0;position: absolute;width: 1px;}#sk-container-id-15 div.sk-estimator {font-family: monospace;background-color: #f0f8ff;border: 1px dotted black;border-radius: 0.25em;box-sizing: border-box;margin-bottom: 0.5em;}#sk-container-id-15 div.sk-estimator:hover {background-color: #d4ebff;}#sk-container-id-15 div.sk-parallel-item::after {content: \"\";width: 100%;border-bottom: 1px solid gray;flex-grow: 1;}#sk-container-id-15 div.sk-label:hover label.sk-toggleable__label {background-color: #d4ebff;}#sk-container-id-15 div.sk-serial::before {content: \"\";position: absolute;border-left: 1px solid gray;box-sizing: border-box;top: 0;bottom: 0;left: 50%;z-index: 0;}#sk-container-id-15 div.sk-serial {display: flex;flex-direction: column;align-items: center;background-color: white;padding-right: 0.2em;padding-left: 0.2em;position: relative;}#sk-container-id-15 div.sk-item {position: relative;z-index: 1;}#sk-container-id-15 div.sk-parallel {display: flex;align-items: stretch;justify-content: center;background-color: white;position: relative;}#sk-container-id-15 div.sk-item::before, #sk-container-id-15 div.sk-parallel-item::before {content: \"\";position: absolute;border-left: 1px solid gray;box-sizing: border-box;top: 0;bottom: 0;left: 50%;z-index: -1;}#sk-container-id-15 div.sk-parallel-item {display: flex;flex-direction: column;z-index: 1;position: relative;background-color: white;}#sk-container-id-15 div.sk-parallel-item:first-child::after {align-self: flex-end;width: 50%;}#sk-container-id-15 div.sk-parallel-item:last-child::after {align-self: flex-start;width: 50%;}#sk-container-id-15 div.sk-parallel-item:only-child::after {width: 0;}#sk-container-id-15 div.sk-dashed-wrapped {border: 1px dashed gray;margin: 0 0.4em 0.5em 0.4em;box-sizing: border-box;padding-bottom: 0.4em;background-color: white;}#sk-container-id-15 div.sk-label label {font-family: monospace;font-weight: bold;display: inline-block;line-height: 1.2em;}#sk-container-id-15 div.sk-label-container {text-align: center;}#sk-container-id-15 div.sk-container {/* jupyter's `normalize.less` sets `[hidden] { display: none; }` but bootstrap.min.css set `[hidden] { display: none !important; }` so we also need the `!important` here to be able to override the default hidden behavior on the sphinx rendered scikit-learn.org. See: https://github.com/scikit-learn/scikit-learn/issues/21755 */display: inline-block !important;position: relative;}#sk-container-id-15 div.sk-text-repr-fallback {display: none;}</style><div id=\"sk-container-id-15\" class=\"sk-top-container\"><div class=\"sk-text-repr-fallback\"><pre>SVR(C=100, gamma=0.1)</pre><b>In a Jupyter environment, please rerun this cell to show the HTML representation or trust the notebook. <br />On GitHub, the HTML representation is unable to render, please try loading this page with nbviewer.org.</b></div><div class=\"sk-container\" hidden><div class=\"sk-item\"><div class=\"sk-estimator sk-toggleable\"><input class=\"sk-toggleable__control sk-hidden--visually\" id=\"sk-estimator-id-15\" type=\"checkbox\" checked><label for=\"sk-estimator-id-15\" class=\"sk-toggleable__label sk-toggleable__label-arrow\">SVR</label><div class=\"sk-toggleable__content\"><pre>SVR(C=100, gamma=0.1)</pre></div></div></div></div></div>"
      ],
      "text/plain": [
       "SVR(C=100, gamma=0.1)"
      ]
     },
     "execution_count": 102,
     "metadata": {},
     "output_type": "execute_result"
    },
    {
     "data": {
      "text/html": [
       "<style>#sk-container-id-16 {color: black;background-color: white;}#sk-container-id-16 pre{padding: 0;}#sk-container-id-16 div.sk-toggleable {background-color: white;}#sk-container-id-16 label.sk-toggleable__label {cursor: pointer;display: block;width: 100%;margin-bottom: 0;padding: 0.3em;box-sizing: border-box;text-align: center;}#sk-container-id-16 label.sk-toggleable__label-arrow:before {content: \"▸\";float: left;margin-right: 0.25em;color: #696969;}#sk-container-id-16 label.sk-toggleable__label-arrow:hover:before {color: black;}#sk-container-id-16 div.sk-estimator:hover label.sk-toggleable__label-arrow:before {color: black;}#sk-container-id-16 div.sk-toggleable__content {max-height: 0;max-width: 0;overflow: hidden;text-align: left;background-color: #f0f8ff;}#sk-container-id-16 div.sk-toggleable__content pre {margin: 0.2em;color: black;border-radius: 0.25em;background-color: #f0f8ff;}#sk-container-id-16 input.sk-toggleable__control:checked~div.sk-toggleable__content {max-height: 200px;max-width: 100%;overflow: auto;}#sk-container-id-16 input.sk-toggleable__control:checked~label.sk-toggleable__label-arrow:before {content: \"▾\";}#sk-container-id-16 div.sk-estimator input.sk-toggleable__control:checked~label.sk-toggleable__label {background-color: #d4ebff;}#sk-container-id-16 div.sk-label input.sk-toggleable__control:checked~label.sk-toggleable__label {background-color: #d4ebff;}#sk-container-id-16 input.sk-hidden--visually {border: 0;clip: rect(1px 1px 1px 1px);clip: rect(1px, 1px, 1px, 1px);height: 1px;margin: -1px;overflow: hidden;padding: 0;position: absolute;width: 1px;}#sk-container-id-16 div.sk-estimator {font-family: monospace;background-color: #f0f8ff;border: 1px dotted black;border-radius: 0.25em;box-sizing: border-box;margin-bottom: 0.5em;}#sk-container-id-16 div.sk-estimator:hover {background-color: #d4ebff;}#sk-container-id-16 div.sk-parallel-item::after {content: \"\";width: 100%;border-bottom: 1px solid gray;flex-grow: 1;}#sk-container-id-16 div.sk-label:hover label.sk-toggleable__label {background-color: #d4ebff;}#sk-container-id-16 div.sk-serial::before {content: \"\";position: absolute;border-left: 1px solid gray;box-sizing: border-box;top: 0;bottom: 0;left: 50%;z-index: 0;}#sk-container-id-16 div.sk-serial {display: flex;flex-direction: column;align-items: center;background-color: white;padding-right: 0.2em;padding-left: 0.2em;position: relative;}#sk-container-id-16 div.sk-item {position: relative;z-index: 1;}#sk-container-id-16 div.sk-parallel {display: flex;align-items: stretch;justify-content: center;background-color: white;position: relative;}#sk-container-id-16 div.sk-item::before, #sk-container-id-16 div.sk-parallel-item::before {content: \"\";position: absolute;border-left: 1px solid gray;box-sizing: border-box;top: 0;bottom: 0;left: 50%;z-index: -1;}#sk-container-id-16 div.sk-parallel-item {display: flex;flex-direction: column;z-index: 1;position: relative;background-color: white;}#sk-container-id-16 div.sk-parallel-item:first-child::after {align-self: flex-end;width: 50%;}#sk-container-id-16 div.sk-parallel-item:last-child::after {align-self: flex-start;width: 50%;}#sk-container-id-16 div.sk-parallel-item:only-child::after {width: 0;}#sk-container-id-16 div.sk-dashed-wrapped {border: 1px dashed gray;margin: 0 0.4em 0.5em 0.4em;box-sizing: border-box;padding-bottom: 0.4em;background-color: white;}#sk-container-id-16 div.sk-label label {font-family: monospace;font-weight: bold;display: inline-block;line-height: 1.2em;}#sk-container-id-16 div.sk-label-container {text-align: center;}#sk-container-id-16 div.sk-container {/* jupyter's `normalize.less` sets `[hidden] { display: none; }` but bootstrap.min.css set `[hidden] { display: none !important; }` so we also need the `!important` here to be able to override the default hidden behavior on the sphinx rendered scikit-learn.org. See: https://github.com/scikit-learn/scikit-learn/issues/21755 */display: inline-block !important;position: relative;}#sk-container-id-16 div.sk-text-repr-fallback {display: none;}</style><div id=\"sk-container-id-16\" class=\"sk-top-container\"><div class=\"sk-text-repr-fallback\"><pre>SVR(C=100, gamma=0.1)</pre><b>In a Jupyter environment, please rerun this cell to show the HTML representation or trust the notebook. <br />On GitHub, the HTML representation is unable to render, please try loading this page with nbviewer.org.</b></div><div class=\"sk-container\" hidden><div class=\"sk-item\"><div class=\"sk-estimator sk-toggleable\"><input class=\"sk-toggleable__control sk-hidden--visually\" id=\"sk-estimator-id-16\" type=\"checkbox\" checked><label for=\"sk-estimator-id-16\" class=\"sk-toggleable__label sk-toggleable__label-arrow\">SVR</label><div class=\"sk-toggleable__content\"><pre>SVR(C=100, gamma=0.1)</pre></div></div></div></div></div>"
      ],
      "text/plain": [
       "SVR(C=100, gamma=0.1)"
      ]
     },
     "execution_count": 102,
     "metadata": {},
     "output_type": "execute_result"
    },
    {
     "data": {
      "text/html": [
       "<style>#sk-container-id-17 {color: black;background-color: white;}#sk-container-id-17 pre{padding: 0;}#sk-container-id-17 div.sk-toggleable {background-color: white;}#sk-container-id-17 label.sk-toggleable__label {cursor: pointer;display: block;width: 100%;margin-bottom: 0;padding: 0.3em;box-sizing: border-box;text-align: center;}#sk-container-id-17 label.sk-toggleable__label-arrow:before {content: \"▸\";float: left;margin-right: 0.25em;color: #696969;}#sk-container-id-17 label.sk-toggleable__label-arrow:hover:before {color: black;}#sk-container-id-17 div.sk-estimator:hover label.sk-toggleable__label-arrow:before {color: black;}#sk-container-id-17 div.sk-toggleable__content {max-height: 0;max-width: 0;overflow: hidden;text-align: left;background-color: #f0f8ff;}#sk-container-id-17 div.sk-toggleable__content pre {margin: 0.2em;color: black;border-radius: 0.25em;background-color: #f0f8ff;}#sk-container-id-17 input.sk-toggleable__control:checked~div.sk-toggleable__content {max-height: 200px;max-width: 100%;overflow: auto;}#sk-container-id-17 input.sk-toggleable__control:checked~label.sk-toggleable__label-arrow:before {content: \"▾\";}#sk-container-id-17 div.sk-estimator input.sk-toggleable__control:checked~label.sk-toggleable__label {background-color: #d4ebff;}#sk-container-id-17 div.sk-label input.sk-toggleable__control:checked~label.sk-toggleable__label {background-color: #d4ebff;}#sk-container-id-17 input.sk-hidden--visually {border: 0;clip: rect(1px 1px 1px 1px);clip: rect(1px, 1px, 1px, 1px);height: 1px;margin: -1px;overflow: hidden;padding: 0;position: absolute;width: 1px;}#sk-container-id-17 div.sk-estimator {font-family: monospace;background-color: #f0f8ff;border: 1px dotted black;border-radius: 0.25em;box-sizing: border-box;margin-bottom: 0.5em;}#sk-container-id-17 div.sk-estimator:hover {background-color: #d4ebff;}#sk-container-id-17 div.sk-parallel-item::after {content: \"\";width: 100%;border-bottom: 1px solid gray;flex-grow: 1;}#sk-container-id-17 div.sk-label:hover label.sk-toggleable__label {background-color: #d4ebff;}#sk-container-id-17 div.sk-serial::before {content: \"\";position: absolute;border-left: 1px solid gray;box-sizing: border-box;top: 0;bottom: 0;left: 50%;z-index: 0;}#sk-container-id-17 div.sk-serial {display: flex;flex-direction: column;align-items: center;background-color: white;padding-right: 0.2em;padding-left: 0.2em;position: relative;}#sk-container-id-17 div.sk-item {position: relative;z-index: 1;}#sk-container-id-17 div.sk-parallel {display: flex;align-items: stretch;justify-content: center;background-color: white;position: relative;}#sk-container-id-17 div.sk-item::before, #sk-container-id-17 div.sk-parallel-item::before {content: \"\";position: absolute;border-left: 1px solid gray;box-sizing: border-box;top: 0;bottom: 0;left: 50%;z-index: -1;}#sk-container-id-17 div.sk-parallel-item {display: flex;flex-direction: column;z-index: 1;position: relative;background-color: white;}#sk-container-id-17 div.sk-parallel-item:first-child::after {align-self: flex-end;width: 50%;}#sk-container-id-17 div.sk-parallel-item:last-child::after {align-self: flex-start;width: 50%;}#sk-container-id-17 div.sk-parallel-item:only-child::after {width: 0;}#sk-container-id-17 div.sk-dashed-wrapped {border: 1px dashed gray;margin: 0 0.4em 0.5em 0.4em;box-sizing: border-box;padding-bottom: 0.4em;background-color: white;}#sk-container-id-17 div.sk-label label {font-family: monospace;font-weight: bold;display: inline-block;line-height: 1.2em;}#sk-container-id-17 div.sk-label-container {text-align: center;}#sk-container-id-17 div.sk-container {/* jupyter's `normalize.less` sets `[hidden] { display: none; }` but bootstrap.min.css set `[hidden] { display: none !important; }` so we also need the `!important` here to be able to override the default hidden behavior on the sphinx rendered scikit-learn.org. See: https://github.com/scikit-learn/scikit-learn/issues/21755 */display: inline-block !important;position: relative;}#sk-container-id-17 div.sk-text-repr-fallback {display: none;}</style><div id=\"sk-container-id-17\" class=\"sk-top-container\"><div class=\"sk-text-repr-fallback\"><pre>SVR(C=100, gamma=0.1)</pre><b>In a Jupyter environment, please rerun this cell to show the HTML representation or trust the notebook. <br />On GitHub, the HTML representation is unable to render, please try loading this page with nbviewer.org.</b></div><div class=\"sk-container\" hidden><div class=\"sk-item\"><div class=\"sk-estimator sk-toggleable\"><input class=\"sk-toggleable__control sk-hidden--visually\" id=\"sk-estimator-id-17\" type=\"checkbox\" checked><label for=\"sk-estimator-id-17\" class=\"sk-toggleable__label sk-toggleable__label-arrow\">SVR</label><div class=\"sk-toggleable__content\"><pre>SVR(C=100, gamma=0.1)</pre></div></div></div></div></div>"
      ],
      "text/plain": [
       "SVR(C=100, gamma=0.1)"
      ]
     },
     "execution_count": 102,
     "metadata": {},
     "output_type": "execute_result"
    },
    {
     "data": {
      "text/html": [
       "<style>#sk-container-id-18 {color: black;background-color: white;}#sk-container-id-18 pre{padding: 0;}#sk-container-id-18 div.sk-toggleable {background-color: white;}#sk-container-id-18 label.sk-toggleable__label {cursor: pointer;display: block;width: 100%;margin-bottom: 0;padding: 0.3em;box-sizing: border-box;text-align: center;}#sk-container-id-18 label.sk-toggleable__label-arrow:before {content: \"▸\";float: left;margin-right: 0.25em;color: #696969;}#sk-container-id-18 label.sk-toggleable__label-arrow:hover:before {color: black;}#sk-container-id-18 div.sk-estimator:hover label.sk-toggleable__label-arrow:before {color: black;}#sk-container-id-18 div.sk-toggleable__content {max-height: 0;max-width: 0;overflow: hidden;text-align: left;background-color: #f0f8ff;}#sk-container-id-18 div.sk-toggleable__content pre {margin: 0.2em;color: black;border-radius: 0.25em;background-color: #f0f8ff;}#sk-container-id-18 input.sk-toggleable__control:checked~div.sk-toggleable__content {max-height: 200px;max-width: 100%;overflow: auto;}#sk-container-id-18 input.sk-toggleable__control:checked~label.sk-toggleable__label-arrow:before {content: \"▾\";}#sk-container-id-18 div.sk-estimator input.sk-toggleable__control:checked~label.sk-toggleable__label {background-color: #d4ebff;}#sk-container-id-18 div.sk-label input.sk-toggleable__control:checked~label.sk-toggleable__label {background-color: #d4ebff;}#sk-container-id-18 input.sk-hidden--visually {border: 0;clip: rect(1px 1px 1px 1px);clip: rect(1px, 1px, 1px, 1px);height: 1px;margin: -1px;overflow: hidden;padding: 0;position: absolute;width: 1px;}#sk-container-id-18 div.sk-estimator {font-family: monospace;background-color: #f0f8ff;border: 1px dotted black;border-radius: 0.25em;box-sizing: border-box;margin-bottom: 0.5em;}#sk-container-id-18 div.sk-estimator:hover {background-color: #d4ebff;}#sk-container-id-18 div.sk-parallel-item::after {content: \"\";width: 100%;border-bottom: 1px solid gray;flex-grow: 1;}#sk-container-id-18 div.sk-label:hover label.sk-toggleable__label {background-color: #d4ebff;}#sk-container-id-18 div.sk-serial::before {content: \"\";position: absolute;border-left: 1px solid gray;box-sizing: border-box;top: 0;bottom: 0;left: 50%;z-index: 0;}#sk-container-id-18 div.sk-serial {display: flex;flex-direction: column;align-items: center;background-color: white;padding-right: 0.2em;padding-left: 0.2em;position: relative;}#sk-container-id-18 div.sk-item {position: relative;z-index: 1;}#sk-container-id-18 div.sk-parallel {display: flex;align-items: stretch;justify-content: center;background-color: white;position: relative;}#sk-container-id-18 div.sk-item::before, #sk-container-id-18 div.sk-parallel-item::before {content: \"\";position: absolute;border-left: 1px solid gray;box-sizing: border-box;top: 0;bottom: 0;left: 50%;z-index: -1;}#sk-container-id-18 div.sk-parallel-item {display: flex;flex-direction: column;z-index: 1;position: relative;background-color: white;}#sk-container-id-18 div.sk-parallel-item:first-child::after {align-self: flex-end;width: 50%;}#sk-container-id-18 div.sk-parallel-item:last-child::after {align-self: flex-start;width: 50%;}#sk-container-id-18 div.sk-parallel-item:only-child::after {width: 0;}#sk-container-id-18 div.sk-dashed-wrapped {border: 1px dashed gray;margin: 0 0.4em 0.5em 0.4em;box-sizing: border-box;padding-bottom: 0.4em;background-color: white;}#sk-container-id-18 div.sk-label label {font-family: monospace;font-weight: bold;display: inline-block;line-height: 1.2em;}#sk-container-id-18 div.sk-label-container {text-align: center;}#sk-container-id-18 div.sk-container {/* jupyter's `normalize.less` sets `[hidden] { display: none; }` but bootstrap.min.css set `[hidden] { display: none !important; }` so we also need the `!important` here to be able to override the default hidden behavior on the sphinx rendered scikit-learn.org. See: https://github.com/scikit-learn/scikit-learn/issues/21755 */display: inline-block !important;position: relative;}#sk-container-id-18 div.sk-text-repr-fallback {display: none;}</style><div id=\"sk-container-id-18\" class=\"sk-top-container\"><div class=\"sk-text-repr-fallback\"><pre>SVR(C=100, gamma=0.1)</pre><b>In a Jupyter environment, please rerun this cell to show the HTML representation or trust the notebook. <br />On GitHub, the HTML representation is unable to render, please try loading this page with nbviewer.org.</b></div><div class=\"sk-container\" hidden><div class=\"sk-item\"><div class=\"sk-estimator sk-toggleable\"><input class=\"sk-toggleable__control sk-hidden--visually\" id=\"sk-estimator-id-18\" type=\"checkbox\" checked><label for=\"sk-estimator-id-18\" class=\"sk-toggleable__label sk-toggleable__label-arrow\">SVR</label><div class=\"sk-toggleable__content\"><pre>SVR(C=100, gamma=0.1)</pre></div></div></div></div></div>"
      ],
      "text/plain": [
       "SVR(C=100, gamma=0.1)"
      ]
     },
     "execution_count": 102,
     "metadata": {},
     "output_type": "execute_result"
    },
    {
     "data": {
      "text/html": [
       "<style>#sk-container-id-19 {color: black;background-color: white;}#sk-container-id-19 pre{padding: 0;}#sk-container-id-19 div.sk-toggleable {background-color: white;}#sk-container-id-19 label.sk-toggleable__label {cursor: pointer;display: block;width: 100%;margin-bottom: 0;padding: 0.3em;box-sizing: border-box;text-align: center;}#sk-container-id-19 label.sk-toggleable__label-arrow:before {content: \"▸\";float: left;margin-right: 0.25em;color: #696969;}#sk-container-id-19 label.sk-toggleable__label-arrow:hover:before {color: black;}#sk-container-id-19 div.sk-estimator:hover label.sk-toggleable__label-arrow:before {color: black;}#sk-container-id-19 div.sk-toggleable__content {max-height: 0;max-width: 0;overflow: hidden;text-align: left;background-color: #f0f8ff;}#sk-container-id-19 div.sk-toggleable__content pre {margin: 0.2em;color: black;border-radius: 0.25em;background-color: #f0f8ff;}#sk-container-id-19 input.sk-toggleable__control:checked~div.sk-toggleable__content {max-height: 200px;max-width: 100%;overflow: auto;}#sk-container-id-19 input.sk-toggleable__control:checked~label.sk-toggleable__label-arrow:before {content: \"▾\";}#sk-container-id-19 div.sk-estimator input.sk-toggleable__control:checked~label.sk-toggleable__label {background-color: #d4ebff;}#sk-container-id-19 div.sk-label input.sk-toggleable__control:checked~label.sk-toggleable__label {background-color: #d4ebff;}#sk-container-id-19 input.sk-hidden--visually {border: 0;clip: rect(1px 1px 1px 1px);clip: rect(1px, 1px, 1px, 1px);height: 1px;margin: -1px;overflow: hidden;padding: 0;position: absolute;width: 1px;}#sk-container-id-19 div.sk-estimator {font-family: monospace;background-color: #f0f8ff;border: 1px dotted black;border-radius: 0.25em;box-sizing: border-box;margin-bottom: 0.5em;}#sk-container-id-19 div.sk-estimator:hover {background-color: #d4ebff;}#sk-container-id-19 div.sk-parallel-item::after {content: \"\";width: 100%;border-bottom: 1px solid gray;flex-grow: 1;}#sk-container-id-19 div.sk-label:hover label.sk-toggleable__label {background-color: #d4ebff;}#sk-container-id-19 div.sk-serial::before {content: \"\";position: absolute;border-left: 1px solid gray;box-sizing: border-box;top: 0;bottom: 0;left: 50%;z-index: 0;}#sk-container-id-19 div.sk-serial {display: flex;flex-direction: column;align-items: center;background-color: white;padding-right: 0.2em;padding-left: 0.2em;position: relative;}#sk-container-id-19 div.sk-item {position: relative;z-index: 1;}#sk-container-id-19 div.sk-parallel {display: flex;align-items: stretch;justify-content: center;background-color: white;position: relative;}#sk-container-id-19 div.sk-item::before, #sk-container-id-19 div.sk-parallel-item::before {content: \"\";position: absolute;border-left: 1px solid gray;box-sizing: border-box;top: 0;bottom: 0;left: 50%;z-index: -1;}#sk-container-id-19 div.sk-parallel-item {display: flex;flex-direction: column;z-index: 1;position: relative;background-color: white;}#sk-container-id-19 div.sk-parallel-item:first-child::after {align-self: flex-end;width: 50%;}#sk-container-id-19 div.sk-parallel-item:last-child::after {align-self: flex-start;width: 50%;}#sk-container-id-19 div.sk-parallel-item:only-child::after {width: 0;}#sk-container-id-19 div.sk-dashed-wrapped {border: 1px dashed gray;margin: 0 0.4em 0.5em 0.4em;box-sizing: border-box;padding-bottom: 0.4em;background-color: white;}#sk-container-id-19 div.sk-label label {font-family: monospace;font-weight: bold;display: inline-block;line-height: 1.2em;}#sk-container-id-19 div.sk-label-container {text-align: center;}#sk-container-id-19 div.sk-container {/* jupyter's `normalize.less` sets `[hidden] { display: none; }` but bootstrap.min.css set `[hidden] { display: none !important; }` so we also need the `!important` here to be able to override the default hidden behavior on the sphinx rendered scikit-learn.org. See: https://github.com/scikit-learn/scikit-learn/issues/21755 */display: inline-block !important;position: relative;}#sk-container-id-19 div.sk-text-repr-fallback {display: none;}</style><div id=\"sk-container-id-19\" class=\"sk-top-container\"><div class=\"sk-text-repr-fallback\"><pre>SVR(C=100, gamma=0.1)</pre><b>In a Jupyter environment, please rerun this cell to show the HTML representation or trust the notebook. <br />On GitHub, the HTML representation is unable to render, please try loading this page with nbviewer.org.</b></div><div class=\"sk-container\" hidden><div class=\"sk-item\"><div class=\"sk-estimator sk-toggleable\"><input class=\"sk-toggleable__control sk-hidden--visually\" id=\"sk-estimator-id-19\" type=\"checkbox\" checked><label for=\"sk-estimator-id-19\" class=\"sk-toggleable__label sk-toggleable__label-arrow\">SVR</label><div class=\"sk-toggleable__content\"><pre>SVR(C=100, gamma=0.1)</pre></div></div></div></div></div>"
      ],
      "text/plain": [
       "SVR(C=100, gamma=0.1)"
      ]
     },
     "execution_count": 102,
     "metadata": {},
     "output_type": "execute_result"
    },
    {
     "data": {
      "text/html": [
       "<style>#sk-container-id-20 {color: black;background-color: white;}#sk-container-id-20 pre{padding: 0;}#sk-container-id-20 div.sk-toggleable {background-color: white;}#sk-container-id-20 label.sk-toggleable__label {cursor: pointer;display: block;width: 100%;margin-bottom: 0;padding: 0.3em;box-sizing: border-box;text-align: center;}#sk-container-id-20 label.sk-toggleable__label-arrow:before {content: \"▸\";float: left;margin-right: 0.25em;color: #696969;}#sk-container-id-20 label.sk-toggleable__label-arrow:hover:before {color: black;}#sk-container-id-20 div.sk-estimator:hover label.sk-toggleable__label-arrow:before {color: black;}#sk-container-id-20 div.sk-toggleable__content {max-height: 0;max-width: 0;overflow: hidden;text-align: left;background-color: #f0f8ff;}#sk-container-id-20 div.sk-toggleable__content pre {margin: 0.2em;color: black;border-radius: 0.25em;background-color: #f0f8ff;}#sk-container-id-20 input.sk-toggleable__control:checked~div.sk-toggleable__content {max-height: 200px;max-width: 100%;overflow: auto;}#sk-container-id-20 input.sk-toggleable__control:checked~label.sk-toggleable__label-arrow:before {content: \"▾\";}#sk-container-id-20 div.sk-estimator input.sk-toggleable__control:checked~label.sk-toggleable__label {background-color: #d4ebff;}#sk-container-id-20 div.sk-label input.sk-toggleable__control:checked~label.sk-toggleable__label {background-color: #d4ebff;}#sk-container-id-20 input.sk-hidden--visually {border: 0;clip: rect(1px 1px 1px 1px);clip: rect(1px, 1px, 1px, 1px);height: 1px;margin: -1px;overflow: hidden;padding: 0;position: absolute;width: 1px;}#sk-container-id-20 div.sk-estimator {font-family: monospace;background-color: #f0f8ff;border: 1px dotted black;border-radius: 0.25em;box-sizing: border-box;margin-bottom: 0.5em;}#sk-container-id-20 div.sk-estimator:hover {background-color: #d4ebff;}#sk-container-id-20 div.sk-parallel-item::after {content: \"\";width: 100%;border-bottom: 1px solid gray;flex-grow: 1;}#sk-container-id-20 div.sk-label:hover label.sk-toggleable__label {background-color: #d4ebff;}#sk-container-id-20 div.sk-serial::before {content: \"\";position: absolute;border-left: 1px solid gray;box-sizing: border-box;top: 0;bottom: 0;left: 50%;z-index: 0;}#sk-container-id-20 div.sk-serial {display: flex;flex-direction: column;align-items: center;background-color: white;padding-right: 0.2em;padding-left: 0.2em;position: relative;}#sk-container-id-20 div.sk-item {position: relative;z-index: 1;}#sk-container-id-20 div.sk-parallel {display: flex;align-items: stretch;justify-content: center;background-color: white;position: relative;}#sk-container-id-20 div.sk-item::before, #sk-container-id-20 div.sk-parallel-item::before {content: \"\";position: absolute;border-left: 1px solid gray;box-sizing: border-box;top: 0;bottom: 0;left: 50%;z-index: -1;}#sk-container-id-20 div.sk-parallel-item {display: flex;flex-direction: column;z-index: 1;position: relative;background-color: white;}#sk-container-id-20 div.sk-parallel-item:first-child::after {align-self: flex-end;width: 50%;}#sk-container-id-20 div.sk-parallel-item:last-child::after {align-self: flex-start;width: 50%;}#sk-container-id-20 div.sk-parallel-item:only-child::after {width: 0;}#sk-container-id-20 div.sk-dashed-wrapped {border: 1px dashed gray;margin: 0 0.4em 0.5em 0.4em;box-sizing: border-box;padding-bottom: 0.4em;background-color: white;}#sk-container-id-20 div.sk-label label {font-family: monospace;font-weight: bold;display: inline-block;line-height: 1.2em;}#sk-container-id-20 div.sk-label-container {text-align: center;}#sk-container-id-20 div.sk-container {/* jupyter's `normalize.less` sets `[hidden] { display: none; }` but bootstrap.min.css set `[hidden] { display: none !important; }` so we also need the `!important` here to be able to override the default hidden behavior on the sphinx rendered scikit-learn.org. See: https://github.com/scikit-learn/scikit-learn/issues/21755 */display: inline-block !important;position: relative;}#sk-container-id-20 div.sk-text-repr-fallback {display: none;}</style><div id=\"sk-container-id-20\" class=\"sk-top-container\"><div class=\"sk-text-repr-fallback\"><pre>SVR(C=100, gamma=0.1)</pre><b>In a Jupyter environment, please rerun this cell to show the HTML representation or trust the notebook. <br />On GitHub, the HTML representation is unable to render, please try loading this page with nbviewer.org.</b></div><div class=\"sk-container\" hidden><div class=\"sk-item\"><div class=\"sk-estimator sk-toggleable\"><input class=\"sk-toggleable__control sk-hidden--visually\" id=\"sk-estimator-id-20\" type=\"checkbox\" checked><label for=\"sk-estimator-id-20\" class=\"sk-toggleable__label sk-toggleable__label-arrow\">SVR</label><div class=\"sk-toggleable__content\"><pre>SVR(C=100, gamma=0.1)</pre></div></div></div></div></div>"
      ],
      "text/plain": [
       "SVR(C=100, gamma=0.1)"
      ]
     },
     "execution_count": 102,
     "metadata": {},
     "output_type": "execute_result"
    },
    {
     "data": {
      "text/html": [
       "<style>#sk-container-id-21 {color: black;background-color: white;}#sk-container-id-21 pre{padding: 0;}#sk-container-id-21 div.sk-toggleable {background-color: white;}#sk-container-id-21 label.sk-toggleable__label {cursor: pointer;display: block;width: 100%;margin-bottom: 0;padding: 0.3em;box-sizing: border-box;text-align: center;}#sk-container-id-21 label.sk-toggleable__label-arrow:before {content: \"▸\";float: left;margin-right: 0.25em;color: #696969;}#sk-container-id-21 label.sk-toggleable__label-arrow:hover:before {color: black;}#sk-container-id-21 div.sk-estimator:hover label.sk-toggleable__label-arrow:before {color: black;}#sk-container-id-21 div.sk-toggleable__content {max-height: 0;max-width: 0;overflow: hidden;text-align: left;background-color: #f0f8ff;}#sk-container-id-21 div.sk-toggleable__content pre {margin: 0.2em;color: black;border-radius: 0.25em;background-color: #f0f8ff;}#sk-container-id-21 input.sk-toggleable__control:checked~div.sk-toggleable__content {max-height: 200px;max-width: 100%;overflow: auto;}#sk-container-id-21 input.sk-toggleable__control:checked~label.sk-toggleable__label-arrow:before {content: \"▾\";}#sk-container-id-21 div.sk-estimator input.sk-toggleable__control:checked~label.sk-toggleable__label {background-color: #d4ebff;}#sk-container-id-21 div.sk-label input.sk-toggleable__control:checked~label.sk-toggleable__label {background-color: #d4ebff;}#sk-container-id-21 input.sk-hidden--visually {border: 0;clip: rect(1px 1px 1px 1px);clip: rect(1px, 1px, 1px, 1px);height: 1px;margin: -1px;overflow: hidden;padding: 0;position: absolute;width: 1px;}#sk-container-id-21 div.sk-estimator {font-family: monospace;background-color: #f0f8ff;border: 1px dotted black;border-radius: 0.25em;box-sizing: border-box;margin-bottom: 0.5em;}#sk-container-id-21 div.sk-estimator:hover {background-color: #d4ebff;}#sk-container-id-21 div.sk-parallel-item::after {content: \"\";width: 100%;border-bottom: 1px solid gray;flex-grow: 1;}#sk-container-id-21 div.sk-label:hover label.sk-toggleable__label {background-color: #d4ebff;}#sk-container-id-21 div.sk-serial::before {content: \"\";position: absolute;border-left: 1px solid gray;box-sizing: border-box;top: 0;bottom: 0;left: 50%;z-index: 0;}#sk-container-id-21 div.sk-serial {display: flex;flex-direction: column;align-items: center;background-color: white;padding-right: 0.2em;padding-left: 0.2em;position: relative;}#sk-container-id-21 div.sk-item {position: relative;z-index: 1;}#sk-container-id-21 div.sk-parallel {display: flex;align-items: stretch;justify-content: center;background-color: white;position: relative;}#sk-container-id-21 div.sk-item::before, #sk-container-id-21 div.sk-parallel-item::before {content: \"\";position: absolute;border-left: 1px solid gray;box-sizing: border-box;top: 0;bottom: 0;left: 50%;z-index: -1;}#sk-container-id-21 div.sk-parallel-item {display: flex;flex-direction: column;z-index: 1;position: relative;background-color: white;}#sk-container-id-21 div.sk-parallel-item:first-child::after {align-self: flex-end;width: 50%;}#sk-container-id-21 div.sk-parallel-item:last-child::after {align-self: flex-start;width: 50%;}#sk-container-id-21 div.sk-parallel-item:only-child::after {width: 0;}#sk-container-id-21 div.sk-dashed-wrapped {border: 1px dashed gray;margin: 0 0.4em 0.5em 0.4em;box-sizing: border-box;padding-bottom: 0.4em;background-color: white;}#sk-container-id-21 div.sk-label label {font-family: monospace;font-weight: bold;display: inline-block;line-height: 1.2em;}#sk-container-id-21 div.sk-label-container {text-align: center;}#sk-container-id-21 div.sk-container {/* jupyter's `normalize.less` sets `[hidden] { display: none; }` but bootstrap.min.css set `[hidden] { display: none !important; }` so we also need the `!important` here to be able to override the default hidden behavior on the sphinx rendered scikit-learn.org. See: https://github.com/scikit-learn/scikit-learn/issues/21755 */display: inline-block !important;position: relative;}#sk-container-id-21 div.sk-text-repr-fallback {display: none;}</style><div id=\"sk-container-id-21\" class=\"sk-top-container\"><div class=\"sk-text-repr-fallback\"><pre>SVR(C=100, gamma=0.1)</pre><b>In a Jupyter environment, please rerun this cell to show the HTML representation or trust the notebook. <br />On GitHub, the HTML representation is unable to render, please try loading this page with nbviewer.org.</b></div><div class=\"sk-container\" hidden><div class=\"sk-item\"><div class=\"sk-estimator sk-toggleable\"><input class=\"sk-toggleable__control sk-hidden--visually\" id=\"sk-estimator-id-21\" type=\"checkbox\" checked><label for=\"sk-estimator-id-21\" class=\"sk-toggleable__label sk-toggleable__label-arrow\">SVR</label><div class=\"sk-toggleable__content\"><pre>SVR(C=100, gamma=0.1)</pre></div></div></div></div></div>"
      ],
      "text/plain": [
       "SVR(C=100, gamma=0.1)"
      ]
     },
     "execution_count": 102,
     "metadata": {},
     "output_type": "execute_result"
    }
   ],
   "source": [
    "from sklearn.svm import SVR\n",
    "from sklearn.linear_model import LinearRegression\n",
    "from sklearn.model_selection import train_test_split\n",
    "from sklearn.preprocessing import LabelEncoder\n",
    "\n",
    "acc8 = {}\n",
    "profit8 ={}\n",
    "#Tesla\n",
    "\n",
    "for s in selected:\n",
    "    idx = sp500.index(s)\n",
    "    stock = df_list3[idx].dropna()\n",
    "    X = stock\n",
    "    y = stock['pred_price']\n",
    "    \n",
    "    X_train_orig, X_test_orig, y_train, y_test = train_test_split(X,y,test_size=0.2,shuffle = False)\n",
    "    X_train = X_train_orig.iloc[:,2:-3]\n",
    "    X_test = X_test_orig.iloc[:,2:-3]    \n",
    "\n",
    "\n",
    "    svm_model.fit(X_train,y_train)\n",
    "\n",
    "\n",
    "    pred1 = svm_model.predict(X_test)\n",
    "    pred_cat = (pred1-X_test.Close).apply(condition)\n",
    "    #X_test.Close-pred1\n",
    "    #pred2\n",
    "\n",
    "    pred = (y_test-X_test.Close).apply(condition)\n",
    "\n",
    "    #pred\n",
    "    acc = sum(pred==pred_cat)/len(pred)\n",
    "    acc8[s]=acc\n",
    "\n",
    "    \n",
    "    stock_test_df = pd.concat([X_test_orig.reset_index(), pd.DataFrame({'model_pred':pred_cat}).reset_index()],axis=1)\n",
    "    \n",
    "    stock_test_df['buy'] = stock_test_df['model_pred'].apply(lambda x: 1 if x == 'increase' else 0)\n",
    "    stock_test_df['spend'] = 5000 * stock_test_df['buy']\n",
    "    stock_test_df['shares'] = stock_test_df['spend']// stock_test_df['Close']\n",
    "    stock_test_df['profit'] = stock_test_df['shares'] * stock_test_df['next_day_return']\n",
    "    \n",
    "    \n",
    "    output_list.append(stock_test_df)\n",
    "    \n",
    "    profit8[s] = sum(stock_test_df['profit'])    \n",
    "\n",
    "\n"
   ]
  },
  {
   "cell_type": "code",
   "execution_count": null,
   "metadata": {
    "colab": {
     "base_uri": "https://localhost:8080/"
    },
    "id": "vKZdI8vom_8Y",
    "outputId": "82d53dca-2ed5-48f0-c786-f90533a6d3b7"
   },
   "outputs": [
    {
     "data": {
      "text/plain": [
       "{'CARR': 1654.801671087277,\n",
       " 'ENPH': 0.0,\n",
       " 'TSLA': 2164.6417959552514,\n",
       " 'DHR': 376.69724080300506,\n",
       " 'AMD': 901.2910333165015,\n",
       " 'MRNA': 0.0,\n",
       " 'DHI': 0.0}"
      ]
     },
     "execution_count": 103,
     "metadata": {},
     "output_type": "execute_result"
    }
   ],
   "source": [
    "profit8"
   ]
  },
  {
   "cell_type": "code",
   "execution_count": null,
   "metadata": {
    "colab": {
     "base_uri": "https://localhost:8080/"
    },
    "id": "TaDbOSfEqOHr",
    "outputId": "bdfeeae9-9683-4c9f-d52f-79f898688b88"
   },
   "outputs": [
    {
     "data": {
      "text/plain": [
       "{'CARR': 0.48514851485148514,\n",
       " 'ENPH': 0.504950495049505,\n",
       " 'TSLA': 0.5445544554455446,\n",
       " 'DHR': 0.4306930693069307,\n",
       " 'AMD': 0.5,\n",
       " 'MRNA': 0.49504950495049505,\n",
       " 'DHI': 0.5297029702970297}"
      ]
     },
     "execution_count": 104,
     "metadata": {},
     "output_type": "execute_result"
    }
   ],
   "source": [
    "acc8"
   ]
  },
  {
   "cell_type": "code",
   "execution_count": null,
   "metadata": {
    "id": "b81WGbr2mvKr"
   },
   "outputs": [],
   "source": []
  },
  {
   "cell_type": "code",
   "execution_count": null,
   "metadata": {
    "id": "WfqW6VXFVEf0"
   },
   "outputs": [],
   "source": [
    "def create_dataset(df, previous=1):\n",
    "    dataX, dataY = [], []\n",
    "    for i in range(len(df)-previous):\n",
    "        a = df.iloc[i:(i+previous), 0]\n",
    "        dataX.append(a)\n",
    "        dataY.append(df.iloc[i + previous, 0])\n",
    "    return np.array(dataX), np.array(dataY)"
   ]
  },
  {
   "cell_type": "code",
   "execution_count": null,
   "metadata": {
    "colab": {
     "base_uri": "https://localhost:8080/",
     "height": 267
    },
    "id": "CrRnFiKbVEf1",
    "outputId": "e559c6b7-2772-4b7f-a929-5c6b893b313c"
   },
   "outputs": [
    {
     "data": {
      "application/vnd.google.colaboratory.intrinsic+json": {
       "type": "string"
      },
      "text/plain": [
       "'\\n    train_size = math.ceil(len(X)*0.8)\\n    X_train_orig, X_test_orig= X[:train_size],X[train_size:]\\n    y_train, y_test= y[:train_size],y[train_size:]'"
      ]
     },
     "execution_count": 106,
     "metadata": {},
     "output_type": "execute_result"
    },
    {
     "data": {
      "text/plain": [
       "<keras.callbacks.History at 0x7f48282e8a60>"
      ]
     },
     "execution_count": 106,
     "metadata": {},
     "output_type": "execute_result"
    },
    {
     "name": "stdout",
     "output_type": "stream",
     "text": [
      "7/7 [==============================] - 0s 1ms/step\n"
     ]
    },
    {
     "data": {
      "application/vnd.google.colaboratory.intrinsic+json": {
       "type": "string"
      },
      "text/plain": [
       "'\\n    train_size = math.ceil(len(X)*0.8)\\n    X_train_orig, X_test_orig= X[:train_size],X[train_size:]\\n    y_train, y_test= y[:train_size],y[train_size:]'"
      ]
     },
     "execution_count": 106,
     "metadata": {},
     "output_type": "execute_result"
    },
    {
     "data": {
      "text/plain": [
       "<keras.callbacks.History at 0x7f481be0b5e0>"
      ]
     },
     "execution_count": 106,
     "metadata": {},
     "output_type": "execute_result"
    },
    {
     "name": "stdout",
     "output_type": "stream",
     "text": [
      "7/7 [==============================] - 1s 2ms/step\n"
     ]
    },
    {
     "data": {
      "application/vnd.google.colaboratory.intrinsic+json": {
       "type": "string"
      },
      "text/plain": [
       "'\\n    train_size = math.ceil(len(X)*0.8)\\n    X_train_orig, X_test_orig= X[:train_size],X[train_size:]\\n    y_train, y_test= y[:train_size],y[train_size:]'"
      ]
     },
     "execution_count": 106,
     "metadata": {},
     "output_type": "execute_result"
    },
    {
     "data": {
      "text/plain": [
       "<keras.callbacks.History at 0x7f481b231df0>"
      ]
     },
     "execution_count": 106,
     "metadata": {},
     "output_type": "execute_result"
    },
    {
     "name": "stdout",
     "output_type": "stream",
     "text": [
      "7/7 [==============================] - 0s 2ms/step\n"
     ]
    },
    {
     "data": {
      "application/vnd.google.colaboratory.intrinsic+json": {
       "type": "string"
      },
      "text/plain": [
       "'\\n    train_size = math.ceil(len(X)*0.8)\\n    X_train_orig, X_test_orig= X[:train_size],X[train_size:]\\n    y_train, y_test= y[:train_size],y[train_size:]'"
      ]
     },
     "execution_count": 106,
     "metadata": {},
     "output_type": "execute_result"
    },
    {
     "data": {
      "text/plain": [
       "<keras.callbacks.History at 0x7f4819e45820>"
      ]
     },
     "execution_count": 106,
     "metadata": {},
     "output_type": "execute_result"
    },
    {
     "name": "stdout",
     "output_type": "stream",
     "text": [
      "7/7 [==============================] - 1s 2ms/step\n"
     ]
    },
    {
     "data": {
      "application/vnd.google.colaboratory.intrinsic+json": {
       "type": "string"
      },
      "text/plain": [
       "'\\n    train_size = math.ceil(len(X)*0.8)\\n    X_train_orig, X_test_orig= X[:train_size],X[train_size:]\\n    y_train, y_test= y[:train_size],y[train_size:]'"
      ]
     },
     "execution_count": 106,
     "metadata": {},
     "output_type": "execute_result"
    },
    {
     "data": {
      "text/plain": [
       "<keras.callbacks.History at 0x7f4819e3f5b0>"
      ]
     },
     "execution_count": 106,
     "metadata": {},
     "output_type": "execute_result"
    },
    {
     "name": "stdout",
     "output_type": "stream",
     "text": [
      "7/7 [==============================] - 1s 2ms/step\n"
     ]
    },
    {
     "data": {
      "application/vnd.google.colaboratory.intrinsic+json": {
       "type": "string"
      },
      "text/plain": [
       "'\\n    train_size = math.ceil(len(X)*0.8)\\n    X_train_orig, X_test_orig= X[:train_size],X[train_size:]\\n    y_train, y_test= y[:train_size],y[train_size:]'"
      ]
     },
     "execution_count": 106,
     "metadata": {},
     "output_type": "execute_result"
    },
    {
     "data": {
      "text/plain": [
       "<keras.callbacks.History at 0x7f481c9077c0>"
      ]
     },
     "execution_count": 106,
     "metadata": {},
     "output_type": "execute_result"
    },
    {
     "name": "stdout",
     "output_type": "stream",
     "text": [
      "7/7 [==============================] - 0s 2ms/step\n"
     ]
    },
    {
     "data": {
      "application/vnd.google.colaboratory.intrinsic+json": {
       "type": "string"
      },
      "text/plain": [
       "'\\n    train_size = math.ceil(len(X)*0.8)\\n    X_train_orig, X_test_orig= X[:train_size],X[train_size:]\\n    y_train, y_test= y[:train_size],y[train_size:]'"
      ]
     },
     "execution_count": 106,
     "metadata": {},
     "output_type": "execute_result"
    },
    {
     "data": {
      "text/plain": [
       "<keras.callbacks.History at 0x7f481d7b7520>"
      ]
     },
     "execution_count": 106,
     "metadata": {},
     "output_type": "execute_result"
    },
    {
     "name": "stdout",
     "output_type": "stream",
     "text": [
      "7/7 [==============================] - 0s 2ms/step\n"
     ]
    }
   ],
   "source": [
    "output_list11 =[]\n",
    "acc11 = {}\n",
    "profit11={}\n",
    "lookback = 5\n",
    "ratio = 0.8\n",
    "#Tesla\n",
    "for s in selected:\n",
    "    idx = sp500.index(s)\n",
    "    stock = df_list3[idx].dropna()\n",
    "    X = stock\n",
    "    y = stock['pred_price']\n",
    "    \"\"\"\n",
    "    train_size = math.ceil(len(X)*0.8)\n",
    "    X_train_orig, X_test_orig= X[:train_size],X[train_size:]\n",
    "    y_train, y_test= y[:train_size],y[train_size:]\"\"\"\n",
    "    X_train_orig, X_test_orig, y_train, y_test = train_test_split(X,y,test_size=0.2,shuffle=False)\n",
    "    train = X_train_orig.iloc[:,2:-3]\n",
    "    test = X_test_orig.iloc[:,2:-3]   \n",
    "    \n",
    "    \n",
    "    X_train, y_train = create_dataset(train, lookback)\n",
    "    X_test, y_test = create_dataset(test, lookback)\n",
    "    \n",
    "    \n",
    "    X_train = np.reshape(X_train, (X_train.shape[0], 1, X_train.shape[1]))\n",
    "    X_test = np.reshape(X_test, (X_test.shape[0], 1, X_test.shape[1]))\n",
    "    \n",
    "    model = tf.keras.Sequential()\n",
    "    model.add(LSTM(4, input_shape=(1, lookback)))\n",
    "    model.add(Dense(1))\n",
    "    model.compile(loss='mean_squared_error', optimizer='adam')\n",
    "    \n",
    "    model.fit(X_train, y_train, validation_split=0.2, epochs=100, batch_size=1, verbose=0)\n",
    "    \n",
    "    \n",
    "    \n",
    "    #model.fit(X1_train, y1_train, epochs=200, batch_size=32, verbose=0)\n",
    "    predictions = model.predict(X_test)\n",
    "    \n",
    "    pred1 = predictions.reshape(y_test.shape[0],)\n",
    "    y_test = y_test.reshape(y_test.shape[0],)\n",
    "    \n",
    "\n",
    "    #pred1\n",
    "    #merged_df['trend'] = merged_df['daily_returns_overall']\n",
    "\n",
    "    pred_cat = (pred1-X_test_orig.Close[(lookback-1):-1]).apply(condition)\n",
    "    #pred2\n",
    "\n",
    "    pred = (y_test-X_test_orig.Close[(lookback-1):-1]).apply(condition)\n",
    "\n",
    "    #pred\n",
    "    acc = sum(pred==pred_cat)/len(pred)\n",
    "    acc11[s]=acc\n",
    "\n",
    "    \n",
    "    stock_test_df = pd.concat([X_test_orig.reset_index(), pd.DataFrame({'model_pred':pred_cat}).reset_index()],axis=1)\n",
    "    \n",
    "    stock_test_df['buy'] = stock_test_df['model_pred'].apply(lambda x: 1 if x == 'increase' else 0)\n",
    "    stock_test_df['spend'] = 5000 * stock_test_df['buy']\n",
    "    stock_test_df['shares'] = stock_test_df['spend']// stock_test_df['Close']\n",
    "    stock_test_df['profit'] = stock_test_df['shares'] * stock_test_df['next_day_return']\n",
    "    #print(stock_test_df)\n",
    "    output_list11.append(stock_test_df)\n",
    "    \n",
    "    profit11[s] = sum(stock_test_df['profit'])    \n",
    "\n",
    "\n"
   ]
  },
  {
   "cell_type": "code",
   "execution_count": null,
   "metadata": {
    "colab": {
     "base_uri": "https://localhost:8080/"
    },
    "id": "gwjdQqVmVEf1",
    "outputId": "69e2b994-e41f-4153-c4c7-a0446b46e43c"
   },
   "outputs": [
    {
     "data": {
      "text/plain": [
       "{'CARR': 0.4873096446700508,\n",
       " 'ENPH': 0.49746192893401014,\n",
       " 'TSLA': 0.5126903553299492,\n",
       " 'DHR': 0.4873096446700508,\n",
       " 'AMD': 0.5076142131979695,\n",
       " 'MRNA': 0.5025380710659898,\n",
       " 'DHI': 0.5329949238578681}"
      ]
     },
     "execution_count": 107,
     "metadata": {},
     "output_type": "execute_result"
    }
   ],
   "source": [
    "acc11"
   ]
  },
  {
   "cell_type": "code",
   "execution_count": null,
   "metadata": {
    "colab": {
     "base_uri": "https://localhost:8080/"
    },
    "id": "jIObM2-qVEf2",
    "outputId": "4fc94ad3-29dd-4b3f-df17-98222c0fdb59"
   },
   "outputs": [
    {
     "data": {
      "text/plain": [
       "{'CARR': 4495.283284181219,\n",
       " 'ENPH': 0.0,\n",
       " 'TSLA': -191.09757027777482,\n",
       " 'DHR': 0.0,\n",
       " 'AMD': 36.985494004363005,\n",
       " 'MRNA': 0.0,\n",
       " 'DHI': 0.0}"
      ]
     },
     "execution_count": 108,
     "metadata": {},
     "output_type": "execute_result"
    }
   ],
   "source": [
    "profit11"
   ]
  },
  {
   "cell_type": "code",
   "execution_count": null,
   "metadata": {
    "id": "kLsv_mkwn2gk"
   },
   "outputs": [],
   "source": [
    "\n",
    "acc_df = pd.DataFrame([acc1],index=['LSTM2_trend'])\n",
    "profit_df = pd.DataFrame([profit1],index=['LSTM2_trend'])\n",
    "\n",
    "acc_df = acc_df.append(pd.DataFrame([acc2],index=['LSTM2_val']))\n",
    "profit_df = profit_df.append(pd.DataFrame([profit2],index=['LSTM2_val']))\n",
    "\n",
    "acc_df = acc_df.append(pd.DataFrame([acc3],index=['SVR_val']))\n",
    "profit_df = profit_df.append(pd.DataFrame([profit3],index=['SVR_val']))\n",
    "\n",
    "\n",
    "acc_df = acc_df.append(pd.DataFrame([acc5],index=['LSTM3_trend']))\n",
    "profit_df = profit_df.append(pd.DataFrame([profit5],index=['LSTM3_trend']))\n",
    "\n",
    "acc_df = acc_df.append(pd.DataFrame([acc9],index=['LSTM1_val']))\n",
    "profit_df = profit_df.append(pd.DataFrame([profit9],index=['LSTM1_val']))\n",
    "\n",
    "\n",
    "acc_df = acc_df.append(pd.DataFrame([acc11],index=['LSTM_lookback']))\n",
    "profit_df = profit_df.append(pd.DataFrame([profit7],index=['LSTM_lookback']))"
   ]
  },
  {
   "cell_type": "code",
   "execution_count": null,
   "metadata": {
    "colab": {
     "base_uri": "https://localhost:8080/",
     "height": 238
    },
    "id": "5QrP1SE7BR6J",
    "outputId": "aa583290-75cf-4158-f5d9-24c70161fbf9"
   },
   "outputs": [
    {
     "data": {
      "text/html": [
       "\n",
       "  <div id=\"df-a6bda9ce-fbb4-48a0-a560-685df1391d26\">\n",
       "    <div class=\"colab-df-container\">\n",
       "      <div>\n",
       "<style scoped>\n",
       "    .dataframe tbody tr th:only-of-type {\n",
       "        vertical-align: middle;\n",
       "    }\n",
       "\n",
       "    .dataframe tbody tr th {\n",
       "        vertical-align: top;\n",
       "    }\n",
       "\n",
       "    .dataframe thead th {\n",
       "        text-align: right;\n",
       "    }\n",
       "</style>\n",
       "<table border=\"1\" class=\"dataframe\">\n",
       "  <thead>\n",
       "    <tr style=\"text-align: right;\">\n",
       "      <th></th>\n",
       "      <th>CARR</th>\n",
       "      <th>ENPH</th>\n",
       "      <th>TSLA</th>\n",
       "      <th>DHR</th>\n",
       "      <th>AMD</th>\n",
       "      <th>MRNA</th>\n",
       "      <th>DHI</th>\n",
       "    </tr>\n",
       "  </thead>\n",
       "  <tbody>\n",
       "    <tr>\n",
       "      <th>LSTM2_trend</th>\n",
       "      <td>0.5198019801980198</td>\n",
       "      <td>0.4752475247524752</td>\n",
       "      <td>0.47029702970297027</td>\n",
       "      <td>0.4801980198019802</td>\n",
       "      <td>0.504950495049505</td>\n",
       "      <td>0.5396039603960396</td>\n",
       "      <td>0.5247524752475248</td>\n",
       "    </tr>\n",
       "    <tr>\n",
       "      <th>LSTM2_val</th>\n",
       "      <td>0.5247524752475248</td>\n",
       "      <td>0.504950495049505</td>\n",
       "      <td>0.43564356435643564</td>\n",
       "      <td>0.4306930693069307</td>\n",
       "      <td>0.504950495049505</td>\n",
       "      <td>0.49504950495049505</td>\n",
       "      <td>0.5297029702970297</td>\n",
       "    </tr>\n",
       "    <tr>\n",
       "      <th>SVR_val</th>\n",
       "      <td>0.48514851485148514</td>\n",
       "      <td>0.504950495049505</td>\n",
       "      <td>0.5445544554455446</td>\n",
       "      <td>0.4306930693069307</td>\n",
       "      <td>0.5</td>\n",
       "      <td>0.49504950495049505</td>\n",
       "      <td>0.5297029702970297</td>\n",
       "    </tr>\n",
       "    <tr>\n",
       "      <th>LSTM3_trend</th>\n",
       "      <td>0.5396039603960396</td>\n",
       "      <td>0.504950495049505</td>\n",
       "      <td>0.5445544554455446</td>\n",
       "      <td>0.48514851485148514</td>\n",
       "      <td>0.49504950495049505</td>\n",
       "      <td>0.49504950495049505</td>\n",
       "      <td>0.5297029702970297</td>\n",
       "    </tr>\n",
       "    <tr>\n",
       "      <th>LSTM1_val</th>\n",
       "      <td>0.5</td>\n",
       "      <td>0.504950495049505</td>\n",
       "      <td>0.5693069306930693</td>\n",
       "      <td>0.48514851485148514</td>\n",
       "      <td>0.5099009900990099</td>\n",
       "      <td>0.49504950495049505</td>\n",
       "      <td>0.5297029702970297</td>\n",
       "    </tr>\n",
       "    <tr>\n",
       "      <th>LSTM_lookback</th>\n",
       "      <td>0.4873096446700508</td>\n",
       "      <td>0.49746192893401014</td>\n",
       "      <td>0.5126903553299492</td>\n",
       "      <td>0.4873096446700508</td>\n",
       "      <td>0.5076142131979695</td>\n",
       "      <td>0.5025380710659898</td>\n",
       "      <td>0.5329949238578681</td>\n",
       "    </tr>\n",
       "  </tbody>\n",
       "</table>\n",
       "</div>\n",
       "      <button class=\"colab-df-convert\" onclick=\"convertToInteractive('df-a6bda9ce-fbb4-48a0-a560-685df1391d26')\"\n",
       "              title=\"Convert this dataframe to an interactive table.\"\n",
       "              style=\"display:none;\">\n",
       "        \n",
       "  <svg xmlns=\"http://www.w3.org/2000/svg\" height=\"24px\"viewBox=\"0 0 24 24\"\n",
       "       width=\"24px\">\n",
       "    <path d=\"M0 0h24v24H0V0z\" fill=\"none\"/>\n",
       "    <path d=\"M18.56 5.44l.94 2.06.94-2.06 2.06-.94-2.06-.94-.94-2.06-.94 2.06-2.06.94zm-11 1L8.5 8.5l.94-2.06 2.06-.94-2.06-.94L8.5 2.5l-.94 2.06-2.06.94zm10 10l.94 2.06.94-2.06 2.06-.94-2.06-.94-.94-2.06-.94 2.06-2.06.94z\"/><path d=\"M17.41 7.96l-1.37-1.37c-.4-.4-.92-.59-1.43-.59-.52 0-1.04.2-1.43.59L10.3 9.45l-7.72 7.72c-.78.78-.78 2.05 0 2.83L4 21.41c.39.39.9.59 1.41.59.51 0 1.02-.2 1.41-.59l7.78-7.78 2.81-2.81c.8-.78.8-2.07 0-2.86zM5.41 20L4 18.59l7.72-7.72 1.47 1.35L5.41 20z\"/>\n",
       "  </svg>\n",
       "      </button>\n",
       "      \n",
       "  <style>\n",
       "    .colab-df-container {\n",
       "      display:flex;\n",
       "      flex-wrap:wrap;\n",
       "      gap: 12px;\n",
       "    }\n",
       "\n",
       "    .colab-df-convert {\n",
       "      background-color: #E8F0FE;\n",
       "      border: none;\n",
       "      border-radius: 50%;\n",
       "      cursor: pointer;\n",
       "      display: none;\n",
       "      fill: #1967D2;\n",
       "      height: 32px;\n",
       "      padding: 0 0 0 0;\n",
       "      width: 32px;\n",
       "    }\n",
       "\n",
       "    .colab-df-convert:hover {\n",
       "      background-color: #E2EBFA;\n",
       "      box-shadow: 0px 1px 2px rgba(60, 64, 67, 0.3), 0px 1px 3px 1px rgba(60, 64, 67, 0.15);\n",
       "      fill: #174EA6;\n",
       "    }\n",
       "\n",
       "    [theme=dark] .colab-df-convert {\n",
       "      background-color: #3B4455;\n",
       "      fill: #D2E3FC;\n",
       "    }\n",
       "\n",
       "    [theme=dark] .colab-df-convert:hover {\n",
       "      background-color: #434B5C;\n",
       "      box-shadow: 0px 1px 3px 1px rgba(0, 0, 0, 0.15);\n",
       "      filter: drop-shadow(0px 1px 2px rgba(0, 0, 0, 0.3));\n",
       "      fill: #FFFFFF;\n",
       "    }\n",
       "  </style>\n",
       "\n",
       "      <script>\n",
       "        const buttonEl =\n",
       "          document.querySelector('#df-a6bda9ce-fbb4-48a0-a560-685df1391d26 button.colab-df-convert');\n",
       "        buttonEl.style.display =\n",
       "          google.colab.kernel.accessAllowed ? 'block' : 'none';\n",
       "\n",
       "        async function convertToInteractive(key) {\n",
       "          const element = document.querySelector('#df-a6bda9ce-fbb4-48a0-a560-685df1391d26');\n",
       "          const dataTable =\n",
       "            await google.colab.kernel.invokeFunction('convertToInteractive',\n",
       "                                                     [key], {});\n",
       "          if (!dataTable) return;\n",
       "\n",
       "          const docLinkHtml = 'Like what you see? Visit the ' +\n",
       "            '<a target=\"_blank\" href=https://colab.research.google.com/notebooks/data_table.ipynb>data table notebook</a>'\n",
       "            + ' to learn more about interactive tables.';\n",
       "          element.innerHTML = '';\n",
       "          dataTable['output_type'] = 'display_data';\n",
       "          await google.colab.output.renderOutput(dataTable, element);\n",
       "          const docLink = document.createElement('div');\n",
       "          docLink.innerHTML = docLinkHtml;\n",
       "          element.appendChild(docLink);\n",
       "        }\n",
       "      </script>\n",
       "    </div>\n",
       "  </div>\n",
       "  "
      ],
      "text/plain": [
       "                             CARR                ENPH                TSLA  \\\n",
       "LSTM2_trend    0.5198019801980198  0.4752475247524752 0.47029702970297027   \n",
       "LSTM2_val      0.5247524752475248   0.504950495049505 0.43564356435643564   \n",
       "SVR_val       0.48514851485148514   0.504950495049505  0.5445544554455446   \n",
       "LSTM3_trend    0.5396039603960396   0.504950495049505  0.5445544554455446   \n",
       "LSTM1_val                     0.5   0.504950495049505  0.5693069306930693   \n",
       "LSTM_lookback  0.4873096446700508 0.49746192893401014  0.5126903553299492   \n",
       "\n",
       "                              DHR                 AMD                MRNA  \\\n",
       "LSTM2_trend    0.4801980198019802   0.504950495049505  0.5396039603960396   \n",
       "LSTM2_val      0.4306930693069307   0.504950495049505 0.49504950495049505   \n",
       "SVR_val        0.4306930693069307                 0.5 0.49504950495049505   \n",
       "LSTM3_trend   0.48514851485148514 0.49504950495049505 0.49504950495049505   \n",
       "LSTM1_val     0.48514851485148514  0.5099009900990099 0.49504950495049505   \n",
       "LSTM_lookback  0.4873096446700508  0.5076142131979695  0.5025380710659898   \n",
       "\n",
       "                             DHI  \n",
       "LSTM2_trend   0.5247524752475248  \n",
       "LSTM2_val     0.5297029702970297  \n",
       "SVR_val       0.5297029702970297  \n",
       "LSTM3_trend   0.5297029702970297  \n",
       "LSTM1_val     0.5297029702970297  \n",
       "LSTM_lookback 0.5329949238578681  "
      ]
     },
     "execution_count": 160,
     "metadata": {},
     "output_type": "execute_result"
    }
   ],
   "source": [
    "acc_df.drop_duplicates(inplace = True)\n",
    "acc_df"
   ]
  },
  {
   "cell_type": "code",
   "execution_count": null,
   "metadata": {
    "colab": {
     "base_uri": "https://localhost:8080/",
     "height": 238
    },
    "id": "6UKGsaP6BR91",
    "outputId": "0bd2ab4b-7686-43ce-9e22-67673518c0fe"
   },
   "outputs": [
    {
     "data": {
      "text/html": [
       "\n",
       "  <div id=\"df-15c46ead-31c9-454b-85de-efbf580e620b\">\n",
       "    <div class=\"colab-df-container\">\n",
       "      <div>\n",
       "<style scoped>\n",
       "    .dataframe tbody tr th:only-of-type {\n",
       "        vertical-align: middle;\n",
       "    }\n",
       "\n",
       "    .dataframe tbody tr th {\n",
       "        vertical-align: top;\n",
       "    }\n",
       "\n",
       "    .dataframe thead th {\n",
       "        text-align: right;\n",
       "    }\n",
       "</style>\n",
       "<table border=\"1\" class=\"dataframe\">\n",
       "  <thead>\n",
       "    <tr style=\"text-align: right;\">\n",
       "      <th></th>\n",
       "      <th>CARR</th>\n",
       "      <th>ENPH</th>\n",
       "      <th>TSLA</th>\n",
       "      <th>DHR</th>\n",
       "      <th>AMD</th>\n",
       "      <th>MRNA</th>\n",
       "      <th>DHI</th>\n",
       "    </tr>\n",
       "  </thead>\n",
       "  <tbody>\n",
       "    <tr>\n",
       "      <th>LSTM2_trend</th>\n",
       "      <td>741.1722338548282</td>\n",
       "      <td>-1,983.5403224299273</td>\n",
       "      <td>-572.83783532973</td>\n",
       "      <td>-17.06375900435787</td>\n",
       "      <td>927.8525237780125</td>\n",
       "      <td>740.8416232664703</td>\n",
       "      <td>-49.20119658671645</td>\n",
       "    </tr>\n",
       "    <tr>\n",
       "      <th>LSTM2_val</th>\n",
       "      <td>-3,687.9318670199514</td>\n",
       "      <td>-765.7824367634297</td>\n",
       "      <td>-1,368.1476848734585</td>\n",
       "      <td>-535.0884936735945</td>\n",
       "      <td>70.99224068117414</td>\n",
       "      <td>-141.7624687837607</td>\n",
       "      <td>-49.20119658671645</td>\n",
       "    </tr>\n",
       "    <tr>\n",
       "      <th>SVR_val</th>\n",
       "      <td>-3,687.9318670199514</td>\n",
       "      <td>-765.7824367634297</td>\n",
       "      <td>-1,368.1476848734585</td>\n",
       "      <td>-535.0884936735945</td>\n",
       "      <td>70.99224068117414</td>\n",
       "      <td>-141.7624687837607</td>\n",
       "      <td>-49.20119658671645</td>\n",
       "    </tr>\n",
       "    <tr>\n",
       "      <th>LSTM3_trend</th>\n",
       "      <td>-3,687.9318670199514</td>\n",
       "      <td>-765.7824367634297</td>\n",
       "      <td>-1,368.1476848734585</td>\n",
       "      <td>-535.0884936735945</td>\n",
       "      <td>70.99224068117414</td>\n",
       "      <td>-141.7624687837607</td>\n",
       "      <td>-49.20119658671645</td>\n",
       "    </tr>\n",
       "    <tr>\n",
       "      <th>LSTM1_val</th>\n",
       "      <td>2,097.334927546339</td>\n",
       "      <td>0.0</td>\n",
       "      <td>3,258.314233193625</td>\n",
       "      <td>0.0</td>\n",
       "      <td>1,157.974276649753</td>\n",
       "      <td>0.0</td>\n",
       "      <td>0.0</td>\n",
       "    </tr>\n",
       "    <tr>\n",
       "      <th>LSTM_lookback</th>\n",
       "      <td>0.0</td>\n",
       "      <td>0.0</td>\n",
       "      <td>0.0</td>\n",
       "      <td>0.0</td>\n",
       "      <td>0.0</td>\n",
       "      <td>0.0</td>\n",
       "      <td>0.0</td>\n",
       "    </tr>\n",
       "  </tbody>\n",
       "</table>\n",
       "</div>\n",
       "      <button class=\"colab-df-convert\" onclick=\"convertToInteractive('df-15c46ead-31c9-454b-85de-efbf580e620b')\"\n",
       "              title=\"Convert this dataframe to an interactive table.\"\n",
       "              style=\"display:none;\">\n",
       "        \n",
       "  <svg xmlns=\"http://www.w3.org/2000/svg\" height=\"24px\"viewBox=\"0 0 24 24\"\n",
       "       width=\"24px\">\n",
       "    <path d=\"M0 0h24v24H0V0z\" fill=\"none\"/>\n",
       "    <path d=\"M18.56 5.44l.94 2.06.94-2.06 2.06-.94-2.06-.94-.94-2.06-.94 2.06-2.06.94zm-11 1L8.5 8.5l.94-2.06 2.06-.94-2.06-.94L8.5 2.5l-.94 2.06-2.06.94zm10 10l.94 2.06.94-2.06 2.06-.94-2.06-.94-.94-2.06-.94 2.06-2.06.94z\"/><path d=\"M17.41 7.96l-1.37-1.37c-.4-.4-.92-.59-1.43-.59-.52 0-1.04.2-1.43.59L10.3 9.45l-7.72 7.72c-.78.78-.78 2.05 0 2.83L4 21.41c.39.39.9.59 1.41.59.51 0 1.02-.2 1.41-.59l7.78-7.78 2.81-2.81c.8-.78.8-2.07 0-2.86zM5.41 20L4 18.59l7.72-7.72 1.47 1.35L5.41 20z\"/>\n",
       "  </svg>\n",
       "      </button>\n",
       "      \n",
       "  <style>\n",
       "    .colab-df-container {\n",
       "      display:flex;\n",
       "      flex-wrap:wrap;\n",
       "      gap: 12px;\n",
       "    }\n",
       "\n",
       "    .colab-df-convert {\n",
       "      background-color: #E8F0FE;\n",
       "      border: none;\n",
       "      border-radius: 50%;\n",
       "      cursor: pointer;\n",
       "      display: none;\n",
       "      fill: #1967D2;\n",
       "      height: 32px;\n",
       "      padding: 0 0 0 0;\n",
       "      width: 32px;\n",
       "    }\n",
       "\n",
       "    .colab-df-convert:hover {\n",
       "      background-color: #E2EBFA;\n",
       "      box-shadow: 0px 1px 2px rgba(60, 64, 67, 0.3), 0px 1px 3px 1px rgba(60, 64, 67, 0.15);\n",
       "      fill: #174EA6;\n",
       "    }\n",
       "\n",
       "    [theme=dark] .colab-df-convert {\n",
       "      background-color: #3B4455;\n",
       "      fill: #D2E3FC;\n",
       "    }\n",
       "\n",
       "    [theme=dark] .colab-df-convert:hover {\n",
       "      background-color: #434B5C;\n",
       "      box-shadow: 0px 1px 3px 1px rgba(0, 0, 0, 0.15);\n",
       "      filter: drop-shadow(0px 1px 2px rgba(0, 0, 0, 0.3));\n",
       "      fill: #FFFFFF;\n",
       "    }\n",
       "  </style>\n",
       "\n",
       "      <script>\n",
       "        const buttonEl =\n",
       "          document.querySelector('#df-15c46ead-31c9-454b-85de-efbf580e620b button.colab-df-convert');\n",
       "        buttonEl.style.display =\n",
       "          google.colab.kernel.accessAllowed ? 'block' : 'none';\n",
       "\n",
       "        async function convertToInteractive(key) {\n",
       "          const element = document.querySelector('#df-15c46ead-31c9-454b-85de-efbf580e620b');\n",
       "          const dataTable =\n",
       "            await google.colab.kernel.invokeFunction('convertToInteractive',\n",
       "                                                     [key], {});\n",
       "          if (!dataTable) return;\n",
       "\n",
       "          const docLinkHtml = 'Like what you see? Visit the ' +\n",
       "            '<a target=\"_blank\" href=https://colab.research.google.com/notebooks/data_table.ipynb>data table notebook</a>'\n",
       "            + ' to learn more about interactive tables.';\n",
       "          element.innerHTML = '';\n",
       "          dataTable['output_type'] = 'display_data';\n",
       "          await google.colab.output.renderOutput(dataTable, element);\n",
       "          const docLink = document.createElement('div');\n",
       "          docLink.innerHTML = docLinkHtml;\n",
       "          element.appendChild(docLink);\n",
       "        }\n",
       "      </script>\n",
       "    </div>\n",
       "  </div>\n",
       "  "
      ],
      "text/plain": [
       "                              CARR                 ENPH                 TSLA  \\\n",
       "LSTM2_trend      741.1722338548282 -1,983.5403224299273     -572.83783532973   \n",
       "LSTM2_val     -3,687.9318670199514   -765.7824367634297 -1,368.1476848734585   \n",
       "SVR_val       -3,687.9318670199514   -765.7824367634297 -1,368.1476848734585   \n",
       "LSTM3_trend   -3,687.9318670199514   -765.7824367634297 -1,368.1476848734585   \n",
       "LSTM1_val       2,097.334927546339                  0.0   3,258.314233193625   \n",
       "LSTM_lookback                  0.0                  0.0                  0.0   \n",
       "\n",
       "                             DHR                AMD               MRNA  \\\n",
       "LSTM2_trend   -17.06375900435787  927.8525237780125  740.8416232664703   \n",
       "LSTM2_val     -535.0884936735945  70.99224068117414 -141.7624687837607   \n",
       "SVR_val       -535.0884936735945  70.99224068117414 -141.7624687837607   \n",
       "LSTM3_trend   -535.0884936735945  70.99224068117414 -141.7624687837607   \n",
       "LSTM1_val                    0.0 1,157.974276649753                0.0   \n",
       "LSTM_lookback                0.0                0.0                0.0   \n",
       "\n",
       "                             DHI  \n",
       "LSTM2_trend   -49.20119658671645  \n",
       "LSTM2_val     -49.20119658671645  \n",
       "SVR_val       -49.20119658671645  \n",
       "LSTM3_trend   -49.20119658671645  \n",
       "LSTM1_val                    0.0  \n",
       "LSTM_lookback                0.0  "
      ]
     },
     "execution_count": 162,
     "metadata": {},
     "output_type": "execute_result"
    }
   ],
   "source": [
    "profit_df\n"
   ]
  },
  {
   "cell_type": "code",
   "execution_count": null,
   "metadata": {
    "id": "DH1sPHazDaws"
   },
   "outputs": [],
   "source": []
  },
  {
   "cell_type": "code",
   "execution_count": null,
   "metadata": {
    "colab": {
     "base_uri": "https://localhost:8080/",
     "height": 238
    },
    "id": "9Xc6fdHwBSEj",
    "outputId": "693581b3-112e-49b1-ac37-68bd08d39798"
   },
   "outputs": [
    {
     "data": {
      "text/html": [
       "\n",
       "  <div id=\"df-5a52335d-288e-4baf-b02f-628eb6d5b22a\">\n",
       "    <div class=\"colab-df-container\">\n",
       "      <div>\n",
       "<style scoped>\n",
       "    .dataframe tbody tr th:only-of-type {\n",
       "        vertical-align: middle;\n",
       "    }\n",
       "\n",
       "    .dataframe tbody tr th {\n",
       "        vertical-align: top;\n",
       "    }\n",
       "\n",
       "    .dataframe thead th {\n",
       "        text-align: right;\n",
       "    }\n",
       "</style>\n",
       "<table border=\"1\" class=\"dataframe\">\n",
       "  <thead>\n",
       "    <tr style=\"text-align: right;\">\n",
       "      <th></th>\n",
       "      <th>Model</th>\n",
       "      <th>Average accuracy</th>\n",
       "    </tr>\n",
       "  </thead>\n",
       "  <tbody>\n",
       "    <tr>\n",
       "      <th>0</th>\n",
       "      <td>LSTM2_trend</td>\n",
       "      <td>0.5021216407355021</td>\n",
       "    </tr>\n",
       "    <tr>\n",
       "      <th>1</th>\n",
       "      <td>LSTM2_val</td>\n",
       "      <td>0.48939179632248936</td>\n",
       "    </tr>\n",
       "    <tr>\n",
       "      <th>2</th>\n",
       "      <td>SVR_val</td>\n",
       "      <td>0.4985855728429986</td>\n",
       "    </tr>\n",
       "    <tr>\n",
       "      <th>3</th>\n",
       "      <td>LSTM3_trend</td>\n",
       "      <td>0.5134370579915134</td>\n",
       "    </tr>\n",
       "    <tr>\n",
       "      <th>4</th>\n",
       "      <td>LSTM1_val</td>\n",
       "      <td>0.5134370579915134</td>\n",
       "    </tr>\n",
       "    <tr>\n",
       "      <th>5</th>\n",
       "      <td>LSTM_lookback</td>\n",
       "      <td>0.5039883973894126</td>\n",
       "    </tr>\n",
       "  </tbody>\n",
       "</table>\n",
       "</div>\n",
       "      <button class=\"colab-df-convert\" onclick=\"convertToInteractive('df-5a52335d-288e-4baf-b02f-628eb6d5b22a')\"\n",
       "              title=\"Convert this dataframe to an interactive table.\"\n",
       "              style=\"display:none;\">\n",
       "        \n",
       "  <svg xmlns=\"http://www.w3.org/2000/svg\" height=\"24px\"viewBox=\"0 0 24 24\"\n",
       "       width=\"24px\">\n",
       "    <path d=\"M0 0h24v24H0V0z\" fill=\"none\"/>\n",
       "    <path d=\"M18.56 5.44l.94 2.06.94-2.06 2.06-.94-2.06-.94-.94-2.06-.94 2.06-2.06.94zm-11 1L8.5 8.5l.94-2.06 2.06-.94-2.06-.94L8.5 2.5l-.94 2.06-2.06.94zm10 10l.94 2.06.94-2.06 2.06-.94-2.06-.94-.94-2.06-.94 2.06-2.06.94z\"/><path d=\"M17.41 7.96l-1.37-1.37c-.4-.4-.92-.59-1.43-.59-.52 0-1.04.2-1.43.59L10.3 9.45l-7.72 7.72c-.78.78-.78 2.05 0 2.83L4 21.41c.39.39.9.59 1.41.59.51 0 1.02-.2 1.41-.59l7.78-7.78 2.81-2.81c.8-.78.8-2.07 0-2.86zM5.41 20L4 18.59l7.72-7.72 1.47 1.35L5.41 20z\"/>\n",
       "  </svg>\n",
       "      </button>\n",
       "      \n",
       "  <style>\n",
       "    .colab-df-container {\n",
       "      display:flex;\n",
       "      flex-wrap:wrap;\n",
       "      gap: 12px;\n",
       "    }\n",
       "\n",
       "    .colab-df-convert {\n",
       "      background-color: #E8F0FE;\n",
       "      border: none;\n",
       "      border-radius: 50%;\n",
       "      cursor: pointer;\n",
       "      display: none;\n",
       "      fill: #1967D2;\n",
       "      height: 32px;\n",
       "      padding: 0 0 0 0;\n",
       "      width: 32px;\n",
       "    }\n",
       "\n",
       "    .colab-df-convert:hover {\n",
       "      background-color: #E2EBFA;\n",
       "      box-shadow: 0px 1px 2px rgba(60, 64, 67, 0.3), 0px 1px 3px 1px rgba(60, 64, 67, 0.15);\n",
       "      fill: #174EA6;\n",
       "    }\n",
       "\n",
       "    [theme=dark] .colab-df-convert {\n",
       "      background-color: #3B4455;\n",
       "      fill: #D2E3FC;\n",
       "    }\n",
       "\n",
       "    [theme=dark] .colab-df-convert:hover {\n",
       "      background-color: #434B5C;\n",
       "      box-shadow: 0px 1px 3px 1px rgba(0, 0, 0, 0.15);\n",
       "      filter: drop-shadow(0px 1px 2px rgba(0, 0, 0, 0.3));\n",
       "      fill: #FFFFFF;\n",
       "    }\n",
       "  </style>\n",
       "\n",
       "      <script>\n",
       "        const buttonEl =\n",
       "          document.querySelector('#df-5a52335d-288e-4baf-b02f-628eb6d5b22a button.colab-df-convert');\n",
       "        buttonEl.style.display =\n",
       "          google.colab.kernel.accessAllowed ? 'block' : 'none';\n",
       "\n",
       "        async function convertToInteractive(key) {\n",
       "          const element = document.querySelector('#df-5a52335d-288e-4baf-b02f-628eb6d5b22a');\n",
       "          const dataTable =\n",
       "            await google.colab.kernel.invokeFunction('convertToInteractive',\n",
       "                                                     [key], {});\n",
       "          if (!dataTable) return;\n",
       "\n",
       "          const docLinkHtml = 'Like what you see? Visit the ' +\n",
       "            '<a target=\"_blank\" href=https://colab.research.google.com/notebooks/data_table.ipynb>data table notebook</a>'\n",
       "            + ' to learn more about interactive tables.';\n",
       "          element.innerHTML = '';\n",
       "          dataTable['output_type'] = 'display_data';\n",
       "          await google.colab.output.renderOutput(dataTable, element);\n",
       "          const docLink = document.createElement('div');\n",
       "          docLink.innerHTML = docLinkHtml;\n",
       "          element.appendChild(docLink);\n",
       "        }\n",
       "      </script>\n",
       "    </div>\n",
       "  </div>\n",
       "  "
      ],
      "text/plain": [
       "           Model    Average accuracy\n",
       "0    LSTM2_trend  0.5021216407355021\n",
       "1      LSTM2_val 0.48939179632248936\n",
       "2        SVR_val  0.4985855728429986\n",
       "3    LSTM3_trend  0.5134370579915134\n",
       "4      LSTM1_val  0.5134370579915134\n",
       "5  LSTM_lookback  0.5039883973894126"
      ]
     },
     "execution_count": 163,
     "metadata": {},
     "output_type": "execute_result"
    }
   ],
   "source": [
    "average_acc = acc_df.mean(axis=1).reset_index().rename(columns={'index': 'Model',0:'Average accuracy'})\n",
    "average_acc"
   ]
  },
  {
   "cell_type": "code",
   "execution_count": null,
   "metadata": {
    "colab": {
     "base_uri": "https://localhost:8080/",
     "height": 238
    },
    "id": "a4NMUiq_B2xm",
    "outputId": "af69123d-6f7e-4704-ace4-01de1b1034bc"
   },
   "outputs": [
    {
     "data": {
      "text/html": [
       "\n",
       "  <div id=\"df-523a2afc-309e-4aec-b618-7c46e1bc238e\">\n",
       "    <div class=\"colab-df-container\">\n",
       "      <div>\n",
       "<style scoped>\n",
       "    .dataframe tbody tr th:only-of-type {\n",
       "        vertical-align: middle;\n",
       "    }\n",
       "\n",
       "    .dataframe tbody tr th {\n",
       "        vertical-align: top;\n",
       "    }\n",
       "\n",
       "    .dataframe thead th {\n",
       "        text-align: right;\n",
       "    }\n",
       "</style>\n",
       "<table border=\"1\" class=\"dataframe\">\n",
       "  <thead>\n",
       "    <tr style=\"text-align: right;\">\n",
       "      <th></th>\n",
       "      <th>Model</th>\n",
       "      <th>Total profit</th>\n",
       "    </tr>\n",
       "  </thead>\n",
       "  <tbody>\n",
       "    <tr>\n",
       "      <th>0</th>\n",
       "      <td>LSTM2_trend</td>\n",
       "      <td>-212.77673245142063</td>\n",
       "    </tr>\n",
       "    <tr>\n",
       "      <th>1</th>\n",
       "      <td>LSTM2_val</td>\n",
       "      <td>-6,476.921907019738</td>\n",
       "    </tr>\n",
       "    <tr>\n",
       "      <th>2</th>\n",
       "      <td>SVR_val</td>\n",
       "      <td>-6,476.921907019738</td>\n",
       "    </tr>\n",
       "    <tr>\n",
       "      <th>3</th>\n",
       "      <td>LSTM3_trend</td>\n",
       "      <td>-6,476.921907019738</td>\n",
       "    </tr>\n",
       "    <tr>\n",
       "      <th>4</th>\n",
       "      <td>LSTM1_val</td>\n",
       "      <td>6,513.623437389717</td>\n",
       "    </tr>\n",
       "    <tr>\n",
       "      <th>5</th>\n",
       "      <td>LSTM_lookback</td>\n",
       "      <td>0.0</td>\n",
       "    </tr>\n",
       "  </tbody>\n",
       "</table>\n",
       "</div>\n",
       "      <button class=\"colab-df-convert\" onclick=\"convertToInteractive('df-523a2afc-309e-4aec-b618-7c46e1bc238e')\"\n",
       "              title=\"Convert this dataframe to an interactive table.\"\n",
       "              style=\"display:none;\">\n",
       "        \n",
       "  <svg xmlns=\"http://www.w3.org/2000/svg\" height=\"24px\"viewBox=\"0 0 24 24\"\n",
       "       width=\"24px\">\n",
       "    <path d=\"M0 0h24v24H0V0z\" fill=\"none\"/>\n",
       "    <path d=\"M18.56 5.44l.94 2.06.94-2.06 2.06-.94-2.06-.94-.94-2.06-.94 2.06-2.06.94zm-11 1L8.5 8.5l.94-2.06 2.06-.94-2.06-.94L8.5 2.5l-.94 2.06-2.06.94zm10 10l.94 2.06.94-2.06 2.06-.94-2.06-.94-.94-2.06-.94 2.06-2.06.94z\"/><path d=\"M17.41 7.96l-1.37-1.37c-.4-.4-.92-.59-1.43-.59-.52 0-1.04.2-1.43.59L10.3 9.45l-7.72 7.72c-.78.78-.78 2.05 0 2.83L4 21.41c.39.39.9.59 1.41.59.51 0 1.02-.2 1.41-.59l7.78-7.78 2.81-2.81c.8-.78.8-2.07 0-2.86zM5.41 20L4 18.59l7.72-7.72 1.47 1.35L5.41 20z\"/>\n",
       "  </svg>\n",
       "      </button>\n",
       "      \n",
       "  <style>\n",
       "    .colab-df-container {\n",
       "      display:flex;\n",
       "      flex-wrap:wrap;\n",
       "      gap: 12px;\n",
       "    }\n",
       "\n",
       "    .colab-df-convert {\n",
       "      background-color: #E8F0FE;\n",
       "      border: none;\n",
       "      border-radius: 50%;\n",
       "      cursor: pointer;\n",
       "      display: none;\n",
       "      fill: #1967D2;\n",
       "      height: 32px;\n",
       "      padding: 0 0 0 0;\n",
       "      width: 32px;\n",
       "    }\n",
       "\n",
       "    .colab-df-convert:hover {\n",
       "      background-color: #E2EBFA;\n",
       "      box-shadow: 0px 1px 2px rgba(60, 64, 67, 0.3), 0px 1px 3px 1px rgba(60, 64, 67, 0.15);\n",
       "      fill: #174EA6;\n",
       "    }\n",
       "\n",
       "    [theme=dark] .colab-df-convert {\n",
       "      background-color: #3B4455;\n",
       "      fill: #D2E3FC;\n",
       "    }\n",
       "\n",
       "    [theme=dark] .colab-df-convert:hover {\n",
       "      background-color: #434B5C;\n",
       "      box-shadow: 0px 1px 3px 1px rgba(0, 0, 0, 0.15);\n",
       "      filter: drop-shadow(0px 1px 2px rgba(0, 0, 0, 0.3));\n",
       "      fill: #FFFFFF;\n",
       "    }\n",
       "  </style>\n",
       "\n",
       "      <script>\n",
       "        const buttonEl =\n",
       "          document.querySelector('#df-523a2afc-309e-4aec-b618-7c46e1bc238e button.colab-df-convert');\n",
       "        buttonEl.style.display =\n",
       "          google.colab.kernel.accessAllowed ? 'block' : 'none';\n",
       "\n",
       "        async function convertToInteractive(key) {\n",
       "          const element = document.querySelector('#df-523a2afc-309e-4aec-b618-7c46e1bc238e');\n",
       "          const dataTable =\n",
       "            await google.colab.kernel.invokeFunction('convertToInteractive',\n",
       "                                                     [key], {});\n",
       "          if (!dataTable) return;\n",
       "\n",
       "          const docLinkHtml = 'Like what you see? Visit the ' +\n",
       "            '<a target=\"_blank\" href=https://colab.research.google.com/notebooks/data_table.ipynb>data table notebook</a>'\n",
       "            + ' to learn more about interactive tables.';\n",
       "          element.innerHTML = '';\n",
       "          dataTable['output_type'] = 'display_data';\n",
       "          await google.colab.output.renderOutput(dataTable, element);\n",
       "          const docLink = document.createElement('div');\n",
       "          docLink.innerHTML = docLinkHtml;\n",
       "          element.appendChild(docLink);\n",
       "        }\n",
       "      </script>\n",
       "    </div>\n",
       "  </div>\n",
       "  "
      ],
      "text/plain": [
       "           Model        Total profit\n",
       "0    LSTM2_trend -212.77673245142063\n",
       "1      LSTM2_val -6,476.921907019738\n",
       "2        SVR_val -6,476.921907019738\n",
       "3    LSTM3_trend -6,476.921907019738\n",
       "4      LSTM1_val  6,513.623437389717\n",
       "5  LSTM_lookback                 0.0"
      ]
     },
     "execution_count": 164,
     "metadata": {},
     "output_type": "execute_result"
    }
   ],
   "source": [
    "total_profit = profit_df.sum(axis=1).reset_index().rename(columns={'index': 'Model',0:'Total profit'})\n",
    "\n",
    "total_profit"
   ]
  },
  {
   "cell_type": "code",
   "execution_count": null,
   "metadata": {
    "colab": {
     "base_uri": "https://localhost:8080/",
     "height": 455
    },
    "id": "S5-3YYEZCNda",
    "outputId": "8c4585d4-b4b1-45cb-de6f-74cebebbe94e"
   },
   "outputs": [
    {
     "data": {
      "text/plain": [
       "<BarContainer object of 6 artists>"
      ]
     },
     "execution_count": 167,
     "metadata": {},
     "output_type": "execute_result"
    },
    {
     "data": {
      "text/plain": [
       "Text(0, 0.5, 'Average accuracy n(%)')"
      ]
     },
     "execution_count": 167,
     "metadata": {},
     "output_type": "execute_result"
    },
    {
     "data": {
      "text/plain": [
       "Text(0.5, 1.0, 'Average accuracy by model')"
      ]
     },
     "execution_count": 167,
     "metadata": {},
     "output_type": "execute_result"
    },
    {
     "data": {
      "text/plain": [
       "([0, 1, 2, 3, 4, 5],\n",
       " [Text(0, 0, 'LSTM2_trend'),\n",
       "  Text(1, 0, 'LSTM2_val'),\n",
       "  Text(2, 0, 'SVR_val'),\n",
       "  Text(3, 0, 'LSTM3_trend'),\n",
       "  Text(4, 0, 'LSTM1_val'),\n",
       "  Text(5, 0, 'LSTM_lookback')])"
      ]
     },
     "execution_count": 167,
     "metadata": {},
     "output_type": "execute_result"
    },
    {
     "data": {
      "image/png": "[encoded data removed]",
      "text/plain": [
       "<Figure size 432x288 with 1 Axes>"
      ]
     },
     "metadata": {
      "needs_background": "light"
     },
     "output_type": "display_data"
    }
   ],
   "source": [
    "plt.bar(average_acc.Model,average_acc['Average accuracy']*100)\n",
    "plt.ylabel('Average accuracy n(%)')\n",
    "#plt.xlabel('Model')\n",
    "plt.title('Average accuracy by model')\n",
    "\n",
    "# Change rotation of x-axis tick labels\n",
    "plt.xticks(rotation=45)\n",
    "\n",
    "# Show the chart\n",
    "plt.show()"
   ]
  },
  {
   "cell_type": "code",
   "execution_count": null,
   "metadata": {
    "colab": {
     "base_uri": "https://localhost:8080/",
     "height": 455
    },
    "id": "Gb4InCK2D0Uw",
    "outputId": "86b5dba9-d06e-4a47-b3bf-3a3697cc00bc"
   },
   "outputs": [
    {
     "data": {
      "text/plain": [
       "<BarContainer object of 6 artists>"
      ]
     },
     "execution_count": 168,
     "metadata": {},
     "output_type": "execute_result"
    },
    {
     "data": {
      "text/plain": [
       "Text(0, 0.5, 'Total profit')"
      ]
     },
     "execution_count": 168,
     "metadata": {},
     "output_type": "execute_result"
    },
    {
     "data": {
      "text/plain": [
       "Text(0.5, 1.0, 'Total profit by model')"
      ]
     },
     "execution_count": 168,
     "metadata": {},
     "output_type": "execute_result"
    },
    {
     "data": {
      "text/plain": [
       "([0, 1, 2, 3, 4, 5],\n",
       " [Text(0, 0, 'LSTM2_trend'),\n",
       "  Text(1, 0, 'LSTM2_val'),\n",
       "  Text(2, 0, 'SVR_val'),\n",
       "  Text(3, 0, 'LSTM3_trend'),\n",
       "  Text(4, 0, 'LSTM1_val'),\n",
       "  Text(5, 0, 'LSTM_lookback')])"
      ]
     },
     "execution_count": 168,
     "metadata": {},
     "output_type": "execute_result"
    },
    {
     "data": {
      "image/png": "[encoded data removed]",
      "text/plain": [
       "<Figure size 432x288 with 1 Axes>"
      ]
     },
     "metadata": {
      "needs_background": "light"
     },
     "output_type": "display_data"
    }
   ],
   "source": [
    "plt.bar(total_profit.Model,total_profit['Total profit'])\n",
    "plt.ylabel('Total profit')\n",
    "#plt.xlabel('Model')\n",
    "plt.title('Total profit by model')\n",
    "\n",
    "# Change rotation of x-axis tick labels\n",
    "plt.xticks(rotation=45)\n",
    "\n",
    "# Show the chart\n",
    "plt.show()"
   ]
  },
  {
   "cell_type": "code",
   "execution_count": null,
   "metadata": {
    "id": "LNBFbmtoVEf4"
   },
   "outputs": [],
   "source": []
  },
  {
   "cell_type": "code",
   "execution_count": null,
   "metadata": {
    "id": "wF5En6aqVEf4"
   },
   "outputs": [],
   "source": []
  },
  {
   "cell_type": "code",
   "execution_count": null,
   "metadata": {
    "id": "FTIMtIReVEf4"
   },
   "outputs": [],
   "source": []
  },
  {
   "cell_type": "code",
   "execution_count": null,
   "metadata": {
    "id": "2zuOgzsuVEf4"
   },
   "outputs": [],
   "source": []
  }
 ],
 "metadata": {
  "colab": {
   "collapsed_sections": [
    "gWorOwNHVEfS"
   ],
   "provenance": []
  },
  "kernelspec": {
   "display_name": "Python 3 (ipykernel)",
   "language": "python",
   "name": "python3"
  },
  "language_info": {
   "codemirror_mode": {
    "name": "ipython",
    "version": 3
   },
   "file_extension": ".py",
   "mimetype": "text/x-python",
   "name": "python",
   "nbconvert_exporter": "python",
   "pygments_lexer": "ipython3",
   "version": "3.9.15"
  }
 },
 "nbformat": 4,
 "nbformat_minor": 1
}
